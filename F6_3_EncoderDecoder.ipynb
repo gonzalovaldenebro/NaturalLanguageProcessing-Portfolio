{
  "cells": [
    {
      "cell_type": "markdown",
      "metadata": {
        "id": "view-in-github",
        "colab_type": "text"
      },
      "source": [
        "<a href=\"https://colab.research.google.com/github/gonzalovaldenebro/NaturalLanguageProcessing-Portfolio/blob/main/F6_3_EncoderDecoder.ipynb\" target=\"_parent\"><img src=\"https://colab.research.google.com/assets/colab-badge.svg\" alt=\"Open In Colab\"/></a>"
      ]
    },
    {
      "cell_type": "markdown",
      "metadata": {
        "id": "C192SOmJS6lw"
      },
      "source": [
        "# CS 195: Natural Language Processing\n",
        "## Encoder-Decoder Architectures\n",
        "\n",
        "[![Open In Colab](https://colab.research.google.com/assets/colab-badge.svg)](https://colab.research.google.com/github/ericmanley/f23-CS195NLP/blob/main/F6_3_EncoderDecoder.ipynb)"
      ]
    },
    {
      "cell_type": "markdown",
      "metadata": {
        "id": "nnf9dvArUiAq"
      },
      "source": [
        "## Reference\n",
        "\n",
        "SLP: RNNs and LSTMs, Chapter 9 of Speech and Language Processing by Daniel Jurafsky & James H. Martin https://web.stanford.edu/~jurafsky/slp3/9.pdf\n",
        "\n",
        "A ten-minute introduction to sequence-to-sequence learning in Keras: https://blog.keras.io/a-ten-minute-introduction-to-sequence-to-sequence-learning-in-keras.html\n",
        "\n",
        "Character-level recurrent sequence-to-sequence model: https://keras.io/examples/nlp/lstm_seq2seq/"
      ]
    },
    {
      "cell_type": "code",
      "execution_count": null,
      "metadata": {
        "id": "8A-mfaM0UiAq",
        "outputId": "6c415ace-74bc-4029-d3c7-ef512bee7e69"
      },
      "outputs": [
        {
          "name": "stdout",
          "output_type": "stream",
          "text": [
            "Defaulting to user installation because normal site-packages is not writeable\n",
            "Requirement already satisfied: datasets in /Users/000794593/Library/Python/3.10/lib/python/site-packages (2.14.4)\n",
            "Requirement already satisfied: keras in /Users/000794593/Library/Python/3.10/lib/python/site-packages (2.14.0)\n",
            "Requirement already satisfied: tensorflow in /Users/000794593/Library/Python/3.10/lib/python/site-packages (2.14.0)\n",
            "Requirement already satisfied: transformers in /Users/000794593/Library/Python/3.10/lib/python/site-packages (4.32.0)\n",
            "Requirement already satisfied: numpy>=1.17 in /Users/000794593/Library/Python/3.10/lib/python/site-packages (from datasets) (1.24.4)\n",
            "Requirement already satisfied: pyarrow>=8.0.0 in /Users/000794593/Library/Python/3.10/lib/python/site-packages (from datasets) (9.0.0)\n",
            "Requirement already satisfied: dill<0.3.8,>=0.3.0 in /Users/000794593/Library/Python/3.10/lib/python/site-packages (from datasets) (0.3.7)\n",
            "Requirement already satisfied: pandas in /Library/Frameworks/Python.framework/Versions/3.10/lib/python3.10/site-packages (from datasets) (1.4.3)\n",
            "Requirement already satisfied: requests>=2.19.0 in /Users/000794593/Library/Python/3.10/lib/python/site-packages (from datasets) (2.28.1)\n",
            "Requirement already satisfied: tqdm>=4.62.1 in /Users/000794593/Library/Python/3.10/lib/python/site-packages (from datasets) (4.66.1)\n",
            "Requirement already satisfied: xxhash in /Users/000794593/Library/Python/3.10/lib/python/site-packages (from datasets) (3.3.0)\n",
            "Requirement already satisfied: multiprocess in /Users/000794593/Library/Python/3.10/lib/python/site-packages (from datasets) (0.70.15)\n",
            "Requirement already satisfied: fsspec[http]>=2021.11.1 in /Users/000794593/Library/Python/3.10/lib/python/site-packages (from datasets) (2023.6.0)\n",
            "Requirement already satisfied: aiohttp in /Users/000794593/Library/Python/3.10/lib/python/site-packages (from datasets) (3.8.5)\n",
            "Requirement already satisfied: huggingface-hub<1.0.0,>=0.14.0 in /Users/000794593/Library/Python/3.10/lib/python/site-packages (from datasets) (0.16.4)\n",
            "Requirement already satisfied: packaging in /Users/000794593/Library/Python/3.10/lib/python/site-packages (from datasets) (21.3)\n",
            "Requirement already satisfied: pyyaml>=5.1 in /Library/Frameworks/Python.framework/Versions/3.10/lib/python3.10/site-packages (from datasets) (6.0)\n",
            "Requirement already satisfied: tensorflow-macos==2.14.0 in /Users/000794593/Library/Python/3.10/lib/python/site-packages (from tensorflow) (2.14.0)\n",
            "Requirement already satisfied: absl-py>=1.0.0 in /Users/000794593/Library/Python/3.10/lib/python/site-packages (from tensorflow-macos==2.14.0->tensorflow) (1.4.0)\n",
            "Requirement already satisfied: astunparse>=1.6.0 in /Users/000794593/Library/Python/3.10/lib/python/site-packages (from tensorflow-macos==2.14.0->tensorflow) (1.6.3)\n",
            "Requirement already satisfied: flatbuffers>=23.5.26 in /Users/000794593/Library/Python/3.10/lib/python/site-packages (from tensorflow-macos==2.14.0->tensorflow) (23.5.26)\n",
            "Requirement already satisfied: gast!=0.5.0,!=0.5.1,!=0.5.2,>=0.2.1 in /Users/000794593/Library/Python/3.10/lib/python/site-packages (from tensorflow-macos==2.14.0->tensorflow) (0.5.4)\n",
            "Requirement already satisfied: google-pasta>=0.1.1 in /Users/000794593/Library/Python/3.10/lib/python/site-packages (from tensorflow-macos==2.14.0->tensorflow) (0.2.0)\n",
            "Requirement already satisfied: h5py>=2.9.0 in /Users/000794593/Library/Python/3.10/lib/python/site-packages (from tensorflow-macos==2.14.0->tensorflow) (3.10.0)\n",
            "Requirement already satisfied: libclang>=13.0.0 in /Users/000794593/Library/Python/3.10/lib/python/site-packages (from tensorflow-macos==2.14.0->tensorflow) (16.0.6)\n",
            "Requirement already satisfied: ml-dtypes==0.2.0 in /Users/000794593/Library/Python/3.10/lib/python/site-packages (from tensorflow-macos==2.14.0->tensorflow) (0.2.0)\n",
            "Requirement already satisfied: opt-einsum>=2.3.2 in /Users/000794593/Library/Python/3.10/lib/python/site-packages (from tensorflow-macos==2.14.0->tensorflow) (3.3.0)\n",
            "Requirement already satisfied: protobuf!=4.21.0,!=4.21.1,!=4.21.2,!=4.21.3,!=4.21.4,!=4.21.5,<5.0.0dev,>=3.20.3 in /Users/000794593/Library/Python/3.10/lib/python/site-packages (from tensorflow-macos==2.14.0->tensorflow) (3.20.3)\n",
            "Requirement already satisfied: setuptools in /Library/Frameworks/Python.framework/Versions/3.10/lib/python3.10/site-packages (from tensorflow-macos==2.14.0->tensorflow) (63.4.2)\n",
            "Requirement already satisfied: six>=1.12.0 in /Users/000794593/Library/Python/3.10/lib/python/site-packages (from tensorflow-macos==2.14.0->tensorflow) (1.16.0)\n",
            "Requirement already satisfied: termcolor>=1.1.0 in /Users/000794593/Library/Python/3.10/lib/python/site-packages (from tensorflow-macos==2.14.0->tensorflow) (2.3.0)\n",
            "Requirement already satisfied: typing-extensions>=3.6.6 in /Users/000794593/Library/Python/3.10/lib/python/site-packages (from tensorflow-macos==2.14.0->tensorflow) (4.3.0)\n",
            "Requirement already satisfied: wrapt<1.15,>=1.11.0 in /Users/000794593/Library/Python/3.10/lib/python/site-packages (from tensorflow-macos==2.14.0->tensorflow) (1.14.1)\n",
            "Requirement already satisfied: tensorflow-io-gcs-filesystem>=0.23.1 in /Users/000794593/Library/Python/3.10/lib/python/site-packages (from tensorflow-macos==2.14.0->tensorflow) (0.34.0)\n",
            "Requirement already satisfied: grpcio<2.0,>=1.24.3 in /Users/000794593/Library/Python/3.10/lib/python/site-packages (from tensorflow-macos==2.14.0->tensorflow) (1.59.0)\n",
            "Requirement already satisfied: tensorboard<2.15,>=2.14 in /Users/000794593/Library/Python/3.10/lib/python/site-packages (from tensorflow-macos==2.14.0->tensorflow) (2.14.1)\n",
            "Requirement already satisfied: tensorflow-estimator<2.15,>=2.14.0 in /Users/000794593/Library/Python/3.10/lib/python/site-packages (from tensorflow-macos==2.14.0->tensorflow) (2.14.0)\n",
            "Requirement already satisfied: filelock in /Users/000794593/Library/Python/3.10/lib/python/site-packages (from transformers) (3.8.0)\n",
            "Requirement already satisfied: regex!=2019.12.17 in /Users/000794593/Library/Python/3.10/lib/python/site-packages (from transformers) (2023.8.8)\n",
            "Requirement already satisfied: tokenizers!=0.11.3,<0.14,>=0.11.1 in /Users/000794593/Library/Python/3.10/lib/python/site-packages (from transformers) (0.13.3)\n",
            "Requirement already satisfied: safetensors>=0.3.1 in /Users/000794593/Library/Python/3.10/lib/python/site-packages (from transformers) (0.3.3)\n",
            "Requirement already satisfied: attrs>=17.3.0 in /Users/000794593/Library/Python/3.10/lib/python/site-packages (from aiohttp->datasets) (22.1.0)\n",
            "Requirement already satisfied: charset-normalizer<4.0,>=2.0 in /Users/000794593/Library/Python/3.10/lib/python/site-packages (from aiohttp->datasets) (2.1.1)\n",
            "Requirement already satisfied: multidict<7.0,>=4.5 in /Users/000794593/Library/Python/3.10/lib/python/site-packages (from aiohttp->datasets) (6.0.4)\n",
            "Requirement already satisfied: async-timeout<5.0,>=4.0.0a3 in /Users/000794593/Library/Python/3.10/lib/python/site-packages (from aiohttp->datasets) (4.0.3)\n",
            "Requirement already satisfied: yarl<2.0,>=1.0 in /Users/000794593/Library/Python/3.10/lib/python/site-packages (from aiohttp->datasets) (1.9.2)\n",
            "Requirement already satisfied: frozenlist>=1.1.1 in /Users/000794593/Library/Python/3.10/lib/python/site-packages (from aiohttp->datasets) (1.4.0)\n",
            "Requirement already satisfied: aiosignal>=1.1.2 in /Users/000794593/Library/Python/3.10/lib/python/site-packages (from aiohttp->datasets) (1.3.1)\n",
            "Requirement already satisfied: pyparsing!=3.0.5,>=2.0.2 in /Users/000794593/Library/Python/3.10/lib/python/site-packages (from packaging->datasets) (3.0.9)\n",
            "Requirement already satisfied: idna<4,>=2.5 in /Users/000794593/Library/Python/3.10/lib/python/site-packages (from requests>=2.19.0->datasets) (3.3)\n",
            "Requirement already satisfied: urllib3<1.27,>=1.21.1 in /Users/000794593/Library/Python/3.10/lib/python/site-packages (from requests>=2.19.0->datasets) (1.26.12)\n",
            "Requirement already satisfied: certifi>=2017.4.17 in /Users/000794593/Library/Python/3.10/lib/python/site-packages (from requests>=2.19.0->datasets) (2022.6.15)\n",
            "Requirement already satisfied: python-dateutil>=2.8.1 in /Users/000794593/Library/Python/3.10/lib/python/site-packages (from pandas->datasets) (2.8.2)\n",
            "Requirement already satisfied: pytz>=2020.1 in /Library/Frameworks/Python.framework/Versions/3.10/lib/python3.10/site-packages (from pandas->datasets) (2022.2.1)\n"
          ]
        },
        {
          "name": "stdout",
          "output_type": "stream",
          "text": [
            "Requirement already satisfied: wheel<1.0,>=0.23.0 in /Users/000794593/Library/Python/3.10/lib/python/site-packages (from astunparse>=1.6.0->tensorflow-macos==2.14.0->tensorflow) (0.41.2)\n",
            "Requirement already satisfied: google-auth<3,>=1.6.3 in /Users/000794593/Library/Python/3.10/lib/python/site-packages (from tensorboard<2.15,>=2.14->tensorflow-macos==2.14.0->tensorflow) (2.23.3)\n",
            "Requirement already satisfied: google-auth-oauthlib<1.1,>=0.5 in /Users/000794593/Library/Python/3.10/lib/python/site-packages (from tensorboard<2.15,>=2.14->tensorflow-macos==2.14.0->tensorflow) (1.0.0)\n",
            "Requirement already satisfied: markdown>=2.6.8 in /Users/000794593/Library/Python/3.10/lib/python/site-packages (from tensorboard<2.15,>=2.14->tensorflow-macos==2.14.0->tensorflow) (3.5)\n",
            "Requirement already satisfied: tensorboard-data-server<0.8.0,>=0.7.0 in /Users/000794593/Library/Python/3.10/lib/python/site-packages (from tensorboard<2.15,>=2.14->tensorflow-macos==2.14.0->tensorflow) (0.7.2)\n",
            "Requirement already satisfied: werkzeug>=1.0.1 in /Library/Frameworks/Python.framework/Versions/3.10/lib/python3.10/site-packages (from tensorboard<2.15,>=2.14->tensorflow-macos==2.14.0->tensorflow) (2.2.2)\n",
            "Requirement already satisfied: cachetools<6.0,>=2.0.0 in /Users/000794593/Library/Python/3.10/lib/python/site-packages (from google-auth<3,>=1.6.3->tensorboard<2.15,>=2.14->tensorflow-macos==2.14.0->tensorflow) (5.2.0)\n",
            "Requirement already satisfied: pyasn1-modules>=0.2.1 in /Users/000794593/Library/Python/3.10/lib/python/site-packages (from google-auth<3,>=1.6.3->tensorboard<2.15,>=2.14->tensorflow-macos==2.14.0->tensorflow) (0.3.0)\n",
            "Requirement already satisfied: rsa<5,>=3.1.4 in /Users/000794593/Library/Python/3.10/lib/python/site-packages (from google-auth<3,>=1.6.3->tensorboard<2.15,>=2.14->tensorflow-macos==2.14.0->tensorflow) (4.9)\n",
            "Requirement already satisfied: requests-oauthlib>=0.7.0 in /Users/000794593/Library/Python/3.10/lib/python/site-packages (from google-auth-oauthlib<1.1,>=0.5->tensorboard<2.15,>=2.14->tensorflow-macos==2.14.0->tensorflow) (1.3.1)\n",
            "Requirement already satisfied: MarkupSafe>=2.1.1 in /Users/000794593/Library/Python/3.10/lib/python/site-packages (from werkzeug>=1.0.1->tensorboard<2.15,>=2.14->tensorflow-macos==2.14.0->tensorflow) (2.1.1)\n",
            "Requirement already satisfied: pyasn1<0.6.0,>=0.4.6 in /Users/000794593/Library/Python/3.10/lib/python/site-packages (from pyasn1-modules>=0.2.1->google-auth<3,>=1.6.3->tensorboard<2.15,>=2.14->tensorflow-macos==2.14.0->tensorflow) (0.5.0)\n",
            "Requirement already satisfied: oauthlib>=3.0.0 in /Users/000794593/Library/Python/3.10/lib/python/site-packages (from requests-oauthlib>=0.7.0->google-auth-oauthlib<1.1,>=0.5->tensorboard<2.15,>=2.14->tensorflow-macos==2.14.0->tensorflow) (3.2.2)\n",
            "\n",
            "\u001b[1m[\u001b[0m\u001b[34;49mnotice\u001b[0m\u001b[1;39;49m]\u001b[0m\u001b[39;49m A new release of pip is available: \u001b[0m\u001b[31;49m23.2.1\u001b[0m\u001b[39;49m -> \u001b[0m\u001b[32;49m23.3.1\u001b[0m\n",
            "\u001b[1m[\u001b[0m\u001b[34;49mnotice\u001b[0m\u001b[1;39;49m]\u001b[0m\u001b[39;49m To update, run: \u001b[0m\u001b[32;49m/Library/Frameworks/Python.framework/Versions/3.10/bin/python3 -m pip install --upgrade pip\u001b[0m\n"
          ]
        }
      ],
      "source": [
        "import sys\n",
        "!{sys.executable} -m pip install datasets keras tensorflow transformers"
      ]
    },
    {
      "cell_type": "markdown",
      "metadata": {
        "id": "iJU18SxEUiAr"
      },
      "source": [
        "## Last time: RNN Language Model\n",
        "\n",
        "We used recurrent neural networks for *language modeling* - predicting the next word.\n",
        "\n",
        "<div>\n",
        "    <img src=\"https://github.com/ericmanley/f23-CS195NLP/blob/main/images/RNN_languagemodeling.png?raw=1\" width=700>\n",
        "</div>\n",
        "\n",
        "\n",
        "image source: SLP Fig. 9.6, https://web.stanford.edu/~jurafsky/slp3/9.pdf"
      ]
    },
    {
      "cell_type": "markdown",
      "metadata": {
        "id": "Yd8nLrKgUiAr"
      },
      "source": [
        "## RNN for Sequence Classification\n",
        "\n",
        "We could also use the last hidden state an RNN as an input to a regular feed-forward network and do classification of a whole sequence.\n",
        "\n",
        "<div>\n",
        "    <img src=\"https://github.com/ericmanley/f23-CS195NLP/blob/main/images/RNN_classification.png?raw=1\" width=700>\n",
        "</div>\n",
        "\n",
        "\n",
        "image source: SLP Fig. 9.8, https://web.stanford.edu/~jurafsky/slp3/9.pdf"
      ]
    },
    {
      "cell_type": "markdown",
      "metadata": {
        "id": "sJY4L35WUiAr"
      },
      "source": [
        "## RNN Sequence Labeling\n",
        "\n",
        "RNNs are also good for **sequence labeling** when the output is a squence corresponding 1:1 with the input words, like part-of-speech tagging.\n",
        "\n",
        "<div>\n",
        "    <img src=\"https://github.com/ericmanley/f23-CS195NLP/blob/main/images/RNN_sequence_labeling.png?raw=1\" width=700>\n",
        "</div>\n",
        "\n",
        "\n",
        "image source: SLP Fig. 9.7, https://web.stanford.edu/~jurafsky/slp3/9.pdf"
      ]
    },
    {
      "cell_type": "markdown",
      "metadata": {
        "id": "qm1uVz8PUiAr"
      },
      "source": [
        "### Discussion Question\n",
        "\n",
        "What sequence-to-sequence NLP tasks can you think of where the input and target sequences don't match up word-for word?"
      ]
    },
    {
      "cell_type": "markdown",
      "metadata": {
        "id": "pevKC3FKUiAr"
      },
      "source": [
        "## Encoder-Decoder Architecture\n",
        "\n",
        "**Encoder RNN:** Takes input sequences, produces a context vector\n",
        "\n",
        "**Context Vector:** Contains essence of the input sequence\n",
        "\n",
        "**Decoder RNN:** Takes context vector as input, generates an output sequence\n",
        "\n",
        "<div>\n",
        "    <img src=\"https://github.com/ericmanley/f23-CS195NLP/blob/main/images/encoder-decoder.png?raw=1\" width=700>\n",
        "</div>\n",
        "\n",
        "\n",
        "image source: SLP Fig. 9.16, https://web.stanford.edu/~jurafsky/slp3/9.pdf"
      ]
    },
    {
      "cell_type": "markdown",
      "metadata": {
        "id": "fdJuCCWrUiAs"
      },
      "source": [
        "## Encoder-Decoder usage\n",
        "\n",
        "<div>\n",
        "    <img src=\"https://github.com/ericmanley/f23-CS195NLP/blob/main/images/encoder-decoder_detail.png?raw=1\" width=800>\n",
        "</div>\n",
        "\n",
        "\n",
        "image source: SLP Fig. 9.18, https://web.stanford.edu/~jurafsky/slp3/9.pdf"
      ]
    },
    {
      "cell_type": "markdown",
      "metadata": {
        "id": "Zn78UTzMUiAs"
      },
      "source": [
        "## Text2Emoji Dataset\n",
        "\n",
        "Here is a fun dataset that has short sequences of text along with a sequece of emojis corresponding to the task\n",
        "* This is kind of like translation\n",
        "* This is kind of like summarization"
      ]
    },
    {
      "cell_type": "code",
      "execution_count": null,
      "metadata": {
        "id": "IREEvNwRUiAs"
      },
      "outputs": [],
      "source": [
        "from datasets import load_dataset\n",
        "\n",
        "dataset = load_dataset(\"KomeijiForce/Text2Emoji\",split=\"train\")"
      ]
    },
    {
      "cell_type": "code",
      "execution_count": null,
      "metadata": {
        "id": "PdbRAZqHUiAs"
      },
      "outputs": [],
      "source": [
        "# Define a function to check if 'text' is not None\n",
        "def is_not_none(example):\n",
        "    return example['text'] is not None\n",
        "\n",
        "# Filter the dataset\n",
        "dataset = dataset.filter(is_not_none)"
      ]
    },
    {
      "cell_type": "code",
      "execution_count": null,
      "metadata": {
        "id": "ZmLjlv2EUiAs",
        "outputId": "4ff903c5-78ed-4fe4-a69f-e2ae1aafcf33"
      },
      "outputs": [
        {
          "data": {
            "text/plain": [
              "'Going green has never been trendier! Drive around in style with a lineup of eco-friendly electric cars.'"
            ]
          },
          "execution_count": 4,
          "metadata": {},
          "output_type": "execute_result"
        }
      ],
      "source": [
        "dataset[\"text\"][46]"
      ]
    },
    {
      "cell_type": "code",
      "execution_count": null,
      "metadata": {
        "id": "GoWI3V7BUiAs",
        "outputId": "6d9334ae-9c38-4f42-bd02-eb1fcb699e9b"
      },
      "outputs": [
        {
          "data": {
            "text/plain": [
              "'♻️🚗✨💐🍃🌱'"
            ]
          },
          "execution_count": 5,
          "metadata": {},
          "output_type": "execute_result"
        }
      ],
      "source": [
        "dataset[\"emoji\"][46]"
      ]
    },
    {
      "cell_type": "code",
      "execution_count": null,
      "metadata": {
        "id": "xd-32RjJUiAs",
        "outputId": "46547302-b552-464b-cded-41c5bc6402d2"
      },
      "outputs": [
        {
          "data": {
            "text/plain": [
              "503682"
            ]
          },
          "execution_count": 6,
          "metadata": {},
          "output_type": "execute_result"
        }
      ],
      "source": [
        "len(dataset)"
      ]
    },
    {
      "cell_type": "markdown",
      "metadata": {
        "id": "D3oLzayOUiAt"
      },
      "source": [
        "### Importing libraries we'll need"
      ]
    },
    {
      "cell_type": "code",
      "execution_count": null,
      "metadata": {
        "id": "HYS1feDwUiAt"
      },
      "outputs": [],
      "source": [
        "import numpy as np\n",
        "import tensorflow as tf\n",
        "from tensorflow.keras.models import Model\n",
        "from tensorflow.keras.layers import Input, SimpleRNN, Embedding, Dense, TimeDistributed\n",
        "from tensorflow.keras.preprocessing.text import Tokenizer\n",
        "from tensorflow.keras.preprocessing.sequence import pad_sequences\n",
        "from sklearn.model_selection import train_test_split\n",
        "from keras.utils import to_categorical"
      ]
    },
    {
      "cell_type": "markdown",
      "metadata": {
        "id": "Z2A_di77UiAt"
      },
      "source": [
        "### Setting up some tokenizers\n",
        "\n",
        "In this case, we'll create two different tokenizers\n",
        "* texts need to be tokenized as words\n",
        "* emojis need to be tokenized as characters\n",
        "* might be similar if you translate between different languages\n",
        "* some problems might be able to use the same tokenizer"
      ]
    },
    {
      "cell_type": "code",
      "execution_count": null,
      "metadata": {
        "id": "eJmXsGLLUiAt",
        "outputId": "1f47433f-0c95-436b-b35e-96ef53984536"
      },
      "outputs": [
        {
          "name": "stdout",
          "output_type": "stream",
          "text": [
            "text_vocab_size 57073\n",
            "emoji_vocab_size 1387\n"
          ]
        }
      ],
      "source": [
        "# Parameters\n",
        "max_text_len = 20\n",
        "max_emoji_len = 10\n",
        "\n",
        "\n",
        "#texts = dataset[\"text\"][:5000]\n",
        "#emoji = dataset[\"emoji\"][:5000]\n",
        "\n",
        "texts = dataset[\"text\"]\n",
        "emoji = dataset[\"emoji\"]\n",
        "\n",
        "#add \\t and \\n as start and ending tokens for the emoji\n",
        "for idx in range(len(emoji)):\n",
        "    emoji[idx] = \"\\t\"+emoji[idx]+\"\\n\"\n",
        "\n",
        "# Tokenize text\n",
        "text_tokenizer = Tokenizer()\n",
        "\n",
        "text_tokenizer.fit_on_texts(texts)\n",
        "text_sequences = text_tokenizer.texts_to_sequences(texts)\n",
        "text_sequences = pad_sequences(text_sequences, maxlen=max_text_len, padding='post')\n",
        "text_vocab_size = len(text_tokenizer.word_index) + 1\n",
        "print(\"text_vocab_size\",text_vocab_size)\n",
        "\n",
        "\n",
        "\n",
        "# Tokenize emojis\n",
        "emoji_tokenizer = Tokenizer(char_level=True,filters=\"\")\n",
        "emoji_tokenizer.fit_on_texts(emoji)\n",
        "emoji_sequences = emoji_tokenizer.texts_to_sequences(emoji)\n",
        "emoji_sequences = pad_sequences(emoji_sequences, maxlen=max_emoji_len, padding='post')\n",
        "emoji_vocab_size = len(emoji_tokenizer.word_index) + 1\n",
        "\n",
        "#this might be something to try - then use categorical_crossentropy instead of sparse_categorical_crossentropy\n",
        "#emoji_sequences_oh = to_categorical(emoji_sequences, num_classes=emoji_vocab_size)\n",
        "\n",
        "\n",
        "print(\"emoji_vocab_size\",emoji_vocab_size)\n",
        "\n",
        "\n",
        "\n"
      ]
    },
    {
      "cell_type": "code",
      "execution_count": null,
      "metadata": {
        "id": "y6Jkz8_oUiAt",
        "outputId": "5838c23c-4427-429c-f780-052ea41b8a25"
      },
      "outputs": [
        {
          "name": "stdout",
          "output_type": "stream",
          "text": [
            "[ 2645 11622     6  1647     1  2413  3547  2261  2621     2  3508     7\n",
            "    29    46   355   318     0     0     0     0]\n",
            "[  2  31  65   9  78 376   3   0   0   0]\n"
          ]
        }
      ],
      "source": [
        "text_train, text_test, emoji_train, emoji_test = train_test_split(text_sequences,emoji_sequences)\n",
        "print(text_test[0])\n",
        "print(emoji_test[0])"
      ]
    },
    {
      "cell_type": "code",
      "execution_count": null,
      "metadata": {
        "id": "sIIttUz5UiAt",
        "outputId": "f920d4a8-cf1f-4cb2-b109-0fd7cd327416"
      },
      "outputs": [
        {
          "name": "stdout",
          "output_type": "stream",
          "text": [
            "[ 322    1  291    7    3 2456  775  311   36    1  331    0    0    0\n",
            "    0    0    0    0    0    0]\n",
            "[  2  20   1 254  29 136  23  78   3   0]\n"
          ]
        }
      ],
      "source": [
        "print(text_train[2])\n",
        "print(emoji_train[2])"
      ]
    },
    {
      "cell_type": "markdown",
      "metadata": {
        "id": "IcyDsrMOUiAt"
      },
      "source": [
        "### Defining the Encoder\n",
        "\n",
        "The **Encoder** contains\n",
        "* an input layer with enough nodes for the largest text input\n",
        "* an Embedding layer like usual\n",
        "* a Recurrent layer\n",
        "    - `return_state=True` means it will return both the **output** and the internal **state**\n",
        "    \n",
        "When training, we will ignore the *output* and just pass the *state* as the context vector\n",
        "    \n",
        "Notice that we don't use a `Sequential` model for this - it's going to have to be more flexible, so we explicitly compose each layer.\n",
        "    "
      ]
    },
    {
      "cell_type": "code",
      "execution_count": null,
      "metadata": {
        "id": "tFCKzLITUiAt"
      },
      "outputs": [],
      "source": [
        "# Encoder\n",
        "encoder_inputs = Input(shape=(max_text_len,))\n",
        "\n",
        "enc_emb_layer = Embedding(input_dim=text_vocab_size, output_dim=100)\n",
        "enc_emb = enc_emb_layer(encoder_inputs)\n",
        "\n",
        "encoder_rnn = SimpleRNN(100, return_state=True)\n",
        "\n",
        "encoder_outputs, state_h = encoder_rnn(enc_emb)\n",
        "\n",
        "context_vector = [state_h]\n"
      ]
    },
    {
      "cell_type": "markdown",
      "metadata": {
        "id": "ESE07ljeUiAt"
      },
      "source": [
        "### Defining the Decoder\n",
        "\n",
        "The **Decoder** contains\n",
        "* an input layer with `shape=(None,)` - this should make it flexible to allow for output text of many different lengths\n",
        "* an Embedding layer like usual\n",
        "* a recurrent layer - called with the context vector as the initial state\n",
        "* an output layer for classifying which word is next in the sequence"
      ]
    },
    {
      "cell_type": "code",
      "execution_count": null,
      "metadata": {
        "id": "clW8ciAgUiAt"
      },
      "outputs": [],
      "source": [
        "# Decoder\n",
        "decoder_inputs = Input(shape=(None,))\n",
        "\n",
        "dec_emb_layer = Embedding(emoji_vocab_size, 100)\n",
        "dec_emb = dec_emb_layer(decoder_inputs)\n",
        "\n",
        "decoder_rnn = SimpleRNN(100, return_state=True, return_sequences=True)\n",
        "decoder_outputs, _ = decoder_rnn(dec_emb, initial_state=context_vector) #ignore the returned states for now\n",
        "\n",
        "decoder_dense = Dense(emoji_vocab_size, activation='softmax')\n",
        "decoder_outputs = decoder_dense(decoder_outputs)"
      ]
    },
    {
      "cell_type": "code",
      "execution_count": null,
      "metadata": {
        "id": "o_BtMx5kUiAt"
      },
      "outputs": [],
      "source": [
        "# Define the model that will turn\n",
        "# `encoder_inputs` & `decoder_inputs` into `decoder_outputs`\n",
        "model = Model([encoder_inputs, decoder_inputs], decoder_outputs)"
      ]
    },
    {
      "cell_type": "code",
      "execution_count": null,
      "metadata": {
        "id": "h3U5t0AhUiAt",
        "outputId": "f332bbbb-98e8-419a-e5eb-2633b378d76a"
      },
      "outputs": [
        {
          "name": "stdout",
          "output_type": "stream",
          "text": [
            "Epoch 1/10\n",
            "5903/5903 [==============================] - 82s 14ms/step - loss: 0.2625 - val_loss: 0.0114\n",
            "Epoch 2/10\n",
            "5903/5903 [==============================] - 83s 14ms/step - loss: 0.0069 - val_loss: 0.0043\n",
            "Epoch 3/10\n",
            "5903/5903 [==============================] - 80s 14ms/step - loss: 0.0030 - val_loss: 0.0022\n",
            "Epoch 4/10\n",
            "5903/5903 [==============================] - 80s 14ms/step - loss: 0.0015 - val_loss: 0.0012\n",
            "Epoch 5/10\n",
            "5903/5903 [==============================] - 82s 14ms/step - loss: 7.1594e-04 - val_loss: 6.1394e-04\n",
            "Epoch 6/10\n",
            "5903/5903 [==============================] - 81s 14ms/step - loss: 3.7208e-04 - val_loss: 3.4875e-04\n",
            "Epoch 7/10\n",
            "5903/5903 [==============================] - 83s 14ms/step - loss: 2.1794e-04 - val_loss: 2.3665e-04\n",
            "Epoch 8/10\n",
            "5903/5903 [==============================] - 85s 14ms/step - loss: 1.4532e-04 - val_loss: 1.6431e-04\n",
            "Epoch 9/10\n",
            "5903/5903 [==============================] - 91s 15ms/step - loss: 1.0330e-04 - val_loss: 1.2378e-04\n",
            "Epoch 10/10\n",
            "5903/5903 [==============================] - 88s 15ms/step - loss: 7.7009e-05 - val_loss: 9.7706e-05\n"
          ]
        },
        {
          "data": {
            "text/plain": [
              "<keras.src.callbacks.History at 0x2be7877f0>"
            ]
          },
          "execution_count": 14,
          "metadata": {},
          "output_type": "execute_result"
        }
      ],
      "source": [
        "model.compile(optimizer='rmsprop', loss='sparse_categorical_crossentropy')\n",
        "model.fit([text_train, emoji_train],\n",
        "          emoji_train,\n",
        "          epochs=10,\n",
        "          batch_size=64,\n",
        "          validation_data=([text_test, emoji_test],emoji_test) )"
      ]
    },
    {
      "cell_type": "markdown",
      "metadata": {
        "id": "1_IgMn1iUiAu"
      },
      "source": [
        "## Inference\n",
        "\n",
        "In order to make predictions on new examples (inference), we need to separate the encoder and decoder models."
      ]
    },
    {
      "cell_type": "code",
      "execution_count": null,
      "metadata": {
        "id": "flo72eXYUiAu"
      },
      "outputs": [],
      "source": [
        "# Encoder model for inference\n",
        "encoder_model = Model(encoder_inputs, context_vector)\n",
        "\n",
        "# Decoder model for inference\n",
        "decoder_state_input = Input(shape=(100,))  # This is the input state for the decoder\n",
        "decoder_emb = dec_emb_layer(decoder_inputs)  # Embedding for decoder input\n",
        "\n",
        "# Get the output sequence from the decoder RNN\n",
        "decoder_outputs, decoder_state = decoder_rnn(decoder_emb, initial_state=[decoder_state_input])\n",
        "\n",
        "# Apply the Dense layer to the output sequence\n",
        "decoder_outputs = decoder_dense(decoder_outputs)\n",
        "\n",
        "# Define the decoder model\n",
        "# Note: The model only returns the output sequence, not the final state\n",
        "decoder_model = Model([decoder_inputs, decoder_state_input], [decoder_outputs,decoder_state])\n",
        "\n"
      ]
    },
    {
      "cell_type": "markdown",
      "metadata": {
        "id": "HCMuC02qUiAu"
      },
      "source": [
        "### Some functions for doing inference\n",
        "\n",
        "The results here are not good - there are a number of reasons why this could be, and I hope we can explore ideas in class.\n",
        "\n",
        "We will try this with some higher-power recurrent architectures next time."
      ]
    },
    {
      "cell_type": "code",
      "execution_count": null,
      "metadata": {
        "id": "jgwNY8JfUiAu",
        "outputId": "fc9e1a63-046c-46a0-a62b-e8a0c19a38e7"
      },
      "outputs": [
        {
          "name": "stdout",
          "output_type": "stream",
          "text": [
            "1/1 [==============================] - 0s 144ms/step\n",
            "1/1 [==============================] - 0s 86ms/step\n",
            "1/1 [==============================] - 0s 84ms/step\n",
            "1/1 [==============================] - 0s 11ms/step\n",
            "1/1 [==============================] - 0s 9ms/step\n",
            "1/1 [==============================] - 0s 10ms/step\n",
            "1/1 [==============================] - 0s 9ms/step\n",
            "1/1 [==============================] - 0s 10ms/step\n",
            "1/1 [==============================] - 0s 10ms/step\n",
            "1/1 [==============================] - 0s 10ms/step\n",
            "1/1 [==============================] - 0s 9ms/step\n",
            "1/1 [==============================] - 0s 10ms/step\n",
            "Predicted emoji sequence: \t\t\t\t\t\t\t\t\t\t\t\n"
          ]
        },
        {
          "data": {
            "text/plain": [
              "'\\t\\t\\t\\t\\t\\t\\t\\t\\t\\t\\t'"
            ]
          },
          "metadata": {},
          "output_type": "display_data"
        }
      ],
      "source": [
        "def preprocess_input(input_text, text_tokenizer, max_text_len):\n",
        "    # Tokenize the input text\n",
        "    input_seq = text_tokenizer.texts_to_sequences([input_text])\n",
        "    # Pad the sequence\n",
        "    input_seq = pad_sequences(input_seq, maxlen=max_text_len, padding='post')\n",
        "    return input_seq\n",
        "\n",
        "#ChatGPT wrote this method\n",
        "def sample(preds, temperature=1.0):\n",
        "    # Apply softmax temperature\n",
        "    preds = np.asarray(preds).astype('float64')\n",
        "    preds = np.log(preds) / temperature\n",
        "    exp_preds = np.exp(preds)\n",
        "    preds = exp_preds / np.sum(exp_preds)\n",
        "    # Sample a token with probabilities adjusted by the temperature\n",
        "    probas = np.random.multinomial(1, preds, 1)\n",
        "    return np.argmax(probas)\n",
        "\n",
        "def decode_sequence(initial_state, decoder_model, emoji_tokenizer, max_emoji_len):\n",
        "    # Start with a sequence containing just the start token index.\n",
        "    target_seq = np.zeros((1, 1))\n",
        "    start_token_index = emoji_tokenizer.word_index['\\t']  # Assuming '\\t' is the start token\n",
        "    target_seq[0, 0] = start_token_index\n",
        "\n",
        "    stop_condition = False\n",
        "    decoded_sequence = ''\n",
        "    state = initial_state\n",
        "\n",
        "    while not stop_condition:\n",
        "        # Predict the next token\n",
        "        output_tokens, state = decoder_model.predict([target_seq, state])\n",
        "\n",
        "        # Sample a token\n",
        "        #sampled_token_index = np.argmax(output_tokens[0, -1, :])\n",
        "        sampled_token_index = sample(output_tokens[0, -1, :],temperature=1.2)\n",
        "        if sampled_token_index == 0:  # Assuming 0 stands for the padding token\n",
        "            break\n",
        "        sampled_char = emoji_tokenizer.index_word.get(sampled_token_index, '')\n",
        "        if sampled_char == '\\n':  # Assuming '\\n' is the stop token\n",
        "            break\n",
        "        decoded_sequence += sampled_char\n",
        "\n",
        "        # Update the target sequence to the last predicted token\n",
        "        target_seq = np.array([[sampled_token_index]])\n",
        "\n",
        "        if len(decoded_sequence) > max_emoji_len:\n",
        "            stop_condition = True\n",
        "\n",
        "    return decoded_sequence\n",
        "\n",
        "\n",
        "def predict(input_text):\n",
        "    # Preprocess the input\n",
        "    input_seq = preprocess_input(input_text, text_tokenizer, max_text_len)\n",
        "\n",
        "    # Encode the input as state vectors.\n",
        "    states_value = encoder_model.predict(input_seq)\n",
        "\n",
        "    # Decode the sequence to emoji\n",
        "    decoded_emoji = decode_sequence(states_value, decoder_model, emoji_tokenizer, max_emoji_len)\n",
        "\n",
        "    return decoded_emoji\n",
        "\n",
        "new_text = \"Finally got that promotion at work! Feeling so proud and accomplished.\"\n",
        "predicted_emoji = predict(new_text)\n",
        "print(\"Predicted emoji sequence:\", predicted_emoji)\n",
        "display(predicted_emoji)"
      ]
    },
    {
      "cell_type": "markdown",
      "metadata": {
        "id": "5gs03TpRUiAu"
      },
      "source": [
        "## Applied Exploration\n",
        "\n",
        "Try this code on another dataset for summarization, translation, etc.\n",
        "\n",
        "Or, you can try a character-level encoding like in this reference: https://keras.io/examples/nlp/lstm_seq2seq/\n",
        "\n",
        "Run the code for a little while and see if you can come up with some meaningful results\n",
        "\n",
        "Write up a description of the data, what you tried, and what your results were."
      ]
    }
  ],
  "metadata": {
    "celltoolbar": "Slideshow",
    "colab": {
      "provenance": [],
      "include_colab_link": true
    },
    "kernelspec": {
      "display_name": "Python 3 (ipykernel)",
      "language": "python",
      "name": "python3"
    },
    "language_info": {
      "codemirror_mode": {
        "name": "ipython",
        "version": 3
      },
      "file_extension": ".py",
      "mimetype": "text/x-python",
      "name": "python",
      "nbconvert_exporter": "python",
      "pygments_lexer": "ipython3",
      "version": "3.10.6"
    }
  },
  "nbformat": 4,
  "nbformat_minor": 0
}