{
  "cells": [
    {
      "cell_type": "markdown",
      "metadata": {
        "id": "view-in-github",
        "colab_type": "text"
      },
      "source": [
        "<a href=\"https://colab.research.google.com/github/gonzalovaldenebro/NaturalLanguageProcessing-Portfolio/blob/main/F4_1_WordNet.ipynb\" target=\"_parent\"><img src=\"https://colab.research.google.com/assets/colab-badge.svg\" alt=\"Open In Colab\"/></a>"
      ]
    },
    {
      "cell_type": "markdown",
      "metadata": {
        "id": "C192SOmJS6lw"
      },
      "source": [
        "# CS 195: Natural Language Processing\n",
        "## WordNet\n",
        "\n",
        "[![Open In Colab](https://colab.research.google.com/assets/colab-badge.svg)](https://colab.research.google.com/github/ericmanley/f23-CS195NLP/blob/main/F4_1_WordNet.ipynb)\n"
      ]
    },
    {
      "cell_type": "markdown",
      "metadata": {
        "id": "HstWhlXTYzzB"
      },
      "source": [
        "## References\n",
        "\n",
        "Sample usage for WordNet: https://www.nltk.org/howto/wordnet.html\n",
        "\n",
        "WordNet documentation: https://www.nltk.org/api/nltk.corpus.reader.wordnet.html\n",
        "\n",
        "NLTK Book Chapter 2 (see Section 5): https://www.nltk.org/book/ch02.html\n",
        "\n",
        "Dive into WordNet with NLTK by Norbert Kozlowski: https://medium.com/@don_khozzy/dive-into-wordnet-with-nltk-b313c480e788\n",
        "\n",
        "Getting started with nltk-wordnet in Python: https://www.section.io/engineering-education/getting-started-with-nltk-wordnet-in-python/"
      ]
    },
    {
      "cell_type": "code",
      "execution_count": 1,
      "metadata": {
        "id": "qYgAwzm4YzzC",
        "outputId": "d2e2b0bb-3f47-4c62-fc32-7f672ec1a1ca",
        "colab": {
          "base_uri": "https://localhost:8080/"
        }
      },
      "outputs": [
        {
          "output_type": "stream",
          "name": "stdout",
          "text": [
            "Requirement already satisfied: nltk in /usr/local/lib/python3.10/dist-packages (3.8.1)\n",
            "Requirement already satisfied: click in /usr/local/lib/python3.10/dist-packages (from nltk) (8.1.7)\n",
            "Requirement already satisfied: joblib in /usr/local/lib/python3.10/dist-packages (from nltk) (1.3.2)\n",
            "Requirement already satisfied: regex>=2021.8.3 in /usr/local/lib/python3.10/dist-packages (from nltk) (2023.6.3)\n",
            "Requirement already satisfied: tqdm in /usr/local/lib/python3.10/dist-packages (from nltk) (4.66.1)\n"
          ]
        }
      ],
      "source": [
        "import sys\n",
        "!{sys.executable} -m pip install nltk"
      ]
    },
    {
      "cell_type": "code",
      "execution_count": 2,
      "metadata": {
        "id": "57hC8tleYzzD"
      },
      "outputs": [],
      "source": [
        "#you shouldn't need to do this in Colab, but I had to do it on my own machine\n",
        "#in order to connect to the nltk service\n",
        "import nltk\n",
        "import ssl\n",
        "\n",
        "try:\n",
        "    _create_unverified_https_context = ssl._create_unverified_context\n",
        "except AttributeError:\n",
        "    pass\n",
        "else:\n",
        "    ssl._create_default_https_context = _create_unverified_https_context\n"
      ]
    },
    {
      "cell_type": "code",
      "execution_count": 3,
      "metadata": {
        "id": "RMpp_qq0YzzD",
        "outputId": "3046d906-80fb-4173-ae78-30544a6e262b",
        "colab": {
          "base_uri": "https://localhost:8080/"
        }
      },
      "outputs": [
        {
          "output_type": "stream",
          "name": "stderr",
          "text": [
            "[nltk_data] Downloading package wordnet to /root/nltk_data...\n"
          ]
        },
        {
          "output_type": "execute_result",
          "data": {
            "text/plain": [
              "True"
            ]
          },
          "metadata": {},
          "execution_count": 3
        }
      ],
      "source": [
        "import nltk\n",
        "from nltk.corpus import wordnet as wn\n",
        "nltk.download('wordnet') #only need to do this once"
      ]
    },
    {
      "cell_type": "markdown",
      "metadata": {
        "id": "_75MaKPnYzzD"
      },
      "source": [
        "## What is WordNet?\n",
        "\n",
        "**WordNet** is a *lexical database*.\n",
        "\n",
        "So what does that mean? Let's ask WordNet."
      ]
    },
    {
      "cell_type": "code",
      "execution_count": 18,
      "metadata": {
        "id": "_t8gqpkhYzzD",
        "outputId": "29c66e89-c33f-473c-89fe-6d14fb672f78",
        "colab": {
          "base_uri": "https://localhost:8080/"
        }
      },
      "outputs": [
        {
          "output_type": "execute_result",
          "data": {
            "text/plain": [
              "[Synset('lexical.a.01'), Synset('lexical.a.02')]"
            ]
          },
          "metadata": {},
          "execution_count": 18
        }
      ],
      "source": [
        "wn.synsets(\"lexical\")"
      ]
    },
    {
      "cell_type": "markdown",
      "metadata": {
        "id": "CFaT_6n8YzzE"
      },
      "source": [
        "A `synset` is a synonym set - The only synonym set it has of the word *lexical* is the word itself, but it has two different *senses* of the word.\n",
        "\n",
        "`lexical.a.01`\n",
        "* `lexical` is the word\n",
        "* `a` is the part of speech - in this case, adjective\n",
        "* `01` is for the first sense of the word - basically like different entries in a dictionary for the same word\n",
        "\n",
        "<div>\n",
        "    <img src=\"https://github.com/ericmanley/f23-CS195NLP/blob/main/images/lexical_definition.png?raw=1\" width=500>\n",
        "</div>"
      ]
    },
    {
      "cell_type": "markdown",
      "metadata": {
        "id": "1ERYL94RYzzE"
      },
      "source": [
        "We can access each of these synonym sets with `synset` (as opposed to `synsets`) and then call various methods on them"
      ]
    },
    {
      "cell_type": "code",
      "execution_count": 5,
      "metadata": {
        "id": "WL16XI0UYzzE",
        "outputId": "6b0feecb-2cfc-4738-ce5c-cbf62ff28980",
        "colab": {
          "base_uri": "https://localhost:8080/"
        }
      },
      "outputs": [
        {
          "output_type": "stream",
          "name": "stdout",
          "text": [
            "of or relating to words\n"
          ]
        }
      ],
      "source": [
        "print( wn.synset('lexical.a.01').definition() )"
      ]
    },
    {
      "cell_type": "code",
      "execution_count": 6,
      "metadata": {
        "id": "t70xTAxZYzzE",
        "outputId": "dcea70e5-b0b9-4a3a-df0c-d1f507ba0bd3",
        "colab": {
          "base_uri": "https://localhost:8080/"
        }
      },
      "outputs": [
        {
          "output_type": "stream",
          "name": "stdout",
          "text": [
            "of or relating to dictionaries\n"
          ]
        }
      ],
      "source": [
        "print( wn.synset('lexical.a.02').definition() )"
      ]
    },
    {
      "cell_type": "markdown",
      "metadata": {
        "id": "pVXobfk7YzzE"
      },
      "source": [
        "## Let's try another word"
      ]
    },
    {
      "cell_type": "code",
      "execution_count": 20,
      "metadata": {
        "id": "6yxiPVQbYzzE",
        "outputId": "c5d2219a-152c-4e82-a4f6-68d885500227",
        "colab": {
          "base_uri": "https://localhost:8080/"
        }
      },
      "outputs": [
        {
          "output_type": "execute_result",
          "data": {
            "text/plain": [
              "[Synset('bank.n.01'),\n",
              " Synset('depository_financial_institution.n.01'),\n",
              " Synset('bank.n.03'),\n",
              " Synset('bank.n.04'),\n",
              " Synset('bank.n.05'),\n",
              " Synset('bank.n.06'),\n",
              " Synset('bank.n.07'),\n",
              " Synset('savings_bank.n.02'),\n",
              " Synset('bank.n.09'),\n",
              " Synset('bank.n.10'),\n",
              " Synset('bank.v.01'),\n",
              " Synset('bank.v.02'),\n",
              " Synset('bank.v.03'),\n",
              " Synset('bank.v.04'),\n",
              " Synset('bank.v.05'),\n",
              " Synset('deposit.v.02'),\n",
              " Synset('bank.v.07'),\n",
              " Synset('trust.v.01')]"
            ]
          },
          "metadata": {},
          "execution_count": 20
        }
      ],
      "source": [
        "wn.synsets(\"bank\")"
      ]
    },
    {
      "cell_type": "markdown",
      "metadata": {
        "id": "NPLv7vi8YzzE"
      },
      "source": [
        "Let's loop through these and print out some information about each."
      ]
    },
    {
      "cell_type": "code",
      "execution_count": 41,
      "metadata": {
        "id": "ujzBG4QLYzzF",
        "outputId": "426be780-1111-44d6-bafb-5fecf8e6e6c7",
        "colab": {
          "base_uri": "https://localhost:8080/"
        }
      },
      "outputs": [
        {
          "output_type": "stream",
          "name": "stdout",
          "text": [
            "----------------\n",
            "he canonical name of this synset, formed using the first lemma of this synse: bank.n.01\n",
            "The synset’s part of speech, matching one of the module level attributes ADJ, ADJ_SAT, ADV, NOUN or VERB: n\n",
            "A list of the Lemma objects for this synset: [Lemma('bank.n.01.bank')]\n",
            "The definition for this synset: sloping land (especially the slope beside a body of water)\n",
            "A list of example strings for this synset:  ['they pulled the canoe up on the bank', 'he sat on the bank of the river and watched the currents']\n",
            "The offset in the WordNet dict file of this synset: 9213565\n",
            "The name of the lexicographer file containing this synset: noun.object\n",
            "----------------\n",
            "he canonical name of this synset, formed using the first lemma of this synse: depository_financial_institution.n.01\n",
            "The synset’s part of speech, matching one of the module level attributes ADJ, ADJ_SAT, ADV, NOUN or VERB: n\n",
            "A list of the Lemma objects for this synset: [Lemma('depository_financial_institution.n.01.depository_financial_institution'), Lemma('depository_financial_institution.n.01.bank'), Lemma('depository_financial_institution.n.01.banking_concern'), Lemma('depository_financial_institution.n.01.banking_company')]\n",
            "The definition for this synset: a financial institution that accepts deposits and channels the money into lending activities\n",
            "A list of example strings for this synset:  ['he cashed a check at the bank', 'that bank holds the mortgage on my home']\n",
            "The offset in the WordNet dict file of this synset: 8420278\n",
            "The name of the lexicographer file containing this synset: noun.group\n",
            "----------------\n",
            "he canonical name of this synset, formed using the first lemma of this synse: bank.n.03\n",
            "The synset’s part of speech, matching one of the module level attributes ADJ, ADJ_SAT, ADV, NOUN or VERB: n\n",
            "A list of the Lemma objects for this synset: [Lemma('bank.n.03.bank')]\n",
            "The definition for this synset: a long ridge or pile\n",
            "A list of example strings for this synset:  ['a huge bank of earth']\n",
            "The offset in the WordNet dict file of this synset: 9213434\n",
            "The name of the lexicographer file containing this synset: noun.object\n",
            "----------------\n",
            "he canonical name of this synset, formed using the first lemma of this synse: bank.n.04\n",
            "The synset’s part of speech, matching one of the module level attributes ADJ, ADJ_SAT, ADV, NOUN or VERB: n\n",
            "A list of the Lemma objects for this synset: [Lemma('bank.n.04.bank')]\n",
            "The definition for this synset: an arrangement of similar objects in a row or in tiers\n",
            "A list of example strings for this synset:  ['he operated a bank of switches']\n",
            "The offset in the WordNet dict file of this synset: 8462066\n",
            "The name of the lexicographer file containing this synset: noun.group\n",
            "----------------\n",
            "he canonical name of this synset, formed using the first lemma of this synse: bank.n.05\n",
            "The synset’s part of speech, matching one of the module level attributes ADJ, ADJ_SAT, ADV, NOUN or VERB: n\n",
            "A list of the Lemma objects for this synset: [Lemma('bank.n.05.bank')]\n",
            "The definition for this synset: a supply or stock held in reserve for future use (especially in emergencies)\n",
            "A list of example strings for this synset:  []\n",
            "The offset in the WordNet dict file of this synset: 13368318\n",
            "The name of the lexicographer file containing this synset: noun.possession\n",
            "----------------\n",
            "he canonical name of this synset, formed using the first lemma of this synse: bank.n.06\n",
            "The synset’s part of speech, matching one of the module level attributes ADJ, ADJ_SAT, ADV, NOUN or VERB: n\n",
            "A list of the Lemma objects for this synset: [Lemma('bank.n.06.bank')]\n",
            "The definition for this synset: the funds held by a gambling house or the dealer in some gambling games\n",
            "A list of example strings for this synset:  ['he tried to break the bank at Monte Carlo']\n",
            "The offset in the WordNet dict file of this synset: 13356402\n",
            "The name of the lexicographer file containing this synset: noun.possession\n",
            "----------------\n",
            "he canonical name of this synset, formed using the first lemma of this synse: bank.n.07\n",
            "The synset’s part of speech, matching one of the module level attributes ADJ, ADJ_SAT, ADV, NOUN or VERB: n\n",
            "A list of the Lemma objects for this synset: [Lemma('bank.n.07.bank'), Lemma('bank.n.07.cant'), Lemma('bank.n.07.camber')]\n",
            "The definition for this synset: a slope in the turn of a road or track; the outside is higher than the inside in order to reduce the effects of centrifugal force\n",
            "A list of example strings for this synset:  []\n",
            "The offset in the WordNet dict file of this synset: 9213828\n",
            "The name of the lexicographer file containing this synset: noun.object\n",
            "----------------\n",
            "he canonical name of this synset, formed using the first lemma of this synse: savings_bank.n.02\n",
            "The synset’s part of speech, matching one of the module level attributes ADJ, ADJ_SAT, ADV, NOUN or VERB: n\n",
            "A list of the Lemma objects for this synset: [Lemma('savings_bank.n.02.savings_bank'), Lemma('savings_bank.n.02.coin_bank'), Lemma('savings_bank.n.02.money_box'), Lemma('savings_bank.n.02.bank')]\n",
            "The definition for this synset: a container (usually with a slot in the top) for keeping money at home\n",
            "A list of example strings for this synset:  ['the coin bank was empty']\n",
            "The offset in the WordNet dict file of this synset: 4139859\n",
            "The name of the lexicographer file containing this synset: noun.artifact\n",
            "----------------\n",
            "he canonical name of this synset, formed using the first lemma of this synse: bank.n.09\n",
            "The synset’s part of speech, matching one of the module level attributes ADJ, ADJ_SAT, ADV, NOUN or VERB: n\n",
            "A list of the Lemma objects for this synset: [Lemma('bank.n.09.bank'), Lemma('bank.n.09.bank_building')]\n",
            "The definition for this synset: a building in which the business of banking transacted\n",
            "A list of example strings for this synset:  ['the bank is on the corner of Nassau and Witherspoon']\n",
            "The offset in the WordNet dict file of this synset: 2787772\n",
            "The name of the lexicographer file containing this synset: noun.artifact\n",
            "----------------\n",
            "he canonical name of this synset, formed using the first lemma of this synse: bank.n.10\n",
            "The synset’s part of speech, matching one of the module level attributes ADJ, ADJ_SAT, ADV, NOUN or VERB: n\n",
            "A list of the Lemma objects for this synset: [Lemma('bank.n.10.bank')]\n",
            "The definition for this synset: a flight maneuver; aircraft tips laterally about its longitudinal axis (especially in turning)\n",
            "A list of example strings for this synset:  ['the plane went into a steep bank']\n",
            "The offset in the WordNet dict file of this synset: 169305\n",
            "The name of the lexicographer file containing this synset: noun.act\n",
            "----------------\n",
            "he canonical name of this synset, formed using the first lemma of this synse: bank.v.01\n",
            "The synset’s part of speech, matching one of the module level attributes ADJ, ADJ_SAT, ADV, NOUN or VERB: v\n",
            "A list of the Lemma objects for this synset: [Lemma('bank.v.01.bank')]\n",
            "The definition for this synset: tip laterally\n",
            "A list of example strings for this synset:  ['the pilot had to bank the aircraft']\n",
            "The offset in the WordNet dict file of this synset: 2039413\n",
            "The name of the lexicographer file containing this synset: verb.motion\n",
            "----------------\n",
            "he canonical name of this synset, formed using the first lemma of this synse: bank.v.02\n",
            "The synset’s part of speech, matching one of the module level attributes ADJ, ADJ_SAT, ADV, NOUN or VERB: v\n",
            "A list of the Lemma objects for this synset: [Lemma('bank.v.02.bank')]\n",
            "The definition for this synset: enclose with a bank\n",
            "A list of example strings for this synset:  ['bank roads']\n",
            "The offset in the WordNet dict file of this synset: 1587705\n",
            "The name of the lexicographer file containing this synset: verb.contact\n",
            "----------------\n",
            "he canonical name of this synset, formed using the first lemma of this synse: bank.v.03\n",
            "The synset’s part of speech, matching one of the module level attributes ADJ, ADJ_SAT, ADV, NOUN or VERB: v\n",
            "A list of the Lemma objects for this synset: [Lemma('bank.v.03.bank')]\n",
            "The definition for this synset: do business with a bank or keep an account at a bank\n",
            "A list of example strings for this synset:  ['Where do you bank in this town?']\n",
            "The offset in the WordNet dict file of this synset: 2343374\n",
            "The name of the lexicographer file containing this synset: verb.possession\n",
            "----------------\n",
            "he canonical name of this synset, formed using the first lemma of this synse: bank.v.04\n",
            "The synset’s part of speech, matching one of the module level attributes ADJ, ADJ_SAT, ADV, NOUN or VERB: v\n",
            "A list of the Lemma objects for this synset: [Lemma('bank.v.04.bank')]\n",
            "The definition for this synset: act as the banker in a game or in gambling\n",
            "A list of example strings for this synset:  []\n",
            "The offset in the WordNet dict file of this synset: 2343252\n",
            "The name of the lexicographer file containing this synset: verb.possession\n",
            "----------------\n",
            "he canonical name of this synset, formed using the first lemma of this synse: bank.v.05\n",
            "The synset’s part of speech, matching one of the module level attributes ADJ, ADJ_SAT, ADV, NOUN or VERB: v\n",
            "A list of the Lemma objects for this synset: [Lemma('bank.v.05.bank')]\n",
            "The definition for this synset: be in the banking business\n",
            "A list of example strings for this synset:  []\n",
            "The offset in the WordNet dict file of this synset: 2343056\n",
            "The name of the lexicographer file containing this synset: verb.possession\n",
            "----------------\n",
            "he canonical name of this synset, formed using the first lemma of this synse: deposit.v.02\n",
            "The synset’s part of speech, matching one of the module level attributes ADJ, ADJ_SAT, ADV, NOUN or VERB: v\n",
            "A list of the Lemma objects for this synset: [Lemma('deposit.v.02.deposit'), Lemma('deposit.v.02.bank')]\n",
            "The definition for this synset: put into a bank account\n",
            "A list of example strings for this synset:  ['She deposits her paycheck every month']\n",
            "The offset in the WordNet dict file of this synset: 2310855\n",
            "The name of the lexicographer file containing this synset: verb.possession\n",
            "----------------\n",
            "he canonical name of this synset, formed using the first lemma of this synse: bank.v.07\n",
            "The synset’s part of speech, matching one of the module level attributes ADJ, ADJ_SAT, ADV, NOUN or VERB: v\n",
            "A list of the Lemma objects for this synset: [Lemma('bank.v.07.bank')]\n",
            "The definition for this synset: cover with ashes so to control the rate of burning\n",
            "A list of example strings for this synset:  ['bank a fire']\n",
            "The offset in the WordNet dict file of this synset: 1234793\n",
            "The name of the lexicographer file containing this synset: verb.contact\n",
            "----------------\n",
            "he canonical name of this synset, formed using the first lemma of this synse: trust.v.01\n",
            "The synset’s part of speech, matching one of the module level attributes ADJ, ADJ_SAT, ADV, NOUN or VERB: v\n",
            "A list of the Lemma objects for this synset: [Lemma('trust.v.01.trust'), Lemma('trust.v.01.swear'), Lemma('trust.v.01.rely'), Lemma('trust.v.01.bank')]\n",
            "The definition for this synset: have confidence or faith in\n",
            "A list of example strings for this synset:  ['We can trust in God', 'Rely on your friends', 'bank on your good education', \"I swear by my grandmother's recipes\"]\n",
            "The offset in the WordNet dict file of this synset: 688377\n",
            "The name of the lexicographer file containing this synset: verb.cognition\n"
          ]
        }
      ],
      "source": [
        "senses = wn.synsets(\"bank\")\n",
        "for sense in senses:\n",
        "    print( \"----------------\")\n",
        "    print('he canonical name of this synset, formed using the first lemma of this synse:', sense.name() )\n",
        "    print('The synset’s part of speech, matching one of the module level attributes ADJ, ADJ_SAT, ADV, NOUN or VERB:', sense.pos() )\n",
        "    print('A list of the Lemma objects for this synset:', sense.lemmas())\n",
        "    print('The definition for this synset:',sense.definition() )\n",
        "    print('A list of example strings for this synset: ', sense.examples() )\n",
        "    print('The offset in the WordNet dict file of this synset:', sense.offset())\n",
        "    print('The name of the lexicographer file containing this synset:',sense.lexname() )"
      ]
    },
    {
      "cell_type": "markdown",
      "metadata": {
        "id": "3JhKmi0kYzzF"
      },
      "source": [
        "## Group Exercise\n",
        "\n",
        "Try some additional words. What other parts of speech labels can you find, and what do they mean?\n",
        "\n",
        "You may want to look here too: https://www.nltk.org/api/nltk.corpus.reader.wordnet.html"
      ]
    },
    {
      "cell_type": "markdown",
      "metadata": {
        "id": "hvcgUGnRYzzF"
      },
      "source": [
        "## Lemmas\n",
        "\n",
        "In linguistics, a **lemma** is the base form of a word.\n",
        "\n",
        "For example: *run*, *ran*, *running*, and *runs* all have the same lemma, **run**\n",
        "\n",
        "Sometimes, you want to **lemmatize** a corpus\n",
        "* change all the words into their base form\n",
        "* can improve NLP tasks like text classification"
      ]
    },
    {
      "cell_type": "code",
      "execution_count": 42,
      "metadata": {
        "id": "6w63vFTlYzzF",
        "outputId": "8a8966ea-2225-4036-aaae-95bf68a7a142",
        "colab": {
          "base_uri": "https://localhost:8080/"
        }
      },
      "outputs": [
        {
          "output_type": "stream",
          "name": "stdout",
          "text": [
            "----------------\n",
            "run.v.01\n",
            "[Lemma('run.v.01.run')]\n",
            "run\n",
            "----------------\n",
            "scat.v.01\n",
            "[Lemma('scat.v.01.scat'), Lemma('scat.v.01.run'), Lemma('scat.v.01.scarper'), Lemma('scat.v.01.turn_tail'), Lemma('scat.v.01.lam'), Lemma('scat.v.01.run_away'), Lemma('scat.v.01.hightail_it'), Lemma('scat.v.01.bunk'), Lemma('scat.v.01.head_for_the_hills'), Lemma('scat.v.01.take_to_the_woods'), Lemma('scat.v.01.escape'), Lemma('scat.v.01.fly_the_coop'), Lemma('scat.v.01.break_away')]\n",
            "scat\n",
            "run\n",
            "scarper\n",
            "turn_tail\n",
            "lam\n",
            "run_away\n",
            "hightail_it\n",
            "bunk\n",
            "head_for_the_hills\n",
            "take_to_the_woods\n",
            "escape\n",
            "fly_the_coop\n",
            "break_away\n",
            "----------------\n",
            "run.v.03\n",
            "[Lemma('run.v.03.run'), Lemma('run.v.03.go'), Lemma('run.v.03.pass'), Lemma('run.v.03.lead'), Lemma('run.v.03.extend')]\n",
            "run\n",
            "go\n",
            "pass\n",
            "lead\n",
            "extend\n",
            "----------------\n",
            "operate.v.01\n",
            "[Lemma('operate.v.01.operate'), Lemma('operate.v.01.run')]\n",
            "operate\n",
            "run\n",
            "----------------\n",
            "run.v.05\n",
            "[Lemma('run.v.05.run'), Lemma('run.v.05.go')]\n",
            "run\n",
            "go\n",
            "----------------\n",
            "run.v.06\n",
            "[Lemma('run.v.06.run'), Lemma('run.v.06.flow'), Lemma('run.v.06.feed'), Lemma('run.v.06.course')]\n",
            "run\n",
            "flow\n",
            "feed\n",
            "course\n",
            "----------------\n",
            "function.v.01\n",
            "[Lemma('function.v.01.function'), Lemma('function.v.01.work'), Lemma('function.v.01.operate'), Lemma('function.v.01.go'), Lemma('function.v.01.run')]\n",
            "function\n",
            "work\n",
            "operate\n",
            "go\n",
            "run\n",
            "----------------\n",
            "range.v.01\n",
            "[Lemma('range.v.01.range'), Lemma('range.v.01.run')]\n",
            "range\n",
            "run\n",
            "----------------\n",
            "campaign.v.01\n",
            "[Lemma('campaign.v.01.campaign'), Lemma('campaign.v.01.run')]\n",
            "campaign\n",
            "run\n",
            "----------------\n",
            "play.v.18\n",
            "[Lemma('play.v.18.play'), Lemma('play.v.18.run')]\n",
            "play\n",
            "run\n",
            "----------------\n",
            "run.v.11\n",
            "[Lemma('run.v.11.run')]\n",
            "run\n",
            "----------------\n",
            "tend.v.01\n",
            "[Lemma('tend.v.01.tend'), Lemma('tend.v.01.be_given'), Lemma('tend.v.01.lean'), Lemma('tend.v.01.incline'), Lemma('tend.v.01.run')]\n",
            "tend\n",
            "be_given\n",
            "lean\n",
            "incline\n",
            "run\n",
            "----------------\n",
            "run.v.13\n",
            "[Lemma('run.v.13.run')]\n",
            "run\n",
            "----------------\n",
            "run.v.14\n",
            "[Lemma('run.v.14.run')]\n",
            "run\n",
            "----------------\n",
            "run.v.15\n",
            "[Lemma('run.v.15.run')]\n",
            "run\n",
            "----------------\n",
            "run.v.16\n",
            "[Lemma('run.v.16.run')]\n",
            "run\n",
            "----------------\n",
            "prevail.v.03\n",
            "[Lemma('prevail.v.03.prevail'), Lemma('prevail.v.03.persist'), Lemma('prevail.v.03.die_hard'), Lemma('prevail.v.03.run'), Lemma('prevail.v.03.endure')]\n",
            "prevail\n",
            "persist\n",
            "die_hard\n",
            "run\n",
            "endure\n",
            "----------------\n",
            "run.v.18\n",
            "[Lemma('run.v.18.run')]\n",
            "run\n",
            "----------------\n",
            "run.v.19\n",
            "[Lemma('run.v.19.run'), Lemma('run.v.19.execute')]\n",
            "run\n",
            "execute\n",
            "----------------\n",
            "carry.v.15\n",
            "[Lemma('carry.v.15.carry'), Lemma('carry.v.15.run')]\n",
            "carry\n",
            "run\n",
            "----------------\n",
            "run.v.21\n",
            "[Lemma('run.v.21.run')]\n",
            "run\n",
            "----------------\n",
            "guide.v.05\n",
            "[Lemma('guide.v.05.guide'), Lemma('guide.v.05.run'), Lemma('guide.v.05.draw'), Lemma('guide.v.05.pass')]\n",
            "guide\n",
            "run\n",
            "draw\n",
            "pass\n",
            "----------------\n",
            "run.v.23\n",
            "[Lemma('run.v.23.run'), Lemma('run.v.23.lead')]\n",
            "run\n",
            "lead\n",
            "----------------\n",
            "run.v.24\n",
            "[Lemma('run.v.24.run')]\n",
            "run\n",
            "----------------\n",
            "run.v.25\n",
            "[Lemma('run.v.25.run'), Lemma('run.v.25.black_market')]\n",
            "run\n",
            "black_market\n",
            "----------------\n",
            "run.v.26\n",
            "[Lemma('run.v.26.run')]\n",
            "run\n",
            "----------------\n",
            "run.v.27\n",
            "[Lemma('run.v.27.run'), Lemma('run.v.27.bleed')]\n",
            "run\n",
            "bleed\n",
            "----------------\n",
            "run.v.28\n",
            "[Lemma('run.v.28.run')]\n",
            "run\n",
            "----------------\n",
            "run.v.29\n",
            "[Lemma('run.v.29.run')]\n",
            "run\n",
            "----------------\n",
            "run.v.30\n",
            "[Lemma('run.v.30.run'), Lemma('run.v.30.run_for')]\n",
            "run\n",
            "run_for\n",
            "----------------\n",
            "run.v.31\n",
            "[Lemma('run.v.31.run')]\n",
            "run\n",
            "----------------\n",
            "run.v.32\n",
            "[Lemma('run.v.32.run'), Lemma('run.v.32.consort')]\n",
            "run\n",
            "consort\n",
            "----------------\n",
            "run.v.33\n",
            "[Lemma('run.v.33.run')]\n",
            "run\n",
            "----------------\n",
            "run.v.34\n",
            "[Lemma('run.v.34.run')]\n",
            "run\n",
            "----------------\n",
            "ply.v.03\n",
            "[Lemma('ply.v.03.ply'), Lemma('ply.v.03.run')]\n",
            "ply\n",
            "run\n",
            "----------------\n",
            "hunt.v.01\n",
            "[Lemma('hunt.v.01.hunt'), Lemma('hunt.v.01.run'), Lemma('hunt.v.01.hunt_down'), Lemma('hunt.v.01.track_down')]\n",
            "hunt\n",
            "run\n",
            "hunt_down\n",
            "track_down\n",
            "----------------\n",
            "race.v.02\n",
            "[Lemma('race.v.02.race'), Lemma('race.v.02.run')]\n",
            "race\n",
            "run\n",
            "----------------\n",
            "move.v.13\n",
            "[Lemma('move.v.13.move'), Lemma('move.v.13.go'), Lemma('move.v.13.run')]\n",
            "move\n",
            "go\n",
            "run\n",
            "----------------\n",
            "melt.v.01\n",
            "[Lemma('melt.v.01.melt'), Lemma('melt.v.01.run'), Lemma('melt.v.01.melt_down')]\n",
            "melt\n",
            "run\n",
            "melt_down\n",
            "----------------\n",
            "ladder.v.01\n",
            "[Lemma('ladder.v.01.ladder'), Lemma('ladder.v.01.run')]\n",
            "ladder\n",
            "run\n",
            "----------------\n",
            "run.v.41\n",
            "[Lemma('run.v.41.run'), Lemma('run.v.41.unravel')]\n",
            "run\n",
            "unravel\n"
          ]
        }
      ],
      "source": [
        "run_senses = wn.synsets(\"ran\")\n",
        "\n",
        "# Iterate through the synsets and retrieve lemmas\n",
        "for sense in run_senses:\n",
        "    print( \"----------------\")\n",
        "    print( sense.name() )\n",
        "    lemmas = sense.lemmas()\n",
        "    print( lemmas )\n",
        "    for lemma in lemmas:\n",
        "        print(lemma.name())  # Print the lemma's name"
      ]
    },
    {
      "cell_type": "markdown",
      "metadata": {
        "id": "VrpMOWjcYzzF"
      },
      "source": [
        "## Antonyms\n",
        "\n",
        "An **antonym** is a word with an opposite meaning.\n",
        "\n",
        "WordNet organizes antonyms on the lemmas rather than the word senses themselves."
      ]
    },
    {
      "cell_type": "code",
      "execution_count": 10,
      "metadata": {
        "id": "7h9mhGNGYzzF",
        "outputId": "145b8abd-eb82-41e6-f5d7-fde614658cad",
        "colab": {
          "base_uri": "https://localhost:8080/"
        }
      },
      "outputs": [
        {
          "output_type": "execute_result",
          "data": {
            "text/plain": [
              "[Lemma('good.a.01.good')]"
            ]
          },
          "metadata": {},
          "execution_count": 10
        }
      ],
      "source": [
        "wn.synset(\"good.a.01\").lemmas()"
      ]
    },
    {
      "cell_type": "code",
      "execution_count": 43,
      "metadata": {
        "id": "i1AsAd23YzzF",
        "outputId": "1a9dd60b-9e5c-42cc-8178-71636895a1d6",
        "colab": {
          "base_uri": "https://localhost:8080/",
          "height": 179
        }
      },
      "outputs": [
        {
          "output_type": "error",
          "ename": "AttributeError",
          "evalue": "ignored",
          "traceback": [
            "\u001b[0;31m---------------------------------------------------------------------------\u001b[0m",
            "\u001b[0;31mAttributeError\u001b[0m                            Traceback (most recent call last)",
            "\u001b[0;32m<ipython-input-43-6b3094d64fd7>\u001b[0m in \u001b[0;36m<cell line: 1>\u001b[0;34m()\u001b[0m\n\u001b[0;32m----> 1\u001b[0;31m \u001b[0mwn\u001b[0m\u001b[0;34m.\u001b[0m\u001b[0msynset\u001b[0m\u001b[0;34m(\u001b[0m\u001b[0;34m\"good.a.01\"\u001b[0m\u001b[0;34m)\u001b[0m\u001b[0;34m.\u001b[0m\u001b[0mantonyms\u001b[0m\u001b[0;34m(\u001b[0m\u001b[0;34m)\u001b[0m\u001b[0;34m\u001b[0m\u001b[0;34m\u001b[0m\u001b[0m\n\u001b[0m",
            "\u001b[0;31mAttributeError\u001b[0m: 'Synset' object has no attribute 'antonyms'"
          ]
        }
      ],
      "source": [
        "# This code should give an error given that we can't ask for an antonimus from a synonym, we should ask for it to the lemma\n",
        "# see below\n",
        "wn.synset(\"good.a.01\").antonyms()"
      ]
    },
    {
      "cell_type": "code",
      "execution_count": 12,
      "metadata": {
        "id": "Is3LsudEYzzF",
        "outputId": "ac5001fa-44d4-4797-c144-eb324cd36ccb",
        "colab": {
          "base_uri": "https://localhost:8080/"
        }
      },
      "outputs": [
        {
          "output_type": "execute_result",
          "data": {
            "text/plain": [
              "[Lemma('bad.a.01.bad')]"
            ]
          },
          "metadata": {},
          "execution_count": 12
        }
      ],
      "source": [
        "wn.lemma('good.a.01.good').antonyms()"
      ]
    },
    {
      "cell_type": "markdown",
      "metadata": {
        "id": "uWnymhvNYzzF"
      },
      "source": [
        "## Hypernyms and Hyponyms\n",
        "\n",
        "**Hypernym:** a more general concept\n",
        "\n",
        "**Hyponynm:** a more specific concept\n",
        "\n",
        "*hyper* - think \"higher\" like hyperactive is higher activity\n",
        "\n",
        "*hypo* - think \"lower\" like when you get hypothermia from being too cold"
      ]
    },
    {
      "cell_type": "code",
      "execution_count": 13,
      "metadata": {
        "id": "e-Itaz-PYzzG",
        "outputId": "fc39533f-1eee-4483-c611-99ec665d7e98",
        "colab": {
          "base_uri": "https://localhost:8080/"
        }
      },
      "outputs": [
        {
          "output_type": "stream",
          "name": "stdout",
          "text": [
            "[Synset('dog.n.01'), Synset('frump.n.01'), Synset('dog.n.03'), Synset('cad.n.01'), Synset('frank.n.02'), Synset('pawl.n.01'), Synset('andiron.n.01')]\n"
          ]
        }
      ],
      "source": [
        "print( wn.synsets(\"dog\", pos=wn.NOUN) ) # get only the noun synsets"
      ]
    },
    {
      "cell_type": "code",
      "execution_count": 14,
      "metadata": {
        "id": "zV4IytHOYzzG",
        "outputId": "4b8882a8-e1d4-4f25-d759-25c075f20bc0",
        "colab": {
          "base_uri": "https://localhost:8080/"
        }
      },
      "outputs": [
        {
          "output_type": "stream",
          "name": "stdout",
          "text": [
            "a member of the genus Canis (probably descended from the common wolf) that has been domesticated by man since prehistoric times; occurs in many breeds\n"
          ]
        }
      ],
      "source": [
        "dog = wn.synset('dog.n.01')\n",
        "print( dog.definition() )"
      ]
    },
    {
      "cell_type": "code",
      "execution_count": 15,
      "metadata": {
        "id": "FOPrNk16YzzG",
        "outputId": "2446d580-9965-4043-8fe5-c4085143e2d0",
        "colab": {
          "base_uri": "https://localhost:8080/"
        }
      },
      "outputs": [
        {
          "output_type": "stream",
          "name": "stdout",
          "text": [
            "Dog hypernyms: [Synset('canine.n.02'), Synset('domestic_animal.n.01')]\n",
            "Dog hyponyms: [Synset('basenji.n.01'), Synset('corgi.n.01'), Synset('cur.n.01'), Synset('dalmatian.n.02'), Synset('great_pyrenees.n.01'), Synset('griffon.n.02'), Synset('hunting_dog.n.01'), Synset('lapdog.n.01'), Synset('leonberg.n.01'), Synset('mexican_hairless.n.01'), Synset('newfoundland.n.01'), Synset('pooch.n.01'), Synset('poodle.n.01'), Synset('pug.n.01'), Synset('puppy.n.01'), Synset('spitz.n.01'), Synset('toy_dog.n.01'), Synset('working_dog.n.01')]\n"
          ]
        }
      ],
      "source": [
        "print(\"Dog hypernyms:\", dog.hypernyms())\n",
        "print(\"Dog hyponyms:\", dog.hyponyms())"
      ]
    },
    {
      "cell_type": "markdown",
      "metadata": {
        "id": "vBNqRizSYzzG"
      },
      "source": [
        "## Group Exercise\n",
        "\n",
        "Write a loop to print out all the hypernym levels of a given synset - for example\n",
        "\n",
        "dog.n.01\n",
        "\n",
        "canine.n.02\n",
        "\n",
        "carnivore.n.01\n",
        "\n",
        "...\n",
        "\n",
        "You can just choose the first hypernym in the list of hypernyms"
      ]
    },
    {
      "cell_type": "markdown",
      "metadata": {
        "id": "bU4v3x1JYzzG"
      },
      "source": [
        "## Similarity\n",
        "\n",
        "WordNet provides several different kinds of similarity metrics to help you calculate how similar two word senses are.\n",
        "\n",
        "`path_similarity` tells you how close they are based on hypernum/hyponym relationships\n",
        "* 0 means unrelated\n",
        "* 1 means they're the same word sense"
      ]
    },
    {
      "cell_type": "markdown",
      "metadata": {
        "id": "loO4SgyVYzzG"
      },
      "source": [
        "For example, notice that `dog.n.01` and `wolf.n.01` are both hyponyms of `canine.n.02`"
      ]
    },
    {
      "cell_type": "code",
      "execution_count": 16,
      "metadata": {
        "id": "QUCueduwYzzG",
        "outputId": "667e92d7-c77c-4b64-c98d-a5a6a42b482c",
        "colab": {
          "base_uri": "https://localhost:8080/"
        }
      },
      "outputs": [
        {
          "output_type": "execute_result",
          "data": {
            "text/plain": [
              "[Synset('bitch.n.04'),\n",
              " Synset('dog.n.01'),\n",
              " Synset('fox.n.01'),\n",
              " Synset('hyena.n.01'),\n",
              " Synset('jackal.n.01'),\n",
              " Synset('wild_dog.n.01'),\n",
              " Synset('wolf.n.01')]"
            ]
          },
          "metadata": {},
          "execution_count": 16
        }
      ],
      "source": [
        "wn.synset(\"canine.n.02\").hyponyms()"
      ]
    },
    {
      "cell_type": "markdown",
      "metadata": {
        "id": "zlCxK3baYzzG"
      },
      "source": [
        "Let's calculate some similarities"
      ]
    },
    {
      "cell_type": "markdown",
      "metadata": {
        "id": "OsXSiDjbYzzG"
      },
      "source": [
        "dog = wn.synset('dog.n.01')\n",
        "wolf = wn.synset('wolf.n.01')\n",
        "canine = wn.synset('canine.n.02')\n",
        "parrot = wn.synset('parrot.n.01')\n",
        "cheese = wn.synset('cheese.n.01')\n",
        "fly_n = wn.synset('fly.n.01')\n",
        "fly_v = wn.synset('fly.v.01')\n",
        "\n",
        "print(\"dog-canine:\", dog.path_similarity(canine))\n",
        "print(\"dog-wolf:\", dog.path_similarity(wolf))\n",
        "print(\"dog-dog:\", dog.path_similarity(dog))\n",
        "print(\"dog-parrot:\", dog.path_similarity(parrot))\n",
        "print(\"dog-cheese:\", dog.path_similarity(cheese))\n",
        "print(\"dog-fly.n:\", dog.path_similarity(fly_n))\n",
        "print(\"dog-fly.v:\", dog.path_similarity(fly_v))"
      ]
    },
    {
      "cell_type": "markdown",
      "metadata": {
        "id": "D5EI0qQVYzzG"
      },
      "source": [
        "## Group Exercise\n",
        "\n",
        "Write a program that takes two words as input and displays the word definitions corresponding to the closest similarity among all of those words' senses."
      ]
    },
    {
      "cell_type": "markdown",
      "metadata": {
        "id": "CppR56ZZYzzG"
      },
      "source": [
        "## Meronyms/Holonyms and Entailment\n",
        "\n",
        "**Holonyms:** denotes membership or parts of something else\n",
        "\n",
        "**Meronym:** denotes thing with members or parts\n",
        "\n",
        "**Entailments:** implies something else"
      ]
    },
    {
      "cell_type": "code",
      "execution_count": 17,
      "metadata": {
        "id": "xDiFTmzqYzzG",
        "outputId": "a93626d5-3ab8-451b-8a12-6d8ab149a55f",
        "colab": {
          "base_uri": "https://localhost:8080/"
        }
      },
      "outputs": [
        {
          "output_type": "stream",
          "name": "stdout",
          "text": [
            "[Synset('canis.n.01'), Synset('pack.n.06')]\n",
            "[Synset('dog.n.01'), Synset('hound.n.01')]\n",
            "[Synset('corn.n.01')]\n",
            "[Synset('corn.n.03'), Synset('corncob.n.01'), Synset('cornstalk.n.01'), Synset('ear.n.05')]\n",
            "[Synset('chew.v.01'), Synset('swallow.v.01')]\n"
          ]
        }
      ],
      "source": [
        "print( wn.synset('dog.n.01').member_holonyms() )\n",
        "print( wn.synset('pack.n.06').member_meronyms() )\n",
        "\n",
        "print( wn.synset(\"corncob.n.01\").part_holonyms() )\n",
        "print( wn.synset(\"corn.n.01\").part_meronyms() )\n",
        "\n",
        "print( wn.synset(\"eat.v.01\").entailments() )"
      ]
    },
    {
      "cell_type": "markdown",
      "metadata": {
        "id": "EW-55YU9YzzG"
      },
      "source": [
        "## Applied Exploration\n",
        "\n",
        "To get Applied Exploration credit for this workshop, complete all of the group exercises with good programming practices (include comments, well-written functions, etc.). Test your code out on several different examples and include written descriptions of the results."
      ]
    },
    {
      "cell_type": "markdown",
      "metadata": {
        "id": "1GM0H6CRYzzH"
      },
      "source": [
        "## Small Project Prototype Idea\n",
        "\n",
        "Use WordNet to make a word game that takes advantages of the relationships present in the database. For example, generate possible words sets for Connections.\n",
        "\n",
        "<div>\n",
        "    <table><tr>\n",
        "        <td><img src=\"https://github.com/ericmanley/f23-CS195NLP/blob/main/images/connections1.png?raw=1\" width=500></td>\n",
        "        <td><img src=\"https://github.com/ericmanley/f23-CS195NLP/blob/main/images/connections2.png?raw=1\" width=500></td>\n",
        "    </tr></table>\n",
        "</div>"
      ]
    }
  ],
  "metadata": {
    "celltoolbar": "Slideshow",
    "colab": {
      "provenance": [],
      "include_colab_link": true
    },
    "kernelspec": {
      "display_name": "Python 3 (ipykernel)",
      "language": "python",
      "name": "python3"
    },
    "language_info": {
      "codemirror_mode": {
        "name": "ipython",
        "version": 3
      },
      "file_extension": ".py",
      "mimetype": "text/x-python",
      "name": "python",
      "nbconvert_exporter": "python",
      "pygments_lexer": "ipython3",
      "version": "3.10.6"
    }
  },
  "nbformat": 4,
  "nbformat_minor": 0
}