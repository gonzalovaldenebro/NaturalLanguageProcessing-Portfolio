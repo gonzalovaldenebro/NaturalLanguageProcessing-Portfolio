{
  "cells": [
    {
      "cell_type": "markdown",
      "metadata": {
        "colab_type": "text",
        "id": "view-in-github"
      },
      "source": [
        "<a href=\"https://colab.research.google.com/github/gonzalovaldenebro/NaturalLanguageProcessing-Portfolio/blob/main/F2_4_MarkovModels.ipynb\" target=\"_parent\"><img src=\"https://colab.research.google.com/assets/colab-badge.svg\" alt=\"Open In Colab\"/></a>"
      ]
    },
    {
      "cell_type": "markdown",
      "metadata": {
        "id": "C192SOmJS6lw"
      },
      "source": [
        "# CS 195: Natural Language Processing\n",
        "## Markov Models\n",
        "\n",
        "[![Open In Colab](https://colab.research.google.com/assets/colab-badge.svg)](https://colab.research.google.com/github/ericmanley/f23-CS195NLP/blob/main/F2_4_MarkovModels.ipynb)\n"
      ]
    },
    {
      "cell_type": "markdown",
      "metadata": {
        "id": "ex1EZDhGcH14"
      },
      "source": [
        "## References\n",
        "\n",
        "Markov chain on Wikipedia: https://en.wikipedia.org/wiki/Markov_chain\n",
        "\n",
        "NLTK Book Chapter 2: Accessing Text Corpora and Lexical Resources https://www.nltk.org/book/ch02.html\n",
        "\n",
        "What is ChatGPT Doing and Why Does it Work? By Stephen Wolfram: https://writings.stephenwolfram.com/2023/02/what-is-chatgpt-doing-and-why-does-it-work/\n",
        "* This is a fascinating article that covers a lot of NLP topics. The opening motivates text generation with Markov-like descriptions."
      ]
    },
    {
      "cell_type": "code",
      "execution_count": 1,
      "metadata": {
        "id": "ordyogSYcH15"
      },
      "outputs": [],
      "source": [
        "#you shouldn't need to do this in Colab, but I had to do it on my own machine\n",
        "#in order to connect to the nltk service\n",
        "import nltk\n",
        "import ssl\n",
        "\n",
        "try:\n",
        "    _create_unverified_https_context = ssl._create_unverified_context\n",
        "except AttributeError:\n",
        "    pass\n",
        "else:\n",
        "    ssl._create_default_https_context = _create_unverified_https_context\n"
      ]
    },
    {
      "cell_type": "markdown",
      "metadata": {
        "id": "AWH9Ae4icH15"
      },
      "source": [
        "## Andrey Andreyevich Markov\n",
        "\n",
        "<div>\n",
        "<img src=\"https://github.com/ericmanley/f23-CS195NLP/blob/main/images/Andrei_Markov.jpg?raw=1\" width=\"200\"/>\n",
        "</div>\n",
        "\n",
        "image source: https://en.wikipedia.org/wiki/Andrey_Markov"
      ]
    },
    {
      "cell_type": "markdown",
      "metadata": {
        "id": "45DxPGAccH15"
      },
      "source": [
        "## Markov Chain\n",
        "\n",
        "A **Markov Chain** describes a sequence of possible events and the probabilities of transitioning from one event state to another.\n",
        "\n",
        "It can be applied to text - what is the probability that one word follows another?\n",
        "\n",
        "Here is a diagram which corresponds to this text:\n",
        "\n",
        "`\"I code when I am happy. I am happy therefore I code.\"`\n",
        "\n",
        "<div>\n",
        "<img src=\"https://github.com/ericmanley/f23-CS195NLP/blob/main/images/happy_markov_model.png?raw=1\"/>\n",
        "</div>\n"
      ]
    },
    {
      "cell_type": "markdown",
      "metadata": {
        "id": "vVko7BlAcH16"
      },
      "source": [
        "## Shakespeare Example\n",
        "\n",
        "To be, or not to be, that is the question:\n",
        "Whether 'tis nobler in the mind to suffer\n",
        "The slings and arrows of outrageous fortune,\n",
        "Or to take Arms against a Sea of troubles\n",
        "\n",
        "<div>\n",
        "<img src=\"https://github.com/ericmanley/f23-CS195NLP/blob/main/images/to_be_markov_model.png?raw=1\"/>\n",
        "</div>\n",
        "\n",
        "Transitions here are shown as frequencies instead of probabilities.\n",
        "\n"
      ]
    },
    {
      "cell_type": "markdown",
      "metadata": {
        "id": "3jBoCo9ycH16"
      },
      "source": [
        "## Demo: Let's see how we can construct the model for this text\n",
        "\n",
        "`\"I code when I am happy. I am happy therefore I code.\"`"
      ]
    },
    {
      "cell_type": "markdown",
      "metadata": {
        "id": "KViJ4srVcH16"
      },
      "source": [
        "We want to represent this model in a data structure - could use 2D-list/matrix or a nested dictionary\n",
        "\n",
        "Nested dictionary representation\n",
        "\n",
        "\n",
        "`{\n",
        " 'I': {'am': 2, 'code': 2},\n",
        " 'code': {'.': 1, 'when': 1},\n",
        " 'when': {'I': 1}\n",
        " 'am': {'happy': 2},\n",
        " 'happy': {'.': 1, 'therefore': 1},\n",
        " 'therefore': {'I': 1},\n",
        " '.': {'I': 1},\n",
        "}`\n"
      ]
    },
    {
      "cell_type": "markdown",
      "metadata": {
        "id": "Wx1AAxpzcH16"
      },
      "source": [
        "## Digression: Let's talk about those dictionaries\n",
        "\n",
        "\n",
        "We could use a regular ol dictionary for this. But if you want to use a dictionary to count how many times you see a word, there's something that is kind of annoying about them:\n"
      ]
    },
    {
      "cell_type": "code",
      "execution_count": 2,
      "metadata": {
        "colab": {
          "base_uri": "https://localhost:8080/",
          "height": 211
        },
        "id": "WMV4aKkAcH16",
        "outputId": "0474fbcb-954c-45b0-8f69-bc7382311373"
      },
      "outputs": [
        {
          "ename": "KeyError",
          "evalue": "ignored",
          "output_type": "error",
          "traceback": [
            "\u001b[0;31m---------------------------------------------------------------------------\u001b[0m",
            "\u001b[0;31mKeyError\u001b[0m                                  Traceback (most recent call last)",
            "\u001b[0;32m<ipython-input-2-b9d817bc64e5>\u001b[0m in \u001b[0;36m<cell line: 5>\u001b[0;34m()\u001b[0m\n\u001b[1;32m      3\u001b[0m \u001b[0;31m#...\u001b[0m\u001b[0;34m\u001b[0m\u001b[0;34m\u001b[0m\u001b[0m\n\u001b[1;32m      4\u001b[0m \u001b[0;31m# I saw \"chicken\", so let's add on to the \"chicken\" counter\u001b[0m\u001b[0;34m\u001b[0m\u001b[0;34m\u001b[0m\u001b[0m\n\u001b[0;32m----> 5\u001b[0;31m \u001b[0mregular_dict\u001b[0m\u001b[0;34m[\u001b[0m\u001b[0;34m\"chicken\"\u001b[0m\u001b[0;34m]\u001b[0m \u001b[0;34m+=\u001b[0m \u001b[0;36m1\u001b[0m\u001b[0;34m\u001b[0m\u001b[0;34m\u001b[0m\u001b[0m\n\u001b[0m",
            "\u001b[0;31mKeyError\u001b[0m: 'chicken'"
          ]
        }
      ],
      "source": [
        "regular_dict = {}\n",
        "\n",
        "#...\n",
        "# I saw \"chicken\", so let's add on to the \"chicken\" counter\n",
        "regular_dict[\"chicken\"] += 1"
      ]
    },
    {
      "cell_type": "markdown",
      "metadata": {
        "id": "sUg6lLF2cH17"
      },
      "source": [
        "but it might not already be in the dictionary, so you have to do something like this:"
      ]
    },
    {
      "cell_type": "code",
      "execution_count": 1,
      "metadata": {
        "colab": {
          "base_uri": "https://localhost:8080/",
          "height": 246
        },
        "id": "AFKxquJncH17",
        "outputId": "1b604160-b331-48a7-ffd9-3f5ed9444b5b"
      },
      "outputs": [
        {
          "ename": "NameError",
          "evalue": "ignored",
          "output_type": "error",
          "traceback": [
            "\u001b[0;31m---------------------------------------------------------------------------\u001b[0m",
            "\u001b[0;31mNameError\u001b[0m                                 Traceback (most recent call last)",
            "\u001b[0;32m<ipython-input-1-fe6dc7045501>\u001b[0m in \u001b[0;36m<cell line: 1>\u001b[0;34m()\u001b[0m\n\u001b[0;32m----> 1\u001b[0;31m \u001b[0;32mif\u001b[0m \u001b[0;34m\"chicken\"\u001b[0m \u001b[0;32min\u001b[0m \u001b[0mregular_dict\u001b[0m\u001b[0;34m:\u001b[0m\u001b[0;34m\u001b[0m\u001b[0;34m\u001b[0m\u001b[0m\n\u001b[0m\u001b[1;32m      2\u001b[0m     \u001b[0mregular_dict\u001b[0m\u001b[0;34m[\u001b[0m\u001b[0;34m\"chicken\"\u001b[0m\u001b[0;34m]\u001b[0m \u001b[0;34m+=\u001b[0m \u001b[0;36m1\u001b[0m\u001b[0;34m\u001b[0m\u001b[0;34m\u001b[0m\u001b[0m\n\u001b[1;32m      3\u001b[0m \u001b[0;32melse\u001b[0m\u001b[0;34m:\u001b[0m\u001b[0;34m\u001b[0m\u001b[0;34m\u001b[0m\u001b[0m\n\u001b[1;32m      4\u001b[0m     \u001b[0mregular_dict\u001b[0m\u001b[0;34m[\u001b[0m\u001b[0;34m\"chicken\"\u001b[0m\u001b[0;34m]\u001b[0m \u001b[0;34m=\u001b[0m \u001b[0;36m1\u001b[0m\u001b[0;34m\u001b[0m\u001b[0;34m\u001b[0m\u001b[0m\n\u001b[1;32m      5\u001b[0m \u001b[0;34m\u001b[0m\u001b[0m\n",
            "\u001b[0;31mNameError\u001b[0m: name 'regular_dict' is not defined"
          ]
        }
      ],
      "source": [
        "if \"chicken\" in regular_dict:\n",
        "    regular_dict[\"chicken\"] += 1\n",
        "else:\n",
        "    regular_dict[\"chicken\"] = 1\n",
        "\n",
        "print(regular_dict[\"chicken\"])"
      ]
    },
    {
      "cell_type": "markdown",
      "metadata": {
        "id": "W90PSuKjcH17"
      },
      "source": [
        "It would be great if it just assumed a missing value was 0 instead of throwing an error!\n",
        "\n",
        "That's what a `defaultdict` does:"
      ]
    },
    {
      "cell_type": "code",
      "execution_count": 3,
      "metadata": {
        "colab": {
          "base_uri": "https://localhost:8080/"
        },
        "id": "pzjm-z0UcH17",
        "outputId": "a18a55f3-684f-4de2-cd93-1a2b945aa42a"
      },
      "outputs": [
        {
          "name": "stdout",
          "output_type": "stream",
          "text": [
            "1\n"
          ]
        }
      ],
      "source": [
        "from collections import defaultdict\n",
        "\n",
        "my_ddict = defaultdict(int) #we're going to put ints in there - this tells it to make 0 the default\n",
        "\n",
        "my_ddict[\"chicken\"] += 1\n",
        "\n",
        "print(my_ddict[\"chicken\"])"
      ]
    },
    {
      "cell_type": "markdown",
      "metadata": {
        "id": "sTP2kvvRcH17"
      },
      "source": [
        "*👍*"
      ]
    },
    {
      "cell_type": "markdown",
      "metadata": {
        "id": "LOIYqFfYcH17"
      },
      "source": [
        "## Training a Markov Model\n",
        "\n",
        "Before we start training our model, let's make a list the **tokens** - all of the words, punctuation, and other things we want to be the states of the model.\n",
        "\n",
        "You can use the string `split` method for this:\n"
      ]
    },
    {
      "cell_type": "code",
      "execution_count": 4,
      "metadata": {
        "colab": {
          "base_uri": "https://localhost:8080/"
        },
        "id": "S2G__rBccH17",
        "outputId": "7ef6c997-4e29-44ee-987f-41aa81e5eae5"
      },
      "outputs": [
        {
          "name": "stdout",
          "output_type": "stream",
          "text": [
            "['I', 'code', 'when', 'I', 'am', 'happy', '.', 'I', 'am', 'happy', 'therefore', 'I', 'code', '.']\n"
          ]
        }
      ],
      "source": [
        "text = \"I code when I am happy . I am happy therefore I code . \"\n",
        "text_tokens = text.split()\n",
        "\n",
        "print(text_tokens)"
      ]
    },
    {
      "cell_type": "markdown",
      "metadata": {
        "id": "cigJghVdcH17"
      },
      "source": [
        "Now let's build the model using this list"
      ]
    },
    {
      "cell_type": "code",
      "execution_count": 5,
      "metadata": {
        "colab": {
          "base_uri": "https://localhost:8080/"
        },
        "id": "krVz7LTGcH18",
        "outputId": "3a91f411-80e9-46ae-9d9b-9468171698eb"
      },
      "outputs": [
        {
          "name": "stdout",
          "output_type": "stream",
          "text": [
            "defaultdict(<function <lambda> at 0x7b0080e6b880>,\n",
            "            {'.': defaultdict(<class 'int'>, {'I': 1}),\n",
            "             'I': defaultdict(<class 'int'>, {'code': 2, 'am': 2}),\n",
            "             'am': defaultdict(<class 'int'>, {'happy': 2}),\n",
            "             'code': defaultdict(<class 'int'>, {'when': 1, '.': 1}),\n",
            "             'happy': defaultdict(<class 'int'>, {'.': 1, 'therefore': 1}),\n",
            "             'therefore': defaultdict(<class 'int'>, {'I': 1}),\n",
            "             'when': defaultdict(<class 'int'>, {'I': 1})})\n"
          ]
        }
      ],
      "source": [
        "from collections import defaultdict\n",
        "from pprint import pprint\n",
        "\n",
        "# this is our dictionary of dictionaries -\n",
        "# lambda: defaultdict(int) just means I want a bunch of defaultdicts of ints\n",
        "transition_counts = defaultdict(lambda: defaultdict(int))\n",
        "\n",
        "for idx in range(len(text_tokens)-1):\n",
        "    current_token = text_tokens[idx]\n",
        "    next_token = text_tokens[idx+1]\n",
        "    transition_counts[current_token][next_token] += 1\n",
        "\n",
        "\n",
        "pprint(transition_counts)"
      ]
    },
    {
      "cell_type": "markdown",
      "metadata": {
        "id": "AKjxB75VcH18"
      },
      "source": [
        "## Let's make this into a function\n",
        "\n",
        "I'll call the list of tokens **corpus** - which is another word for a body of text you use to train a model\n"
      ]
    },
    {
      "cell_type": "code",
      "execution_count": 6,
      "metadata": {
        "colab": {
          "base_uri": "https://localhost:8080/"
        },
        "id": "4KrJLjHwcH18",
        "outputId": "02e8e52e-49a0-4b07-ef43-dcbc49f3ecd0"
      },
      "outputs": [
        {
          "name": "stdout",
          "output_type": "stream",
          "text": [
            "defaultdict(<function train_markov_model.<locals>.<lambda> at 0x7b0080dd5b40>,\n",
            "            {\"'tis\": defaultdict(<class 'int'>, {'nobler': 1}),\n",
            "             ',': defaultdict(<class 'int'>, {'or': 2, 'that': 1}),\n",
            "             ':': defaultdict(<class 'int'>, {'whether': 1}),\n",
            "             'a': defaultdict(<class 'int'>, {'sea': 1}),\n",
            "             'against': defaultdict(<class 'int'>, {'a': 1}),\n",
            "             'and': defaultdict(<class 'int'>, {'arrows': 1}),\n",
            "             'arms': defaultdict(<class 'int'>, {'against': 1}),\n",
            "             'arrows': defaultdict(<class 'int'>, {'of': 1}),\n",
            "             'be': defaultdict(<class 'int'>, {',': 2}),\n",
            "             'fortune': defaultdict(<class 'int'>, {',': 1}),\n",
            "             'in': defaultdict(<class 'int'>, {'the': 1}),\n",
            "             'is': defaultdict(<class 'int'>, {'the': 1}),\n",
            "             'mind': defaultdict(<class 'int'>, {'to': 1}),\n",
            "             'nobler': defaultdict(<class 'int'>, {'in': 1}),\n",
            "             'not': defaultdict(<class 'int'>, {'to': 1}),\n",
            "             'of': defaultdict(<class 'int'>, {'outrageous': 1, 'troubles': 1}),\n",
            "             'or': defaultdict(<class 'int'>, {'not': 1, 'to': 1}),\n",
            "             'outrageous': defaultdict(<class 'int'>, {'fortune': 1}),\n",
            "             'question': defaultdict(<class 'int'>, {':': 1}),\n",
            "             'sea': defaultdict(<class 'int'>, {'of': 1}),\n",
            "             'slings': defaultdict(<class 'int'>, {'and': 1}),\n",
            "             'suffer': defaultdict(<class 'int'>, {'the': 1}),\n",
            "             'take': defaultdict(<class 'int'>, {'arms': 1}),\n",
            "             'that': defaultdict(<class 'int'>, {'is': 1}),\n",
            "             'the': defaultdict(<class 'int'>,\n",
            "                                {'mind': 1,\n",
            "                                 'question': 1,\n",
            "                                 'slings': 1}),\n",
            "             'to': defaultdict(<class 'int'>,\n",
            "                               {'be': 2,\n",
            "                                'suffer': 1,\n",
            "                                'take': 1}),\n",
            "             'troubles': defaultdict(<class 'int'>, {',': 1}),\n",
            "             'whether': defaultdict(<class 'int'>, {\"'tis\": 1})})\n"
          ]
        }
      ],
      "source": [
        "def train_markov_model(corpus):\n",
        "    # this is our dictionary of dictionaries -\n",
        "    # lambda: defaultdict(int) just means I want a bunch of defaultdicts of ints\n",
        "    transition_counts = defaultdict(lambda: defaultdict(int))\n",
        "\n",
        "    for idx in range(len(corpus)-1):\n",
        "        current_token = corpus[idx]\n",
        "        next_token = corpus[idx+1]\n",
        "        transition_counts[current_token][next_token] += 1\n",
        "\n",
        "    return transition_counts\n",
        "\n",
        "to_be = \"To be , or not to be , that is the question : Whether 'tis nobler in the mind to suffer The slings and arrows of outrageous fortune , Or to take Arms against a Sea of troubles ,\"\n",
        "to_be_tokens = to_be.lower().split() #convert to lowercase and break apart by spaces into a list\n",
        "to_be_model = train_markov_model(to_be_tokens)\n",
        "\n",
        "pprint(to_be_model)"
      ]
    },
    {
      "cell_type": "markdown",
      "metadata": {
        "id": "oPpj5mAhcH18"
      },
      "source": [
        "## How can we use this model?\n",
        "\n",
        "We could now make a prediction about the next word in a sequence - like predictive text keyboards\n",
        "\n",
        "<div>\n",
        "<img src=\"https://github.com/ericmanley/f23-CS195NLP/blob/main/images/predictive_text.png?raw=1\"/ width=300>\n",
        "</div>"
      ]
    },
    {
      "cell_type": "markdown",
      "metadata": {
        "id": "VaO-aReVcH18"
      },
      "source": [
        "### How can we generate a good random *next* word after \"to\"\n",
        "\n",
        "Notice this part of the model:\n",
        "\n",
        "`\n",
        "'to': defaultdict(<class 'int'>,\n",
        "    {'be': 2,\n",
        "    'suffer': 1,\n",
        "    'take': 1}),\n",
        "`\n",
        "\n",
        "So when we see \"to\", we could\n",
        "* always predict \"be\"\n",
        "* randomly predict based on these possibilities\n",
        "    * generate a random int between 1 and 4\n",
        "        - 1: predict \"be\"\n",
        "        - 2: predict \"be\"\n",
        "        - 3: predict \"suffer\"\n",
        "        - 4: predict \"take\"\n",
        "    * words that appear after \"to\" more often a picked more often\n",
        "    * generates more interesting text than always picking the highest-ranked choice"
      ]
    },
    {
      "cell_type": "markdown",
      "metadata": {
        "id": "3BxtDEeVcH18"
      },
      "source": [
        "### coding it up"
      ]
    },
    {
      "cell_type": "code",
      "execution_count": 7,
      "metadata": {
        "colab": {
          "base_uri": "https://localhost:8080/"
        },
        "id": "mYM2tA65cH18",
        "outputId": "0036f539-81b5-49c0-88e2-b2ef9f3c059d"
      },
      "outputs": [
        {
          "name": "stdout",
          "output_type": "stream",
          "text": [
            "suffer\n",
            "be\n",
            "suffer\n",
            "be\n",
            "be\n",
            "suffer\n",
            "be\n",
            "suffer\n",
            "be\n",
            "suffer\n"
          ]
        }
      ],
      "source": [
        "import random\n",
        "\n",
        "def generate_random_next_word(current_word, transition_counts):\n",
        "    #get the frequency of all words that come after current_word\n",
        "    possible_words_counts = transition_counts[current_word]\n",
        "    #print(possible_words_counts)\n",
        "    #count up the total of all words that come after current_word\n",
        "    total_occurrences = sum(possible_words_counts.values())\n",
        "\n",
        "    #print(total_occurrences)\n",
        "    #we are going to select one occurence randomly\n",
        "    random_num = random.randint(1,total_occurrences)\n",
        "\n",
        "    #print(\"random number generated:\", random_num)\n",
        "\n",
        "    #subtract words counts from our random number until we hit 0\n",
        "    #this will hit more frequent words proportionally more often\n",
        "    for word in possible_words_counts:\n",
        "        random_num = random_num - possible_words_counts[word]\n",
        "        if random_num <= 0:\n",
        "            return word\n",
        "\n",
        "print( generate_random_next_word(\"to\",to_be_model)  )\n",
        "print( generate_random_next_word(\"to\",to_be_model)  )\n",
        "print( generate_random_next_word(\"to\",to_be_model)  )\n",
        "print( generate_random_next_word(\"to\",to_be_model)  )\n",
        "print( generate_random_next_word(\"to\",to_be_model)  )\n",
        "print( generate_random_next_word(\"to\",to_be_model)  )\n",
        "print( generate_random_next_word(\"to\",to_be_model)  )\n",
        "print( generate_random_next_word(\"to\",to_be_model)  )\n",
        "print( generate_random_next_word(\"to\",to_be_model)  )\n",
        "print( generate_random_next_word(\"to\",to_be_model)  )"
      ]
    },
    {
      "cell_type": "markdown",
      "metadata": {
        "id": "lQuwFaZPcH18"
      },
      "source": [
        "## Generating a whole bunch of text\n",
        "\n",
        "Now we can write a function that successively calls `generate_random_next_word` to generate a whole sequence of words"
      ]
    },
    {
      "cell_type": "code",
      "execution_count": 8,
      "metadata": {
        "colab": {
          "base_uri": "https://localhost:8080/"
        },
        "id": "JleSniS0cH18",
        "outputId": "068ae015-a407-41ed-f714-5b56eac1ad23"
      },
      "outputs": [
        {
          "name": "stdout",
          "output_type": "stream",
          "text": [
            "to suffer the slings and arrows of outrageous fortune , or not to suffer the question : whether 'tis nobler in the question : whether 'tis nobler in the slings and \n"
          ]
        }
      ],
      "source": [
        "def generate_text(num,start_word,model):\n",
        "    #a running string to build on with random words\n",
        "    markov_text = start_word + \" \"\n",
        "    curr_word = start_word\n",
        "\n",
        "    #add num random words onto our running string\n",
        "    for n in range(num):\n",
        "        curr_word = generate_random_next_word(curr_word,model)\n",
        "        markov_text += curr_word\n",
        "        markov_text += \" \"\n",
        "\n",
        "    return markov_text\n",
        "\n",
        "print( generate_text(30, \"to\", to_be_model) )"
      ]
    },
    {
      "cell_type": "markdown",
      "metadata": {
        "id": "sXgRJXSPcH18"
      },
      "source": [
        "This text superficially looks like the training text, but it is nonsense.\n",
        "\n",
        "Two ways you can improve it:\n",
        "1. Train it with more text\n",
        "2. Use more than one word to predict the next word - needs to see lots of examples"
      ]
    },
    {
      "cell_type": "markdown",
      "metadata": {
        "id": "DPom6NXIcH18"
      },
      "source": [
        "## Putting it all together\n"
      ]
    },
    {
      "cell_type": "code",
      "execution_count": 9,
      "metadata": {
        "colab": {
          "base_uri": "https://localhost:8080/"
        },
        "id": "uCfx2M5tcH18",
        "outputId": "b88f938a-1dd6-4d8d-d1b6-59350a029b1d"
      },
      "outputs": [
        {
          "name": "stdout",
          "output_type": "stream",
          "text": [
            "{\"'tis\": {'nobler': 1},\n",
            " ',': {'or': 2, 'that': 1},\n",
            " ':': {'whether': 1},\n",
            " 'a': {'sea': 1},\n",
            " 'against': {'a': 1},\n",
            " 'and': {'arrows': 1},\n",
            " 'arms': {'against': 1},\n",
            " 'arrows': {'of': 1},\n",
            " 'be': {',': 2},\n",
            " 'fortune': {',': 1},\n",
            " 'in': {'the': 1},\n",
            " 'is': {'the': 1},\n",
            " 'mind': {'to': 1},\n",
            " 'nobler': {'in': 1},\n",
            " 'not': {'to': 1},\n",
            " 'of': {'outrageous': 1, 'troubles': 1},\n",
            " 'or': {'not': 1, 'to': 1},\n",
            " 'outrageous': {'fortune': 1},\n",
            " 'question': {':': 1},\n",
            " 'sea': {'of': 1},\n",
            " 'slings': {'and': 1},\n",
            " 'suffer': {'the': 1},\n",
            " 'take': {'arms': 1},\n",
            " 'that': {'is': 1},\n",
            " 'the': {'mind': 1, 'question': 1, 'slings': 1},\n",
            " 'to': {'be': 2, 'suffer': 1, 'take': 1},\n",
            " 'whether': {\"'tis\": 1}}\n"
          ]
        }
      ],
      "source": [
        "from nltk.corpus import gutenberg\n",
        "from collections import defaultdict\n",
        "import networkx as nx\n",
        "import matplotlib.pyplot as plt\n",
        "import random\n",
        "from pprint import pformat\n",
        "\n",
        "class MarkovModel:\n",
        "\n",
        "    def __init__(self):\n",
        "        # empty nested dictionary mapping words to words to ints\n",
        "        self.transition_counts = defaultdict(lambda: defaultdict(int))\n",
        "\n",
        "    def train(self,corpus):\n",
        "        #loop through each word in the corpus record the next word\n",
        "        #in its frequency dictionary\n",
        "        for idx in range(len(corpus)-1):\n",
        "            current_token = corpus[idx]\n",
        "            next_token = corpus[idx+1]\n",
        "            self.transition_counts[current_token][next_token] += 1\n",
        "\n",
        "    def generate_random_next_word(self,current_word):\n",
        "        #get the frequency of all words that come after current_word\n",
        "        possible_words_counts = self.transition_counts[current_word]\n",
        "        #count up the total of all words that come after current_word\n",
        "        total_occurrences = sum(possible_words_counts.values())\n",
        "\n",
        "        #we are going to select one occurence randomly\n",
        "        random_num = random.randint(1,total_occurrences)\n",
        "\n",
        "        #subtract words counts from our random number until we hit 0\n",
        "        #this will hit more frequent words proportionally more often\n",
        "        for word in possible_words_counts:\n",
        "            random_num = random_num - possible_words_counts[word]\n",
        "            if random_num <= 0:\n",
        "                return word\n",
        "\n",
        "    def generate_text(self,num=100,start_word = \"I\"):\n",
        "        #a running string to build on with random words\n",
        "        markov_text = start_word + \" \"\n",
        "        curr_word = start_word\n",
        "\n",
        "        #add num random words onto our running string\n",
        "        for n in range(num):\n",
        "            curr_word = self.generate_random_next_word(curr_word)\n",
        "            markov_text += curr_word\n",
        "            markov_text += \" \"\n",
        "\n",
        "        return markov_text\n",
        "\n",
        "    def __str__(self):\n",
        "        # convert defaultdicts to dicts and format using the pprint formatter\n",
        "        return pformat({key:dict(self.transition_counts[key]) for key in self.transition_counts})\n",
        "\n",
        "    def visualize(self,probabilities=False,layout=nx.kamada_kawai_layout):\n",
        "        # use this method to generate visualizations of small models\n",
        "        # it will take too long on large texts - don't do it!\n",
        "        G = nx.DiGraph()\n",
        "\n",
        "        if probabilities:\n",
        "            transition_probabilities = defaultdict(dict)\n",
        "            for current_word, next_words in self.transition_counts.items():\n",
        "                total_occurrences = sum(next_words.values())\n",
        "                for next_word, count in next_words.items():\n",
        "                    transition_probabilities[current_word][next_word] = count / total_occurrences\n",
        "\n",
        "            for current_word, next_words in transition_probabilities.items():\n",
        "                for next_word, probability in next_words.items():\n",
        "                    G.add_edge(current_word, next_word, weight=probability)\n",
        "        else:\n",
        "            for current_word, next_words in self.transition_counts.items():\n",
        "                for next_word, count in next_words.items():\n",
        "                    G.add_edge(current_word, next_word, weight=count)\n",
        "\n",
        "        pos = layout(G)\n",
        "        edge_labels = {edge: f\"{G.edges[edge]['weight']}\" for edge in G.edges()}\n",
        "        nx.draw(G, pos, with_labels=True, node_size=500, node_color='lightblue', font_size=10)\n",
        "        nx.draw_networkx_edge_labels(G, pos, edge_labels=edge_labels)\n",
        "\n",
        "        plt.title(\"Markov Model Visualization\")\n",
        "        plt.show()\n",
        "\n",
        "to_be = \"To be , or not to be , that is the question : Whether 'tis nobler in the mind to suffer The slings and arrows of outrageous fortune , Or to take Arms against a Sea of troubles\"\n",
        "to_be_tokens = to_be.lower().split() #convert to lowercase and break apart by spaces into a list\n",
        "to_be_model = MarkovModel()\n",
        "to_be_model.train(to_be_tokens)\n",
        "\n",
        "print(to_be_model)"
      ]
    },
    {
      "cell_type": "markdown",
      "metadata": {
        "id": "Pux-NXsHcH19"
      },
      "source": [
        "## Downloading a corpus from the `nltk` library\n",
        "\n",
        "`nltk` is the Natural Language Toolkit - lots of great corpora, algorithms, and other resources\n",
        "\n",
        "They have a sample of free books from [Project Gutenberg](https://www.gutenberg.org/)\n",
        "\n",
        "You can find a list of the available corpora here: https://www.nltk.org/nltk_data/"
      ]
    },
    {
      "cell_type": "code",
      "execution_count": 10,
      "metadata": {
        "colab": {
          "base_uri": "https://localhost:8080/"
        },
        "id": "-UB-PTT6cH19",
        "outputId": "eb434ed1-3e18-4f58-d2de-c75dbe18c97f"
      },
      "outputs": [
        {
          "name": "stderr",
          "output_type": "stream",
          "text": [
            "[nltk_data] Downloading package gutenberg to /root/nltk_data...\n",
            "[nltk_data]   Unzipping corpora/gutenberg.zip.\n"
          ]
        },
        {
          "name": "stdout",
          "output_type": "stream",
          "text": [
            "['austen-emma.txt', 'austen-persuasion.txt', 'austen-sense.txt', 'bible-kjv.txt', 'blake-poems.txt', 'bryant-stories.txt', 'burgess-busterbrown.txt', 'carroll-alice.txt', 'chesterton-ball.txt', 'chesterton-brown.txt', 'chesterton-thursday.txt', 'edgeworth-parents.txt', 'melville-moby_dick.txt', 'milton-paradise.txt', 'shakespeare-caesar.txt', 'shakespeare-hamlet.txt', 'shakespeare-macbeth.txt', 'whitman-leaves.txt']\n"
          ]
        }
      ],
      "source": [
        "import nltk\n",
        "nltk.download('gutenberg') # you probably only need to do this once\n",
        "print( nltk.corpus.gutenberg.fileids() )"
      ]
    },
    {
      "cell_type": "markdown",
      "metadata": {
        "id": "lEtdU3ExcH19"
      },
      "source": [
        "Let's try Moby Dick"
      ]
    },
    {
      "cell_type": "code",
      "execution_count": 11,
      "metadata": {
        "colab": {
          "base_uri": "https://localhost:8080/"
        },
        "id": "uzqWC4EPcH19",
        "outputId": "02ce1509-3588-462a-a949-79368b911c31"
      },
      "outputs": [
        {
          "name": "stdout",
          "output_type": "stream",
          "text": [
            "['[', 'Moby', 'Dick', 'by', 'Herman', 'Melville', ...]\n"
          ]
        }
      ],
      "source": [
        "from nltk.corpus import gutenberg\n",
        "moby_dick = gutenberg.words('melville-moby_dick.txt')\n",
        "print(moby_dick)"
      ]
    },
    {
      "cell_type": "markdown",
      "metadata": {
        "id": "MRjGS3iWcH19"
      },
      "source": [
        "This will only print truncated output, but it's the whole book!\n",
        "\n",
        "This is a list of tokens - exactly what we need!"
      ]
    },
    {
      "cell_type": "code",
      "execution_count": null,
      "metadata": {
        "id": "Zi0_zC_8cH19"
      },
      "outputs": [],
      "source": [
        "model = MarkovModel()\n",
        "model.train(moby_dick)\n",
        "\n",
        "print(str(model)[:10000] )\n",
        "#print( model ) #uncomment to print the whole model"
      ]
    },
    {
      "cell_type": "code",
      "execution_count": 13,
      "metadata": {
        "colab": {
          "base_uri": "https://localhost:8080/"
        },
        "id": "PQgdg-fYcH19",
        "outputId": "0755fee2-103d-4494-b7c2-f9cdecc28435"
      },
      "outputs": [
        {
          "name": "stdout",
          "output_type": "stream",
          "text": [
            "I stood erect , as to the other like a Sabbath as vain remonstrating against fire ;-- and then the name indeed consorted at all those days elapsed , which my fiery pit , that Queequeg . And that fair - open . ' s turn we sleep when a ship . Nor is not ! must help us scrape the unaccountable masses of his hand belonged to seek can ' s howling than that the choice resulting from that weak souls ! I have hitherto rapidly straightened it that was the sea - rose to our low isle of the \n"
          ]
        }
      ],
      "source": [
        "print( model.generate_text(100,\"I\") )"
      ]
    },
    {
      "cell_type": "markdown",
      "metadata": {
        "id": "wlSSRGjzcH19"
      },
      "source": [
        "## Group Exercise\n",
        "\n",
        "Load some additional books and train the model with more than one book\n",
        "* call `model.train` multiple times\n",
        "\n",
        "**What kind of text does your model generate?:** The text that the model generates makes sense with the datesets it was trained on, but in real context it might not make a lot of sense."
      ]
    },
    {
      "cell_type": "code",
      "execution_count": 14,
      "metadata": {
        "colab": {
          "base_uri": "https://localhost:8080/"
        },
        "id": "stmakbjoqJEd",
        "outputId": "060b84c0-e1a2-4b2b-c2a4-e1a591f86fcb"
      },
      "outputs": [
        {
          "name": "stdout",
          "output_type": "stream",
          "text": [
            "['[', 'Emma', 'by', 'Jane', 'Austen', '1816', ']', ...]\n",
            "['[', 'Persuasion', 'by', 'Jane', 'Austen', '1818', ...]\n",
            "['[', 'Sense', 'and', 'Sensibility', 'by', 'Jane', ...]\n"
          ]
        }
      ],
      "source": [
        "from nltk.corpus import gutenberg\n",
        "austen_emma       = gutenberg.words('austen-emma.txt')\n",
        "austen_persuasion = gutenberg.words('austen-persuasion.txt')\n",
        "austen_sense      = gutenberg.words('austen-sense.txt')\n",
        "\n",
        "print(austen_emma)\n",
        "print(austen_persuasion)\n",
        "print(austen_sense)"
      ]
    },
    {
      "cell_type": "code",
      "execution_count": null,
      "metadata": {
        "id": "mPegL2L8qEIn"
      },
      "outputs": [],
      "source": [
        "model = MarkovModel()\n",
        "model.train(austen_emma)\n",
        "model.train(austen_persuasion)\n",
        "model.train(austen_sense)\n",
        "\n",
        "print(str(model)[:10000] )\n",
        "#print( model ) #uncomment to print the whole model"
      ]
    },
    {
      "cell_type": "code",
      "execution_count": 16,
      "metadata": {
        "colab": {
          "base_uri": "https://localhost:8080/"
        },
        "id": "hW3Z3_N7qBw6",
        "outputId": "e904b86a-118c-4c25-fb32-7e08888ab71b"
      },
      "outputs": [
        {
          "name": "stdout",
          "output_type": "stream",
          "text": [
            "I mentioned to stop at her complexion of doing something in motion have been indebted to him extremely well ; and said this treatment of the Cottage , like , she thinks just enough to be seen Marianne was not choose their party made her of being indifferent piece of water ; he proceeded to hear that she went , as might now irremediable , he was almost the rooms .-- Satisfied that I don ' s very great world of courtship , and herself , my guard with the knowledge of sailors ' s inconstancy , very encouraging . I \n"
          ]
        }
      ],
      "source": [
        "print( model.generate_text(100,\"I\") )"
      ]
    },
    {
      "cell_type": "markdown",
      "metadata": {
        "id": "eVVJqAyScH19"
      },
      "source": [
        "## Group Exercise\n",
        "\n",
        "Check out the other examples of corpora here: https://www.nltk.org/book/ch02.html\n",
        "\n",
        "Can you train and generate other kinds of text?"
      ]
    },
    {
      "cell_type": "code",
      "execution_count": 17,
      "metadata": {
        "id": "sDs5HTK2qL2r"
      },
      "outputs": [],
      "source": [
        "from nltk.corpus import webtext"
      ]
    },
    {
      "cell_type": "code",
      "execution_count": 18,
      "metadata": {
        "colab": {
          "base_uri": "https://localhost:8080/"
        },
        "id": "ibrHnPLZqnvV",
        "outputId": "672241a2-708f-430a-d624-3eef7ec7ab7c"
      },
      "outputs": [
        {
          "name": "stdout",
          "output_type": "stream",
          "text": [
            "['firefox.txt', 'grail.txt', 'overheard.txt', 'pirates.txt', 'singles.txt', 'wine.txt']\n"
          ]
        },
        {
          "name": "stderr",
          "output_type": "stream",
          "text": [
            "[nltk_data] Downloading package webtext to /root/nltk_data...\n",
            "[nltk_data]   Unzipping corpora/webtext.zip.\n"
          ]
        }
      ],
      "source": [
        "nltk.download('webtext') # you probably only need to do this once\n",
        "print( nltk.corpus.webtext.fileids() )"
      ]
    },
    {
      "cell_type": "code",
      "execution_count": 19,
      "metadata": {
        "colab": {
          "base_uri": "https://localhost:8080/"
        },
        "id": "bNQV6SHBrJL-",
        "outputId": "ee461b70-983e-47c1-8e7d-87fa339171c2"
      },
      "outputs": [
        {
          "name": "stdout",
          "output_type": "stream",
          "text": [
            "['Cookie', 'Manager', ':', '\"', 'Don', \"'\", 't', ...]\n",
            "['SCENE', '1', ':', '[', 'wind', ']', '[', 'clop', ...]\n",
            "['Lovely', 'delicate', ',', 'fragrant', 'Rhone', ...]\n"
          ]
        }
      ],
      "source": [
        "from nltk.corpus import webtext\n",
        "firefox = webtext.words('firefox.txt')\n",
        "grail = webtext.words('grail.txt')\n",
        "wine = webtext.words('wine.txt')\n",
        "print(firefox)\n",
        "print(grail)\n",
        "print(wine)"
      ]
    },
    {
      "cell_type": "code",
      "execution_count": null,
      "metadata": {
        "id": "ngFH01aurNJM"
      },
      "outputs": [],
      "source": [
        "model1 = MarkovModel()\n",
        "model1.train(firefox)\n",
        "model1.train(grail)\n",
        "model1.train(wine)\n",
        "\n",
        "print(str(model1)[:10000] )\n",
        "#print( model ) #uncomment to print the whole model"
      ]
    },
    {
      "cell_type": "code",
      "execution_count": 21,
      "metadata": {
        "colab": {
          "base_uri": "https://localhost:8080/"
        },
        "id": "KaK7Q-PLrOHs",
        "outputId": "5fe61e6e-da6a-400d-9c71-ed3f57d2cb96"
      },
      "outputs": [
        {
          "name": "stdout",
          "output_type": "stream",
          "text": [
            "I cannot be . LAUNCELOT : You put on second window instead of bookmarks are closed all in this folder as - bizarre ( Turkish Delight . 9 : Old page ' t work inside instead of pixels too . exe extension manager . cz but that contains an \" feature like crap . Password error need hover : Uh , foul temptress ! FRENCH GUARD : Aaaaugh ! ARTHUR : And Winter changed by using keys for each toolbar when it won ' is growing undefinetly Remove Print preview Menus appear in a modern style \" Show Folder icon for \n"
          ]
        }
      ],
      "source": [
        "print( model1.generate_text(100,\"I\") )"
      ]
    },
    {
      "cell_type": "markdown",
      "metadata": {
        "id": "k_HnRzghcH2B"
      },
      "source": [
        "## Group Exercise\n",
        "\n",
        "Sketch out what this data structure would look like if you wanted to use bigrams (two consecutive words) to predict the next word.\n",
        "\n",
        "This is called a **2nd-order Markov Model**\n",
        "\n",
        "`\"To be , or not to be , that is the question : Whether 'tis nobler in the mind to suffer The slings and arrows of outrageous fortune , Or to take Arms against a Sea of troubles\"`\n",
        "\n",
        "`{\"'tis\": {'nobler': 1},\n",
        " ',': {'or': 2, 'that': 1},\n",
        " ':': {'whether': 1},\n",
        " 'a': {'sea': 1},\n",
        " 'against': {'a': 1},\n",
        " 'and': {'arrows': 1},\n",
        " 'arms': {'against': 1},\n",
        " 'arrows': {'of': 1},\n",
        " 'be': {',': 2},\n",
        " 'fortune': {',': 1},\n",
        " 'in': {'the': 1},\n",
        " 'is': {'the': 1},\n",
        " 'mind': {'to': 1},\n",
        " 'nobler': {'in': 1},\n",
        " 'not': {'to': 1},\n",
        " 'of': {'outrageous': 1, 'troubles': 1},\n",
        " 'or': {'not': 1, 'to': 1},\n",
        " 'outrageous': {'fortune': 1},\n",
        " 'question': {':': 1},\n",
        " 'sea': {'of': 1},\n",
        " 'slings': {'and': 1},\n",
        " 'suffer': {'the': 1},\n",
        " 'take': {'arms': 1},\n",
        " 'that': {'is': 1},\n",
        " 'the': {'mind': 1, 'question': 1, 'slings': 1},\n",
        " 'to': {'be': 2, 'suffer': 1, 'take': 1},\n",
        " 'whether': {\"'tis\": 1}}`\n"
      ]
    },
    {
      "cell_type": "code",
      "execution_count": 34,
      "metadata": {
        "colab": {
          "base_uri": "https://localhost:8080/"
        },
        "id": "q7hg0onbZN2m",
        "outputId": "09ec51e4-4d28-4afa-af48-b9158ec60d73"
      },
      "outputs": [
        {
          "data": {
            "text/plain": [
              "['austen-emma.txt',\n",
              " 'austen-persuasion.txt',\n",
              " 'austen-sense.txt',\n",
              " 'bible-kjv.txt',\n",
              " 'blake-poems.txt',\n",
              " 'bryant-stories.txt',\n",
              " 'burgess-busterbrown.txt',\n",
              " 'carroll-alice.txt',\n",
              " 'chesterton-ball.txt',\n",
              " 'chesterton-brown.txt',\n",
              " 'chesterton-thursday.txt',\n",
              " 'edgeworth-parents.txt',\n",
              " 'melville-moby_dick.txt',\n",
              " 'milton-paradise.txt',\n",
              " 'shakespeare-caesar.txt',\n",
              " 'shakespeare-hamlet.txt',\n",
              " 'shakespeare-macbeth.txt',\n",
              " 'whitman-leaves.txt']"
            ]
          },
          "execution_count": 34,
          "metadata": {},
          "output_type": "execute_result"
        }
      ],
      "source": [
        "import nltk\n",
        "nltk.corpus.gutenberg.fileids()"
      ]
    },
    {
      "cell_type": "code",
      "execution_count": 31,
      "metadata": {
        "colab": {
          "base_uri": "https://localhost:8080/"
        },
        "id": "ExovXn1mZXXp",
        "outputId": "36a7504a-a06c-4901-be58-359d77998f02"
      },
      "outputs": [
        {
          "name": "stdout",
          "output_type": "stream",
          "text": [
            "['firefox.txt', 'grail.txt', 'overheard.txt', 'pirates.txt', 'singles.txt', 'wine.txt']\n"
          ]
        },
        {
          "name": "stderr",
          "output_type": "stream",
          "text": [
            "[nltk_data] Downloading package webtext to /root/nltk_data...\n",
            "[nltk_data]   Package webtext is already up-to-date!\n"
          ]
        }
      ],
      "source": [
        "nltk.download('webtext') # you probably only need to do this once\n",
        "print( nltk.corpus.webtext.fileids() )"
      ]
    },
    {
      "cell_type": "code",
      "execution_count": 43,
      "metadata": {
        "id": "GMDJ_tAZY5dM"
      },
      "outputs": [],
      "source": [
        "from nltk.corpus import gutenberg\n",
        "chester      = nltk.corpus.gutenberg.words('chesterton-brown.txt')\n",
        "edge         = nltk.corpus.gutenberg.words('edgeworth-parents.txt')\n",
        "milton       = nltk.corpus.gutenberg.words('milton-paradise.txt')\n",
        "shak_caesar  = nltk.corpus.gutenberg.words('shakespeare-caesar.txt')\n"
      ]
    },
    {
      "cell_type": "code",
      "execution_count": 44,
      "metadata": {
        "id": "xKRqyVobY5YR"
      },
      "outputs": [],
      "source": [
        "model1.train(chester)\n",
        "model1.train(edge)\n",
        "model1.train(milton)\n",
        "model1.train(shak_caesar)"
      ]
    },
    {
      "cell_type": "code",
      "execution_count": null,
      "metadata": {
        "id": "1S3GV2K-Y5V3"
      },
      "outputs": [],
      "source": [
        "print(str(model1)[:10000] )"
      ]
    },
    {
      "cell_type": "code",
      "execution_count": 51,
      "metadata": {
        "colab": {
          "base_uri": "https://localhost:8080/"
        },
        "id": "m6qZ7BtNY5Qm",
        "outputId": "bdd07dbf-c7a9-4a98-82c1-f3b7bc06c8fe"
      },
      "outputs": [
        {
          "name": "stdout",
          "output_type": "stream",
          "text": [
            "I know the bookmarks toolbar buttons dont have done so he took up to serve they were out , and the branches in new kite near ,\" said he pointed to your having warned . Frederick Montague ' s native Heaven ' party who has come , Infernal thunder , how \n"
          ]
        }
      ],
      "source": [
        "word_generation =  model1.generate_text(50,\"I\")\n",
        "print(word_generation)"
      ]
    },
    {
      "cell_type": "code",
      "execution_count": 64,
      "metadata": {
        "colab": {
          "base_uri": "https://localhost:8080/",
          "height": 1000
        },
        "id": "r80vgqjCY5NI",
        "outputId": "e2273b63-d44e-4594-93a0-8c6496c487cb"
      },
      "outputs": [
        {
          "name": "stdout",
          "output_type": "stream",
          "text": [
            "['i', 'know', 'the', 'bookmarks', 'toolbar', 'buttons', 'dont', 'have', 'done', 'so', 'he', 'took', 'up', 'to', 'serve', 'they', 'were', 'out', ',', 'and', 'the', 'branches', 'in', 'new', 'kite', 'near', ',\"', 'said', 'he', 'pointed', 'to', 'your', 'having', 'warned', '.', 'frederick', 'montague', \"'\", 's', 'native', 'heaven', \"'\", 'party', 'who', 'has', 'come', ',', 'infernal', 'thunder', ',', 'how']\n"
          ]
        },
        {
          "data": {
            "image/png": "[encoded data removed]",
            "text/plain": [
              "<Figure size 1200x1000 with 1 Axes>"
            ]
          },
          "metadata": {},
          "output_type": "display_data"
        }
      ],
      "source": [
        "to_be_tokens = word_generation.lower().split() #convert to lowercase and break apart by spaces into a list\n",
        "print(to_be_tokens)\n",
        "\n",
        "to_be_model = MarkovModel()\n",
        "to_be_model.train(to_be_tokens)\n",
        "plt.figure(figsize=(12, 10))\n",
        "to_be_model.visualize(probabilities=False)"
      ]
    },
    {
      "cell_type": "markdown",
      "metadata": {
        "id": "CHyMVZuDcH2B"
      },
      "source": [
        "## Example of using the visualizer"
      ]
    },
    {
      "cell_type": "code",
      "execution_count": null,
      "metadata": {
        "colab": {
          "base_uri": "https://localhost:8080/",
          "height": 577
        },
        "id": "Id6OXjPfcH2B",
        "outputId": "28da0555-b001-411d-ee45-ee9c3510e14e"
      },
      "outputs": [
        {
          "name": "stdout",
          "output_type": "stream",
          "text": [
            "['to', 'be', ',', 'or', 'not', 'to', 'be', ',', 'that', 'is', 'the', 'question', ':', 'whether', \"'tis\", 'nobler', 'in', 'the', 'mind', 'to', 'suffer', 'the', 'slings', 'and', 'arrows', 'of', 'outrageous', 'fortune', ',', 'or', 'to', 'take', 'arms', 'against', 'a', 'sea', 'of', 'troubles']\n"
          ]
        },
        {
          "data": {
            "image/png": "[encoded data removed]",
            "text/plain": [
              "<Figure size 640x480 with 1 Axes>"
            ]
          },
          "metadata": {},
          "output_type": "display_data"
        }
      ],
      "source": [
        "to_be = \"To be , or not to be , that is the question : Whether 'tis nobler in the mind to suffer The slings and arrows of outrageous fortune , Or to take Arms against a Sea of troubles\"\n",
        "to_be_tokens = to_be.lower().split() #convert to lowercase and break apart by spaces into a list\n",
        "print(to_be_tokens)\n",
        "\n",
        "to_be_model = MarkovModel()\n",
        "to_be_model.train(to_be_tokens)\n",
        "to_be_model.visualize(probabilities=False)"
      ]
    },
    {
      "cell_type": "markdown",
      "metadata": {
        "id": "OBBujhKbt0pr"
      },
      "source": [
        "## Applied Exploration\n",
        "\n",
        "Enhance the `MarkovModel` class to take in a parameter that allows it to be a 1st, 2nd, 3rd, etc. order model.\n",
        "* Train it with a large corpus (maybe more than one)\n",
        "* Give examples of the text generated at each order\n",
        "* Do you run into difficulties with some pairs not being present? How should we deal with those - write down some ideas: \n",
        "    - In the code, there's a part that deals with situations where the model hasn't seen certain word pairs during training. Specifically, in the generate_random_next_word method, it checks if there are no occurrences of words following a given sequence. If there are no occurrences (when total_occurrences is 0), the code handles this by returning None. This is a way of saying, \"Hey, there's no information for this sequence, so I can't provide a next word.\" It's a neat way to gracefully handle cases where the model hasn't encountered certain pairs in the training data. \n",
        "\n",
        "\n",
        "\n"
      ]
    },
    {
      "cell_type": "code",
      "execution_count": 24,
      "metadata": {
        "colab": {
          "base_uri": "https://localhost:8080/"
        },
        "id": "8a6ZudFqt004",
        "outputId": "0a375e1d-e5bc-441d-a1c9-123bd62957ed"
      },
      "outputs": [
        {
          "name": "stdout",
          "output_type": "stream",
          "text": [
            "a student of color may qualify for scholarships for first-generation students or students with financial need. “there’s a lot of overlap between students of color or a woman in a stem field, mattison said. donors for some drake scholarships specified that they can pick and choose which applicants fill a certain number \n",
            "\n",
            "--------------------------------------------------\n",
            "\n",
            "{(\"'tis\", 'nobler'): {'in': 1},\n",
            " (',', 'or'): {'not': 1, 'to': 1},\n",
            " (',', 'that'): {'is': 1},\n",
            " ('3.0', 'high'): {'school': 1},\n",
            " (':', 'whether'): {\"'tis\": 1},\n",
            " ('[higher],”', 'mattison'): {'said.': 1},\n",
            " ('[to', 'financial'): {'need': 1},\n",
            " ('a', '3.0'): {'high': 1},\n",
            " ('a', 'certain'): {'number': 1},\n",
            " ('a', 'commitment'): {'to': 1},\n",
            " ('a', 'comparable'): {'case': 1},\n",
            " ('a', 'court’s'): {'approval,”': 1},\n",
            " ('a', 'different'): {'approach': 1},\n",
            " ('a', 'diverse'): {'group': 1},\n",
            " ('a', 'donor'): {'is': 1, 'might': 1},\n",
            " ('a', 'drake'): {'focus.': 1},\n",
            " ('a', 'factor'): {'for': 1, 'in': 1},\n",
            " ('a', 'judge'): {'might': 1},\n",
            " ('a', 'large'): {'impact': 1},\n",
            " ('a', 'lot'): {'of': 1},\n",
            " ('a', 'lot,'): {'or': 1},\n",
            " ('a', 'particular'): {'race': 1},\n",
            " ('a', 'person’s'): {'race': 1},\n",
            " ('a', 'reaction'): {'to': 1},\n",
            " ('a', 'role'): {'in': 2},\n",
            " ('a', 'ruling'): {'on': 1},\n",
            " ('a', 'scholarship'): {'is': 1, 'that': 1},\n",
            " ('a', 'sea'): {'of': 1},\n",
            " ('a', 'series.'): {'check': 1},\n",
            " ('a', 'stem'): {'field,': 1},\n",
            " ('a', 'student'): {'of': 1},\n",
            " ('a', 'student’s'): {'story': 1},\n",
            " ('a', 'white'): {'student': 1},\n",
            " ('a', 'woman'): {'in': 1},\n",
            " ('about', 'diversity'): {'also': 1},\n",
            " ('about', 'forty'): {'to': 1},\n",
            " ('about', 'legacy'): {'admissions': 1},\n",
            " ('about', 'things'): {'like': 1},\n",
            " ('according', 'to'): {'dean': 1, 'kende.': 1, 'provost': 1, 'ryan': 1},\n",
            " ('achieve', 'the'): {'values': 1},\n",
            " ('across', 'the'): {'country.”': 1},\n",
            " ('action', 'affect'): {'drake?': 1},\n",
            " ('action', 'decision,'): {'zantingh': 1},\n",
            " ('action', 'decision.'): {'before': 1, 'the': 1},\n",
            " ('action', 'ruling.'): {'mattison': 1},\n",
            " ('action,', 'the'): {'times-delphic': 1},\n",
            " ('action,', 'with'): {'regards': 1},\n",
            " ('action.', 'over'): {'the': 1},\n",
            " ('actively', 'involved'): {'in': 1},\n",
            " ('actually', 'means,'): {'and': 1},\n",
            " ('admissions', 'and'): {'legacy': 1, 'scholarships,”': 1},\n",
            " ('admissions', 'decision,'): {'and': 1},\n",
            " ('admissions', 'form,'): {'it': 1},\n",
            " ('admissions', 'joel'): {'johnson.': 1},\n",
            " ('admissions', 'programs'): {'of': 1},\n",
            " ('admissions', 'team'): {'found': 1},\n",
            " ('admissions', 'the'): {'supreme': 1},\n",
            " ('admissions,', 'according'): {'to': 1},\n",
            " ('admissions,', 'only'): {'impacts': 1},\n",
            " ('admissions,', 'scholarships,'): {'programs': 1},\n",
            " ('admissions.', 'when'): {'admitting': 1},\n",
            " ('admitting', 'students,'): {'universities': 1},\n",
            " ('affect', 'drake?'): {'the': 1},\n",
            " ('affected', 'his'): {'or': 1},\n",
            " ('affirmative', 'action'): {'affect': 1,\n",
            "                             'decision,': 1,\n",
            "                             'decision.': 2,\n",
            "                             'ruling.': 1},\n",
            " ('affirmative', 'action,'): {'the': 1},\n",
            " ('affirmative', 'action.'): {'over': 1},\n",
            " ('after', 'the'): {'court’s': 1},\n",
            " ('against', 'a'): {'sea': 1},\n",
            " ('against', 'the'): {'admissions': 1},\n",
            " ('aid', 'from'): {'either': 1},\n",
            " ('aid', 'is'): {'directed,”': 1},\n",
            " ('aid', 'programs'): {'that': 1},\n",
            " ('aid', 'that'): {'considers': 1},\n",
            " ('aid', 'that’s'): {'comparable': 1},\n",
            " ('aid', 'with'): {'a': 1},\n",
            " ('aid.', 'this'): {'is': 1},\n",
            " ('all', 'students'): {'who': 1},\n",
            " ('all', 'students,'): {'students': 1},\n",
            " ('allowed', 'to'): {'consider': 1},\n",
            " ('already', 'wasn’t'): {'a': 1},\n",
            " ('also', 'means'): {'intentionally': 1},\n",
            " ('an', 'affirmative'): {'action': 1},\n",
            " ('an', 'article'): {'about': 1},\n",
            " ('an', 'employee’s'): {'race,': 1},\n",
            " ('an', 'example'): {'of': 1},\n",
            " ('an', 'idea'): {'that': 1},\n",
            " ('an', 'impact'): {'on': 1},\n",
            " ('an', 'individual'): {'—': 1},\n",
            " ('and', 'arrows'): {'of': 1},\n",
            " ('and', 'choose'): {'which': 1},\n",
            " ('and', 'employment.”'): {'the': 1},\n",
            " ('and', 'extend'): {'it': 1},\n",
            " ('and', 'it'): {'doesn’t': 1},\n",
            " ('and', 'legacy'): {'financial': 1},\n",
            " ('and', 'most'): {'institutions': 1},\n",
            " ('and', 'other'): {'areas': 1},\n",
            " ('and', 'scholarships'): {'have': 1},\n",
            " ('and', 'scholarships,”'): {'and': 1},\n",
            " ('and', 'still'): {'reach': 1},\n",
            " ('and', 'that'): {'“these': 1},\n",
            " ('and', 'the'): {'university': 1},\n",
            " ('and', 'unc'): {'have': 1},\n",
            " ('and', 'what'): {'we': 1},\n",
            " ('andrew', 'bailey'): {'said': 1},\n",
            " ('another', 'are'): {'more': 1},\n",
            " ('another', 'way.'): {'per': 1},\n",
            " ('answer', 'has'): {'little': 1},\n",
            " ('anti-racist', 'leadership'): {'here': 1},\n",
            " ('anticipation', 'of'): {'a': 1},\n",
            " ('any', 'of'): {'the': 1},\n",
            " ('any', 'particular'): {'protected': 1},\n",
            " ('anybody.”', 'possible'): {'effects': 1},\n",
            " ('applicants', 'fill'): {'a': 1},\n",
            " ('applicants', 'of'): {'a': 1},\n",
            " ('applicants', 'that'): {'they': 1},\n",
            " ('applicant’s', 'discussion'): {'of': 1},\n",
            " ('apply', 'in'): {'the': 1},\n",
            " ('apply', 'to'): {'drake': 1},\n",
            " ('approach', 'in'): {'the': 1},\n",
            " ('approval,”', 'zantingh'): {'said.': 1},\n",
            " ('approve', 'changes.'): {'he': 1},\n",
            " ('are', 'allowed'): {'to': 1},\n",
            " ('are', 'more'): {'vulnerable': 1},\n",
            " ('are', 'ways'): {'that': 2},\n",
            " ('areas', 'where'): {'financial': 1},\n",
            " ('arms', 'against'): {'a': 1},\n",
            " ('arrows', 'of'): {'outrageous': 1},\n",
            " ('article', 'about'): {'legacy': 1},\n",
            " ('as', 'a'): {'factor': 1},\n",
            " ('as', 'an'): {'individual': 1},\n",
            " ('as', 'corporations’'): {'diversity': 1},\n",
            " ('as', 'well'): {'as': 1},\n",
            " ('asked', 'for'): {'a': 1},\n",
            " ('asking', 'for'): {'it,': 1},\n",
            " ('at', 'least'): {'one': 1},\n",
            " ('attorney', 'general'): {'andrew': 1},\n",
            " ('bailey', 'said'): {'missouri': 1},\n",
            " ('based', 'on'): {'his': 1},\n",
            " ('basis', 'of'): {'race.”': 1},\n",
            " ('be', ','): {'or': 1, 'that': 1},\n",
            " ('be', 'deceased,'): {'zantingh': 1},\n",
            " ('be', 'directed'): {'[to': 1},\n",
            " ('be', 'discontinued.”'): {'drake': 1},\n",
            " ('be', 'it'): {'through': 1},\n",
            " ('be', 'little'): {'to': 1},\n",
            " ('be', 'repurposed'): {'in': 1},\n",
            " ('be', 'some'): {'implications,': 1},\n",
            " ('be', 'treated'): {'based': 1},\n",
            " ('be', 'unwilling'): {'to': 1},\n",
            " ('become', 'a'): {'scholarship': 1},\n",
            " ('before', 'the'): {'decision,': 1},\n",
            " ('being', 'compliant,”'): {'mattison': 1},\n",
            " ('between', 'students'): {'of': 1},\n",
            " ('beyond', 'universities,'): {'to': 1},\n",
            " ('but', 'i'): {'think': 1},\n",
            " ('by', 'legal'): {'counsel.': 1},\n",
            " ('calls', 'colorblindness.”'): {'“if': 1},\n",
            " ('campus,', 'certainly'): {'they': 1},\n",
            " ('campus.', '“if'): {'a': 1},\n",
            " ('can', 'be'): {'directed': 1},\n",
            " ('can', 'change'): {'the': 1},\n",
            " ('can', 'emerge'): {'without': 1},\n",
            " ('can', 'ensure'): {'that': 1},\n",
            " ('can', 'pick'): {'and': 1},\n",
            " ('can', 'still'): {'play': 1},\n",
            " ('can’t', 'join'): {'drake': 1},\n",
            " ('caring', 'about'): {'diversity': 1},\n",
            " ('carolina', 'in'): {'an': 1},\n",
            " ('case', 'on'): {'financial': 1},\n",
            " ('cases,', 'a'): {'donor': 1},\n",
            " ('categorically.”', 'in'): {'some': 1},\n",
            " ('center,', 'said'): {'the': 1},\n",
            " ('certain', 'number'): {'of': 1},\n",
            " ('certainly', 'they'): {'would': 1},\n",
            " ('change', 'the'): {'scholarship’s': 1, 'wording': 1},\n",
            " ('change,', 'or'): {'the': 1},\n",
            " ('changes.', 'he'): {'said': 1},\n",
            " ('check', 'next'): {'week’s': 1},\n",
            " ('chief', 'justice'): {'john': 1},\n",
            " ('choose', 'which'): {'applicants': 1},\n",
            " ('class', 'categorically.”'): {'in': 1},\n",
            " ('clear', 'what'): {'impact': 1},\n",
            " ('college', 'admissions'): {'the': 1},\n",
            " ('college', 'admissions.'): {'when': 1},\n",
            " ('color', 'and'): {'other': 1},\n",
            " ('color', 'may'): {'qualify': 1},\n",
            " ('color', 'or'): {'a': 1},\n",
            " ('color.', '“there'): {'are': 1},\n",
            " ('colorblindness', 'and'): {'extend': 1},\n",
            " ('colorblindness.”', '“if'): {'you': 1},\n",
            " ('come', 'out'): {'on': 1},\n",
            " ('commitment', 'to'): {'drake’s': 1},\n",
            " ('comparable', 'case'): {'on': 1},\n",
            " ('comparable', 'to'): {'the': 1},\n",
            " ('compliant,”', 'mattison'): {'said.': 1},\n",
            " ('consider', 'an'): {'employee’s': 1},\n",
            " ('consider', '“an'): {'applicant’s': 1},\n",
            " ('considers', 'race,'): {'rather': 1},\n",
            " ('constitution', 'or'): {'title': 1},\n",
            " ('constitutional', 'law'): {'center,': 1},\n",
            " ('continue', 'crew'): {'scholars': 1},\n",
            " ('continue', 'to'): {'achieve': 1},\n",
            " ('corporations’', 'diversity'): {'programs.': 1},\n",
            " ('could', 'raise'): {'some': 1},\n",
            " ('could', 'say'): {'the': 1},\n",
            " ('couldn’t', 'have'): {'stopped': 1},\n",
            " ('counsel.', 'if'): {'a': 1},\n",
            " ('country.”', 'she'): {'said': 1},\n",
            " ('court', 'decision'): {'will': 1},\n",
            " ('court', 'left'): {'at': 1},\n",
            " ('court', 'protected'): {'it.': 1},\n",
            " ('court', 'ruled'): {'against': 1},\n",
            " ('court', 'ruling'): {'on': 1},\n",
            " ('court', '“basically'): {'has': 1},\n",
            " ('court’s', 'approval,”'): {'zantingh': 1},\n",
            " ('court’s', 'decision'): {'on': 1},\n",
            " ('court’s', 'decision,'): {'according': 1, 'missouri': 1},\n",
            " ('court’s', 'decision.'): {'however,': 1},\n",
            " ('court’s', 'ruling'): {'mark': 1},\n",
            " ('crew', 'scholars'): {'program,': 1, 'while': 1},\n",
            " ('criteria', 'would'): {'have': 1},\n",
            " ('cut', 'any'): {'of': 1},\n",
            " ('dean', 'of'): {'admissions': 1},\n",
            " ('deceased,', 'a'): {'judge': 1},\n",
            " ('deceased,', 'zantingh'): {'said.': 1},\n",
            " ('decision', 'might'): {'have': 1},\n",
            " ('decision', 'on'): {'affirmative': 1},\n",
            " ('decision', 'will'): {'impact': 1},\n",
            " ('decision,', 'according'): {'to': 1},\n",
            " ('decision,', 'and'): {'it': 1},\n",
            " ('decision,', 'missouri'): {'attorney': 1},\n",
            " ('decision,', 'race'): {'already': 1},\n",
            " ('decision,', 'zantingh'): {'doesn’t': 1},\n",
            " ('decision.', 'before'): {'the': 1},\n",
            " ('decision.', 'however,'): {'“the': 1},\n",
            " ('decision.', 'the'): {'university': 1},\n",
            " ('decision.', '“there'): {'may': 1},\n",
            " ('decisions', 'about'): {'things': 1},\n",
            " ('demonstrate', 'a'): {'commitment': 1},\n",
            " ('description', 'then,'): {'wouldn’t': 1},\n",
            " ('determine', 'how'): {'the': 1},\n",
            " ('different', 'approach'): {'in': 1},\n",
            " ('directed', '[to'): {'financial': 1},\n",
            " ('directed,”', 'zantingh'): {'said.': 1},\n",
            " ('director', 'of'): {'drake’s': 1, 'financial': 1},\n",
            " ('discontinued.”', 'drake'): {'is': 1},\n",
            " ('discrimination,', 'inspiration'): {'or': 1},\n",
            " ('discussion', 'of'): {'how': 1},\n",
            " ('displace', 'anybody.”'): {'possible': 1},\n",
            " ('diverse', 'group'): {'of': 1},\n",
            " ('diversity', 'also'): {'means': 1},\n",
            " ('diversity', 'on'): {'campus.': 1},\n",
            " ('diversity', 'programs.'): {'following': 1},\n",
            " ('do', 'to'): {'continue': 1},\n",
            " ('do', 'with'): {'affirmative': 1},\n",
            " ('does', 'not'): {'have': 1},\n",
            " ('does', 'the'): {'supreme': 1},\n",
            " ('doesn’t', 'apply'): {'to': 1},\n",
            " ('doesn’t', 'displace'): {'anybody.”': 1},\n",
            " ('doesn’t', 'expect'): {'a': 1, 'drake': 1},\n",
            " ('dollars', 'would'): {'have': 1},\n",
            " ('donor', 'is'): {'deceased,': 1},\n",
            " ('donor', 'might'): {'be': 1},\n",
            " ('donor', 'or'): {'a': 1},\n",
            " ('donors', 'for'): {'some': 1},\n",
            " ('don’t', 'know'): {'if': 1, 'yet.”': 1},\n",
            " ('drake', 'and'): {'most': 1},\n",
            " ('drake', 'asking'): {'for': 1},\n",
            " ('drake', 'financial'): {'aid': 1},\n",
            " ('drake', 'if'): {'they': 1},\n",
            " ('drake', 'is'): {'still': 1, 'taking': 1},\n",
            " ('drake', 'scholarships'): {'specified': 1},\n",
            " ('drake', 'to'): {'cut': 1},\n",
            " ('drake', 'university'): {'admissions,': 1},\n",
            " ('drake?', 'the'): {'answer': 1},\n",
            " ('drake’s', 'admissions'): {'team': 1},\n",
            " ('drake’s', 'constitutional'): {'law': 1},\n",
            " ('drake’s', 'crew'): {'scholars': 1},\n",
            " ('drake’s', 'director'): {'of': 1},\n",
            " ('drake’s', 'vision'): {'for': 1},\n",
            " ('effect', 'on'): {'students': 1},\n",
            " ('effects', 'of'): {'the': 1},\n",
            " ('either', 'decision.'): {'“there': 1},\n",
            " ('either', 'the'): {'donor': 1},\n",
            " ('embraced', 'an'): {'idea': 1},\n",
            " ('emerge', 'without'): {'drake': 1},\n",
            " ('employee’s', 'race,'): {'as': 1},\n",
            " ('employment.”', 'the'): {'university': 1},\n",
            " ('enough', 'applicants'): {'that': 1},\n",
            " ('ensure', 'that'): {'we': 1},\n",
            " ('even', 'if'): {'there': 1},\n",
            " ('example', 'of'): {'scholarship': 1},\n",
            " ('exclude', 'any'): {'particular': 1},\n",
            " ('expect', 'a'): {'large': 1},\n",
            " ('expect', 'drake'): {'to': 1},\n",
            " ('expect,”', 'mattison'): {'said.': 1},\n",
            " ('experiences', 'as'): {'an': 1},\n",
            " ('extend', 'it'): {'beyond': 1},\n",
            " ('factor', 'for'): {'admissions': 1},\n",
            " ('factor', 'in'): {'drake': 1},\n",
            " ('field,', 'mattison'): {'said.': 1},\n",
            " ('fifty', 'scholarships,'): {'according': 1},\n",
            " ('fill', 'a'): {'certain': 1},\n",
            " ('financial', 'aid'): {'from': 1,\n",
            "                        'is': 1,\n",
            "                        'programs': 1,\n",
            "                        'that': 1,\n",
            "                        'that’s': 1,\n",
            "                        'with': 1},\n",
            " ('financial', 'aid.'): {'this': 1},\n",
            " ('financial', 'need'): {'or': 1},\n",
            " ('financial', 'need.'): {'“there’s': 1},\n",
            " ('first', 'generation'): {'status]': 1},\n",
            " ('first', 'place.'): {'in': 1},\n",
            " ('first-generation', 'students'): {'or': 1},\n",
            " ('fit', 'that'): {'description': 1},\n",
            " ('following', 'the'): {'supreme': 1},\n",
            " ('for', 'a'): {'person’s': 1},\n",
            " ('for', 'admissions'): {'and': 1},\n",
            " ('for', 'an'): {'article': 1},\n",
            " ('for', 'diversity'): {'on': 1},\n",
            " ('for', 'first-generation'): {'students': 1},\n",
            " ('for', 'incoming'): {'students': 1},\n",
            " ('for', 'it,'): {'according': 1},\n",
            " ('for', 'only'): {'minority': 1},\n",
            " ('for', 'race'): {'to': 1},\n",
            " ('for', 'scholarships'): {'for': 1},\n",
            " ('for', 'some'): {'drake': 1},\n",
            " ('form,', 'it'): {'does': 1},\n",
            " ('fortune', ','): {'or': 1},\n",
            " ('forty', 'to'): {'fifty': 1},\n",
            " ('found', 'that'): {'the': 1},\n",
            " ('from', 'either'): {'decision.': 1},\n",
            " ('gave', 'an'): {'example': 1},\n",
            " ('general', 'andrew'): {'bailey': 1},\n",
            " ('general', 'effect'): {'on': 1},\n",
            " ('generation', 'status]'): {'and': 1},\n",
            " ('gives', 'preference'): {'to': 1},\n",
            " ('gpa', 'or'): {'[higher],”': 1},\n",
            " ('group', 'of'): {'students.': 1},\n",
            " ('harvard', 'and'): {'unc': 1},\n",
            " ('harvard', 'university'): {'and': 1},\n",
            " ('has', 'embraced'): {'an': 1},\n",
            " ('has', 'little'): {'to': 1},\n",
            " ('has', '“admitted'): {'all': 1},\n",
            " ('have', 'a'): {'3.0': 1},\n",
            " ('have', 'an'): {'impact': 1},\n",
            " ('have', 'enough'): {'applicants': 1},\n",
            " ('have', 'on'): {'university': 1},\n",
            " ('have', 'stopped'): {'it,': 1},\n",
            " ('have', 'to'): {'be': 1, 'change,': 1, 'do': 1},\n",
            " ('have', 'used'): {'race/ethnicity': 1},\n",
            " ('he', 'doesn’t'): {'expect': 1},\n",
            " ('he', 'said'): {'he': 1, 'it’s': 1, 'students': 1},\n",
            " ('her', 'experiences'): {'as': 1},\n",
            " ('her', 'life,'): {'be': 1},\n",
            " ('here', 'on'): {'campus,': 1},\n",
            " ('high', 'school'): {'gpa': 1},\n",
            " ('highly', 'selective'): {'institutions': 1},\n",
            " ('hiring', 'practices'): {'that': 1},\n",
            " ('his', 'or'): {'her': 2},\n",
            " ('honestly.”', 'johnson'): {'said': 1},\n",
            " ('how', 'does'): {'the': 1},\n",
            " ('how', 'race'): {'affected': 1},\n",
            " ('how', 'the'): {'supreme': 1},\n",
            " ('however,', '“the'): {'student': 1},\n",
            " ('i', 'could'): {'say': 1},\n",
            " ('i', 'think'): {'the': 1},\n",
            " ('idea', 'that'): {'it': 1},\n",
            " ('identity…', 'it’ll'): {'come': 1},\n",
            " ('if', 'a'): {'donor': 1, 'scholarship': 1},\n",
            " ('if', 'i'): {'could': 1},\n",
            " ('if', 'there'): {'is': 1},\n",
            " ('if', 'they'): {'never': 1},\n",
            " ('if', 'they’ve'): {'overcome': 1},\n",
            " ('impact', 'drake’s'): {'crew': 1},\n",
            " ('impact', 'on'): {'drake': 1, 'the': 1},\n",
            " ('impact', 'the'): {'decision': 1},\n",
            " ('impacts', 'those'): {'really': 1},\n",
            " ('implications,', 'but'): {'i': 1},\n",
            " ('in', 'a'): {'stem': 1},\n",
            " ('in', 'an'): {'affirmative': 1},\n",
            " ('in', 'another'): {'way.': 1},\n",
            " ('in', 'anti-racist'): {'leadership': 1},\n",
            " ('in', 'anticipation'): {'of': 1},\n",
            " ('in', 'college'): {'admissions': 1, 'admissions.': 1},\n",
            " ('in', 'drake'): {'university': 1},\n",
            " ('in', 'some'): {'cases,': 1},\n",
            " ('in', 'the'): {'court’s': 1, 'first': 1, 'mind': 1, 'wake': 2},\n",
            " ('incoming', 'students'): {'of': 1},\n",
            " ('incoming', 'students,”'): {'mattison': 1},\n",
            " ('individual', '—'): {'not': 1},\n",
            " ('inspiration', 'or'): {'otherwise,”': 1},\n",
            " ('institutions', 'across'): {'the': 1},\n",
            " ('institutions', 'subject'): {'to': 1},\n",
            " ('institutions', 'that'): {'limit': 1},\n",
            " ('intentionally', 'recruiting'): {'a': 1},\n",
            " ('involved', 'in'): {'anti-racist': 1},\n",
            " ('is', 'a'): {'ruling': 1},\n",
            " ('is', 'actively'): {'involved': 1},\n",
            " ('is', 'deceased,'): {'a': 1},\n",
            " ('is', 'directed,”'): {'zantingh': 1},\n",
            " ('is', 'for'): {'incoming': 1, 'only': 1},\n",
            " ('is', 'monitoring'): {'maybe': 1},\n",
            " ('is', 'monitoring.'): {'“the': 1},\n",
            " ('is', 'more'): {'in': 1},\n",
            " ('is', 'publishing'): {'a': 1},\n",
            " ('is', 'still'): {'trying': 1},\n",
            " ('is', 'taking'): {'a': 1},\n",
            " ('is', 'the'): {'question': 1},\n",
            " ('it', 'beyond'): {'universities,': 1},\n",
            " ('it', 'calls'): {'colorblindness.”': 1},\n",
            " ('it', 'could'): {'raise': 1},\n",
            " ('it', 'does'): {'not': 1},\n",
            " ('it', 'doesn’t'): {'displace': 1},\n",
            " ('it', 'is'): {'monitoring.': 1},\n",
            " ('it', 'might'): {'become': 1},\n",
            " ('it', 'through'): {'discrimination,': 1},\n",
            " ('it,', 'according'): {'to': 1},\n",
            " ('it,', 'honestly.”'): {'johnson': 1},\n",
            " ('it.', 'they'): {'couldn’t': 1},\n",
            " ('its', 'own,”'): {'johnson': 1},\n",
            " ('it’ll', 'come'): {'out': 1},\n",
            " ('it’s', 'not'): {'clear': 1},\n",
            " ('it’s', 'so'): {'key': 1},\n",
            " ('joel', 'johnson.'): {'“especially': 1},\n",
            " ('john', 'roberts'): {'wrote': 1},\n",
            " ('johnson', 'said'): {'that': 1},\n",
            " ('johnson', 'said.'): {'“i': 1},\n",
            " ('johnson.', '“especially'): {'if': 1},\n",
            " ('join', 'drake'): {'if': 1},\n",
            " ('judge', 'might'): {'approve': 1},\n",
            " ('justice', 'john'): {'roberts': 1},\n",
            " ('kende', 'said.'): {'“but': 1},\n",
            " ('kende,', 'director'): {'of': 1},\n",
            " ('kende.', 'he'): {'said': 1},\n",
            " ('key', 'to'): {'their': 1},\n",
            " ('know', 'if'): {'i': 1},\n",
            " ('know', 'yet.”'): {'financial': 1},\n",
            " ('language', 'offered'): {'by': 1},\n",
            " ('language', 'or'): {'be': 1},\n",
            " ('language', 'would'): {'not': 1},\n",
            " ('large', 'impact'): {'on': 1},\n",
            " ('law', 'center,'): {'said': 1},\n",
            " ('leadership', 'here'): {'on': 1},\n",
            " ('least', 'one'): {'legal': 1},\n",
            " ('left', 'at'): {'least': 1},\n",
            " ('legacy', 'admissions'): {'and': 1},\n",
            " ('legacy', 'financial'): {'aid': 1},\n",
            " ('legal', 'counsel.'): {'if': 1},\n",
            " ('legal', 'path'): {'open': 1},\n",
            " ('life,', 'be'): {'it': 1},\n",
            " ('like', 'admissions,'): {'scholarships,': 1},\n",
            " ('like', 'all'): {'students,': 1},\n",
            " ('like', 'harvard'): {'and': 1},\n",
            " ('limit', 'the'): {'number': 1},\n",
            " ('little', 'to'): {'do': 1, 'none,”': 1},\n",
            " ('lot', 'of'): {'overlap': 1},\n",
            " ('lot,', 'or'): {'it’s': 1},\n",
            " ('make', 'decisions'): {'about': 1},\n",
            " ('mark', 'kende,'): {'director': 1},\n",
            " ('mattison', 'said'): {'she': 1},\n",
            " ('mattison', 'said.'): {'donors': 1,\n",
            "                         '“and': 1,\n",
            "                         '“even': 1,\n",
            "                         '“so': 1,\n",
            "                         '“there': 1},\n",
            " ('mattison.', '“affirmative'): {'action,': 1},\n",
            " ('may', 'be'): {'some': 1},\n",
            " ('may', 'qualify'): {'for': 1},\n",
            " ('maybe', 'about'): {'forty': 1},\n",
            " ('means', 'intentionally'): {'recruiting': 1},\n",
            " ('means,', 'and'): {'what': 1},\n",
            " ('might', 'approve'): {'changes.': 1},\n",
            " ('might', 'be'): {'unwilling': 1},\n",
            " ('might', 'become'): {'a': 1},\n",
            " ('might', 'have'): {'on': 1},\n",
            " ('mind', 'to'): {'suffer': 1},\n",
            " ('minority', 'students,'): {'it': 1},\n",
            " ('missouri', 'attorney'): {'general': 1},\n",
            " ('missouri', 'institutions'): {'subject': 1},\n",
            " ('missouri', 'system'): {'said': 1},\n",
            " ('monitoring', 'maybe'): {'about': 1},\n",
            " ('monitoring.', '“the'): {'scholarship': 1},\n",
            " ('more', 'in'): {'anticipation': 1},\n",
            " ('more', 'vulnerable'): {'after': 1},\n",
            " ('most', 'institutions'): {'across': 1},\n",
            " ('must', 'be'): {'treated': 1},\n",
            " ('must', 'stop'): {'using': 1},\n",
            " ('need', 'or'): {'first': 1},\n",
            " ('need.', '“there’s'): {'a': 1},\n",
            " ('never', 'apply'): {'in': 1},\n",
            " ('next', 'week’s'): {'paper': 1},\n",
            " ('nobler', 'in'): {'the': 1},\n",
            " ('none,”', 'zantingh'): {'said.': 1},\n",
            " ('north', 'carolina'): {'in': 1},\n",
            " ('not', 'clear'): {'what': 1},\n",
            " ('not', 'have'): {'an': 1},\n",
            " ('not', 'on'): {'the': 1},\n",
            " ('not', 'seek'): {'to': 1},\n",
            " ('not', 'to'): {'be': 1},\n",
            " ('number', 'of'): {'incoming': 1, 'our': 1, 'spots.': 1},\n",
            " ('of', 'a'): {'comparable': 1, 'particular': 1},\n",
            " ('of', 'admissions'): {'joel': 1},\n",
            " ('of', 'color'): {'and': 1, 'may': 1, 'or': 1},\n",
            " ('of', 'color.'): {'“there': 1},\n",
            " ('of', 'colorblindness'): {'and': 1},\n",
            " ('of', 'drake’s'): {'constitutional': 1},\n",
            " ('of', 'financial'): {'aid.': 1},\n",
            " ('of', 'harvard'): {'university': 1},\n",
            " ('of', 'how'): {'race': 1},\n",
            " ('of', 'incoming'): {'students,”': 1},\n",
            " ('of', 'missouri'): {'system': 1},\n",
            " ('of', 'north'): {'carolina': 1},\n",
            " ('of', 'our'): {'programs': 1},\n",
            " ('of', 'outrageous'): {'fortune': 1},\n",
            " ('of', 'overlap'): {'between': 1},\n",
            " ('of', 'race.”'): {'a': 1},\n",
            " ('of', 'scholarship'): {'language': 1},\n",
            " ('of', 'some'): {'of': 1},\n",
            " ('of', 'spots.'): {'drake’s': 1},\n",
            " ('of', 'students.'): {'he': 1},\n",
            " ('of', 'the'): {'affirmative': 1,\n",
            "                 'court’s': 1,\n",
            "                 'scholarships': 1,\n",
            "                 'scholarships.”': 1,\n",
            "                 'supreme': 1},\n",
            " ('offered', 'by'): {'legal': 1},\n",
            " ('on', 'affirmative'): {'action': 1, 'action,': 1},\n",
            " ('on', 'campus,'): {'certainly': 1},\n",
            " ('on', 'campus.'): {'“if': 1},\n",
            " ('on', 'drake'): {'financial': 1},\n",
            " ('on', 'financial'): {'aid': 2},\n",
            " ('on', 'his'): {'or': 1},\n",
            " ('on', 'its'): {'own,”': 1},\n",
            " ('on', 'students'): {'will': 1},\n",
            " ('on', 'the'): {'admissions': 2, 'basis': 1},\n",
            " ('on', 'university'): {'hiring': 1},\n",
            " ('one', 'legal'): {'path': 1},\n",
            " ('only', 'impacts'): {'those': 1},\n",
            " ('only', 'minority'): {'students,': 1},\n",
            " ('open', 'for'): {'race': 1},\n",
            " ('or', '[higher],”'): {'mattison': 1},\n",
            " ('or', 'a'): {'court’s': 1, 'woman': 1},\n",
            " ('or', 'be'): {'deceased,': 1},\n",
            " ('or', 'first'): {'generation': 1},\n",
            " ('or', 'her'): {'experiences': 1, 'life,': 1},\n",
            " ('or', 'it’s'): {'so': 1},\n",
            " ('or', 'not'): {'to': 1},\n",
            " ('or', 'otherwise,”'): {'chief': 1},\n",
            " ('or', 'students'): {'with': 1},\n",
            " ('or', 'the'): {'dollars': 1},\n",
            " ('or', 'title'): {'vi': 1},\n",
            " ('or', 'to'): {'take': 1},\n",
            " ('other', 'areas'): {'where': 1},\n",
            " ('other', 'places,'): {'it': 1},\n",
            " ('otherwise,”', 'chief'): {'justice': 1},\n",
            " ('our', 'programs'): {'and': 1},\n",
            " ('out', 'on'): {'its': 1},\n",
            " ('outrageous', 'fortune'): {',': 1},\n",
            " ('over', 'another'): {'are': 1},\n",
            " ('over', 'the'): {'summer,': 1},\n",
            " ('overall', 'general'): {'effect': 1},\n",
            " ('overcome', 'a'): {'lot,': 1},\n",
            " ('overlap', 'between'): {'students': 1},\n",
            " ('own,”', 'johnson'): {'said.': 1},\n",
            " ('paper', 'for'): {'an': 1},\n",
            " ('particular', 'protected'): {'class': 1},\n",
            " ('particular', 'race'): {'over': 1},\n",
            " ('path', 'open'): {'for': 1},\n",
            " ('per', 'either'): {'the': 1},\n",
            " ('person’s', 'race'): {'on': 1},\n",
            " ('pick', 'and'): {'choose': 1},\n",
            " ('place.', 'in'): {'the': 1},\n",
            " ('places,', 'it'): {'could': 1},\n",
            " ('play', 'a'): {'role': 2},\n",
            " ('possible', 'effects'): {'of': 1},\n",
            " ('practices', 'that'): {'consider': 1},\n",
            " ('practices', 'will'): {'be': 1},\n",
            " ('preference', 'to'): {'students': 1},\n",
            " ('principle', 'of'): {'colorblindness': 1},\n",
            " ('prioritize', 'applicants'): {'of': 1},\n",
            " ('problems,”', 'kende'): {'said.': 1},\n",
            " ('program,', 'which'): {'is': 1},\n",
            " ('programs', 'and'): {'employment.”': 1, 'scholarships': 1},\n",
            " ('programs', 'of'): {'harvard': 1},\n",
            " ('programs', 'that'): {'prioritize': 1},\n",
            " ('programs.', 'following'): {'the': 1},\n",
            " ('protected', 'class'): {'categorically.”': 1},\n",
            " ('protected', 'it.'): {'they': 1},\n",
            " ('provost', 'sue'): {'mattison.': 1},\n",
            " ('publishing', 'a'): {'series.': 1},\n",
            " ('qualify', 'for'): {'scholarships': 1},\n",
            " ('question', ':'): {'whether': 1},\n",
            " ('race', 'affected'): {'his': 1},\n",
            " ('race', 'already'): {'wasn’t': 1},\n",
            " ('race', 'can'): {'still': 1},\n",
            " ('race', 'on'): {'the': 1},\n",
            " ('race', 'over'): {'another': 1},\n",
            " ('race', 'to'): {'play': 1},\n",
            " ('race,', 'as'): {'well': 1},\n",
            " ('race,', 'rather'): {'than': 1},\n",
            " ('race-based', 'standards'): {'“to': 1},\n",
            " ('race.”', 'a'): {'student’s': 1},\n",
            " ('race/ethnicity', 'as'): {'a': 1},\n",
            " ('raise', 'some'): {'problems,”': 1},\n",
            " ('rather', 'than'): {'a': 1},\n",
            " ('reach', 'the'): {'same': 1},\n",
            " ('reaction', 'to'): {'the': 1},\n",
            " ('really', 'highly'): {'selective': 1},\n",
            " ('recruiting', 'a'): {'diverse': 1},\n",
            " ('regards', 'to'): {'admissions,': 1},\n",
            " ('repurposed', 'in'): {'another': 1},\n",
            " ('resources', 'can'): {'be': 1},\n",
            " ('roberts', 'wrote'): {'in': 1},\n",
            " ('role', 'in'): {'college': 2},\n",
            " ('ruled', 'against'): {'the': 1},\n",
            " ('ruling', 'mark'): {'kende,': 1},\n",
            " ('ruling', 'on'): {'affirmative': 1, 'financial': 1},\n",
            " ('ruling.', 'mattison'): {'said': 1},\n",
            " ('ryan', 'zantingh,'): {'drake’s': 1},\n",
            " ('said', 'he'): {'doesn’t': 1},\n",
            " ('said', 'it’s'): {'not': 1},\n",
            " ('said', 'missouri'): {'institutions': 1},\n",
            " ('said', 'schools'): {'like': 1},\n",
            " ('said', 'she'): {'thinks': 1},\n",
            " ('said', 'students'): {'can’t': 1},\n",
            " ('said', 'that'): {'caring': 1, '“a': 1},\n",
            " ('said', 'the'): {'supreme': 1},\n",
            " ('said.', 'donors'): {'for': 1},\n",
            " ('said.', 'if'): {'a': 1},\n",
            " ('said.', 'race'): {'can': 1},\n",
            " ('said.', 'zantingh'): {'gave': 1},\n",
            " ('said.', '“and'): {'so': 1},\n",
            " ('said.', '“basically,'): {'the': 1},\n",
            " ('said.', '“but'): {'we': 1},\n",
            " ('said.', '“even'): {'though': 1},\n",
            " ('said.', '“i'): {'don’t': 1},\n",
            " ('said.', '“scholarship'): {'resources': 1},\n",
            " ('said.', '“so'): {'that': 1},\n",
            " ('said.', '“there'): {'are': 1},\n",
            " ('same', 'students.”'): {'even': 1},\n",
            " ('say', 'the'): {'supreme': 1},\n",
            " ('scholars', 'program,'): {'which': 1},\n",
            " ('scholars', 'while'): {'still': 1},\n",
            " ('scholarship', 'criteria'): {'would': 1},\n",
            " ('scholarship', 'is'): {'for': 1},\n",
            " ('scholarship', 'language'): {'offered': 1},\n",
            " ('scholarship', 'that'): {'gives': 1},\n",
            " ('scholarships', 'for'): {'first-generation': 1},\n",
            " ('scholarships', 'have'): {'used': 1},\n",
            " ('scholarships', 'it'): {'is': 1},\n",
            " ('scholarships', 'specified'): {'that': 1},\n",
            " ('scholarships,', 'according'): {'to': 1},\n",
            " ('scholarships,', 'programs'): {'and': 1},\n",
            " ('scholarships,”', 'and'): {'that': 1},\n",
            " ('scholarships.”', 'like'): {'all': 1},\n",
            " ('scholarship’s', 'language'): {'or': 1},\n",
            " ('school', 'gpa'): {'or': 1},\n",
            " ('schools', 'like'): {'harvard': 1},\n",
            " ('sea', 'of'): {'troubles': 1},\n",
            " ('seek', 'to'): {'exclude': 1},\n",
            " ('selective', 'institutions'): {'that': 1},\n",
            " ('series.', 'check'): {'next': 1},\n",
            " ('she', 'said'): {'schools': 1},\n",
            " ('she', 'thinks'): {'drake': 1},\n",
            " ('slings', 'and'): {'arrows': 1},\n",
            " ('small', 'number'): {'of': 1},\n",
            " ('so', 'key'): {'to': 1},\n",
            " ('so', 'we’re'): {'still': 1},\n",
            " ('some', 'cases,'): {'a': 1},\n",
            " ('some', 'drake'): {'scholarships': 1},\n",
            " ('some', 'implications,'): {'but': 1},\n",
            " ('some', 'of'): {'the': 1},\n",
            " ('some', 'problems,”'): {'kende': 1},\n",
            " ('specified', 'that'): {'they': 1},\n",
            " ('spots.', 'drake’s'): {'admissions': 1},\n",
            " ('standards', '“to'): {'make': 1},\n",
            " ('status]', 'and'): {'still': 1},\n",
            " ('stem', 'field,'): {'mattison': 1},\n",
            " ('still', 'being'): {'compliant,”': 1},\n",
            " ('still', 'play'): {'a': 1},\n",
            " ('still', 'reach'): {'the': 1},\n",
            " ('still', 'trying'): {'to': 1},\n",
            " ('still', 'working'): {'through': 1},\n",
            " ('stop', 'using'): {'race-based': 1},\n",
            " ('stopped', 'it,'): {'honestly.”': 1},\n",
            " ('story', 'can'): {'emerge': 1},\n",
            " ('student', 'is'): {'actively': 1},\n",
            " ('student', 'must'): {'be': 1},\n",
            " ('student', 'of'): {'color': 1},\n",
            " ('students', 'can’t'): {'join': 1},\n",
            " ('students', 'of'): {'color': 2, 'color.': 1},\n",
            " ('students', 'or'): {'students': 1},\n",
            " ('students', 'who'): {'demonstrate': 1, 'have': 1},\n",
            " ('students', 'will'): {'be': 1},\n",
            " ('students', 'with'): {'financial': 1},\n",
            " ('students,', 'it'): {'might': 1},\n",
            " ('students,', 'students'): {'of': 1},\n",
            " ('students,', 'universities'): {'are': 1},\n",
            " ('students,”', 'mattison'): {'said.': 1},\n",
            " ('students.', 'he'): {'said': 1},\n",
            " ('students.”', 'even'): {'if': 1},\n",
            " ('student’s', 'story'): {'can': 1},\n",
            " ('subject', 'to'): {'the': 1},\n",
            " ('sue', 'mattison.'): {'“affirmative': 1},\n",
            " ('suffer', 'the'): {'slings': 1},\n",
            " ('summer,', 'the'): {'supreme': 1},\n",
            " ('support', 'a'): {'student': 1},\n",
            " ('supreme', 'court'): {'decision': 1,\n",
            "                        'left': 1,\n",
            "                        'protected': 1,\n",
            "                        'ruled': 1,\n",
            "                        'ruling': 1,\n",
            "                        '“basically': 1},\n",
            " ('supreme', 'court’s'): {'decision': 1, 'decision,': 1},\n",
            " ('system', 'said'): {'that': 1},\n",
            " ('take', 'arms'): {'against': 1},\n",
            " ('take', 'their'): {'principle': 1},\n",
            " ('taking', 'a'): {'different': 1},\n",
            " ('team', 'found'): {'that': 1},\n",
            " ('than', 'a'): {'reaction': 1},\n",
            " ('that', 'actually'): {'means,': 1},\n",
            " ('that', 'caring'): {'about': 1},\n",
            " ('that', 'consider'): {'an': 1},\n",
            " ('that', 'considers'): {'race,': 1},\n",
            " ('that', 'description'): {'then,': 1},\n",
            " ('that', 'doesn’t'): {'apply': 1},\n",
            " ('that', 'gives'): {'preference': 1},\n",
            " ('that', 'is'): {'the': 1},\n",
            " ('that', 'it'): {'calls': 1},\n",
            " ('that', 'limit'): {'the': 1},\n",
            " ('that', 'prioritize'): {'applicants': 1},\n",
            " ('that', 'the'): {'university': 1},\n",
            " ('that', 'they'): {'can': 1, 'wanted': 1},\n",
            " ('that', 'we'): {'can': 2, 'continue': 1, 'expect,”': 1},\n",
            " ('that', '“a'): {'small': 1},\n",
            " ('that', '“these'): {'practices': 1},\n",
            " ('that’s', 'comparable'): {'to': 1},\n",
            " ('the', 'admissions'): {'decision,': 1, 'form,': 1, 'programs': 1},\n",
            " ('the', 'affirmative'): {'action': 3},\n",
            " ('the', 'answer'): {'has': 1},\n",
            " ('the', 'basis'): {'of': 1},\n",
            " ('the', 'country.”'): {'she': 1},\n",
            " ('the', 'court’s'): {'decision,': 1, 'decision.': 1, 'ruling': 1},\n",
            " ('the', 'decision'): {'might': 1},\n",
            " ('the', 'decision,'): {'race': 1},\n",
            " ('the', 'dollars'): {'would': 1},\n",
            " ('the', 'donor'): {'or': 1},\n",
            " ('the', 'first'): {'place.': 1},\n",
            " ('the', 'language'): {'would': 1},\n",
            " ('the', 'mind'): {'to': 1},\n",
            " ('the', 'number'): {'of': 1},\n",
            " ('the', 'overall'): {'general': 1},\n",
            " ('the', 'question'): {':': 1},\n",
            " ('the', 'same'): {'students.”': 1},\n",
            " ('the', 'scholarships'): {'it': 1},\n",
            " ('the', 'scholarships.”'): {'like': 1},\n",
            " ('the', 'scholarship’s'): {'language': 1},\n",
            " ('the', 'slings'): {'and': 1},\n",
            " ('the', 'summer,'): {'the': 1},\n",
            " ('the', 'supreme'): {'court': 6, 'court’s': 2},\n",
            " ('the', 'times-delphic'): {'is': 1},\n",
            " ('the', 'u.s.'): {'constitution': 1},\n",
            " ('the', 'university'): {'has': 1, 'is': 1, 'of': 2},\n",
            " ('the', 'values'): {'that': 1},\n",
            " ('the', 'wake'): {'of': 2},\n",
            " ('the', 'wording'): {'of': 1},\n",
            " ('their', 'identity…'): {'it’ll': 1},\n",
            " ('their', 'principle'): {'of': 1},\n",
            " ('then,', 'wouldn’t'): {'they?”': 1},\n",
            " ('there', 'is'): {'a': 1},\n",
            " ('they', 'can'): {'pick': 1},\n",
            " ('they', 'couldn’t'): {'have': 1},\n",
            " ('they', 'never'): {'apply': 1},\n",
            " ('they', 'wanted'): {'to': 1},\n",
            " ('they', 'would'): {'fit': 1},\n",
            " ('they?”', 'zantingh'): {'said.': 1},\n",
            " ('they’ve', 'overcome'): {'a': 1},\n",
            " ('things', 'like'): {'admissions,': 1},\n",
            " ('think', 'the'): {'overall': 1},\n",
            " ('thinks', 'drake'): {'is': 1},\n",
            " ('this', 'is'): {'more': 1},\n",
            " ('those', 'really'): {'highly': 1},\n",
            " ('though', 'we’ve'): {'asked': 1},\n",
            " ('through', 'discrimination,'): {'inspiration': 1},\n",
            " ('through', 'what'): {'that': 1},\n",
            " ('times-delphic', 'is'): {'publishing': 1},\n",
            " ('title', 'vi'): {'must': 1},\n",
            " ('to', 'achieve'): {'the': 1},\n",
            " ('to', 'admissions,'): {'only': 1},\n",
            " ('to', 'be'): {',': 2, 'repurposed': 1},\n",
            " ('to', 'change'): {'the': 1},\n",
            " ('to', 'change,'): {'or': 1},\n",
            " ('to', 'consider'): {'“an': 1},\n",
            " ('to', 'continue'): {'to': 1},\n",
            " ('to', 'cut'): {'any': 1},\n",
            " ('to', 'dean'): {'of': 1},\n",
            " ('to', 'determine'): {'how': 1},\n",
            " ('to', 'do'): {'to': 1, 'with': 1},\n",
            " ('to', 'drake'): {'and': 1},\n",
            " ('to', 'drake’s'): {'vision': 1},\n",
            " ('to', 'exclude'): {'any': 1},\n",
            " ('to', 'fifty'): {'scholarships,': 1},\n",
            " ('to', 'kende.'): {'he': 1},\n",
            " ('to', 'none,”'): {'zantingh': 1},\n",
            " ('to', 'other'): {'places,': 1},\n",
            " ('to', 'play'): {'a': 1},\n",
            " ('to', 'provost'): {'sue': 1},\n",
            " ('to', 'ryan'): {'zantingh,': 1},\n",
            " ('to', 'students'): {'who': 1},\n",
            " ('to', 'suffer'): {'the': 1},\n",
            " ('to', 'support'): {'a': 1},\n",
            " ('to', 'take'): {'arms': 1},\n",
            " ('to', 'the'): {'affirmative': 2, 'u.s.': 1},\n",
            " ('to', 'their'): {'identity…': 1},\n",
            " ('treated', 'based'): {'on': 1},\n",
            " ('trying', 'to'): {'determine': 1},\n",
            " ('u.s.', 'constitution'): {'or': 1},\n",
            " ('unc', 'have'): {'enough': 1},\n",
            " ('universities', 'are'): {'allowed': 1},\n",
            " ('universities,', 'to'): {'other': 1},\n",
            " ('university', 'admissions,'): {'according': 1},\n",
            " ('university', 'and'): {'the': 1},\n",
            " ('university', 'has'): {'“admitted': 1},\n",
            " ('university', 'hiring'): {'practices': 1},\n",
            " ('university', 'is'): {'monitoring': 1},\n",
            " ('university', 'of'): {'missouri': 1, 'north': 1},\n",
            " ('unwilling', 'to'): {'change': 1},\n",
            " ('used', 'race/ethnicity'): {'as': 1},\n",
            " ('using', 'race-based'): {'standards': 1},\n",
            " ('values', 'that'): {'we': 1},\n",
            " ('vi', 'must'): {'stop': 1},\n",
            " ('vision', 'for'): {'diversity': 1},\n",
            " ('vulnerable', 'after'): {'the': 1},\n",
            " ('wake', 'of'): {'the': 2},\n",
            " ('wanted', 'to'): {'support': 1},\n",
            " ('wasn’t', 'a'): {'factor': 1},\n",
            " ('way.', 'per'): {'either': 1},\n",
            " ('ways', 'that'): {'we': 2},\n",
            " ('we', 'can'): {'change': 1, 'ensure': 1},\n",
            " ('we', 'continue'): {'crew': 1},\n",
            " ('we', 'don’t'): {'know': 1},\n",
            " ('we', 'expect,”'): {'mattison': 1},\n",
            " ('we', 'have'): {'to': 1},\n",
            " ('week’s', 'paper'): {'for': 1},\n",
            " ('well', 'as'): {'corporations’': 1},\n",
            " ('we’re', 'still'): {'working': 1},\n",
            " ('we’ve', 'asked'): {'for': 1},\n",
            " ('what', 'impact'): {'the': 1},\n",
            " ('what', 'that'): {'actually': 1},\n",
            " ('what', 'we'): {'have': 1},\n",
            " ('when', 'admitting'): {'students,': 1},\n",
            " ('where', 'financial'): {'aid': 1},\n",
            " ('whether', \"'tis\"): {'nobler': 1},\n",
            " ('which', 'applicants'): {'fill': 1},\n",
            " ('which', 'is'): {'for': 1},\n",
            " ('while', 'still'): {'being': 1},\n",
            " ('white', 'student'): {'is': 1},\n",
            " ('who', 'demonstrate'): {'a': 1},\n",
            " ('who', 'have'): {'a': 1},\n",
            " ('will', 'be'): {'discontinued.”': 1, 'little': 1},\n",
            " ('will', 'impact'): {'drake’s': 1},\n",
            " ('with', 'a'): {'drake': 1},\n",
            " ('with', 'affirmative'): {'action.': 1},\n",
            " ('with', 'financial'): {'need.': 1},\n",
            " ('with', 'regards'): {'to': 1},\n",
            " ('without', 'drake'): {'asking': 1},\n",
            " ('woman', 'in'): {'a': 1},\n",
            " ('wording', 'of'): {'some': 1},\n",
            " ('working', 'through'): {'what': 1},\n",
            " ('would', 'fit'): {'that': 1},\n",
            " ('would', 'have'): {'to': 2},\n",
            " ('would', 'not'): {'seek': 1},\n",
            " ('wouldn’t', 'they?”'): {'zantingh': 1},\n",
            " ('wrote', 'in'): {'the': 1},\n",
            " ('yet.”', 'financial'): {'aid': 1},\n",
            " ('you', 'take'): {'their': 1},\n",
            " ('zantingh', 'doesn’t'): {'expect': 1},\n",
            " ('zantingh', 'gave'): {'an': 1},\n",
            " ('zantingh', 'said.'): {'if': 1,\n",
            "                         'race': 1,\n",
            "                         'zantingh': 1,\n",
            "                         '“basically,': 1,\n",
            "                         '“scholarship': 1},\n",
            " ('zantingh,', 'drake’s'): {'director': 1},\n",
            " ('—', 'not'): {'on': 1},\n",
            " ('“a', 'small'): {'number': 1},\n",
            " ('“admitted', 'all'): {'students': 1},\n",
            " ('“affirmative', 'action,'): {'with': 1},\n",
            " ('“an', 'applicant’s'): {'discussion': 1},\n",
            " ('“and', 'so'): {'we’re': 1},\n",
            " ('“basically', 'has'): {'embraced': 1},\n",
            " ('“basically,', 'the'): {'language': 1},\n",
            " ('“but', 'we'): {'don’t': 1},\n",
            " ('“especially', 'if'): {'they’ve': 1},\n",
            " ('“even', 'though'): {'we’ve': 1},\n",
            " ('“i', 'don’t'): {'know': 1},\n",
            " ('“if', 'a'): {'white': 1},\n",
            " ('“if', 'you'): {'take': 1},\n",
            " ('“scholarship', 'resources'): {'can': 1},\n",
            " ('“so', 'that'): {'doesn’t': 1},\n",
            " ('“the', 'scholarship'): {'criteria': 1},\n",
            " ('“the', 'student'): {'must': 1},\n",
            " ('“there', 'are'): {'ways': 2},\n",
            " ('“there', 'may'): {'be': 1},\n",
            " ('“there’s', 'a'): {'lot': 1},\n",
            " ('“these', 'practices'): {'will': 1},\n",
            " ('“to', 'make'): {'decisions': 1}}\n"
          ]
        }
      ],
      "source": [
        "from nltk.corpus import gutenberg\n",
        "from collections import defaultdict\n",
        "import networkx as nx\n",
        "import matplotlib.pyplot as plt\n",
        "import random\n",
        "from pprint import pformat\n",
        "\n",
        "class MarkovModel:\n",
        "\n",
        "    def __init__(self, order=1):\n",
        "        # empty nested dictionary mapping words to words to ints\n",
        "        self.transition_counts = defaultdict(lambda: defaultdict(int))\n",
        "        self.order = order\n",
        "\n",
        "    def train(self, corpus):\n",
        "        # loop through each word in the corpus record the next word\n",
        "        # in its frequency dictionary\n",
        "        for idx in range(len(corpus) - self.order):\n",
        "            current_token = tuple(corpus[idx:idx + self.order])\n",
        "            next_token = corpus[idx + self.order]\n",
        "            self.transition_counts[current_token][next_token] += 1\n",
        "\n",
        "    def generate_random_next_word(self, current_words):\n",
        "        # get the frequency of all words that come after current_words\n",
        "        possible_words_counts = self.transition_counts[current_words]\n",
        "        # count up the total of all words that come after current_words\n",
        "        total_occurrences = sum(possible_words_counts.values())\n",
        "\n",
        "        # check if there are no occurrences\n",
        "        if total_occurrences == 0:\n",
        "            return None  # Handle the case when there are no occurrences\n",
        "\n",
        "        # we are going to select one occurrence randomly\n",
        "        random_num = random.randint(1, total_occurrences)\n",
        "\n",
        "        # subtract words counts from our random number until we hit 0\n",
        "        # this will hit more frequent words proportionally more often\n",
        "        for word in possible_words_counts:\n",
        "            random_num = random_num - possible_words_counts[word]\n",
        "            if random_num <= 0:\n",
        "                return word\n",
        "\n",
        "    def generate_text(self, num=100, start_words=(\"I\",)):\n",
        "        # a running string to build on with random words\n",
        "        markov_text = \" \".join(start_words) + \" \"\n",
        "        curr_words = tuple(start_words)\n",
        "\n",
        "        # add num random words onto our running string\n",
        "        for n in range(num):\n",
        "            next_word = self.generate_random_next_word(curr_words)\n",
        "\n",
        "            # handle the case when generate_random_next_word returns None\n",
        "            if next_word is None:\n",
        "                break\n",
        "\n",
        "            markov_text += next_word + \" \"\n",
        "            curr_words = curr_words[1:] + (next_word,)\n",
        "\n",
        "        return markov_text\n",
        "\n",
        "    def print_generated_texts(self, num_texts=5, text_length=100, start_words=(\"I\",)):\n",
        "        for _ in range(num_texts):\n",
        "            generated_text = self.generate_text(num=text_length, start_words=start_words)\n",
        "            print(generated_text)\n",
        "            print('\\n' + '-'*50 + '\\n')\n",
        "\n",
        "    def __str__(self):\n",
        "        # convert defaultdicts to dicts and format using the pprint formatter\n",
        "        return pformat({key: dict(self.transition_counts[key]) for key in self.transition_counts})\n",
        "\n",
        "    def visualize(self, probabilities=False, layout=nx.kamada_kawai_layout):\n",
        "        # use this method to generate visualizations of small models\n",
        "        # it will take too long on large texts - don't do it!\n",
        "        G = nx.DiGraph()\n",
        "\n",
        "        if probabilities:\n",
        "            transition_probabilities = defaultdict(dict)\n",
        "            for current_words, next_words in self.transition_counts.items():\n",
        "                total_occurrences = sum(next_words.values())\n",
        "                for next_word, count in next_words.items():\n",
        "                    transition_probabilities[current_words][next_word] = count / total_occurrences\n",
        "\n",
        "            for current_words, next_words in transition_probabilities.items():\n",
        "                for next_word, probability in next_words.items():\n",
        "                    G.add_edge(current_words, next_word, weight=probability)\n",
        "        else:\n",
        "            for current_words, next_words in self.transition_counts.items():\n",
        "                for next_word, count in next_words.items():\n",
        "                    G.add_edge(current_words, next_word, weight=count)\n",
        "\n",
        "        pos = layout(G)\n",
        "        edge_labels = {edge: f\"{G.edges[edge]['weight']}\" for edge in G.edges()}\n",
        "        nx.draw(G, pos, with_labels=True, node_size=500, node_color='lightblue', font_size=10)\n",
        "        nx.draw_networkx_edge_labels(G, pos, edge_labels=edge_labels)\n",
        "\n",
        "        #plt.title(\"Markov Model Visualization\")\n",
        "        #plt.figure(figsize=(25, 14))\n",
        "        #plt.show()\n",
        "\n",
        "# Example usage:\n",
        "to_be = \"To be , or not to be , that is the question : Whether 'tis nobler in the mind to suffer The slings and arrows of outrageous fortune , Or to take Arms against a Sea of troubles\"\n",
        "to_be_tokens = to_be.lower().split()  # convert to lowercase and break apart by spaces into a list\n",
        "\n",
        "# Train the model on the initial data\n",
        "to_be_model = MarkovModel(order=2)  # Use a 2nd order model\n",
        "to_be_model.train(to_be_tokens)\n",
        "\n",
        "# Additional data for training ( will use the script from the Times Delphic regarding Affirmative Action)\n",
        "additional_text = \"\"\"\n",
        "How does the Supreme Court ruling on affirmative action affect Drake?\n",
        "The answer has little to do with affirmative action.\n",
        "Over the summer, the Supreme Court ruled against the admissions programs of Harvard University and the University of North Carolina in an affirmative action decision. Before the decision, race already wasn’t a factor in Drake University admissions, according to Provost Sue Mattison.\n",
        "“Affirmative action, with regards to admissions, only impacts those really highly selective institutions that limit the number of incoming students,” Mattison said. “So that doesn’t apply to Drake and most institutions across the country.”\n",
        "She said schools like Harvard and UNC have enough applicants that they can pick and choose which applicants fill a certain number of spots.\n",
        "Drake’s admissions team found that the university has “admitted all students who have a 3.0 high school GPA or [higher],” Mattison said. “Even though we’ve asked for a person’s race on the admissions form, it does not have an impact on the admissions decision, and it doesn’t displace anybody.”\n",
        "Possible effects of the court’s ruling\n",
        "Mark Kende, director of Drake’s Constitutional Law Center, said the Supreme Court “basically has embraced an idea that it calls colorblindness.”\n",
        "“If you take their principle of colorblindness and extend it beyond universities, to other places, it could raise some problems,” Kende said. “But we don’t know yet.”\n",
        "Financial aid programs that prioritize applicants of a particular race over another are more vulnerable after the court’s decision, according to Kende. He said it’s not clear what impact the decision might have on university hiring practices that consider an employee’s race, as well as corporations’ diversity programs.\n",
        "Following the Supreme Court’s decision, Missouri Attorney General Andrew Bailey said Missouri institutions subject to the U.S. Constitution or Title VI must stop using race-based standards “to make decisions about things like admissions, scholarships, programs and employment.”\n",
        "The University of Missouri System said that “a small number of our programs and scholarships have used race/ethnicity as a factor for admissions and scholarships,” and that “these practices will be discontinued.”\n",
        "Drake is taking a different approach in the wake of the affirmative action decision. The university is monitoring maybe about forty to fifty scholarships, according to Ryan Zantingh, Drake’s director of financial aid. This is more in anticipation of a comparable case on financial aid that considers race, rather than a reaction to the affirmative action ruling.\n",
        "Mattison said she thinks Drake is still trying to determine how the Supreme Court decision will impact Drake’s Crew Scholars program, which is for incoming students of color.\n",
        "“There are ways that we can ensure that we continue Crew Scholars while still being compliant,” Mattison said.\n",
        "Donors for some Drake scholarships specified that they wanted to support a student of color or a woman in a STEM field, Mattison said.\n",
        "“And so we’re still working through what that actually means, and what we have to do to continue to achieve the values that we expect,” Mattison said. “There are ways that we can change the wording of some of the scholarships.”\n",
        "Like all students, students of color may qualify for scholarships for first-generation students or students with financial need.\n",
        "“There’s a lot of overlap between students of color and other areas where financial aid is directed,” Zantingh said. “Scholarship resources can be directed [to financial need or first generation status] and still reach the same students.”\n",
        "Even if there is a ruling on financial aid that’s comparable to the affirmative action decision, Zantingh doesn’t expect a large impact on Drake financial aid from either decision.\n",
        "“There may be some implications, but I think the overall general effect on students will be little to none,” Zantingh said.\n",
        "Zantingh gave an example of scholarship language offered by legal counsel. If a scholarship is for only minority students, it might become a scholarship that gives preference to students who demonstrate a commitment to Drake’s vision for diversity on campus.\n",
        "“If a white student is actively involved in anti-racist leadership here on campus, certainly they would fit that description then, wouldn’t they?” Zantingh said. “Basically, the language would not seek to exclude any particular protected class categorically.”\n",
        "In some cases, a donor might be unwilling to change the scholarship’s language or be deceased, Zantingh said. If a donor is deceased, a judge might approve changes. He said he doesn’t expect Drake to cut any of the scholarships it is monitoring.\n",
        "“The scholarship criteria would have to change, or the dollars would have to be repurposed in another way. Per either the donor or a court’s approval,” Zantingh said.\n",
        "Race can still play a role in college admissions\n",
        "The Supreme Court left at least one legal path open for race to play a role in college admissions.\n",
        "When admitting students, universities are allowed to consider “an applicant’s discussion of how race affected his or her life, be it through discrimination, inspiration or otherwise,” Chief Justice John Roberts wrote in the Court’s decision. However, “the student must be treated based on his or her experiences as an individual — not on the basis of race.”\n",
        "A student’s story can emerge without Drake asking for it, according to Dean of Admissions Joel Johnson.\n",
        "“Especially if they’ve overcome a lot, or it’s so key to their identity… it’ll come out on its own,” Johnson said. “I don’t know if I could say the Supreme Court protected it. They couldn’t have stopped it, honestly.”\n",
        "Johnson said that caring about diversity also means intentionally recruiting a diverse group of students. He said students can’t join Drake if they never apply in the first place.\n",
        "In the wake of the Supreme Court’s decision on affirmative action, The Times-Delphic is publishing a series. Check next week’s paper for an article about legacy admissions and legacy financial aid with a Drake focus.\n",
        "\"\"\"\n",
        "\n",
        "additional_tokens = additional_text.lower().split()\n",
        "\n",
        "# Train the model on additional data\n",
        "to_be_model.train(additional_tokens)\n",
        "\n",
        "# Generate text and print the model\n",
        "to_be_model.print_generated_texts(num_texts=1, text_length=50, start_words=(\"a\", \"student\"))\n",
        "print(to_be_model)\n",
        "\n",
        "# Visualize the model\n",
        "#to_be_model.visualize(probabilities=False)\n"
      ]
    }
  ],
  "metadata": {
    "accelerator": "GPU",
    "celltoolbar": "Slideshow",
    "colab": {
      "gpuType": "T4",
      "include_colab_link": true,
      "provenance": []
    },
    "kernelspec": {
      "display_name": "Python 3",
      "name": "python3"
    },
    "language_info": {
      "codemirror_mode": {
        "name": "ipython",
        "version": 3
      },
      "file_extension": ".py",
      "mimetype": "text/x-python",
      "name": "python",
      "nbconvert_exporter": "python",
      "pygments_lexer": "ipython3",
      "version": "3.10.6"
    }
  },
  "nbformat": 4,
  "nbformat_minor": 0
}
