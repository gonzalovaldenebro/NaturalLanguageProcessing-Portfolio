{
  "cells": [
    {
      "cell_type": "markdown",
      "metadata": {
        "id": "view-in-github",
        "colab_type": "text"
      },
      "source": [
        "<a href=\"https://colab.research.google.com/github/gonzalovaldenebro/NaturalLanguageProcessing-Portfolio/blob/main/F2_2_SummarizationTranslationQuestionAnswering.ipynb\" target=\"_parent\"><img src=\"https://colab.research.google.com/assets/colab-badge.svg\" alt=\"Open In Colab\"/></a>"
      ]
    },
    {
      "cell_type": "markdown",
      "metadata": {
        "id": "C192SOmJS6lw"
      },
      "source": [
        "# CS 195: Natural Language Processing\n",
        "## Summarization, Translation, and Question Answering\n",
        "\n",
        "[![Open In Colab](https://colab.research.google.com/assets/colab-badge.svg)](https://colab.research.google.com/github/ericmanley/f23-CS195NLP/blob/main/F2_2_SummarizationTranslationQuestionAnswering.ipynb)\n"
      ]
    },
    {
      "cell_type": "markdown",
      "metadata": {
        "id": "62pqYyjVZ4v9"
      },
      "source": [
        "## References\n",
        "\n",
        "*Two minutes NLP — Learn the ROUGE metric* by examples by Fabio Chiusano: https://medium.com/nlplanet/two-minutes-nlp-learn-the-rouge-metric-by-examples-f179cc285499\n",
        "\n",
        "Google's implementation of rouge_score: https://github.com/google-research/google-research/tree/master/rouge\n",
        "\n",
        "Hugging Face's wrapper for Google's implementation: https://huggingface.co/spaces/evaluate-metric/rouge\n",
        "\n",
        "Hugging Face Task Guide on Summarization: https://huggingface.co/docs/transformers/tasks/summarization\n",
        "\n",
        "Hugging Face Task Guide on Translation: https://huggingface.co/docs/transformers/tasks/translation\n",
        "\n",
        "Hugging Face Task Guide on Question Answering: https://huggingface.co/docs/transformers/tasks/question_answering\n"
      ]
    },
    {
      "cell_type": "markdown",
      "metadata": {
        "id": "kBNzk-YuZ4v-"
      },
      "source": [
        "## Installing necessary modules"
      ]
    },
    {
      "cell_type": "code",
      "execution_count": null,
      "metadata": {
        "id": "XwlFc71XZ4v-",
        "outputId": "31fb4b13-ac90-46ee-ae54-17f9ff64be16",
        "colab": {
          "base_uri": "https://localhost:8080/"
        }
      },
      "outputs": [
        {
          "output_type": "stream",
          "name": "stdout",
          "text": [
            "Requirement already satisfied: transformers in /usr/local/lib/python3.10/dist-packages (4.33.1)\n",
            "Requirement already satisfied: datasets in /usr/local/lib/python3.10/dist-packages (2.14.5)\n",
            "Requirement already satisfied: evaluate in /usr/local/lib/python3.10/dist-packages (0.4.0)\n",
            "Requirement already satisfied: rouge_score in /usr/local/lib/python3.10/dist-packages (0.1.2)\n",
            "Requirement already satisfied: sentencepiece in /usr/local/lib/python3.10/dist-packages (0.1.99)\n",
            "Requirement already satisfied: sacremoses in /usr/local/lib/python3.10/dist-packages (0.0.53)\n",
            "Requirement already satisfied: filelock in /usr/local/lib/python3.10/dist-packages (from transformers) (3.12.2)\n",
            "Requirement already satisfied: huggingface-hub<1.0,>=0.15.1 in /usr/local/lib/python3.10/dist-packages (from transformers) (0.17.1)\n",
            "Requirement already satisfied: numpy>=1.17 in /usr/local/lib/python3.10/dist-packages (from transformers) (1.23.5)\n",
            "Requirement already satisfied: packaging>=20.0 in /usr/local/lib/python3.10/dist-packages (from transformers) (23.1)\n",
            "Requirement already satisfied: pyyaml>=5.1 in /usr/local/lib/python3.10/dist-packages (from transformers) (6.0.1)\n",
            "Requirement already satisfied: regex!=2019.12.17 in /usr/local/lib/python3.10/dist-packages (from transformers) (2023.6.3)\n",
            "Requirement already satisfied: requests in /usr/local/lib/python3.10/dist-packages (from transformers) (2.31.0)\n",
            "Requirement already satisfied: tokenizers!=0.11.3,<0.14,>=0.11.1 in /usr/local/lib/python3.10/dist-packages (from transformers) (0.13.3)\n",
            "Requirement already satisfied: safetensors>=0.3.1 in /usr/local/lib/python3.10/dist-packages (from transformers) (0.3.3)\n",
            "Requirement already satisfied: tqdm>=4.27 in /usr/local/lib/python3.10/dist-packages (from transformers) (4.66.1)\n",
            "Requirement already satisfied: pyarrow>=8.0.0 in /usr/local/lib/python3.10/dist-packages (from datasets) (9.0.0)\n",
            "Requirement already satisfied: dill<0.3.8,>=0.3.0 in /usr/local/lib/python3.10/dist-packages (from datasets) (0.3.7)\n",
            "Requirement already satisfied: pandas in /usr/local/lib/python3.10/dist-packages (from datasets) (1.5.3)\n",
            "Requirement already satisfied: xxhash in /usr/local/lib/python3.10/dist-packages (from datasets) (3.3.0)\n",
            "Requirement already satisfied: multiprocess in /usr/local/lib/python3.10/dist-packages (from datasets) (0.70.15)\n",
            "Requirement already satisfied: fsspec[http]<2023.9.0,>=2023.1.0 in /usr/local/lib/python3.10/dist-packages (from datasets) (2023.6.0)\n",
            "Requirement already satisfied: aiohttp in /usr/local/lib/python3.10/dist-packages (from datasets) (3.8.5)\n",
            "Requirement already satisfied: responses<0.19 in /usr/local/lib/python3.10/dist-packages (from evaluate) (0.18.0)\n",
            "Requirement already satisfied: absl-py in /usr/local/lib/python3.10/dist-packages (from rouge_score) (1.4.0)\n",
            "Requirement already satisfied: nltk in /usr/local/lib/python3.10/dist-packages (from rouge_score) (3.8.1)\n",
            "Requirement already satisfied: six>=1.14.0 in /usr/local/lib/python3.10/dist-packages (from rouge_score) (1.16.0)\n",
            "Requirement already satisfied: click in /usr/local/lib/python3.10/dist-packages (from sacremoses) (8.1.7)\n",
            "Requirement already satisfied: joblib in /usr/local/lib/python3.10/dist-packages (from sacremoses) (1.3.2)\n",
            "Requirement already satisfied: attrs>=17.3.0 in /usr/local/lib/python3.10/dist-packages (from aiohttp->datasets) (23.1.0)\n",
            "Requirement already satisfied: charset-normalizer<4.0,>=2.0 in /usr/local/lib/python3.10/dist-packages (from aiohttp->datasets) (3.2.0)\n",
            "Requirement already satisfied: multidict<7.0,>=4.5 in /usr/local/lib/python3.10/dist-packages (from aiohttp->datasets) (6.0.4)\n",
            "Requirement already satisfied: async-timeout<5.0,>=4.0.0a3 in /usr/local/lib/python3.10/dist-packages (from aiohttp->datasets) (4.0.3)\n",
            "Requirement already satisfied: yarl<2.0,>=1.0 in /usr/local/lib/python3.10/dist-packages (from aiohttp->datasets) (1.9.2)\n",
            "Requirement already satisfied: frozenlist>=1.1.1 in /usr/local/lib/python3.10/dist-packages (from aiohttp->datasets) (1.4.0)\n",
            "Requirement already satisfied: aiosignal>=1.1.2 in /usr/local/lib/python3.10/dist-packages (from aiohttp->datasets) (1.3.1)\n",
            "Requirement already satisfied: typing-extensions>=3.7.4.3 in /usr/local/lib/python3.10/dist-packages (from huggingface-hub<1.0,>=0.15.1->transformers) (4.5.0)\n",
            "Requirement already satisfied: idna<4,>=2.5 in /usr/local/lib/python3.10/dist-packages (from requests->transformers) (3.4)\n",
            "Requirement already satisfied: urllib3<3,>=1.21.1 in /usr/local/lib/python3.10/dist-packages (from requests->transformers) (2.0.4)\n",
            "Requirement already satisfied: certifi>=2017.4.17 in /usr/local/lib/python3.10/dist-packages (from requests->transformers) (2023.7.22)\n",
            "Requirement already satisfied: python-dateutil>=2.8.1 in /usr/local/lib/python3.10/dist-packages (from pandas->datasets) (2.8.2)\n",
            "Requirement already satisfied: pytz>=2020.1 in /usr/local/lib/python3.10/dist-packages (from pandas->datasets) (2023.3.post1)\n"
          ]
        }
      ],
      "source": [
        "import sys\n",
        "!{sys.executable} -m pip install transformers datasets evaluate rouge_score sentencepiece sacremoses"
      ]
    },
    {
      "cell_type": "markdown",
      "metadata": {
        "id": "7Iss_g7-Z4v_"
      },
      "source": [
        "## Review: Sequence-to-Sequence Models\n",
        "\n",
        "NLP models that take one sequence as input and produce another sequence as output are called **Seq2seq**\n",
        "* summarization\n",
        "* translation\n",
        "* conversation\n",
        "\n",
        "**A Challenge:** unlike classification, there's no way to tell for sure whether the prediction is right!\n",
        "\n",
        "**Partial Solutions:**\n",
        "* Qualitative metrics - humans can describe how closely they match\n",
        "* ROUGE Metrics: statistics that measure similarities between two sequences.\n",
        "\n"
      ]
    },
    {
      "cell_type": "markdown",
      "metadata": {
        "id": "gZcpK9_OZ4v_"
      },
      "source": [
        "## Review: Using Hugging Face's wrapper for ROUGE\n",
        "\n",
        "**ROUGE:** Recall-Oriented Understudy for Gisting Evaluation\n",
        "\n",
        "Suppose we have a **reference** sequence, which is one known possible *correct* sequence\n",
        "* E.g., a translation or a summarization that a trustworthy human has produced\n",
        "\n",
        "**Example reference:** \"A broody hen sat in a nesting box all day.\"\n",
        "\n",
        "**Example machine-generated prediction:** \"A hen sat in every nesting box that long sunny day.\"\n",
        "\n"
      ]
    },
    {
      "cell_type": "code",
      "execution_count": null,
      "metadata": {
        "id": "2SVaOPWdZ4wA",
        "outputId": "5bbc23fb-f095-44ed-d0ff-acf8eb2308e7",
        "colab": {
          "base_uri": "https://localhost:8080/"
        }
      },
      "outputs": [
        {
          "output_type": "execute_result",
          "data": {
            "text/plain": [
              "{'rouge1': 0.6666666666666666,\n",
              " 'rouge2': 0.3157894736842105,\n",
              " 'rougeL': 0.6666666666666666,\n",
              " 'rougeLsum': 0.6666666666666666}"
            ]
          },
          "metadata": {},
          "execution_count": 2
        }
      ],
      "source": [
        "import evaluate\n",
        "\n",
        "rouge = evaluate.load(\"rouge\")\n",
        "\n",
        "reference_sentence = \"a broody hen sat in a nesting box all day\"\n",
        "predicted_sentence = \"a hen sat in every nesting box that long sunny day\"\n",
        "\n",
        "rouge.compute(predictions=[predicted_sentence],references=[reference_sentence])"
      ]
    },
    {
      "cell_type": "markdown",
      "metadata": {
        "id": "RgmuzX04Z4wA"
      },
      "source": [
        "## Interpreting ROUGE\n",
        "\n",
        "All of these are in the context of the F1 score - balancing precision and recall (looking at overlap relative to the *reference* or the *prediction*)\n",
        "\n",
        "`rouge1` - overlap of individual words (1-grams) between prediction and reference\n",
        "\n",
        "`rouge2` - overlap of *bigrams* (2-grams, pairs of consecutive words)\n",
        "\n",
        "`rougeL` - the *longest common subsequence* between the prediction and reference. The subsequence must be in *order* but not nececssarily *consecutive*\n",
        "\n",
        "`rougeLsum` - do `rougeL` for each newline/sentence and aggregate the results"
      ]
    },
    {
      "cell_type": "markdown",
      "metadata": {
        "id": "KRM8iubfZ4wA"
      },
      "source": [
        "## Summarization in Hugging Face\n",
        "\n",
        "Hugging Face hosts many summarization models. Here's one called BART (https://huggingface.co/facebook/bart-large-cnn) that was trained on CNN/Daily Mail news articles (https://huggingface.co/datasets/cnn_dailymail) which include **reference** summaries written by the authors of the original article.\n",
        "\n",
        "We'll try it out on a Times-Delphic article I found here: https://timesdelphic.com/2023/09/the-answer-has-little-to-do-with-affirmative-action-over-the-summer-the-supreme-court-ruled-against-the-admissions-programs-of-harvard-university-and-the-university-of-north-carolina-in-an-affirmat/"
      ]
    },
    {
      "cell_type": "code",
      "execution_count": null,
      "metadata": {
        "id": "ufJi6oU0Z4wA"
      },
      "outputs": [],
      "source": [
        "from transformers import pipeline\n",
        "\n",
        "summarizer = pipeline(\"summarization\", model=\"facebook/bart-large-cnn\") #could also try google/pegasus-xsum"
      ]
    },
    {
      "cell_type": "code",
      "execution_count": null,
      "metadata": {
        "id": "r6myfOZTZ4wA"
      },
      "outputs": [],
      "source": [
        "times_delphic_story = \"\"\"\n",
        "How does the Supreme Court ruling on affirmative action affect Drake?\n",
        "The answer has little to do with affirmative action.\n",
        "Over the summer, the Supreme Court ruled against the admissions programs of Harvard University and the University of North Carolina in an affirmative action decision. Before the decision, race already wasn’t a factor in Drake University admissions, according to Provost Sue Mattison.\n",
        "“Affirmative action, with regards to admissions, only impacts those really highly selective institutions that limit the number of incoming students,” Mattison said. “So that doesn’t apply to Drake and most institutions across the country.”\n",
        "She said schools like Harvard and UNC have enough applicants that they can pick and choose which applicants fill a certain number of spots.\n",
        "Drake’s admissions team found that the university has “admitted all students who have a 3.0 high school GPA or [higher],” Mattison said. “Even though we’ve asked for a person’s race on the admissions form, it does not have an impact on the admissions decision, and it doesn’t displace anybody.”\n",
        "Possible effects of the court’s ruling\n",
        "Mark Kende, director of Drake’s Constitutional Law Center, said the Supreme Court “basically has embraced an idea that it calls colorblindness.”\n",
        "“If you take their principle of colorblindness and extend it beyond universities, to other places, it could raise some problems,” Kende said. “But we don’t know yet.”\n",
        "Financial aid programs that prioritize applicants of a particular race over another are more vulnerable after the court’s decision, according to Kende. He said it’s not clear what impact the decision might have on university hiring practices that consider an employee’s race, as well as corporations’ diversity programs.\n",
        "Following the Supreme Court’s decision, Missouri Attorney General Andrew Bailey said Missouri institutions subject to the U.S. Constitution or Title VI must stop using race-based standards “to make decisions about things like admissions, scholarships, programs and employment.”\n",
        "The University of Missouri System said that “a small number of our programs and scholarships have used race/ethnicity as a factor for admissions and scholarships,” and that “these practices will be discontinued.”\n",
        "Drake is taking a different approach in the wake of the affirmative action decision. The university is monitoring maybe about forty to fifty scholarships, according to Ryan Zantingh, Drake’s director of financial aid. This is more in anticipation of a comparable case on financial aid that considers race, rather than a reaction to the affirmative action ruling.\n",
        "Mattison said she thinks Drake is still trying to determine how the Supreme Court decision will impact Drake’s Crew Scholars program, which is for incoming students of color.\n",
        "“There are ways that we can ensure that we continue Crew Scholars while still being compliant,” Mattison said.\n",
        "Donors for some Drake scholarships specified that they wanted to support a student of color or a woman in a STEM field, Mattison said.\n",
        "“And so we’re still working through what that actually means, and what we have to do to continue to achieve the values that we expect,” Mattison said. “There are ways that we can change the wording of some of the scholarships.”\n",
        "Like all students, students of color may qualify for scholarships for first-generation students or students with financial need.\n",
        "“There’s a lot of overlap between students of color and other areas where financial aid is directed,” Zantingh said. “Scholarship resources can be directed [to financial need or first generation status] and still reach the same students.”\n",
        "Even if there is a ruling on financial aid that’s comparable to the affirmative action decision, Zantingh doesn’t expect a large impact on Drake financial aid from either decision.\n",
        "“There may be some implications, but I think the overall general effect on students will be little to none,” Zantingh said.\n",
        "Zantingh gave an example of scholarship language offered by legal counsel. If a scholarship is for only minority students, it might become a scholarship that gives preference to students who demonstrate a commitment to Drake’s vision for diversity on campus.\n",
        "“If a white student is actively involved in anti-racist leadership here on campus, certainly they would fit that description then, wouldn’t they?” Zantingh said. “Basically, the language would not seek to exclude any particular protected class categorically.”\n",
        "In some cases, a donor might be unwilling to change the scholarship’s language or be deceased, Zantingh said. If a donor is deceased, a judge might approve changes. He said he doesn’t expect Drake to cut any of the scholarships it is monitoring.\n",
        "“The scholarship criteria would have to change, or the dollars would have to be repurposed in another way. Per either the donor or a court’s approval,” Zantingh said.\n",
        "Race can still play a role in college admissions\n",
        "The Supreme Court left at least one legal path open for race to play a role in college admissions.\n",
        "When admitting students, universities are allowed to consider “an applicant’s discussion of how race affected his or her life, be it through discrimination, inspiration or otherwise,” Chief Justice John Roberts wrote in the Court’s decision. However, “the student must be treated based on his or her experiences as an individual — not on the basis of race.”\n",
        "A student’s story can emerge without Drake asking for it, according to Dean of Admissions Joel Johnson.\n",
        "“Especially if they’ve overcome a lot, or it’s so key to their identity… it’ll come out on its own,” Johnson said. “I don’t know if I could say the Supreme Court protected it. They couldn’t have stopped it, honestly.”\n",
        "Johnson said that caring about diversity also means intentionally recruiting a diverse group of students. He said students can’t join Drake if they never apply in the first place.\n",
        "In the wake of the Supreme Court’s decision on affirmative action, The Times-Delphic is publishing a series. Check next week’s paper for an article about legacy admissions and legacy financial aid with a Drake focus.\n",
        "\n",
        "\"\"\""
      ]
    },
    {
      "cell_type": "code",
      "execution_count": null,
      "metadata": {
        "id": "FaJbHVWAZ4wB",
        "outputId": "2ed4ff72-6f45-4735-acf8-e388a9cfc57a",
        "colab": {
          "base_uri": "https://localhost:8080/"
        }
      },
      "outputs": [
        {
          "output_type": "execute_result",
          "data": {
            "text/plain": [
              "6089"
            ]
          },
          "metadata": {},
          "execution_count": 5
        }
      ],
      "source": [
        "len(times_delphic_story) #let's check how long this string is"
      ]
    },
    {
      "cell_type": "code",
      "execution_count": null,
      "metadata": {
        "id": "WXeU6XEPZ4wB",
        "outputId": "8254cb33-0a4f-4464-ae83-15fdf139ab48",
        "colab": {
          "base_uri": "https://localhost:8080/"
        }
      },
      "outputs": [
        {
          "output_type": "stream",
          "name": "stdout",
          "text": [
            "[{'summary_text': 'The Supreme Court ruled against the admissions programs of Harvard University and the University of North Carolina in an affirmative action decision. Before the decision, race already wasn’t a factor in Drake University admissions. Financial aid programs that prioritize applicants of a particular race over another are more vulnerable.'}]\n"
          ]
        }
      ],
      "source": [
        "print(summarizer(times_delphic_story[:4630],max_length=100,min_length=50))"
      ]
    },
    {
      "cell_type": "markdown",
      "metadata": {
        "id": "1UCrE90JZ4wB"
      },
      "source": [
        "### Group Exercise\n",
        "\n",
        "In this example, I only use the first 4000 characters from the article.\n",
        "\n",
        "## 1. Try using more. Why do you think I did that?\n",
        "\n",
        "## 2. What strategies can you think of for getting summaries of longer articles?"
      ]
    },
    {
      "cell_type": "markdown",
      "source": [
        "- 1. The model can only handle 4630 characters\n",
        "- 2. Break up the text into multiple lists of a reasonable lenght, get the summeries from each and then concatenate those into 1 general summary"
      ],
      "metadata": {
        "id": "VaDCyf6JdiP3"
      }
    },
    {
      "cell_type": "markdown",
      "metadata": {
        "id": "c63CU0mrZ4wB"
      },
      "source": [
        "## Let's try it on a different summarization dataset\n",
        "\n",
        "The *BillSum* dataset contains the text of legislative bills and their summaries from both the US Federal and California State legislatures.\n",
        "\n",
        "See more here: https://huggingface.co/datasets/billsum\n",
        "\n",
        "This dataset has `train`, `test`, and `ca_test` splits. We can load just one of them - let's try the `ca-test` which is the smaller test set.\n"
      ]
    },
    {
      "cell_type": "code",
      "execution_count": null,
      "metadata": {
        "id": "Iyv-MlGuZ4wC"
      },
      "outputs": [],
      "source": [
        "from datasets import load_dataset\n",
        "\n",
        "billsum = load_dataset(\"billsum\", split=\"ca_test\")"
      ]
    },
    {
      "cell_type": "markdown",
      "metadata": {
        "id": "rHrpL3EYZ4wC"
      },
      "source": [
        "## Let's explore the dataset\n",
        "\n",
        "What does it look like when printed/displayed?"
      ]
    },
    {
      "cell_type": "code",
      "execution_count": null,
      "metadata": {
        "id": "6euATeTuZ4wC",
        "outputId": "ebf49235-f8c8-4dea-d3a2-dc79740d1982",
        "colab": {
          "base_uri": "https://localhost:8080/"
        }
      },
      "outputs": [
        {
          "output_type": "stream",
          "name": "stdout",
          "text": [
            "Dataset({\n",
            "    features: ['text', 'summary', 'title'],\n",
            "    num_rows: 1237\n",
            "})\n"
          ]
        }
      ],
      "source": [
        "print(billsum)"
      ]
    },
    {
      "cell_type": "markdown",
      "metadata": {
        "id": "4F8vlWhrZ4wC"
      },
      "source": [
        "What does one of the items look like?"
      ]
    },
    {
      "cell_type": "code",
      "execution_count": null,
      "metadata": {
        "id": "pIFnmqrdZ4wC",
        "outputId": "ed37651e-67ec-49a8-f386-0af08c1690dc",
        "colab": {
          "base_uri": "https://localhost:8080/"
        }
      },
      "outputs": [
        {
          "output_type": "execute_result",
          "data": {
            "text/plain": [
              "{'text': 'The people of the State of California do enact as follows:\\n\\n\\nSECTION 1.\\nThe Legislature finds and declares all of the following:\\n(a) (1) Since 1899 congressionally chartered veterans’ organizations have provided a valuable service to our nation’s returning service members. These organizations help preserve the memories and incidents of the great hostilities fought by our nation, and preserve and strengthen comradeship among members.\\n(2) These veterans’ organizations also own and manage various properties including lodges, posts, and fraternal halls. These properties act as a safe haven where veterans of all ages and their families can gather together to find camaraderie and fellowship, share stories, and seek support from people who understand their unique experiences. This aids in the healing process for these returning veterans, and ensures their health and happiness.\\n(b) As a result of congressional chartering of these veterans’ organizations, the United States Internal Revenue Service created a special tax exemption for these organizations under Section 501(c)(19) of the Internal Revenue Code.\\n(c) Section 501(c)(19) of the Internal Revenue Code and related federal regulations provide for the exemption for posts or organizations of war veterans, or an auxiliary unit or society of, or a trust or foundation for, any such post or organization that, among other attributes, carries on programs to perpetuate the memory of deceased veterans and members of the Armed Forces and to comfort their survivors, conducts programs for religious, charitable, scientific, literary, or educational purposes, sponsors or participates in activities of a patriotic nature, and provides social and recreational activities for their members.\\n(d) Section 215.1 of the Revenue and Taxation Code stipulates that all buildings, support and so much of the real property on which the buildings are situated as may be required for the convenient use and occupation of the buildings, used exclusively for charitable purposes, owned by a veterans’ organization that has been chartered by the Congress of the United States, organized and operated for charitable purposes, when the same are used solely and exclusively for the purpose of the organization, if not conducted for profit and no part of the net earnings of which ensures to the benefit of any private individual or member thereof, are exempt from taxation.\\n(e) The Chief Counsel of the State Board of Equalization concluded, based on a 1979 appellate court decision, that only parts of American Legion halls are exempt from property taxation and that other parts, such as billiard rooms, card rooms, and similar areas, are not exempt.\\n(f) In a 1994 memorandum, the State Board of Equalization’s legal division further concluded that the areas normally considered eligible for exemptions are the office areas used to counsel veterans and the area used to store veterans’ records, but that the meeting hall and bar found in most of the facilities are not considered used for charitable purposes.\\n(g) Tax-exempt status is intended to provide economic incentive and support to veterans’ organizations to provide for the social welfare of the community of current and former military personnel.\\n(h) The State Board of Equalization’s constriction of the tax exemption has resulted in an onerous tax burden on California veteran service organizations posts or halls, hinders the posts’ ability to provide facilities for veterans, and threatens the economic viability of many local organizations.\\n(i) The charitable activities of a veteran service organizations post or hall are much more than the counseling of veterans. The requirements listed for qualification for the federal tax exemption clearly dictate a need for more than just an office.\\n(j) Programs to perpetuate the memory of deceased veterans and members of the Armed Forces and to comfort their survivors require the use of facilities for funerals and receptions.\\n(k) Programs for religious, charitable, scientific, literary, or educational purposes require space for more than 50 attendees.\\n(l) Activities of a patriotic nature need facilities to accommodate hundreds of people.\\n(m) Social and recreational activities for members require precisely those areas considered “not used for charitable purposes” by the State Board of Equalization.\\n(n) The State Board of Equalization’s interpretation of the Revenue and Taxation Code reflects a lack of understanding of the purpose and programs of the veterans service organizations posts or halls and is detrimental to the good works performed in support of our veteran community.\\nSECTION 1.\\nSEC. 2.\\nSection 215.1 of the Revenue and Taxation Code is amended to read:\\n215.1.\\n(a) All buildings, and so much of the real property on which the buildings are situated as may be required for the convenient use and occupation of the buildings, used exclusively for charitable purposes, owned by a veterans’ organization that has been chartered by the Congress of the United States, organized and operated for charitable purposes, and exempt from federal income tax as an organization described in Section 501(c)(19) of the Internal Revenue Code when the same are used solely and exclusively for the purpose of the organization, if not conducted for profit and no part of the net earnings of which inures to the benefit of any private individual or member thereof, shall be exempt from taxation.\\n(b) The exemption provided for in this section shall apply to the property of all organizations meeting the requirements of this section, subdivision (b) of Section 4 of Article XIII of the California Constitution, and paragraphs (1) to (4), inclusive, (6), and (7) of subdivision (a) of Section 214.\\n(c) (1) The exemption specified by subdivision (a) shall not be denied to a property on the basis that the property is used for fraternal, lodge, or social club purposes.\\n(2) With regard to this subdivision, the Legislature finds and declares all of the following:\\n(A) The exempt activities of a veterans’ organization as described in subdivision (a) qualitatively differ from the exempt activities of other nonprofit entities that use property for fraternal, lodge, or social club purposes in that the exempt purpose of the veterans’ organization is to conduct programs to perpetuate the memory of deceased veterans and members of the Armed Forces and to comfort their survivors, to conduct programs for religious, charitable, scientific, literary, or educational purposes, to sponsor or participate in activities of a patriotic nature, and to provide social and recreational activities for their members.\\n(B) In light of this distinction, the use of real property by a veterans’ organization as described in subdivision (a), for fraternal, lodge, or social club purposes is central to that organization’s exempt purposes and activities.\\n(C) In light of the factors set forth in subparagraphs (A) and (B), the use of real property by a veterans’ organization as described in subdivision (a) for fraternal, lodge, or social club purposes, constitutes the exclusive use of that property for a charitable purpose within the meaning of subdivision (b) of Section 4 of Article XIII of the California Constitution.\\n(d) The exemption provided for in this section shall not apply to any portion of a property that consists of a bar where alcoholic beverages are served. The portion of the property ineligible for the veterans’ organization exemption shall be that area used primarily to prepare and serve alcoholic beverages.\\n(e) An organization that files a claim for the exemption provided for in this section shall file with the assessor a valid organizational clearance certificate issued pursuant to Section 254.6.\\n(f) This exemption shall be known as the “veterans’ organization exemption.”\\nSEC. 2.\\nSEC. 3.\\nNotwithstanding Section 2229 of the Revenue and Taxation Code, no appropriation is made by this act and the state shall not reimburse any local agency for any property tax revenues lost by it pursuant to this act.\\nSEC. 3.\\nSEC. 4.\\nThis act provides for a tax levy within the meaning of Article IV of the Constitution and shall go into immediate effect.',\n",
              " 'summary': 'Existing property tax law establishes a veterans’ organization exemption under which property is exempt from taxation if, among other things, that property is used exclusively for charitable purposes and is owned by a veterans’ organization.\\nThis bill would provide that the veterans’ organization exemption shall not be denied to a property on the basis that the property is used for fraternal, lodge, or social club purposes, and would make specific findings and declarations in that regard. The bill would also provide that the exemption shall not apply to any portion of a property that consists of a bar where alcoholic beverages are served.\\nSection 2229 of the Revenue and Taxation Code requires the Legislature to reimburse local agencies annually for certain property tax revenues lost as a result of any exemption or classification of property for purposes of ad valorem property taxation.\\nThis bill would provide that, notwithstanding Section 2229 of the Revenue and Taxation Code, no appropriation is made and the state shall not reimburse local agencies for property tax revenues lost by them pursuant to the bill.\\nThis bill would take effect immediately as a tax levy.',\n",
              " 'title': 'An act to amend Section 215.1 of the Revenue and Taxation Code, relating to taxation, to take effect immediately, tax levy.'}"
            ]
          },
          "metadata": {},
          "execution_count": 9
        }
      ],
      "source": [
        "billsum[0]"
      ]
    },
    {
      "cell_type": "markdown",
      "metadata": {
        "id": "9WCMlY5MZ4wC"
      },
      "source": [
        "Let's get a summary of the first bill (first 4000 characters of the text only) using the news-article summarizer."
      ]
    },
    {
      "cell_type": "code",
      "execution_count": null,
      "metadata": {
        "id": "T61-Yl1FZ4wC",
        "outputId": "ec833c14-6b6b-46b5-d95d-9f9723a580e9",
        "colab": {
          "base_uri": "https://localhost:8080/"
        }
      },
      "outputs": [
        {
          "output_type": "execute_result",
          "data": {
            "text/plain": [
              "[{'summary_text': 'Since 1899 congressionally chartered veterans’ organizations have provided a valuable service to our nation’s returning service members. The U.S. Internal Revenue Service created a special tax exemption for these organizations under Section 501(c)(19) of the Internal Revenue Code.'}]"
            ]
          },
          "metadata": {},
          "execution_count": 10
        }
      ],
      "source": [
        "summarizer(billsum[0][\"text\"][:4000])"
      ]
    },
    {
      "cell_type": "markdown",
      "metadata": {
        "id": "ZX7UMlI5Z4wC"
      },
      "source": [
        "## Now let's do a batch of 5 articles\n",
        "\n",
        "First, we need to prepare a list that contains the texts of the first 5 bills, truncated to the first 4000 characters."
      ]
    },
    {
      "cell_type": "code",
      "execution_count": null,
      "metadata": {
        "id": "yxN7akymZ4wC"
      },
      "outputs": [],
      "source": [
        "truncated_bill_texts = []\n",
        "for idx in range(5):\n",
        "    curr_truncated_text = billsum[idx][\"text\"][:4000]\n",
        "    truncated_bill_texts.append( curr_truncated_text )"
      ]
    },
    {
      "cell_type": "markdown",
      "metadata": {
        "id": "P0gHekQ1Z4wC"
      },
      "source": [
        "Now let's get a summary of each of those texts. This might take a while."
      ]
    },
    {
      "cell_type": "code",
      "execution_count": null,
      "metadata": {
        "id": "Los_VBihZ4wC",
        "outputId": "f0e6192e-9b68-48c0-c8ec-1af906ccacd6",
        "colab": {
          "base_uri": "https://localhost:8080/"
        }
      },
      "outputs": [
        {
          "output_type": "stream",
          "name": "stdout",
          "text": [
            "[{'summary_text': 'Since 1899 congressionally chartered veterans’ organizations have provided a valuable service to our nation’s returning service members. The U.S. Internal Revenue Service created a special tax exemption for these organizations under Section 501(c)(19) of the Internal Revenue Code.'}, {'summary_text': 'A prisoner is not eligible for resentence or recall pursuant to subdivision (e) of Section 1170 if he or she was convicted of first-degree murder if the victim was a peace officer. A prisoner sentenced to death or life in prison without possibility of parole cannot be granted medical parole.'}, {'summary_text': 'California has long been known as the land of opportunity, the republic of the future. But for too many of its residents the future is receding. Inequality continues to rise, even though California has one of the most progressive tax structures in the nation. Small businesses, like plumbing contractors, auto repair shops, and restaurants that account for over 90 percent of the state’s businesses are a key rung on the ladder of upward mobility.'}, {'summary_text': 'The Transit and Intercity Rail Capital Program is intended to modernize California’s intercity, commuter, and urban rail systems and bus and ferry transit systems. The Transportation Agency shall evaluate applications consistent with the criteria set forth in this part and approve a multiyear program of projects for funding.'}, {'summary_text': 'Section 4788 is added to the Probate Code, to read: 4788. The people of the State of California do enact as follows: \"The California POLST eRegistry Pilot Act\" \"POLST\" means a Physician Orders for Life Sustaining Treatment that fulfills the requirements of Section 4780.'}]\n",
            "['Existing property tax law establishes a veterans’ organization exemption under which property is exempt from taxation if, among other things, that property is used exclusively for charitable purposes and is owned by a veterans’ organization.\\nThis bill would provide that the veterans’ organization exemption shall not be denied to a property on the basis that the property is used for fraternal, lodge, or social club purposes, and would make specific findings and declarations in that regard. The bill would also provide that the exemption shall not apply to any portion of a property that consists of a bar where alcoholic beverages are served.\\nSection 2229 of the Revenue and Taxation Code requires the Legislature to reimburse local agencies annually for certain property tax revenues lost as a result of any exemption or classification of property for purposes of ad valorem property taxation.\\nThis bill would provide that, notwithstanding Section 2229 of the Revenue and Taxation Code, no appropriation is made and the state shall not reimburse local agencies for property tax revenues lost by them pursuant to the bill.\\nThis bill would take effect immediately as a tax levy.', 'Existing law provides that the Board of Parole Hearings or its successor in interest shall be the state’s parole authority. Existing law requires that a prisoner who is found to be permanently medically incapacitated, as specified, be granted medical parole, if the Board of Parole Hearings determines that the conditions under which the prisoner would be released would not reasonably pose a threat to public safety. Existing law exempts a prisoner sentenced to death, a prisoner sentenced to life without the possibility of parole, and a prisoner who is serving a sentence for which parole is prohibited by initiative statute, from medical parole eligibility.\\nExisting law authorizes a court to resentence or recall the sentence of a prisoner if the court finds that the prisoner is terminally ill, as specified, or the prisoner is permanently medically incapacitated, as specified, and, in either case, the conditions under which the prisoner would be released or receive treatment do not pose a threat to public safety. Existing law exempts a prisoner sentenced to death or a term of life without the possibility of parole from eligibility for compassionate release pursuant to these provisions.\\nThis bill would additionally exempt from medical parole eligibility and compassionate release eligibility a prisoner who was convicted of the first-degree murder of a peace officer or a person who had been a peace officer, as provided.', 'The Sales and Use Tax Law imposes a tax on retailers measured by the gross receipts from the sale of tangible personal property sold at retail in this state, or on the storage, use, or other consumption in this state of tangible personal property purchased from a retailer for storage, use, or other consumption in this state. The Personal Income Tax Law imposes taxes on personal taxable income at specified rates, and the Corporation Tax Law imposes taxes upon, or measured by, corporate income.\\nThis bill would state legislative findings regarding the Upward Mobility Act, key provisions of which would expand the application of the Sales and Use Tax law by imposing a tax on specified services, would enhance the state’s business climate\\nand\\n,\\nwould incentivize entrepreneurship and business creation by evaluating the\\nCorporate Tax Law,\\ncorporate tax,\\nand would examine the impacts of a lower and simpler\\nPersonal Income Tax Law.\\npersonal income tax.\\nThis bill would, on and after January 1, ___, expand the Sales and Use Tax Law to impose a tax on the gross receipts from the sale in this state of, or the receipt of the benefit in this state of services at a rate of ____%.', 'Existing law requires all moneys, except for fines and penalties, collected by the State Air Resources Board from a market-based compliance mechanism relative to reduction of greenhouse gas emissions to be deposited in the Greenhouse Gas Reduction Fund.\\nExisting law establishes the Transit and Intercity Rail Capital Program, which receives 10% of the annual proceeds of the Greenhouse Gas Reduction Fund as a continuous appropriation, to fund capital improvements and operational investments to modernize California’s rail systems to achieve certain policy objectives, including reducing greenhouse gas emissions, expanding and improving rail services to increase ridership, and improving rail safety. Existing law requires the Transportation Agency to evaluate applications for funding under the program and to prepare a list of projects recommended for funding, with grants to be awarded by the California Transportation Commission.\\nThis bill would modify the purpose of the program to delete references to operational investments and instead provide for the funding of transformative capital improvements, as defined, that will modernize California’s intercity, commuter, and urban rail systems and bus and ferry transit systems to achieve certain policy objectives, including reducing emissions of greenhouse gases, expanding and improving transit services to increase ridership, and improving transit safety. By expanding the purposes for which continuously appropriated moneys may be used, the bill would make an appropriation. The bill would modify the information required to be included in applications for grants under the program and would authorize an eligible applicant to submit an application to fund a project over multiple fiscal years and to submit multiple applications. The bill would require the Transportation Agency, in selecting projects for funding, to consider the extent to which a project reduces greenhouse gas emissions, would add additional factors to be considered in evaluating applications for funding, and would expand certain factors considered to include bus and ferry transit service. The bill would require the Transportation Agency to approve, by July 1, 2018, a 5-year program of projects, and would require the California Transportation Commission to allocate funding to eligible applicants pursuant to the program of projects, with subsequent programs of projects to be approved not later than April 1 of each even-numbered year thereafter. The bill would require the Transportation Agency, in cooperation with the California Transportation Commission and at the request of an eligible applicant, to enter into and execute a multiyear funding agreement for a project to be funded over more than one fiscal year, as specified, and would authorize the California Transportation Commission to approve a letter of no prejudice that would allow an applicant to expend its own moneys on a project in the approved program of projects, subject to future reimbursement from program moneys for eligible expenditures.', 'Existing law defines a request regarding resuscitative measures as a written document, signed by an individual with capacity, or a legally recognized health care decisionmaker, and the individual’s physician, directing a health care provider regarding resuscitative measures. Existing law defines a Physician Orders for Life Sustaining Treatment form, which is commonly referred to as a POLST form, and provides that a request regarding resuscitative measures includes a POLST form. Existing law requires that a POLST form and the medical intervention and procedures offered by the form be explained by a health care provider. Existing law distinguishes a request regarding resuscitative measures from an advance health care directive.\\nThis bill would enact the California POLST eRegistry Pilot Act. The bill would require the Emergency Medical Services Authority to establish a pilot project, in consultation with stakeholders, to operate an electronic registry system on a pilot basis, to be known as the California POLST eRegistry Pilot, for the purpose of collecting POLST information received from a physician or physician’s designee. The bill would require the authority to coordinate the POLST eRegistry Pilot, which would be operated by health information exchange networks, by an independent contractor, or by a combination thereof. The bill would require the authority to implement these provisions only after it determines that sufficient nonstate funds are available for development of the POLST eRegistry Pilot, any related startup costs, and an evaluation of the POLST eRegistry Pilot. When the POLST eRegistry Pilot is operable in the geographic area in which he or she operates or practices, a physician or physician’s designee who completes POLST information would be required to include the POLST information in the patient’s official medical record and would be required to submit a copy of the form to, or to enter the information into, the POLST eRegistry Pilot, unless a patient or his or her health care decisionmaker chooses not to participate in the POLST eRegistry Pilot. The bill would require the authority to adopt guidelines for, among other things, the operation of the POLST eRegistry Pilot, including the means by which POLST information would be submitted electronically, modified, or withdrawn, the appropriate and timely methods for dissemination of POLST form information, the procedures for verifying the identity of an authorized user, and rules for maintaining the confidentiality of POLST information received by the POLST eRegistry Pilot. The bill would require that any disclosure of POLST information in the POLST eRegistry Pilot be made in accordance with applicable state and federal privacy and security laws and regulations. The bill would provide immunity from criminal prosecution, civil liability, discipline for unprofessional conduct, and any other sanction for a health care provider who honors a patient’s request regarding resuscitative measures obtained from the POLST eRegistry Pilot, as specified. The bill would require an independent contractor approved by the authority to conduct an evaluation of the POLST eRegistry Pilot. The provisions of the bill would be operative until January 1, 2020.']\n"
          ]
        }
      ],
      "source": [
        "prediction_summaries = summarizer(truncated_bill_texts)\n",
        "actual_references = billsum[\"summary\"][0:5]\n",
        "\n",
        "print(prediction_summaries)\n",
        "print(actual_references)\n"
      ]
    },
    {
      "cell_type": "markdown",
      "metadata": {
        "id": "PsIKxtd3Z4wC"
      },
      "source": [
        "Notice that summarizer returns a list of dictionaries with one key each: `'summary_text'`. If we want to evaluate these with ROUGE, we will need to get a flat list of all these texts - not contained inside a dictionary."
      ]
    },
    {
      "cell_type": "code",
      "execution_count": null,
      "metadata": {
        "id": "PDBUzXcgZ4wC",
        "outputId": "ec53f6d5-1050-40dc-b4d7-6b6648013524",
        "colab": {
          "base_uri": "https://localhost:8080/"
        }
      },
      "outputs": [
        {
          "output_type": "stream",
          "name": "stdout",
          "text": [
            "['Since 1899 congressionally chartered veterans’ organizations have provided a valuable service to our nation’s returning service members. The U.S. Internal Revenue Service created a special tax exemption for these organizations under Section 501(c)(19) of the Internal Revenue Code.', 'A prisoner is not eligible for resentence or recall pursuant to subdivision (e) of Section 1170 if he or she was convicted of first-degree murder if the victim was a peace officer. A prisoner sentenced to death or life in prison without possibility of parole cannot be granted medical parole.', 'California has long been known as the land of opportunity, the republic of the future. But for too many of its residents the future is receding. Inequality continues to rise, even though California has one of the most progressive tax structures in the nation. Small businesses, like plumbing contractors, auto repair shops, and restaurants that account for over 90 percent of the state’s businesses are a key rung on the ladder of upward mobility.', 'The Transit and Intercity Rail Capital Program is intended to modernize California’s intercity, commuter, and urban rail systems and bus and ferry transit systems. The Transportation Agency shall evaluate applications consistent with the criteria set forth in this part and approve a multiyear program of projects for funding.', 'Section 4788 is added to the Probate Code, to read: 4788. The people of the State of California do enact as follows: \"The California POLST eRegistry Pilot Act\" \"POLST\" means a Physician Orders for Life Sustaining Treatment that fulfills the requirements of Section 4780.']\n"
          ]
        }
      ],
      "source": [
        "predictions_flat = []\n",
        "\n",
        "for result in prediction_summaries:\n",
        "    predictions_flat.append(result[\"summary_text\"])\n",
        "\n",
        "print(predictions_flat)"
      ]
    },
    {
      "cell_type": "markdown",
      "metadata": {
        "id": "Hg_A-p8UZ4wD"
      },
      "source": [
        "and now let's compute the ROUGE metrics"
      ]
    },
    {
      "cell_type": "code",
      "execution_count": null,
      "metadata": {
        "id": "1DB-qEwXZ4wD",
        "outputId": "dce827f6-2af4-44da-dd4d-7062a93d8962",
        "colab": {
          "base_uri": "https://localhost:8080/"
        }
      },
      "outputs": [
        {
          "output_type": "execute_result",
          "data": {
            "text/plain": [
              "{'rouge1': 0.1727460944852249,\n",
              " 'rouge2': 0.0758329573249116,\n",
              " 'rougeL': 0.12923816949402564,\n",
              " 'rougeLsum': 0.1515819153298624}"
            ]
          },
          "metadata": {},
          "execution_count": 16
        }
      ],
      "source": [
        "import evaluate\n",
        "\n",
        "rouge = evaluate.load(\"rouge\")\n",
        "\n",
        "rouge.compute(predictions=predictions_flat,references=actual_references)"
      ]
    },
    {
      "cell_type": "markdown",
      "metadata": {
        "id": "1XdM6ycgZ4wD"
      },
      "source": [
        "These seem to indicate there isn't a lot of overlap between the reference summaries and the predictions.\n",
        "\n",
        "Keep in mind:\n",
        "* the model was trained on a different kind of dataset\n",
        "* we are only using the first part of each bill"
      ]
    },
    {
      "cell_type": "markdown",
      "metadata": {
        "id": "nMHJmaiuZ4wD"
      },
      "source": [
        "## A translation example\n",
        "\n",
        "Here is a model that translates from Spanish (ES) to English (EN): https://huggingface.co/Helsinki-NLP/opus-mt-es-en"
      ]
    },
    {
      "cell_type": "code",
      "execution_count": null,
      "metadata": {
        "id": "GYwupODPZ4wD",
        "outputId": "491ab5c7-ae59-4e15-cb15-dd3da80cac8e",
        "colab": {
          "base_uri": "https://localhost:8080/",
          "height": 399
        }
      },
      "outputs": [
        {
          "output_type": "stream",
          "name": "stdout",
          "text": [
            "[{'translation_text': '♪ a chubby hen sat in a nest all day ♪'}]\n"
          ]
        },
        {
          "output_type": "error",
          "ename": "TypeError",
          "evalue": "ignored",
          "traceback": [
            "\u001b[0;31m---------------------------------------------------------------------------\u001b[0m",
            "\u001b[0;31mTypeError\u001b[0m                                 Traceback (most recent call last)",
            "\u001b[0;32m<ipython-input-21-7932a988ee5f>\u001b[0m in \u001b[0;36m<cell line: 13>\u001b[0;34m()\u001b[0m\n\u001b[1;32m     11\u001b[0m \u001b[0mprint\u001b[0m\u001b[0;34m(\u001b[0m\u001b[0mpredicted_sentence\u001b[0m\u001b[0;34m)\u001b[0m\u001b[0;34m\u001b[0m\u001b[0;34m\u001b[0m\u001b[0m\n\u001b[1;32m     12\u001b[0m \u001b[0;34m\u001b[0m\u001b[0m\n\u001b[0;32m---> 13\u001b[0;31m \u001b[0mrouge\u001b[0m\u001b[0;34m.\u001b[0m\u001b[0mcompute\u001b[0m\u001b[0;34m(\u001b[0m\u001b[0mprediction\u001b[0m \u001b[0;34m=\u001b[0m \u001b[0;34m[\u001b[0m\u001b[0mpredicted_sentence\u001b[0m\u001b[0;34m[\u001b[0m\u001b[0;36m0\u001b[0m\u001b[0;34m]\u001b[0m\u001b[0;34m[\u001b[0m\u001b[0;34m'translation_text'\u001b[0m\u001b[0;34m]\u001b[0m\u001b[0;34m]\u001b[0m\u001b[0;34m,\u001b[0m\u001b[0mreferences\u001b[0m \u001b[0;34m=\u001b[0m \u001b[0;34m[\u001b[0m\u001b[0mreference_english_sentence\u001b[0m\u001b[0;34m]\u001b[0m\u001b[0;34m)\u001b[0m\u001b[0;34m\u001b[0m\u001b[0;34m\u001b[0m\u001b[0m\n\u001b[0m\u001b[1;32m     14\u001b[0m \u001b[0mprint\u001b[0m\u001b[0;34m(\u001b[0m\u001b[0mpredicted_sentence\u001b[0m\u001b[0;34m)\u001b[0m\u001b[0;34m\u001b[0m\u001b[0;34m\u001b[0m\u001b[0m\n",
            "\u001b[0;32m/usr/local/lib/python3.10/dist-packages/evaluate/module.py\u001b[0m in \u001b[0;36mcompute\u001b[0;34m(self, predictions, references, **kwargs)\u001b[0m\n\u001b[1;32m    430\u001b[0m \u001b[0;34m\u001b[0m\u001b[0m\n\u001b[1;32m    431\u001b[0m         \u001b[0;32mif\u001b[0m \u001b[0many\u001b[0m\u001b[0;34m(\u001b[0m\u001b[0mv\u001b[0m \u001b[0;32mis\u001b[0m \u001b[0;32mnot\u001b[0m \u001b[0;32mNone\u001b[0m \u001b[0;32mfor\u001b[0m \u001b[0mv\u001b[0m \u001b[0;32min\u001b[0m \u001b[0minputs\u001b[0m\u001b[0;34m.\u001b[0m\u001b[0mvalues\u001b[0m\u001b[0;34m(\u001b[0m\u001b[0;34m)\u001b[0m\u001b[0;34m)\u001b[0m\u001b[0;34m:\u001b[0m\u001b[0;34m\u001b[0m\u001b[0;34m\u001b[0m\u001b[0m\n\u001b[0;32m--> 432\u001b[0;31m             \u001b[0mself\u001b[0m\u001b[0;34m.\u001b[0m\u001b[0madd_batch\u001b[0m\u001b[0;34m(\u001b[0m\u001b[0;34m**\u001b[0m\u001b[0minputs\u001b[0m\u001b[0;34m)\u001b[0m\u001b[0;34m\u001b[0m\u001b[0;34m\u001b[0m\u001b[0m\n\u001b[0m\u001b[1;32m    433\u001b[0m         \u001b[0mself\u001b[0m\u001b[0;34m.\u001b[0m\u001b[0m_finalize\u001b[0m\u001b[0;34m(\u001b[0m\u001b[0;34m)\u001b[0m\u001b[0;34m\u001b[0m\u001b[0;34m\u001b[0m\u001b[0m\n\u001b[1;32m    434\u001b[0m \u001b[0;34m\u001b[0m\u001b[0m\n",
            "\u001b[0;32m/usr/local/lib/python3.10/dist-packages/evaluate/module.py\u001b[0m in \u001b[0;36madd_batch\u001b[0;34m(self, predictions, references, **kwargs)\u001b[0m\n\u001b[1;32m    478\u001b[0m         \u001b[0mbatch\u001b[0m \u001b[0;34m=\u001b[0m \u001b[0;34m{\u001b[0m\u001b[0minput_name\u001b[0m\u001b[0;34m:\u001b[0m \u001b[0mbatch\u001b[0m\u001b[0;34m[\u001b[0m\u001b[0minput_name\u001b[0m\u001b[0;34m]\u001b[0m \u001b[0;32mfor\u001b[0m \u001b[0minput_name\u001b[0m \u001b[0;32min\u001b[0m \u001b[0mself\u001b[0m\u001b[0;34m.\u001b[0m\u001b[0m_feature_names\u001b[0m\u001b[0;34m(\u001b[0m\u001b[0;34m)\u001b[0m\u001b[0;34m}\u001b[0m\u001b[0;34m\u001b[0m\u001b[0;34m\u001b[0m\u001b[0m\n\u001b[1;32m    479\u001b[0m         \u001b[0;32mif\u001b[0m \u001b[0mself\u001b[0m\u001b[0;34m.\u001b[0m\u001b[0mwriter\u001b[0m \u001b[0;32mis\u001b[0m \u001b[0;32mNone\u001b[0m\u001b[0;34m:\u001b[0m\u001b[0;34m\u001b[0m\u001b[0;34m\u001b[0m\u001b[0m\n\u001b[0;32m--> 480\u001b[0;31m             \u001b[0mself\u001b[0m\u001b[0;34m.\u001b[0m\u001b[0mselected_feature_format\u001b[0m \u001b[0;34m=\u001b[0m \u001b[0mself\u001b[0m\u001b[0;34m.\u001b[0m\u001b[0m_infer_feature_from_batch\u001b[0m\u001b[0;34m(\u001b[0m\u001b[0mbatch\u001b[0m\u001b[0;34m)\u001b[0m\u001b[0;34m\u001b[0m\u001b[0;34m\u001b[0m\u001b[0m\n\u001b[0m\u001b[1;32m    481\u001b[0m             \u001b[0mself\u001b[0m\u001b[0;34m.\u001b[0m\u001b[0m_init_writer\u001b[0m\u001b[0;34m(\u001b[0m\u001b[0;34m)\u001b[0m\u001b[0;34m\u001b[0m\u001b[0;34m\u001b[0m\u001b[0m\n\u001b[1;32m    482\u001b[0m         \u001b[0;32mtry\u001b[0m\u001b[0;34m:\u001b[0m\u001b[0;34m\u001b[0m\u001b[0;34m\u001b[0m\u001b[0m\n",
            "\u001b[0;32m/usr/local/lib/python3.10/dist-packages/evaluate/module.py\u001b[0m in \u001b[0;36m_infer_feature_from_batch\u001b[0;34m(self, batch)\u001b[0m\n\u001b[1;32m    549\u001b[0m             \u001b[0;32mreturn\u001b[0m \u001b[0mself\u001b[0m\u001b[0;34m.\u001b[0m\u001b[0mfeatures\u001b[0m\u001b[0;34m\u001b[0m\u001b[0;34m\u001b[0m\u001b[0m\n\u001b[1;32m    550\u001b[0m         \u001b[0;32melse\u001b[0m\u001b[0;34m:\u001b[0m\u001b[0;34m\u001b[0m\u001b[0;34m\u001b[0m\u001b[0m\n\u001b[0;32m--> 551\u001b[0;31m             \u001b[0mexample\u001b[0m \u001b[0;34m=\u001b[0m \u001b[0mdict\u001b[0m\u001b[0;34m(\u001b[0m\u001b[0;34m[\u001b[0m\u001b[0;34m(\u001b[0m\u001b[0mk\u001b[0m\u001b[0;34m,\u001b[0m \u001b[0mv\u001b[0m\u001b[0;34m[\u001b[0m\u001b[0;36m0\u001b[0m\u001b[0;34m]\u001b[0m\u001b[0;34m)\u001b[0m \u001b[0;32mfor\u001b[0m \u001b[0mk\u001b[0m\u001b[0;34m,\u001b[0m \u001b[0mv\u001b[0m \u001b[0;32min\u001b[0m \u001b[0mbatch\u001b[0m\u001b[0;34m.\u001b[0m\u001b[0mitems\u001b[0m\u001b[0;34m(\u001b[0m\u001b[0;34m)\u001b[0m\u001b[0;34m]\u001b[0m\u001b[0;34m)\u001b[0m\u001b[0;34m\u001b[0m\u001b[0;34m\u001b[0m\u001b[0m\n\u001b[0m\u001b[1;32m    552\u001b[0m             \u001b[0;32mreturn\u001b[0m \u001b[0mself\u001b[0m\u001b[0;34m.\u001b[0m\u001b[0m_infer_feature_from_example\u001b[0m\u001b[0;34m(\u001b[0m\u001b[0mexample\u001b[0m\u001b[0;34m)\u001b[0m\u001b[0;34m\u001b[0m\u001b[0;34m\u001b[0m\u001b[0m\n\u001b[1;32m    553\u001b[0m \u001b[0;34m\u001b[0m\u001b[0m\n",
            "\u001b[0;32m/usr/local/lib/python3.10/dist-packages/evaluate/module.py\u001b[0m in \u001b[0;36m<listcomp>\u001b[0;34m(.0)\u001b[0m\n\u001b[1;32m    549\u001b[0m             \u001b[0;32mreturn\u001b[0m \u001b[0mself\u001b[0m\u001b[0;34m.\u001b[0m\u001b[0mfeatures\u001b[0m\u001b[0;34m\u001b[0m\u001b[0;34m\u001b[0m\u001b[0m\n\u001b[1;32m    550\u001b[0m         \u001b[0;32melse\u001b[0m\u001b[0;34m:\u001b[0m\u001b[0;34m\u001b[0m\u001b[0;34m\u001b[0m\u001b[0m\n\u001b[0;32m--> 551\u001b[0;31m             \u001b[0mexample\u001b[0m \u001b[0;34m=\u001b[0m \u001b[0mdict\u001b[0m\u001b[0;34m(\u001b[0m\u001b[0;34m[\u001b[0m\u001b[0;34m(\u001b[0m\u001b[0mk\u001b[0m\u001b[0;34m,\u001b[0m \u001b[0mv\u001b[0m\u001b[0;34m[\u001b[0m\u001b[0;36m0\u001b[0m\u001b[0;34m]\u001b[0m\u001b[0;34m)\u001b[0m \u001b[0;32mfor\u001b[0m \u001b[0mk\u001b[0m\u001b[0;34m,\u001b[0m \u001b[0mv\u001b[0m \u001b[0;32min\u001b[0m \u001b[0mbatch\u001b[0m\u001b[0;34m.\u001b[0m\u001b[0mitems\u001b[0m\u001b[0;34m(\u001b[0m\u001b[0;34m)\u001b[0m\u001b[0;34m]\u001b[0m\u001b[0;34m)\u001b[0m\u001b[0;34m\u001b[0m\u001b[0;34m\u001b[0m\u001b[0m\n\u001b[0m\u001b[1;32m    552\u001b[0m             \u001b[0;32mreturn\u001b[0m \u001b[0mself\u001b[0m\u001b[0;34m.\u001b[0m\u001b[0m_infer_feature_from_example\u001b[0m\u001b[0;34m(\u001b[0m\u001b[0mexample\u001b[0m\u001b[0;34m)\u001b[0m\u001b[0;34m\u001b[0m\u001b[0;34m\u001b[0m\u001b[0m\n\u001b[1;32m    553\u001b[0m \u001b[0;34m\u001b[0m\u001b[0m\n",
            "\u001b[0;31mTypeError\u001b[0m: 'NoneType' object is not subscriptable"
          ]
        }
      ],
      "source": [
        "# Use a pipeline as a high-level helper\n",
        "from transformers import pipeline\n",
        "\n",
        "spanish_sentence = \"una gallina chueca se sentó en un nido todo el día\"\n",
        "reference_english_sentence = \"a broody hen sat in a nesting box all day\"\n",
        "\n",
        "translator = pipeline(\"translation\", model=\"Helsinki-NLP/opus-mt-es-en\")\n",
        "\n",
        "predicted_sentence = translator(spanish_sentence)\n",
        "\n",
        "print(predicted_sentence)\n",
        "\n",
        "rouge.compute(prediction = [predicted_sentence[0]['translation_text']],references = [reference_english_sentence])\n",
        "print(predicted_sentence)"
      ]
    },
    {
      "cell_type": "markdown",
      "metadata": {
        "id": "MHMfWIU5Z4wD"
      },
      "source": [
        "## Applied Exploration\n",
        "\n",
        "Go to the Hugging Face models page: https://huggingface.co/models\n",
        "* Use the same model, but find two different news datasets (https://huggingface.co/datasets), and evaluate them using ROUGE metrics\n",
        "* For each dataset, record\n",
        "    - where did it come from?\n",
        "    - where did the reference summaries come from?\n",
        "    - how big is it?\n",
        "    - how big are the texts? Did you have to truncate them?\n",
        "* Evaluate the performance\n",
        "    - use the ROUGE metrics\n",
        "    - describe in your own words how it performed\n",
        "    - how did they compare to each other?\n",
        "    - how did they compare to the bills dataset?\n",
        "    - what do you think is the reason for the difference in performance that you noticed?\n",
        "    "
      ]
    },
    {
      "cell_type": "markdown",
      "source": [
        "- I found this [article/ news dataset](https://huggingface.co/datasets/yash1811/news_summaries) that contains a summarization already.\n",
        "- The dataset has 85,989 rows splitted in train, eval and test"
      ],
      "metadata": {
        "id": "AMaW220Jla-J"
      }
    },
    {
      "cell_type": "code",
      "source": [
        "pipe = pipeline(\"summarization\", model=\"facebook/bart-large-cnn\")"
      ],
      "metadata": {
        "id": "guoeLw6HlHUp"
      },
      "execution_count": null,
      "outputs": []
    },
    {
      "cell_type": "code",
      "source": [
        "news_sum = load_dataset(\"yash1811/news_summaries\", split=\"test\")"
      ],
      "metadata": {
        "id": "CL8i7lsSkNWv"
      },
      "execution_count": null,
      "outputs": []
    },
    {
      "cell_type": "code",
      "source": [
        "news_sum[0]"
      ],
      "metadata": {
        "colab": {
          "base_uri": "https://localhost:8080/"
        },
        "id": "T4ddpvdLnE_1",
        "outputId": "198cad8c-413a-43e3-f4ba-cbd4c30a0046"
      },
      "execution_count": null,
      "outputs": [
        {
          "output_type": "execute_result",
          "data": {
            "text/plain": [
              "{'Unnamed: 0': 60630,\n",
              " 'article': \"AAP's mayoral candidate Shelly Oberoi moved the Supreme Court on Thursday demanding the mayoral election be conducted in a time-bound manner, party officials said. The Delhi mayor election was stalled for the second time on Tuesday this month as the House was adjourned indefinitely by the LG-appointed presiding officer following a ruckus by some councillors.\",\n",
              " 'date': '26 Jan',\n",
              " 'time': '06:15 pm',\n",
              " 'source': 'https://www.timesnownews.com/india/aap-moves-supreme-court-over-delay-in-delhi-mcd-mayor-polls-hearing-likely-on-friday-article-97344157/amp?utm_campaign=fullarticle&utm_medium=referral&utm_source=inshorts ',\n",
              " 'author': 'Nakul Ahuja',\n",
              " 'abstract': 'AAP moves Supreme Court over delay in Delhi MCD mayor polls'}"
            ]
          },
          "metadata": {},
          "execution_count": 33
        }
      ]
    },
    {
      "cell_type": "markdown",
      "source": [
        "## Evaluate the performance"
      ],
      "metadata": {
        "id": "RKLWtWEGldNb"
      }
    },
    {
      "cell_type": "code",
      "source": [
        "truncated_news_texts = []\n",
        "for idx in range(5):\n",
        "    curr_truncated_news_text = news_sum[idx][\"article\"][:4000]\n",
        "    truncated_news_texts.append(curr_truncated_news_text )"
      ],
      "metadata": {
        "id": "U9H_bXo_oDC3"
      },
      "execution_count": null,
      "outputs": []
    },
    {
      "cell_type": "code",
      "source": [
        "prediction_summaries_news = pipe(truncated_news_texts,max_length=70,min_length=50)\n",
        "actual_references_news = news_sum[\"abstract\"][0:5]\n",
        "\n",
        "print(prediction_summaries_news)\n",
        "print(actual_references_news)"
      ],
      "metadata": {
        "colab": {
          "base_uri": "https://localhost:8080/"
        },
        "id": "hUCQSFIWoO7D",
        "outputId": "1fcb75cf-0200-4937-85d9-2ee62a0da71b"
      },
      "execution_count": null,
      "outputs": [
        {
          "output_type": "stream",
          "name": "stdout",
          "text": [
            "[{'summary_text': \"AAP's mayoral candidate Shelly Oberoi moved the Supreme Court on Thursday demanding the mayoral election be conducted in a time-bound manner. The Delhi mayor election was stalled for the second time on Tuesday this month as the House was adjourned indefinitely.\"}, {'summary_text': 'Indian Railways has turned down a proposal to allow complimentary travel in Rajdhani and Shatabdi trains. The proposal was turned down for financial reasons. Earlier, the PMG and PPMG awardees used to get free travel in executive class once a year.'}, {'summary_text': \"The woman had alleged that her husband didn't consummate their marriage and had affairs with other men. The court maintained that the accused caused trauma, distress and emotional abuse to the woman. A sessions court in Mumbai ordered a man to pay ₹1 lakh compensation to his wife for hiding the fact he was gay.\"}, {'summary_text': \"Prashant Konnur prevented the train from hitting the woman by applying emergency brakes on time. The woman had allegedly attempted suicide. Konnu counselled her and helped her board the women's compartment of the train. The incident happened in Navi Mumbai on Tuesday.\"}, {'summary_text': 'Telangana CM K Chandrashekar Rao commented on the Congress party. \"The Congress suffers from a limitless lack of knowledge and has failed to express these facts,\" he said. He added that ex-PM Manmohan Singh worked hard and spoke less but it is the opposite case with PM Narendra Modi.'}]\n",
            "['AAP moves Supreme Court over delay in Delhi MCD mayor polls', 'No free travel to gallantry winners in Rajdhani, Shatabdi: Railway', \"Mumbai court orders husband to pay ₹1 lakh to wife for hiding he's gay\", \"Train operator prevents woman's suicide bid on Navi Mumbai railway track\", \"Congress suffers from limitless lack of knowledge: T'gana CM KCR\"]\n"
          ]
        }
      ]
    },
    {
      "cell_type": "code",
      "source": [
        "predictions_flat_news = []\n",
        "\n",
        "for result in prediction_summaries_news:\n",
        "    predictions_flat_news.append(result[\"abstract\"])\n",
        "\n",
        "print(predictions_flat_news)"
      ],
      "metadata": {
        "colab": {
          "base_uri": "https://localhost:8080/",
          "height": 250
        },
        "id": "Dt9jKt3bownH",
        "outputId": "f87ed8e0-70bb-43ab-88e1-fe212d9bd7e5"
      },
      "execution_count": null,
      "outputs": [
        {
          "output_type": "error",
          "ename": "KeyError",
          "evalue": "ignored",
          "traceback": [
            "\u001b[0;31m---------------------------------------------------------------------------\u001b[0m",
            "\u001b[0;31mKeyError\u001b[0m                                  Traceback (most recent call last)",
            "\u001b[0;32m<ipython-input-41-2450dda8a96e>\u001b[0m in \u001b[0;36m<cell line: 3>\u001b[0;34m()\u001b[0m\n\u001b[1;32m      2\u001b[0m \u001b[0;34m\u001b[0m\u001b[0m\n\u001b[1;32m      3\u001b[0m \u001b[0;32mfor\u001b[0m \u001b[0mresult\u001b[0m \u001b[0;32min\u001b[0m \u001b[0mprediction_summaries_news\u001b[0m\u001b[0;34m:\u001b[0m\u001b[0;34m\u001b[0m\u001b[0;34m\u001b[0m\u001b[0m\n\u001b[0;32m----> 4\u001b[0;31m     \u001b[0mpredictions_flat_news\u001b[0m\u001b[0;34m.\u001b[0m\u001b[0mappend\u001b[0m\u001b[0;34m(\u001b[0m\u001b[0mresult\u001b[0m\u001b[0;34m[\u001b[0m\u001b[0;34m\"article\"\u001b[0m\u001b[0;34m]\u001b[0m\u001b[0;34m)\u001b[0m\u001b[0;34m\u001b[0m\u001b[0;34m\u001b[0m\u001b[0m\n\u001b[0m\u001b[1;32m      5\u001b[0m \u001b[0;34m\u001b[0m\u001b[0m\n\u001b[1;32m      6\u001b[0m \u001b[0mprint\u001b[0m\u001b[0;34m(\u001b[0m\u001b[0mpredictions_flat_news\u001b[0m\u001b[0;34m)\u001b[0m\u001b[0;34m\u001b[0m\u001b[0;34m\u001b[0m\u001b[0m\n",
            "\u001b[0;31mKeyError\u001b[0m: 'article'"
          ]
        }
      ]
    },
    {
      "cell_type": "code",
      "source": [
        "import evaluate\n",
        "\n",
        "rouge = evaluate.load(\"rouge\")\n",
        "\n",
        "rouge.compute(predictions=predictions_flat,references=actual_references)"
      ],
      "metadata": {
        "id": "p4XdcO3ims2N"
      },
      "execution_count": null,
      "outputs": []
    },
    {
      "cell_type": "markdown",
      "metadata": {
        "id": "jQKyQmJoZ4wD"
      },
      "source": [
        "## An Idea for Creative Synthesis\n",
        "\n",
        "Write some code that lets the user type in a web address (like a Wikipedia article) and generate a summary for the whole page.\n",
        "* you will have to experiment with different ideas of how to get summaries for longer texts\n",
        "    - come up with your own ideas\n",
        "    - research how others handle it and try those\n",
        "    - you might find that combining more than one kind of model can be helpful\n",
        "\n",
        "Record your results and discuss it at the demo!"
      ]
    },
    {
      "cell_type": "markdown",
      "metadata": {
        "id": "vf8OOP9TZ4wD"
      },
      "source": [
        "## Question Answering\n",
        "\n",
        "[roberta-based model](https://huggingface.co/deepset/roberta-base-squad2) trained on the [SQuAD2.0](https://huggingface.co/datasets/squad_v2) question answering data set\n",
        "\n",
        "Requires two inputs\n",
        "* a question\n",
        "* context - where to find the answer\n",
        "\n",
        "Returns\n",
        "* an answer\n",
        "* a location where you can find the answer in the context"
      ]
    },
    {
      "cell_type": "code",
      "execution_count": null,
      "metadata": {
        "id": "xSxd_ukhZ4wD",
        "outputId": "174cabbc-bd7a-4ba7-e0ad-aa0011f4edf8"
      },
      "outputs": [
        {
          "name": "stdout",
          "output_type": "stream",
          "text": [
            "{'score': 0.1444220393896103, 'start': 1416, 'end': 1433, 'answer': 'we don’t know yet'}\n"
          ]
        }
      ],
      "source": [
        "from transformers import pipeline\n",
        "\n",
        "model_name = \"deepset/roberta-base-squad2\"\n",
        "\n",
        "# a) Get predictions\n",
        "nlp = pipeline('question-answering', model=model_name, tokenizer=model_name)\n",
        "QA_input = {\n",
        "    'question': 'Can colleges take race into account when making admissions decisions?',\n",
        "    'context': times_delphic_story\n",
        "}\n",
        "res = nlp(QA_input)\n",
        "print(res)"
      ]
    },
    {
      "cell_type": "code",
      "execution_count": null,
      "metadata": {
        "id": "vUW3BSrHZ4wD",
        "outputId": "8a79939b-5536-4de2-f719-6c2fda4ad0ee"
      },
      "outputs": [
        {
          "name": "stdout",
          "output_type": "stream",
          "text": [
            "we don’t know yet\n",
            "Court “basically has embraced an idea that it calls colorblindness.”\n",
            "“If you take their principle of colorblindness and extend it beyond universities, to other places, it could raise some problems,” Kende said. “But we don’t know yet.”\n",
            "Financial aid programs that prioritize applicants of a particula\n"
          ]
        }
      ],
      "source": [
        "print( times_delphic_story[1416:1433] )\n",
        "print( times_delphic_story[1200:1500] )"
      ]
    },
    {
      "cell_type": "markdown",
      "metadata": {
        "id": "CGouDbzsZ4wD"
      },
      "source": [
        "### Let's try another question"
      ]
    },
    {
      "cell_type": "code",
      "execution_count": null,
      "metadata": {
        "id": "2QHmjQKdZ4wH",
        "outputId": "0251c530-84e6-47b9-bb7e-9b62790f19ea"
      },
      "outputs": [
        {
          "name": "stdout",
          "output_type": "stream",
          "text": [
            "{'score': 0.035478729754686356, 'start': 671, 'end': 686, 'answer': 'Harvard and UNC'}\n"
          ]
        }
      ],
      "source": [
        "QA_input2 = {\n",
        "    'question' : \"Which kinds of schools are most affected by the Supreme Court's affirmative action ruling?\",\n",
        "    'context': times_delphic_story\n",
        "}\n",
        "res = nlp(QA_input2)\n",
        "print(res)"
      ]
    },
    {
      "cell_type": "code",
      "execution_count": null,
      "metadata": {
        "id": "LBncL2TeZ4wH",
        "outputId": "de6bc713-c87c-467f-bb1b-c96567828653"
      },
      "outputs": [
        {
          "name": "stdout",
          "output_type": "stream",
          "text": [
            "Harvard and UNC\n",
            " institutions that limit the number of incoming students,” Mattison said. “So that doesn’t apply to Drake and most institutions across the country.”\n",
            "She said schools like Harvard and UNC have enough applicants that they can pick and choose which applicants fill a certain number of spots.\n",
            "Drake’s adm\n"
          ]
        }
      ],
      "source": [
        "print( times_delphic_story[671:686] )\n",
        "print( times_delphic_story[500:800] )"
      ]
    },
    {
      "cell_type": "markdown",
      "metadata": {
        "id": "ixHcSZ5wZ4wH"
      },
      "source": [
        "The answer I was hoping for was `\"highly selective institutions\"`."
      ]
    },
    {
      "cell_type": "markdown",
      "metadata": {
        "id": "rWyqB-bwZ4wH"
      },
      "source": [
        "### How you ask the question seems to have an impact on the answer it finds"
      ]
    },
    {
      "cell_type": "code",
      "execution_count": null,
      "metadata": {
        "id": "gCeDE5ljZ4wH",
        "outputId": "6c21c26e-3f28-4219-8ee0-b919ec765064"
      },
      "outputs": [
        {
          "name": "stdout",
          "output_type": "stream",
          "text": [
            "{'score': 0.1436648666858673, 'start': 1416, 'end': 1433, 'answer': 'we don’t know yet'}\n"
          ]
        }
      ],
      "source": [
        "QA_input3 = {\n",
        "    'question' : \"Does Drake consider race when deciding to admit a student?\",\n",
        "    'context': times_delphic_story\n",
        "}\n",
        "res = nlp(QA_input3)\n",
        "print(res)"
      ]
    },
    {
      "cell_type": "code",
      "execution_count": null,
      "metadata": {
        "id": "X7KXNis6Z4wH",
        "outputId": "829a8046-6878-4d58-dedd-bf6de9f86329"
      },
      "outputs": [
        {
          "name": "stdout",
          "output_type": "stream",
          "text": [
            "{'score': 0.10744316130876541, 'start': 995, 'end': 1048, 'answer': 'it does not have an impact on the admissions decision'}\n"
          ]
        }
      ],
      "source": [
        "QA_input4 = {\n",
        "    'question' : \"At Drake, does race have an impact on the admissions decision?\",\n",
        "    'context': times_delphic_story\n",
        "}\n",
        "res = nlp(QA_input4)\n",
        "print(res)"
      ]
    },
    {
      "cell_type": "markdown",
      "metadata": {
        "id": "W2FmYGq4Z4wH"
      },
      "source": [
        "### Discussion question:\n",
        "\n",
        "What are some ways you can think of for evaluating question answering models?"
      ]
    }
  ],
  "metadata": {
    "celltoolbar": "Slideshow",
    "colab": {
      "provenance": [],
      "include_colab_link": true
    },
    "kernelspec": {
      "display_name": "Python 3 (ipykernel)",
      "language": "python",
      "name": "python3"
    },
    "language_info": {
      "codemirror_mode": {
        "name": "ipython",
        "version": 3
      },
      "file_extension": ".py",
      "mimetype": "text/x-python",
      "name": "python",
      "nbconvert_exporter": "python",
      "pygments_lexer": "ipython3",
      "version": "3.10.6"
    }
  },
  "nbformat": 4,
  "nbformat_minor": 0
}