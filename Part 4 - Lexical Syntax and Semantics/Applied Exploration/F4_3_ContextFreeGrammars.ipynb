{
  "cells": [
    {
      "cell_type": "markdown",
      "metadata": {
        "colab_type": "text",
        "id": "view-in-github"
      },
      "source": [
        "<a href=\"https://colab.research.google.com/github/gonzalovaldenebro/NaturalLanguageProcessing-Portfolio/blob/main/F4_3_ContextFreeGrammars.ipynb\" target=\"_parent\"><img src=\"https://colab.research.google.com/assets/colab-badge.svg\" alt=\"Open In Colab\"/></a>"
      ]
    },
    {
      "cell_type": "markdown",
      "metadata": {
        "id": "C192SOmJS6lw"
      },
      "source": [
        "# CS 195: Natural Language Processing\n",
        "## Context-Free Grammars\n",
        "\n",
        "[![Open In Colab](https://colab.research.google.com/assets/colab-badge.svg)](https://colab.research.google.com/github/ericmanley/f23-CS195NLP/blob/main/F4_3_ContextFreeGrammars.ipynb)\n"
      ]
    },
    {
      "cell_type": "markdown",
      "metadata": {
        "id": "f5h6hjmEonK3"
      },
      "source": [
        "## References\n",
        "\n",
        "SLP: Context-Free Grammars and Constituency Parsing, Chapter 17 of *Speech and Language Processing* by Daniel Jurafsky & James H. Martin: https://web.stanford.edu/~jurafsky/slp3/17.pdf\n",
        "\n",
        "NLTK Book Chapter 8: Analyzing Sentence Structure: https://www.nltk.org/book/ch08.html"
      ]
    },
    {
      "cell_type": "code",
      "execution_count": 2,
      "metadata": {
        "colab": {
          "base_uri": "https://localhost:8080/"
        },
        "id": "83WZk0XZonK4",
        "outputId": "dc4c9992-9074-4313-825a-6fce95bf4b49"
      },
      "outputs": [
        {
          "name": "stdout",
          "output_type": "stream",
          "text": [
            "Requirement already satisfied: nltk in /Library/Frameworks/Python.framework/Versions/3.11/lib/python3.11/site-packages (3.8.1)\n",
            "Collecting svgling\n",
            "  Downloading svgling-0.4.0-py3-none-any.whl.metadata (7.0 kB)\n",
            "Requirement already satisfied: click in /Library/Frameworks/Python.framework/Versions/3.11/lib/python3.11/site-packages (from nltk) (8.1.6)\n",
            "Requirement already satisfied: joblib in /Library/Frameworks/Python.framework/Versions/3.11/lib/python3.11/site-packages (from nltk) (1.3.2)\n",
            "Requirement already satisfied: regex>=2021.8.3 in /Library/Frameworks/Python.framework/Versions/3.11/lib/python3.11/site-packages (from nltk) (2023.8.8)\n",
            "Requirement already satisfied: tqdm in /Library/Frameworks/Python.framework/Versions/3.11/lib/python3.11/site-packages (from nltk) (4.66.1)\n",
            "Collecting svgwrite (from svgling)\n",
            "  Downloading svgwrite-1.4.3-py3-none-any.whl (67 kB)\n",
            "\u001b[2K     \u001b[90m━━━━━━━━━━━━━━━━━━━━━━━━━━━━━━━━━━━━━━━━\u001b[0m \u001b[32m67.1/67.1 kB\u001b[0m \u001b[31m5.2 MB/s\u001b[0m eta \u001b[36m0:00:00\u001b[0m\n",
            "\u001b[?25hDownloading svgling-0.4.0-py3-none-any.whl (23 kB)\n",
            "Installing collected packages: svgwrite, svgling\n",
            "Successfully installed svgling-0.4.0 svgwrite-1.4.3\n"
          ]
        }
      ],
      "source": [
        "import sys\n",
        "!{sys.executable} -m pip install nltk svgling"
      ]
    },
    {
      "cell_type": "code",
      "execution_count": 3,
      "metadata": {
        "id": "WTgtUoFxonK5"
      },
      "outputs": [],
      "source": [
        "#you shouldn't need to do this in Colab, but I had to do it on my own machine\n",
        "#in order to connect to the nltk service\n",
        "import nltk\n",
        "import ssl\n",
        "\n",
        "try:\n",
        "    _create_unverified_https_context = ssl._create_unverified_context\n",
        "except AttributeError:\n",
        "    pass\n",
        "else:\n",
        "    ssl._create_default_https_context = _create_unverified_https_context\n"
      ]
    },
    {
      "cell_type": "markdown",
      "metadata": {
        "id": "VFKj94GvonK5"
      },
      "source": [
        "## Syntax\n",
        "\n",
        "**Syntax** of natural language: the study of language *structure*, or how words combine to form phrases and sentences\n",
        "\n",
        "Like programming language syntax - what are the rules for making a valid program?\n",
        "\n",
        "In linguistics, syntax can be described using a **grammar**\n",
        "\n",
        "A **context-free grammar** is one kind of *formal* grammar that can describe most structural aspects of natural languages\n",
        "\n"
      ]
    },
    {
      "cell_type": "markdown",
      "metadata": {
        "id": "nPGB2W11onK5"
      },
      "source": [
        "## Programming Language Context-Free Grammar\n",
        "\n",
        "Here's an example of some **grammar rules** or **productions** that you might find in a C-like programming language (a real programming language will have *a lot more* productions than this)\n",
        "\n",
        "<table>\n",
        "    <tr>\n",
        "        <td style=\"text-align: right;\">\n",
        "            <i>IfStatement</i>\n",
        "        </td>\n",
        "        <td style=\"text-align: center;\">\n",
        "            &rarr;\n",
        "        </td>\n",
        "        <td style=\"text-align: left;\">\n",
        "            <code>if</code> <code>(</code> <i>Expression</i> <code>)</code> <i>Statement</i> <code>;</code>\n",
        "        </td>\n",
        "    </tr>\n",
        "    <tr>\n",
        "        <td style=\"text-align: right;\">\n",
        "            <i>Statement</i>\n",
        "        </td>\n",
        "        <td style=\"text-align: center;\">\n",
        "            &rarr;\n",
        "        </td>\n",
        "        <td style=\"text-align: left;\">\n",
        "            <i>IfStatement</i>\n",
        "        </td>\n",
        "    </tr>\n",
        "  <tr>\n",
        "    <td style=\"text-align: right;\"><em>Statement</em></td>\n",
        "    <td style=\"text-align: center;\">&rarr;</td>\n",
        "    <td style=\"text-align: left;\"><em>IfElseStatement</em></td>\n",
        "  </tr>\n",
        "  <tr>\n",
        "    <td style=\"text-align: right;\"><em>Statement</em></td>\n",
        "    <td style=\"text-align: center;\">&rarr;</td>\n",
        "    <td style=\"text-align: left;\"><em>WhileStatement</em></td>\n",
        "  </tr>\n",
        "  <tr>\n",
        "    <td style=\"text-align: right;\"><em>Statement</em></td>\n",
        "    <td style=\"text-align: center;\">&rarr;</td>\n",
        "    <td style=\"text-align: left;\"><em>AssignmentStatement</em></td>\n",
        "  </tr>\n",
        "  <tr>\n",
        "    <td style=\"text-align: right;\"><em>Expression</em></td>\n",
        "    <td style=\"text-align: center;\">&rarr;</td>\n",
        "    <td style=\"text-align: left;\"><em>Expression</em> <code>+</code> <em>Expression</em></td>\n",
        "  </tr>\n",
        "  <tr>\n",
        "    <td style=\"text-align: right;\"><em>Expression</em></td>\n",
        "    <td style=\"text-align: center;\">&rarr;</td>\n",
        "    <td style=\"text-align: left;\"><em>Expression</em> <code>-</code> <em>Expression</em></td>\n",
        "  </tr>\n",
        "  <tr>\n",
        "    <td style=\"text-align: right;\"><em>Expression</em></td>\n",
        "    <td style=\"text-align: center;\">&rarr;</td>\n",
        "    <td style=\"text-align: left;\"><em>Expression</em> <code>&lt;</code> <em>Expression</em></td>\n",
        "  </tr>\n",
        "  <tr>\n",
        "    <td style=\"text-align: right;\"><em>Expression</em></td>\n",
        "    <td style=\"text-align: center;\">&rarr;</td>\n",
        "    <td style=\"text-align: left;\"><em>Expression</em> <code>==</code> <em>Expression</em></td>\n",
        "  </tr>\n",
        "  <tr>\n",
        "    <td style=\"text-align: right;\"><em>Expression</em></td>\n",
        "    <td style=\"text-align: center;\">&rarr;</td>\n",
        "    <td style=\"text-align: left;\"><em>Number</em></td>\n",
        "  </tr>\n",
        "    \n",
        "</table>\n",
        "\n"
      ]
    },
    {
      "cell_type": "markdown",
      "metadata": {
        "id": "j0tTfEgmonK6"
      },
      "source": [
        "### Notes\n",
        "\n",
        "The $\\rightarrow$ symbol means *can have the form*\n",
        "\n",
        "tokens like `if`, `(`, `;`, and `+` are **terminal symbols** - they represent actual text\n",
        "\n",
        "symbols like *IfStatement*, *Expression*, and *Statement* are **non-terminal** symbols - they need to be described with other productions"
      ]
    },
    {
      "cell_type": "markdown",
      "metadata": {
        "id": "1NEc62fionK6"
      },
      "source": [
        "## Abbreviated notation\n",
        "\n",
        "You can use the `|` symbol to mean \"or\" when giving a list of possible forms.\n",
        "\n",
        "<table>\n",
        "    <tr>\n",
        "        <td style=\"text-align: right;\">\n",
        "            <i>IfStatement</i>\n",
        "        </td>\n",
        "        <td style=\"text-align: center;\">\n",
        "            &rarr;\n",
        "        </td>\n",
        "        <td style=\"text-align: left;\">\n",
        "            <code>if</code> <code>(</code> <i>Expression</i> <code>)</code> <i>Statement</i> <code>;</code>\n",
        "        </td>\n",
        "    </tr>\n",
        "  <tr>\n",
        "    <td style=\"text-align: right;\"><em>Statement</em></td>\n",
        "    <td style=\"text-align: center;\">&rarr;</td>\n",
        "    <td style=\"text-align: left;\"><em>IfStatement</em> | <em>IfElseStatement</em> | <em>WhileStatement</em> | <em>AssignmentStatement</em></td>\n",
        "  </tr>\n",
        "    <td style=\"text-align: right;\"><em>Expression</em></td>\n",
        "    <td style=\"text-align: center;\">&rarr;</td>\n",
        "    <td style=\"text-align: left;\"><em>Expression</em> <code>+</code> <em>Expression</em> | <em>Expression</em> <code>-</code> <em>Expression</em> </td>\n",
        "  </tr>\n",
        "  <tr>\n",
        "    <td style=\"text-align: right;\"></td>\n",
        "    <td style=\"text-align: center;\"></td>\n",
        "    <td style=\"text-align: left;\">| <em>Expression</em> <code>&lt;</code> <em>Expression</em> | <em>Expression</em> <code>==</code> <em>Expression</em> </td>\n",
        "  </tr>\n",
        "  <tr>\n",
        "    <td style=\"text-align: right;\"><em></em></td>\n",
        "    <td style=\"text-align: center;\"></td>\n",
        "    <td style=\"text-align: left;\">| <em>Number</em></td>\n",
        "  </tr>\n",
        "    \n",
        "</table>"
      ]
    },
    {
      "cell_type": "markdown",
      "metadata": {
        "id": "yGmAzx88onK6"
      },
      "source": [
        "## A small English context-free grammar\n",
        "\n",
        "Here's a variation of a small subset of English from SLP 17.2\n",
        "\n",
        "\n",
        "<table>\n",
        "  <tr>\n",
        "    <td style=\"text-align: right;\"><em>Sentence</em></td>\n",
        "    <td style=\"text-align: center;\">&rarr;</td>\n",
        "    <td style=\"text-align: left;\"><em>NounPhrase</em> <em>VerbPhrase</em></td>\n",
        "  </tr>\n",
        "  <tr>\n",
        "    <td style=\"text-align: right;\"><em>NounPhrase</em></td>\n",
        "    <td style=\"text-align: center;\">&rarr;</td>\n",
        "    <td style=\"text-align: left;\"><em>Pronoun</em> | <em>Determiner</em> <em>Noun</em></td>\n",
        "  </tr>\n",
        "  <tr>\n",
        "    <td style=\"text-align: right;\"><em>VerbPhrase</em></td>\n",
        "    <td style=\"text-align: center;\">&rarr;</td>\n",
        "    <td style=\"text-align: left;\"><em>Verb</em> <em>NounPhrase</em> | <em>Verb</em> <em>NounPhrase</em> <em>PropositionalPhrase</em> | <em>Verb</em> <em>PrepositionalPhrase</em></td>\n",
        "  </tr>\n",
        "  <tr>\n",
        "    <td style=\"text-align: right;\"><em>PrepositionalPhrase</em></td>\n",
        "    <td style=\"text-align: center;\">&rarr;</td>\n",
        "    <td style=\"text-align: left;\"><em>Preposition</em> <em>NounPhrase</em></td>\n",
        "  </tr>\n",
        "  <tr>\n",
        "    <td style=\"text-align: right;\"><em>Determiner</em></td>\n",
        "    <td style=\"text-align: center;\">&rarr;</td>\n",
        "    <td style=\"text-align: left;\"><code>a</code> | <code>an</code> | <code>the</code> | <code>this</code> | <code>that</code> | <code>my</code> | ...</td>\n",
        "  </tr>\n",
        "  <tr>\n",
        "    <td style=\"text-align: right;\"><em>Pronoun</em></td>\n",
        "    <td style=\"text-align: center;\">&rarr;</td>\n",
        "    <td style=\"text-align: left;\"><code>me</code> | <code>I</code> | <code>you</code> | <code>it</code> | ...</td>\n",
        "  </tr>\n",
        "  <tr>\n",
        "    <td style=\"text-align: right;\"><em>Noun</em></td>\n",
        "    <td style=\"text-align: center;\">&rarr;</td>\n",
        "    <td style=\"text-align: left;\"><code>flights</code> | <code>flight</code> | <code>breeze</code> | <code>trip</code> | <code>morning</code> | <code>elephant</code> | <code>pajamas</code> | ...</td>\n",
        "  </tr>\n",
        "  <tr>\n",
        "    <td style=\"text-align: right;\"><em>Verb</em></td>\n",
        "    <td style=\"text-align: center;\">&rarr;</td>\n",
        "    <td style=\"text-align: left;\"><code>is</code> | <code>prefer</code> | <code>like</code> | <code>need</code> | <code>want</code> | <code>fly</code> | <code>do</code> | <code>shot</code> | ...</td>\n",
        "  </tr>\n",
        "  <tr>\n",
        "    <td style=\"text-align: right;\"><em>Preposition</em></td>\n",
        "    <td style=\"text-align: center;\">&rarr;</td>\n",
        "    <td style=\"text-align: left;\"><code>from</code> | <code>to</code> | <code>on</code> | <code>near</code> | <code>in</code> | ...</td>\n",
        "  </tr>\n",
        "</table>\n"
      ]
    },
    {
      "cell_type": "markdown",
      "metadata": {
        "id": "ptSSozIzonK6"
      },
      "source": [
        "## Derivations\n",
        "\n",
        "A **Derivation** is a sequence of steps in which you replace non-terminals with one of the options on the right side of a production until you end up with only terminals.\n",
        "\n",
        "For example\n",
        "\n",
        "*Sentence* $\\Rightarrow$ *NounPhrase* *VerbPhrase* $\\Rightarrow$ *Pronoun* *VerbPhrase* $\\Rightarrow$ *Pronoun* *Verb* *NounPhrase* $\\Rightarrow$ `I` *Verb* *NounPhrase* $\\Rightarrow$ `I` *Verb* *Determiner* *Noun* $\\Rightarrow$ `I` *Verb* *Determiner* `flight`\n",
        "$\\Rightarrow$ `I` *Verb* *Determiner* `flight` $\\Rightarrow$ `I` *Verb* `a` `flight` $\\Rightarrow$ `I` `need` `a` `flight`\n",
        "\n",
        "This shows that `I need a flight` can be derived from *Sentence*, so it is a valid sentence in the language."
      ]
    },
    {
      "cell_type": "markdown",
      "metadata": {
        "id": "MSMb3LHqonK7"
      },
      "source": [
        "## Parse Trees\n",
        "\n",
        "A **parse tree** is a graphical representation of a derivation sequence.\n",
        "\n",
        "Here's a parse tree for `I need a flight`\n",
        "\n",
        "\n",
        "<div>\n",
        "<img src=\"https://github.com/ericmanley/f23-CS195NLP/blob/main/images/parse_tree.png?raw=1\" width = 500/>\n",
        "</div>"
      ]
    },
    {
      "cell_type": "markdown",
      "metadata": {
        "id": "hBKZxx54onK7"
      },
      "source": [
        "## Group Exercise\n",
        "\n",
        "Find another sentence that can generated from *Sentence* but whose parse tree looks different.\n",
        "\n",
        "Draw the parse tree."
      ]
    },
    {
      "cell_type": "markdown",
      "metadata": {
        "id": "gQU9U1kXonK7"
      },
      "source": [
        "## CFGs in NLTK\n",
        "\n",
        "The following examples show how you can define context-free grammars using the nltk library."
      ]
    },
    {
      "cell_type": "code",
      "execution_count": 4,
      "metadata": {
        "colab": {
          "base_uri": "https://localhost:8080/",
          "height": 328
        },
        "id": "VbSlqJmRonK7",
        "outputId": "4bbdba3f-d55e-490a-a3ed-870ffd31a4e3"
      },
      "outputs": [
        {
          "name": "stdout",
          "output_type": "stream",
          "text": [
            "Here's what the internal structure looks like:\n",
            "[Tree('NounPhrase', [Tree('Pronoun', ['I'])]), Tree('VerbPhrase', [Tree('Verb', ['need']), Tree('NounPhrase', [Tree('Determiner', ['a']), Tree('Noun', ['flight'])])])]\n",
            "\n",
            "Here's what the parse tree looks like graphically:\n"
          ]
        },
        {
          "data": {
            "image/svg+xml": [
              "<svg baseProfile=\"full\" height=\"216px\" preserveAspectRatio=\"xMidYMid meet\" style=\"font-family: times, serif; font-weight: normal; font-style: normal; font-size: 16px;\" version=\"1.1\" viewBox=\"0,0,304.0,216.0\" width=\"304px\" xmlns=\"http://www.w3.org/2000/svg\" xmlns:ev=\"http://www.w3.org/2001/xml-events\" xmlns:xlink=\"http://www.w3.org/1999/xlink\"><defs /><svg width=\"100%\" x=\"0\" y=\"0px\"><defs /><text text-anchor=\"middle\" x=\"50%\" y=\"16px\">Sentence</text></svg><svg width=\"31.5789%\" x=\"0%\" y=\"48px\"><defs /><svg width=\"100%\" x=\"0\" y=\"0px\"><defs /><text text-anchor=\"middle\" x=\"50%\" y=\"16px\">NounPhrase</text></svg><svg width=\"100%\" x=\"0%\" y=\"48px\"><defs /><svg width=\"100%\" x=\"0\" y=\"0px\"><defs /><text text-anchor=\"middle\" x=\"50%\" y=\"16px\">Pronoun</text></svg><svg width=\"100%\" x=\"0%\" y=\"48px\"><defs /><svg width=\"100%\" x=\"0\" y=\"0px\"><defs /><text text-anchor=\"middle\" x=\"50%\" y=\"16px\">I</text></svg></svg><line stroke=\"black\" x1=\"50%\" x2=\"50%\" y1=\"19.2px\" y2=\"48px\" /></svg><line stroke=\"black\" x1=\"50%\" x2=\"50%\" y1=\"19.2px\" y2=\"48px\" /></svg><line stroke=\"black\" x1=\"50%\" x2=\"15.7895%\" y1=\"19.2px\" y2=\"48px\" /><svg width=\"68.4211%\" x=\"31.5789%\" y=\"48px\"><defs /><svg width=\"100%\" x=\"0\" y=\"0px\"><defs /><text text-anchor=\"middle\" x=\"50%\" y=\"16px\">VerbPhrase</text></svg><svg width=\"23.0769%\" x=\"0%\" y=\"48px\"><defs /><svg width=\"100%\" x=\"0\" y=\"0px\"><defs /><text text-anchor=\"middle\" x=\"50%\" y=\"16px\">Verb</text></svg><svg width=\"100%\" x=\"0%\" y=\"48px\"><defs /><svg width=\"100%\" x=\"0\" y=\"0px\"><defs /><text text-anchor=\"middle\" x=\"50%\" y=\"16px\">need</text></svg></svg><line stroke=\"black\" x1=\"50%\" x2=\"50%\" y1=\"19.2px\" y2=\"48px\" /></svg><line stroke=\"black\" x1=\"50%\" x2=\"11.5385%\" y1=\"19.2px\" y2=\"48px\" /><svg width=\"76.9231%\" x=\"23.0769%\" y=\"48px\"><defs /><svg width=\"100%\" x=\"0\" y=\"0px\"><defs /><text text-anchor=\"middle\" x=\"50%\" y=\"16px\">NounPhrase</text></svg><svg width=\"60%\" x=\"0%\" y=\"48px\"><defs /><svg width=\"100%\" x=\"0\" y=\"0px\"><defs /><text text-anchor=\"middle\" x=\"50%\" y=\"16px\">Determiner</text></svg><svg width=\"100%\" x=\"0%\" y=\"48px\"><defs /><svg width=\"100%\" x=\"0\" y=\"0px\"><defs /><text text-anchor=\"middle\" x=\"50%\" y=\"16px\">a</text></svg></svg><line stroke=\"black\" x1=\"50%\" x2=\"50%\" y1=\"19.2px\" y2=\"48px\" /></svg><line stroke=\"black\" x1=\"50%\" x2=\"30%\" y1=\"19.2px\" y2=\"48px\" /><svg width=\"40%\" x=\"60%\" y=\"48px\"><defs /><svg width=\"100%\" x=\"0\" y=\"0px\"><defs /><text text-anchor=\"middle\" x=\"50%\" y=\"16px\">Noun</text></svg><svg width=\"100%\" x=\"0%\" y=\"48px\"><defs /><svg width=\"100%\" x=\"0\" y=\"0px\"><defs /><text text-anchor=\"middle\" x=\"50%\" y=\"16px\">flight</text></svg></svg><line stroke=\"black\" x1=\"50%\" x2=\"50%\" y1=\"19.2px\" y2=\"48px\" /></svg><line stroke=\"black\" x1=\"50%\" x2=\"80%\" y1=\"19.2px\" y2=\"48px\" /></svg><line stroke=\"black\" x1=\"50%\" x2=\"61.5385%\" y1=\"19.2px\" y2=\"48px\" /></svg><line stroke=\"black\" x1=\"50%\" x2=\"65.7895%\" y1=\"19.2px\" y2=\"48px\" /></svg>"
            ],
            "text/plain": [
              "Tree('Sentence', [Tree('NounPhrase', [Tree('Pronoun', ['I'])]), Tree('VerbPhrase', [Tree('Verb', ['need']), Tree('NounPhrase', [Tree('Determiner', ['a']), Tree('Noun', ['flight'])])])])"
            ]
          },
          "metadata": {},
          "output_type": "display_data"
        }
      ],
      "source": [
        "import nltk\n",
        "\n",
        "\n",
        "productions = [\n",
        "    nltk.Production(nltk.Nonterminal('Sentence'), [nltk.Nonterminal('NounPhrase'), nltk.Nonterminal('VerbPhrase')]),\n",
        "    nltk.Production(nltk.Nonterminal('NounPhrase'), [nltk.Nonterminal('Pronoun')]),\n",
        "    nltk.Production(nltk.Nonterminal('NounPhrase'), [nltk.Nonterminal('Determiner'), nltk.Nonterminal('Noun')]),\n",
        "    nltk.Production(nltk.Nonterminal('NounPhrase'), [nltk.Nonterminal('Noun')]),\n",
        "    nltk.Production(nltk.Nonterminal('VerbPhrase'), [nltk.Nonterminal('Verb'), nltk.Nonterminal('NounPhrase')]),\n",
        "    nltk.Production(nltk.Nonterminal('VerbPhrase'), [nltk.Nonterminal('Verb'), nltk.Nonterminal('NounPhrase'), nltk.Nonterminal('PrepositionalPhrase')]),\n",
        "    nltk.Production(nltk.Nonterminal('VerbPhrase'), [nltk.Nonterminal('Verb'), nltk.Nonterminal('PrepositionalPhrase')]),\n",
        "    nltk.Production(nltk.Nonterminal('PrepositionalPhrase'), [nltk.Nonterminal('Preposition'), nltk.Nonterminal('NounPhrase')]),\n",
        "\n",
        "    # Productions for Determiner\n",
        "    nltk.Production(nltk.Nonterminal('Determiner'), ['a']),\n",
        "    nltk.Production(nltk.Nonterminal('Determiner'), ['an']),\n",
        "    nltk.Production(nltk.Nonterminal('Determiner'), ['the']),\n",
        "    nltk.Production(nltk.Nonterminal('Determiner'), ['this']),\n",
        "    nltk.Production(nltk.Nonterminal('Determiner'), ['that']),\n",
        "    nltk.Production(nltk.Nonterminal('Determiner'), ['my']),\n",
        "    # Add more Determiner productions as needed\n",
        "\n",
        "    # Productions for Pronoun\n",
        "    nltk.Production(nltk.Nonterminal('Pronoun'), ['me']),\n",
        "    nltk.Production(nltk.Nonterminal('Pronoun'), ['I']),\n",
        "    nltk.Production(nltk.Nonterminal('Pronoun'), ['you']),\n",
        "    nltk.Production(nltk.Nonterminal('Pronoun'), ['it']),\n",
        "    # Add more Pronoun productions as needed\n",
        "\n",
        "    # Productions for Noun\n",
        "    nltk.Production(nltk.Nonterminal('Noun'), ['flights']),\n",
        "    nltk.Production(nltk.Nonterminal('Noun'), ['flight']),\n",
        "    nltk.Production(nltk.Nonterminal('Noun'), ['breeze']),\n",
        "    nltk.Production(nltk.Nonterminal('Noun'), ['trip']),\n",
        "    nltk.Production(nltk.Nonterminal('Noun'), ['morning']),\n",
        "    nltk.Production(nltk.Nonterminal('Noun'), ['elephant']),\n",
        "    nltk.Production(nltk.Nonterminal('Noun'), ['pajamas']),\n",
        "    # Add more Noun productions as needed\n",
        "\n",
        "    # Productions for Verb\n",
        "    nltk.Production(nltk.Nonterminal('Verb'), ['is']),\n",
        "    nltk.Production(nltk.Nonterminal('Verb'), ['prefer']),\n",
        "    nltk.Production(nltk.Nonterminal('Verb'), ['like']),\n",
        "    nltk.Production(nltk.Nonterminal('Verb'), ['need']),\n",
        "    nltk.Production(nltk.Nonterminal('Verb'), ['want']),\n",
        "    nltk.Production(nltk.Nonterminal('Verb'), ['fly']),\n",
        "    nltk.Production(nltk.Nonterminal('Verb'), ['do']),\n",
        "    nltk.Production(nltk.Nonterminal('Verb'), ['shot']),\n",
        "    # Add more Verb productions as needed\n",
        "\n",
        "    # Productions for Preposition\n",
        "    nltk.Production(nltk.Nonterminal('Preposition'), ['from']),\n",
        "    nltk.Production(nltk.Nonterminal('Preposition'), ['to']),\n",
        "    nltk.Production(nltk.Nonterminal('Preposition'), ['on']),\n",
        "    nltk.Production(nltk.Nonterminal('Preposition'), ['near']),\n",
        "    nltk.Production(nltk.Nonterminal('Preposition'), ['in']),\n",
        "    # Add more Preposition productions as needed\n",
        "]\n",
        "\n",
        "#Sentence is top-level symbol\n",
        "custom_grammar = nltk.CFG(nltk.Nonterminal('Sentence'), productions)\n",
        "\n",
        "#we'll talk about parsers later\n",
        "parser = nltk.ChartParser(custom_grammar)\n",
        "\n",
        "#an example tokenized sentence\n",
        "sentence = \"I need a flight\".split()\n",
        "\n",
        "#there could be many trees\n",
        "for tree in parser.parse(sentence):\n",
        "    # Visualize the parse tree\n",
        "    print(\"Here's what the internal structure looks like:\")\n",
        "    print(list(tree))\n",
        "    #nltk.draw.tree.draw_trees(tree) #uncomment to get an image\n",
        "    print(\"\\nHere's what the parse tree looks like graphically:\")\n",
        "    display(tree)"
      ]
    },
    {
      "cell_type": "markdown",
      "metadata": {
        "id": "znuPdbzuonK7"
      },
      "source": [
        "## Group Exercise\n",
        "\n",
        "Run this code and try parsing the sentences you came up with on the previous exercise. Compare your parse trees with those produced with the parser."
      ]
    },
    {
      "cell_type": "markdown",
      "metadata": {
        "id": "gI1Zp4tvzhZ3"
      },
      "source": [
        "My phrase was: I want a car near an elephant"
      ]
    },
    {
      "cell_type": "code",
      "execution_count": 5,
      "metadata": {
        "colab": {
          "base_uri": "https://localhost:8080/",
          "height": 376
        },
        "id": "2Ijzbchozged",
        "outputId": "58af9f82-caa7-4a55-f865-3f7a1653e510"
      },
      "outputs": [
        {
          "name": "stdout",
          "output_type": "stream",
          "text": [
            "Here's what the internal structure looks like:\n",
            "[Tree('NounPhrase', [Tree('Pronoun', ['I'])]), Tree('VerbPhrase', [Tree('Verb', ['want']), Tree('NounPhrase', [Tree('Determiner', ['a']), Tree('Noun', ['car'])]), Tree('PrepositionalPhrase', [Tree('Preposition', ['near']), Tree('NounPhrase', [Tree('Determiner', ['an']), Tree('Noun', ['elephant'])])])])]\n",
            "\n",
            "Here's what the parse tree looks like graphically:\n"
          ]
        },
        {
          "data": {
            "image/svg+xml": [
              "<svg baseProfile=\"full\" height=\"264px\" preserveAspectRatio=\"xMidYMid meet\" style=\"font-family: times, serif; font-weight: normal; font-style: normal; font-size: 16px;\" version=\"1.1\" viewBox=\"0,0,568.0,264.0\" width=\"568px\" xmlns=\"http://www.w3.org/2000/svg\" xmlns:ev=\"http://www.w3.org/2001/xml-events\" xmlns:xlink=\"http://www.w3.org/1999/xlink\"><defs /><svg width=\"100%\" x=\"0\" y=\"0px\"><defs /><text text-anchor=\"middle\" x=\"50%\" y=\"16px\">Sentence</text></svg><svg width=\"16.9014%\" x=\"0%\" y=\"48px\"><defs /><svg width=\"100%\" x=\"0\" y=\"0px\"><defs /><text text-anchor=\"middle\" x=\"50%\" y=\"16px\">NounPhrase</text></svg><svg width=\"100%\" x=\"0%\" y=\"48px\"><defs /><svg width=\"100%\" x=\"0\" y=\"0px\"><defs /><text text-anchor=\"middle\" x=\"50%\" y=\"16px\">Pronoun</text></svg><svg width=\"100%\" x=\"0%\" y=\"48px\"><defs /><svg width=\"100%\" x=\"0\" y=\"0px\"><defs /><text text-anchor=\"middle\" x=\"50%\" y=\"16px\">I</text></svg></svg><line stroke=\"black\" x1=\"50%\" x2=\"50%\" y1=\"19.2px\" y2=\"48px\" /></svg><line stroke=\"black\" x1=\"50%\" x2=\"50%\" y1=\"19.2px\" y2=\"48px\" /></svg><line stroke=\"black\" x1=\"50%\" x2=\"8.4507%\" y1=\"19.2px\" y2=\"48px\" /><svg width=\"83.0986%\" x=\"16.9014%\" y=\"48px\"><defs /><svg width=\"100%\" x=\"0\" y=\"0px\"><defs /><text text-anchor=\"middle\" x=\"50%\" y=\"16px\">VerbPhrase</text></svg><svg width=\"10.1695%\" x=\"0%\" y=\"48px\"><defs /><svg width=\"100%\" x=\"0\" y=\"0px\"><defs /><text text-anchor=\"middle\" x=\"50%\" y=\"16px\">Verb</text></svg><svg width=\"100%\" x=\"0%\" y=\"48px\"><defs /><svg width=\"100%\" x=\"0\" y=\"0px\"><defs /><text text-anchor=\"middle\" x=\"50%\" y=\"16px\">want</text></svg></svg><line stroke=\"black\" x1=\"50%\" x2=\"50%\" y1=\"19.2px\" y2=\"48px\" /></svg><line stroke=\"black\" x1=\"50%\" x2=\"5.08475%\" y1=\"19.2px\" y2=\"48px\" /><svg width=\"30.5085%\" x=\"10.1695%\" y=\"48px\"><defs /><svg width=\"100%\" x=\"0\" y=\"0px\"><defs /><text text-anchor=\"middle\" x=\"50%\" y=\"16px\">NounPhrase</text></svg><svg width=\"66.6667%\" x=\"0%\" y=\"48px\"><defs /><svg width=\"100%\" x=\"0\" y=\"0px\"><defs /><text text-anchor=\"middle\" x=\"50%\" y=\"16px\">Determiner</text></svg><svg width=\"100%\" x=\"0%\" y=\"48px\"><defs /><svg width=\"100%\" x=\"0\" y=\"0px\"><defs /><text text-anchor=\"middle\" x=\"50%\" y=\"16px\">a</text></svg></svg><line stroke=\"black\" x1=\"50%\" x2=\"50%\" y1=\"19.2px\" y2=\"48px\" /></svg><line stroke=\"black\" x1=\"50%\" x2=\"33.3333%\" y1=\"19.2px\" y2=\"48px\" /><svg width=\"33.3333%\" x=\"66.6667%\" y=\"48px\"><defs /><svg width=\"100%\" x=\"0\" y=\"0px\"><defs /><text text-anchor=\"middle\" x=\"50%\" y=\"16px\">Noun</text></svg><svg width=\"100%\" x=\"0%\" y=\"48px\"><defs /><svg width=\"100%\" x=\"0\" y=\"0px\"><defs /><text text-anchor=\"middle\" x=\"50%\" y=\"16px\">car</text></svg></svg><line stroke=\"black\" x1=\"50%\" x2=\"50%\" y1=\"19.2px\" y2=\"48px\" /></svg><line stroke=\"black\" x1=\"50%\" x2=\"83.3333%\" y1=\"19.2px\" y2=\"48px\" /></svg><line stroke=\"black\" x1=\"50%\" x2=\"25.4237%\" y1=\"19.2px\" y2=\"48px\" /><svg width=\"59.322%\" x=\"40.678%\" y=\"48px\"><defs /><svg width=\"100%\" x=\"0\" y=\"0px\"><defs /><text text-anchor=\"middle\" x=\"50%\" y=\"16px\">PrepositionalPhrase</text></svg><svg width=\"37.1429%\" x=\"0%\" y=\"48px\"><defs /><svg width=\"100%\" x=\"0\" y=\"0px\"><defs /><text text-anchor=\"middle\" x=\"50%\" y=\"16px\">Preposition</text></svg><svg width=\"100%\" x=\"0%\" y=\"48px\"><defs /><svg width=\"100%\" x=\"0\" y=\"0px\"><defs /><text text-anchor=\"middle\" x=\"50%\" y=\"16px\">near</text></svg></svg><line stroke=\"black\" x1=\"50%\" x2=\"50%\" y1=\"19.2px\" y2=\"48px\" /></svg><line stroke=\"black\" x1=\"50%\" x2=\"18.5714%\" y1=\"19.2px\" y2=\"48px\" /><svg width=\"62.8571%\" x=\"37.1429%\" y=\"48px\"><defs /><svg width=\"100%\" x=\"0\" y=\"0px\"><defs /><text text-anchor=\"middle\" x=\"50%\" y=\"16px\">NounPhrase</text></svg><svg width=\"54.5455%\" x=\"0%\" y=\"48px\"><defs /><svg width=\"100%\" x=\"0\" y=\"0px\"><defs /><text text-anchor=\"middle\" x=\"50%\" y=\"16px\">Determiner</text></svg><svg width=\"100%\" x=\"0%\" y=\"48px\"><defs /><svg width=\"100%\" x=\"0\" y=\"0px\"><defs /><text text-anchor=\"middle\" x=\"50%\" y=\"16px\">an</text></svg></svg><line stroke=\"black\" x1=\"50%\" x2=\"50%\" y1=\"19.2px\" y2=\"48px\" /></svg><line stroke=\"black\" x1=\"50%\" x2=\"27.2727%\" y1=\"19.2px\" y2=\"48px\" /><svg width=\"45.4545%\" x=\"54.5455%\" y=\"48px\"><defs /><svg width=\"100%\" x=\"0\" y=\"0px\"><defs /><text text-anchor=\"middle\" x=\"50%\" y=\"16px\">Noun</text></svg><svg width=\"100%\" x=\"0%\" y=\"48px\"><defs /><svg width=\"100%\" x=\"0\" y=\"0px\"><defs /><text text-anchor=\"middle\" x=\"50%\" y=\"16px\">elephant</text></svg></svg><line stroke=\"black\" x1=\"50%\" x2=\"50%\" y1=\"19.2px\" y2=\"48px\" /></svg><line stroke=\"black\" x1=\"50%\" x2=\"77.2727%\" y1=\"19.2px\" y2=\"48px\" /></svg><line stroke=\"black\" x1=\"50%\" x2=\"68.5714%\" y1=\"19.2px\" y2=\"48px\" /></svg><line stroke=\"black\" x1=\"50%\" x2=\"70.339%\" y1=\"19.2px\" y2=\"48px\" /></svg><line stroke=\"black\" x1=\"50%\" x2=\"58.4507%\" y1=\"19.2px\" y2=\"48px\" /></svg>"
            ],
            "text/plain": [
              "Tree('Sentence', [Tree('NounPhrase', [Tree('Pronoun', ['I'])]), Tree('VerbPhrase', [Tree('Verb', ['want']), Tree('NounPhrase', [Tree('Determiner', ['a']), Tree('Noun', ['car'])]), Tree('PrepositionalPhrase', [Tree('Preposition', ['near']), Tree('NounPhrase', [Tree('Determiner', ['an']), Tree('Noun', ['elephant'])])])])])"
            ]
          },
          "metadata": {},
          "output_type": "display_data"
        }
      ],
      "source": [
        "import nltk\n",
        "\n",
        "\n",
        "productions = [\n",
        "    nltk.Production(nltk.Nonterminal('Sentence'), [nltk.Nonterminal('NounPhrase'), nltk.Nonterminal('VerbPhrase')]),\n",
        "    nltk.Production(nltk.Nonterminal('NounPhrase'), [nltk.Nonterminal('Pronoun')]),\n",
        "    nltk.Production(nltk.Nonterminal('NounPhrase'), [nltk.Nonterminal('Determiner'), nltk.Nonterminal('Noun')]),\n",
        "    nltk.Production(nltk.Nonterminal('NounPhrase'), [nltk.Nonterminal('Noun')]),\n",
        "    nltk.Production(nltk.Nonterminal('VerbPhrase'), [nltk.Nonterminal('Verb'), nltk.Nonterminal('NounPhrase')]),\n",
        "    nltk.Production(nltk.Nonterminal('VerbPhrase'), [nltk.Nonterminal('Verb'), nltk.Nonterminal('NounPhrase'), nltk.Nonterminal('PrepositionalPhrase')]),\n",
        "    nltk.Production(nltk.Nonterminal('VerbPhrase'), [nltk.Nonterminal('Verb'), nltk.Nonterminal('PrepositionalPhrase')]),\n",
        "    nltk.Production(nltk.Nonterminal('PrepositionalPhrase'), [nltk.Nonterminal('Preposition'), nltk.Nonterminal('NounPhrase')]),\n",
        "\n",
        "    # Productions for Determiner\n",
        "    nltk.Production(nltk.Nonterminal('Determiner'), ['a']),\n",
        "    nltk.Production(nltk.Nonterminal('Determiner'), ['an']),\n",
        "    nltk.Production(nltk.Nonterminal('Determiner'), ['the']),\n",
        "    nltk.Production(nltk.Nonterminal('Determiner'), ['this']),\n",
        "    nltk.Production(nltk.Nonterminal('Determiner'), ['that']),\n",
        "    nltk.Production(nltk.Nonterminal('Determiner'), ['my']),\n",
        "    # Add more Determiner productions as needed\n",
        "\n",
        "    # Productions for Pronoun\n",
        "    nltk.Production(nltk.Nonterminal('Pronoun'), ['me']),\n",
        "    nltk.Production(nltk.Nonterminal('Pronoun'), ['I']),\n",
        "    nltk.Production(nltk.Nonterminal('Pronoun'), ['you']),\n",
        "    nltk.Production(nltk.Nonterminal('Pronoun'), ['it']),\n",
        "    # Add more Pronoun productions as needed\n",
        "\n",
        "    # Productions for Noun\n",
        "    nltk.Production(nltk.Nonterminal('Noun'), ['flights']),\n",
        "    nltk.Production(nltk.Nonterminal('Noun'), ['flight']),\n",
        "    nltk.Production(nltk.Nonterminal('Noun'), ['breeze']),\n",
        "    nltk.Production(nltk.Nonterminal('Noun'), ['trip']),\n",
        "    nltk.Production(nltk.Nonterminal('Noun'), ['morning']),\n",
        "    nltk.Production(nltk.Nonterminal('Noun'), ['elephant']),\n",
        "    nltk.Production(nltk.Nonterminal('Noun'), ['pajamas']),\n",
        "    nltk.Production(nltk.Nonterminal('Noun'), ['tomorrow']),\n",
        "    nltk.Production(nltk.Nonterminal('Noun'), ['car']),\n",
        "\n",
        "\n",
        "    # Add more Noun productions as needed\n",
        "\n",
        "    # Productions for Verb\n",
        "    nltk.Production(nltk.Nonterminal('Verb'), ['is']),\n",
        "    nltk.Production(nltk.Nonterminal('Verb'), ['prefer']),\n",
        "    nltk.Production(nltk.Nonterminal('Verb'), ['like']),\n",
        "    nltk.Production(nltk.Nonterminal('Verb'), ['need']),\n",
        "    nltk.Production(nltk.Nonterminal('Verb'), ['want']),\n",
        "    nltk.Production(nltk.Nonterminal('Verb'), ['fly']),\n",
        "    nltk.Production(nltk.Nonterminal('Verb'), ['do']),\n",
        "    nltk.Production(nltk.Nonterminal('Verb'), ['shot']),\n",
        "\n",
        "\n",
        "    # Add more Verb productions as needed\n",
        "\n",
        "    # Productions for Preposition\n",
        "    nltk.Production(nltk.Nonterminal('Preposition'), ['from']),\n",
        "    nltk.Production(nltk.Nonterminal('Preposition'), ['to']),\n",
        "    nltk.Production(nltk.Nonterminal('Preposition'), ['on']),\n",
        "    nltk.Production(nltk.Nonterminal('Preposition'), ['near']),\n",
        "    nltk.Production(nltk.Nonterminal('Preposition'), ['in']),\n",
        "    nltk.Production(nltk.Nonterminal('Preposition'), ['for']),\n",
        "    # Add more Preposition productions as needed\n",
        "]\n",
        "\n",
        "#Sentence is top-level symbol\n",
        "custom_grammar = nltk.CFG(nltk.Nonterminal('Sentence'), productions)\n",
        "\n",
        "#we'll talk about parsers later\n",
        "parser = nltk.ChartParser(custom_grammar)\n",
        "\n",
        "#an example tokenized sentence\n",
        "sentence = \"I want a car near an elephant\".split()\n",
        "\n",
        "#there could be many trees\n",
        "for tree in parser.parse(sentence):\n",
        "    # Visualize the parse tree\n",
        "    print(\"Here's what the internal structure looks like:\")\n",
        "    print(list(tree))\n",
        "    #nltk.draw.tree.draw_trees(tree) #uncomment to get an image\n",
        "    print(\"\\nHere's what the parse tree looks like graphically:\")\n",
        "    display(tree)"
      ]
    },
    {
      "cell_type": "markdown",
      "metadata": {
        "id": "OWkTolOTonK7"
      },
      "source": [
        "## Recursive Productions\n",
        "\n",
        "Grammars can contain recursion. For example, let's change our definition of a *NounPhrase*\n",
        "\n",
        "<table>\n",
        "  <tr>\n",
        "    <td style=\"text-align: right;\"><em>NounPhrase</em></td>\n",
        "    <td style=\"text-align: center;\">&rarr;</td>\n",
        "    <td style=\"text-align: left;\"><em>Pronoun</em> | <em>Determiner</em> <em>Nominal</em> | <em>Nominal</em></td>\n",
        "  </tr>\n",
        "  <tr>\n",
        "    <td style=\"text-align: right;\"><em>Nominal</em></td>\n",
        "    <td style=\"text-align: center;\">&rarr;</td>\n",
        "      <td style=\"text-align: left;\"><em>Nominal</em> <em>Noun</em> | <em>Nominal</em> | <em>Noun</em> </td>\n",
        "  </tr>\n",
        "</table>\n",
        "\n",
        "This allows for trees like\n",
        "\n",
        "\n",
        "<div>\n",
        "<img src=\"https://github.com/ericmanley/f23-CS195NLP/blob/main/images/recursive_parse_tree1.png?raw=1\" width=400 /><img src=\"https://github.com/ericmanley/f23-CS195NLP/blob/main/images/recursive_parse_tree2.png?raw=1\" width=400/>\n",
        "</div>"
      ]
    },
    {
      "cell_type": "markdown",
      "metadata": {
        "id": "IYvWMotmonK8"
      },
      "source": [
        "## Group Exercise\n",
        "\n",
        "Add productions to the grammar that allows for multiple prepositional phrases like `I fly in the morning on a flight`\n",
        "\n",
        "<div>\n",
        "<img src=\"https://github.com/ericmanley/f23-CS195NLP/blob/main/images/preposition_parse_tree1.png?raw=1\" width=500/>\n",
        "</div>"
      ]
    },
    {
      "cell_type": "markdown",
      "metadata": {
        "id": "bWhMkCq9onK8"
      },
      "source": [
        "## Group Exercise\n",
        "\n",
        "Include the new definition of *NounPhrase* and *Nominal* as well as your recursive prepositional phrases in the nltk grammar. Test it out."
      ]
    },
    {
      "cell_type": "code",
      "execution_count": 6,
      "metadata": {
        "colab": {
          "base_uri": "https://localhost:8080/",
          "height": 375
        },
        "id": "X-2o4LEB08LW",
        "outputId": "34547810-f166-4201-e7cb-2a8bd8d5d4e7"
      },
      "outputs": [
        {
          "name": "stdout",
          "output_type": "stream",
          "text": [
            "Here's what the internal structure looks like:\n",
            "[Tree('NounPhrase', [Tree('Pronoun', ['I'])]), Tree('VerbPhrase', [Tree('Verb', ['want']), Tree('NounPhrase', [Tree('Determiner', ['a']), Tree('Noun', ['car'])]), Tree('PrepositionalPhrase', [Tree('Preposition', ['near']), Tree('NounPhrase', [Tree('Determiner', ['an']), Tree('Noun', ['elephant'])])])])]\n",
            "\n",
            "Here's what the parse tree looks like graphically:\n"
          ]
        },
        {
          "data": {
            "image/svg+xml": [
              "<svg baseProfile=\"full\" height=\"264px\" preserveAspectRatio=\"xMidYMid meet\" style=\"font-family: times, serif; font-weight: normal; font-style: normal; font-size: 16px;\" version=\"1.1\" viewBox=\"0,0,568.0,264.0\" width=\"568px\" xmlns=\"http://www.w3.org/2000/svg\" xmlns:ev=\"http://www.w3.org/2001/xml-events\" xmlns:xlink=\"http://www.w3.org/1999/xlink\"><defs /><svg width=\"100%\" x=\"0\" y=\"0px\"><defs /><text text-anchor=\"middle\" x=\"50%\" y=\"16px\">Sentence</text></svg><svg width=\"16.9014%\" x=\"0%\" y=\"48px\"><defs /><svg width=\"100%\" x=\"0\" y=\"0px\"><defs /><text text-anchor=\"middle\" x=\"50%\" y=\"16px\">NounPhrase</text></svg><svg width=\"100%\" x=\"0%\" y=\"48px\"><defs /><svg width=\"100%\" x=\"0\" y=\"0px\"><defs /><text text-anchor=\"middle\" x=\"50%\" y=\"16px\">Pronoun</text></svg><svg width=\"100%\" x=\"0%\" y=\"48px\"><defs /><svg width=\"100%\" x=\"0\" y=\"0px\"><defs /><text text-anchor=\"middle\" x=\"50%\" y=\"16px\">I</text></svg></svg><line stroke=\"black\" x1=\"50%\" x2=\"50%\" y1=\"19.2px\" y2=\"48px\" /></svg><line stroke=\"black\" x1=\"50%\" x2=\"50%\" y1=\"19.2px\" y2=\"48px\" /></svg><line stroke=\"black\" x1=\"50%\" x2=\"8.4507%\" y1=\"19.2px\" y2=\"48px\" /><svg width=\"83.0986%\" x=\"16.9014%\" y=\"48px\"><defs /><svg width=\"100%\" x=\"0\" y=\"0px\"><defs /><text text-anchor=\"middle\" x=\"50%\" y=\"16px\">VerbPhrase</text></svg><svg width=\"10.1695%\" x=\"0%\" y=\"48px\"><defs /><svg width=\"100%\" x=\"0\" y=\"0px\"><defs /><text text-anchor=\"middle\" x=\"50%\" y=\"16px\">Verb</text></svg><svg width=\"100%\" x=\"0%\" y=\"48px\"><defs /><svg width=\"100%\" x=\"0\" y=\"0px\"><defs /><text text-anchor=\"middle\" x=\"50%\" y=\"16px\">want</text></svg></svg><line stroke=\"black\" x1=\"50%\" x2=\"50%\" y1=\"19.2px\" y2=\"48px\" /></svg><line stroke=\"black\" x1=\"50%\" x2=\"5.08475%\" y1=\"19.2px\" y2=\"48px\" /><svg width=\"30.5085%\" x=\"10.1695%\" y=\"48px\"><defs /><svg width=\"100%\" x=\"0\" y=\"0px\"><defs /><text text-anchor=\"middle\" x=\"50%\" y=\"16px\">NounPhrase</text></svg><svg width=\"66.6667%\" x=\"0%\" y=\"48px\"><defs /><svg width=\"100%\" x=\"0\" y=\"0px\"><defs /><text text-anchor=\"middle\" x=\"50%\" y=\"16px\">Determiner</text></svg><svg width=\"100%\" x=\"0%\" y=\"48px\"><defs /><svg width=\"100%\" x=\"0\" y=\"0px\"><defs /><text text-anchor=\"middle\" x=\"50%\" y=\"16px\">a</text></svg></svg><line stroke=\"black\" x1=\"50%\" x2=\"50%\" y1=\"19.2px\" y2=\"48px\" /></svg><line stroke=\"black\" x1=\"50%\" x2=\"33.3333%\" y1=\"19.2px\" y2=\"48px\" /><svg width=\"33.3333%\" x=\"66.6667%\" y=\"48px\"><defs /><svg width=\"100%\" x=\"0\" y=\"0px\"><defs /><text text-anchor=\"middle\" x=\"50%\" y=\"16px\">Noun</text></svg><svg width=\"100%\" x=\"0%\" y=\"48px\"><defs /><svg width=\"100%\" x=\"0\" y=\"0px\"><defs /><text text-anchor=\"middle\" x=\"50%\" y=\"16px\">car</text></svg></svg><line stroke=\"black\" x1=\"50%\" x2=\"50%\" y1=\"19.2px\" y2=\"48px\" /></svg><line stroke=\"black\" x1=\"50%\" x2=\"83.3333%\" y1=\"19.2px\" y2=\"48px\" /></svg><line stroke=\"black\" x1=\"50%\" x2=\"25.4237%\" y1=\"19.2px\" y2=\"48px\" /><svg width=\"59.322%\" x=\"40.678%\" y=\"48px\"><defs /><svg width=\"100%\" x=\"0\" y=\"0px\"><defs /><text text-anchor=\"middle\" x=\"50%\" y=\"16px\">PrepositionalPhrase</text></svg><svg width=\"37.1429%\" x=\"0%\" y=\"48px\"><defs /><svg width=\"100%\" x=\"0\" y=\"0px\"><defs /><text text-anchor=\"middle\" x=\"50%\" y=\"16px\">Preposition</text></svg><svg width=\"100%\" x=\"0%\" y=\"48px\"><defs /><svg width=\"100%\" x=\"0\" y=\"0px\"><defs /><text text-anchor=\"middle\" x=\"50%\" y=\"16px\">near</text></svg></svg><line stroke=\"black\" x1=\"50%\" x2=\"50%\" y1=\"19.2px\" y2=\"48px\" /></svg><line stroke=\"black\" x1=\"50%\" x2=\"18.5714%\" y1=\"19.2px\" y2=\"48px\" /><svg width=\"62.8571%\" x=\"37.1429%\" y=\"48px\"><defs /><svg width=\"100%\" x=\"0\" y=\"0px\"><defs /><text text-anchor=\"middle\" x=\"50%\" y=\"16px\">NounPhrase</text></svg><svg width=\"54.5455%\" x=\"0%\" y=\"48px\"><defs /><svg width=\"100%\" x=\"0\" y=\"0px\"><defs /><text text-anchor=\"middle\" x=\"50%\" y=\"16px\">Determiner</text></svg><svg width=\"100%\" x=\"0%\" y=\"48px\"><defs /><svg width=\"100%\" x=\"0\" y=\"0px\"><defs /><text text-anchor=\"middle\" x=\"50%\" y=\"16px\">an</text></svg></svg><line stroke=\"black\" x1=\"50%\" x2=\"50%\" y1=\"19.2px\" y2=\"48px\" /></svg><line stroke=\"black\" x1=\"50%\" x2=\"27.2727%\" y1=\"19.2px\" y2=\"48px\" /><svg width=\"45.4545%\" x=\"54.5455%\" y=\"48px\"><defs /><svg width=\"100%\" x=\"0\" y=\"0px\"><defs /><text text-anchor=\"middle\" x=\"50%\" y=\"16px\">Noun</text></svg><svg width=\"100%\" x=\"0%\" y=\"48px\"><defs /><svg width=\"100%\" x=\"0\" y=\"0px\"><defs /><text text-anchor=\"middle\" x=\"50%\" y=\"16px\">elephant</text></svg></svg><line stroke=\"black\" x1=\"50%\" x2=\"50%\" y1=\"19.2px\" y2=\"48px\" /></svg><line stroke=\"black\" x1=\"50%\" x2=\"77.2727%\" y1=\"19.2px\" y2=\"48px\" /></svg><line stroke=\"black\" x1=\"50%\" x2=\"68.5714%\" y1=\"19.2px\" y2=\"48px\" /></svg><line stroke=\"black\" x1=\"50%\" x2=\"70.339%\" y1=\"19.2px\" y2=\"48px\" /></svg><line stroke=\"black\" x1=\"50%\" x2=\"58.4507%\" y1=\"19.2px\" y2=\"48px\" /></svg>"
            ],
            "text/plain": [
              "Tree('Sentence', [Tree('NounPhrase', [Tree('Pronoun', ['I'])]), Tree('VerbPhrase', [Tree('Verb', ['want']), Tree('NounPhrase', [Tree('Determiner', ['a']), Tree('Noun', ['car'])]), Tree('PrepositionalPhrase', [Tree('Preposition', ['near']), Tree('NounPhrase', [Tree('Determiner', ['an']), Tree('Noun', ['elephant'])])])])])"
            ]
          },
          "metadata": {},
          "output_type": "display_data"
        }
      ],
      "source": [
        "import nltk\n",
        "\n",
        "\n",
        "productions = [\n",
        "    nltk.Production(nltk.Nonterminal('Sentence'), [nltk.Nonterminal('NounPhrase'), nltk.Nonterminal('VerbPhrase')]),\n",
        "    nltk.Production(nltk.Nonterminal('NounPhrase'), [nltk.Nonterminal('Pronoun')]),\n",
        "    nltk.Production(nltk.Nonterminal('NounPhrase'), [nltk.Nonterminal('Determiner'), nltk.Nonterminal('Noun')]),\n",
        "    nltk.Production(nltk.Nonterminal('NounPhrase'), [nltk.Nonterminal('Noun')]),\n",
        "\n",
        "    nltk.Production(nltk.Nonterminal('VerbPhrase'), [nltk.Nonterminal('Verb'), nltk.Nonterminal('NounPhrase')]),\n",
        "    nltk.Production(nltk.Nonterminal('VerbPhrase'), [nltk.Nonterminal('Verb'), nltk.Nonterminal('NounPhrase'), nltk.Nonterminal('PrepositionalPhrase')]),\n",
        "    nltk.Production(nltk.Nonterminal('VerbPhrase'), [nltk.Nonterminal('Verb'), nltk.Nonterminal('PrepositionalPhrase')]),\n",
        "    nltk.Production(nltk.Nonterminal('PrepositionalPhrase'), [nltk.Nonterminal('Preposition'), nltk.Nonterminal('NounPhrase')]),\n",
        "    nltk.Production(nltk.Nonterminal('PrepositionalPhrase'), [nltk.Nonterminal('Preposition'), nltk.Nonterminal('NounPhrase')]),\n",
        "\n",
        "    # Productions for Determiner\n",
        "    nltk.Production(nltk.Nonterminal('Determiner'), ['a']),\n",
        "    nltk.Production(nltk.Nonterminal('Determiner'), ['an']),\n",
        "    nltk.Production(nltk.Nonterminal('Determiner'), ['the']),\n",
        "    nltk.Production(nltk.Nonterminal('Determiner'), ['this']),\n",
        "    nltk.Production(nltk.Nonterminal('Determiner'), ['that']),\n",
        "    nltk.Production(nltk.Nonterminal('Determiner'), ['my']),\n",
        "    # Add more Determiner productions as needed\n",
        "\n",
        "    # Productions for Pronoun\n",
        "    nltk.Production(nltk.Nonterminal('Pronoun'), ['me']),\n",
        "    nltk.Production(nltk.Nonterminal('Pronoun'), ['I']),\n",
        "    nltk.Production(nltk.Nonterminal('Pronoun'), ['you']),\n",
        "    nltk.Production(nltk.Nonterminal('Pronoun'), ['it']),\n",
        "    # Add more Pronoun productions as needed\n",
        "\n",
        "    # Productions for Noun\n",
        "    nltk.Production(nltk.Nonterminal('Noun'), ['flights']),\n",
        "    nltk.Production(nltk.Nonterminal('Noun'), ['flight']),\n",
        "    nltk.Production(nltk.Nonterminal('Noun'), ['breeze']),\n",
        "    nltk.Production(nltk.Nonterminal('Noun'), ['trip']),\n",
        "    nltk.Production(nltk.Nonterminal('Noun'), ['morning']),\n",
        "    nltk.Production(nltk.Nonterminal('Noun'), ['elephant']),\n",
        "    nltk.Production(nltk.Nonterminal('Noun'), ['pajamas']),\n",
        "    nltk.Production(nltk.Nonterminal('Noun'), ['tomorrow']),\n",
        "    nltk.Production(nltk.Nonterminal('Noun'), ['car']),\n",
        "\n",
        "\n",
        "    # Add more Noun productions as needed\n",
        "\n",
        "    # Productions for Verb\n",
        "    nltk.Production(nltk.Nonterminal('Verb'), ['is']),\n",
        "    nltk.Production(nltk.Nonterminal('Verb'), ['prefer']),\n",
        "    nltk.Production(nltk.Nonterminal('Verb'), ['like']),\n",
        "    nltk.Production(nltk.Nonterminal('Verb'), ['need']),\n",
        "    nltk.Production(nltk.Nonterminal('Verb'), ['want']),\n",
        "    nltk.Production(nltk.Nonterminal('Verb'), ['fly']),\n",
        "    nltk.Production(nltk.Nonterminal('Verb'), ['do']),\n",
        "    nltk.Production(nltk.Nonterminal('Verb'), ['shot']),\n",
        "\n",
        "\n",
        "    # Add more Verb productions as needed\n",
        "\n",
        "    # Productions for Preposition\n",
        "    nltk.Production(nltk.Nonterminal('Preposition'), ['from']),\n",
        "    nltk.Production(nltk.Nonterminal('Preposition'), ['to']),\n",
        "    nltk.Production(nltk.Nonterminal('Preposition'), ['on']),\n",
        "    nltk.Production(nltk.Nonterminal('Preposition'), ['near']),\n",
        "    nltk.Production(nltk.Nonterminal('Preposition'), ['in']),\n",
        "    nltk.Production(nltk.Nonterminal('Preposition'), ['for']),\n",
        "    # Add more Preposition productions as needed\n",
        "]\n",
        "\n",
        "#Sentence is top-level symbol\n",
        "custom_grammar = nltk.CFG(nltk.Nonterminal('Sentence'), productions)\n",
        "\n",
        "#we'll talk about parsers later\n",
        "parser = nltk.ChartParser(custom_grammar)\n",
        "\n",
        "#an example tokenized sentence\n",
        "sentence = \"I want a car near an elephant\".split()\n",
        "\n",
        "#there could be many trees\n",
        "for tree in parser.parse(sentence):\n",
        "    # Visualize the parse tree\n",
        "    print(\"Here's what the internal structure looks like:\")\n",
        "    print(list(tree))\n",
        "    #nltk.draw.tree.draw_trees(tree) #uncomment to get an image\n",
        "    print(\"\\nHere's what the parse tree looks like graphically:\")\n",
        "    display(tree)"
      ]
    },
    {
      "cell_type": "markdown",
      "metadata": {
        "id": "hMF4bqHBonK8"
      },
      "source": [
        "## Ambiguity\n",
        "\n",
        "An ambiguous grammar is a grammar in which the same sentence can have multiple trees.\n",
        "\n",
        "\n",
        "<div>\n",
        "<img src=\"https://github.com/ericmanley/f23-CS195NLP/blob/main/images/elephant_pajamas_1.png?raw=1\" width=500/><img src=\"https://github.com/ericmanley/f23-CS195NLP/blob/main/images/elephant_pajamas_2.png?raw=1\" width=500/>\n",
        "</div>"
      ]
    },
    {
      "cell_type": "markdown",
      "metadata": {
        "id": "HeuzW2ayonK8"
      },
      "source": [
        "### Most natural languages are ambiguous\n",
        "\n",
        "\n",
        "*One morning I shot an elephant in my pajamas. How he got into my pajamas I don’t know.* - Groucho Marx\n",
        "\n",
        "With programming languages, designers try to define them so that the grammars are unambiguous\n",
        "\n",
        "It isn't possible with most natural languages\n",
        "\n",
        "\n",
        "### Group Exercise\n",
        "\n",
        "Find another sentence with more than one parse tree for this grammar:\n",
        "\n",
        "\n"
      ]
    },
    {
      "cell_type": "code",
      "execution_count": 7,
      "metadata": {
        "colab": {
          "base_uri": "https://localhost:8080/",
          "height": 746
        },
        "id": "EZtFR1uConK8",
        "outputId": "02432a7c-4e3c-499e-89fc-f754c1bb9d2c"
      },
      "outputs": [
        {
          "data": {
            "image/svg+xml": [
              "<svg baseProfile=\"full\" height=\"312px\" preserveAspectRatio=\"xMidYMid meet\" style=\"font-family: times, serif; font-weight: normal; font-style: normal; font-size: 16px;\" version=\"1.1\" viewBox=\"0,0,592.0,312.0\" width=\"592px\" xmlns=\"http://www.w3.org/2000/svg\" xmlns:ev=\"http://www.w3.org/2001/xml-events\" xmlns:xlink=\"http://www.w3.org/1999/xlink\"><defs /><svg width=\"100%\" x=\"0\" y=\"0px\"><defs /><text text-anchor=\"middle\" x=\"50%\" y=\"16px\">Sentence</text></svg><svg width=\"16.2162%\" x=\"0%\" y=\"48px\"><defs /><svg width=\"100%\" x=\"0\" y=\"0px\"><defs /><text text-anchor=\"middle\" x=\"50%\" y=\"16px\">NounPhrase</text></svg><svg width=\"100%\" x=\"0%\" y=\"48px\"><defs /><svg width=\"100%\" x=\"0\" y=\"0px\"><defs /><text text-anchor=\"middle\" x=\"50%\" y=\"16px\">Pronoun</text></svg><svg width=\"100%\" x=\"0%\" y=\"48px\"><defs /><svg width=\"100%\" x=\"0\" y=\"0px\"><defs /><text text-anchor=\"middle\" x=\"50%\" y=\"16px\">I</text></svg></svg><line stroke=\"black\" x1=\"50%\" x2=\"50%\" y1=\"19.2px\" y2=\"48px\" /></svg><line stroke=\"black\" x1=\"50%\" x2=\"50%\" y1=\"19.2px\" y2=\"48px\" /></svg><line stroke=\"black\" x1=\"50%\" x2=\"8.10811%\" y1=\"19.2px\" y2=\"48px\" /><svg width=\"83.7838%\" x=\"16.2162%\" y=\"48px\"><defs /><svg width=\"100%\" x=\"0\" y=\"0px\"><defs /><text text-anchor=\"middle\" x=\"50%\" y=\"16px\">VerbPhrase</text></svg><svg width=\"9.67742%\" x=\"0%\" y=\"48px\"><defs /><svg width=\"100%\" x=\"0\" y=\"0px\"><defs /><text text-anchor=\"middle\" x=\"50%\" y=\"16px\">Verb</text></svg><svg width=\"100%\" x=\"0%\" y=\"48px\"><defs /><svg width=\"100%\" x=\"0\" y=\"0px\"><defs /><text text-anchor=\"middle\" x=\"50%\" y=\"16px\">shot</text></svg></svg><line stroke=\"black\" x1=\"50%\" x2=\"50%\" y1=\"19.2px\" y2=\"48px\" /></svg><line stroke=\"black\" x1=\"50%\" x2=\"4.83871%\" y1=\"19.2px\" y2=\"48px\" /><svg width=\"35.4839%\" x=\"9.67742%\" y=\"48px\"><defs /><svg width=\"100%\" x=\"0\" y=\"0px\"><defs /><text text-anchor=\"middle\" x=\"50%\" y=\"16px\">NounPhrase</text></svg><svg width=\"54.5455%\" x=\"0%\" y=\"48px\"><defs /><svg width=\"100%\" x=\"0\" y=\"0px\"><defs /><text text-anchor=\"middle\" x=\"50%\" y=\"16px\">Determiner</text></svg><svg width=\"100%\" x=\"0%\" y=\"48px\"><defs /><svg width=\"100%\" x=\"0\" y=\"0px\"><defs /><text text-anchor=\"middle\" x=\"50%\" y=\"16px\">an</text></svg></svg><line stroke=\"black\" x1=\"50%\" x2=\"50%\" y1=\"19.2px\" y2=\"48px\" /></svg><line stroke=\"black\" x1=\"50%\" x2=\"27.2727%\" y1=\"19.2px\" y2=\"48px\" /><svg width=\"45.4545%\" x=\"54.5455%\" y=\"48px\"><defs /><svg width=\"100%\" x=\"0\" y=\"0px\"><defs /><text text-anchor=\"middle\" x=\"50%\" y=\"16px\">Nominal</text></svg><svg width=\"100%\" x=\"0%\" y=\"48px\"><defs /><svg width=\"100%\" x=\"0\" y=\"0px\"><defs /><text text-anchor=\"middle\" x=\"50%\" y=\"16px\">Noun</text></svg><svg width=\"100%\" x=\"0%\" y=\"48px\"><defs /><svg width=\"100%\" x=\"0\" y=\"0px\"><defs /><text text-anchor=\"middle\" x=\"50%\" y=\"16px\">elephant</text></svg></svg><line stroke=\"black\" x1=\"50%\" x2=\"50%\" y1=\"19.2px\" y2=\"48px\" /></svg><line stroke=\"black\" x1=\"50%\" x2=\"50%\" y1=\"19.2px\" y2=\"48px\" /></svg><line stroke=\"black\" x1=\"50%\" x2=\"77.2727%\" y1=\"19.2px\" y2=\"48px\" /></svg><line stroke=\"black\" x1=\"50%\" x2=\"27.4194%\" y1=\"19.2px\" y2=\"48px\" /><svg width=\"54.8387%\" x=\"45.1613%\" y=\"48px\"><defs /><svg width=\"100%\" x=\"0\" y=\"0px\"><defs /><text text-anchor=\"middle\" x=\"50%\" y=\"16px\">PrepositionalPhrase</text></svg><svg width=\"38.2353%\" x=\"0%\" y=\"48px\"><defs /><svg width=\"100%\" x=\"0\" y=\"0px\"><defs /><text text-anchor=\"middle\" x=\"50%\" y=\"16px\">Preposition</text></svg><svg width=\"100%\" x=\"0%\" y=\"48px\"><defs /><svg width=\"100%\" x=\"0\" y=\"0px\"><defs /><text text-anchor=\"middle\" x=\"50%\" y=\"16px\">in</text></svg></svg><line stroke=\"black\" x1=\"50%\" x2=\"50%\" y1=\"19.2px\" y2=\"48px\" /></svg><line stroke=\"black\" x1=\"50%\" x2=\"19.1176%\" y1=\"19.2px\" y2=\"48px\" /><svg width=\"61.7647%\" x=\"38.2353%\" y=\"48px\"><defs /><svg width=\"100%\" x=\"0\" y=\"0px\"><defs /><text text-anchor=\"middle\" x=\"50%\" y=\"16px\">NounPhrase</text></svg><svg width=\"57.1429%\" x=\"0%\" y=\"48px\"><defs /><svg width=\"100%\" x=\"0\" y=\"0px\"><defs /><text text-anchor=\"middle\" x=\"50%\" y=\"16px\">Determiner</text></svg><svg width=\"100%\" x=\"0%\" y=\"48px\"><defs /><svg width=\"100%\" x=\"0\" y=\"0px\"><defs /><text text-anchor=\"middle\" x=\"50%\" y=\"16px\">my</text></svg></svg><line stroke=\"black\" x1=\"50%\" x2=\"50%\" y1=\"19.2px\" y2=\"48px\" /></svg><line stroke=\"black\" x1=\"50%\" x2=\"28.5714%\" y1=\"19.2px\" y2=\"48px\" /><svg width=\"42.8571%\" x=\"57.1429%\" y=\"48px\"><defs /><svg width=\"100%\" x=\"0\" y=\"0px\"><defs /><text text-anchor=\"middle\" x=\"50%\" y=\"16px\">Nominal</text></svg><svg width=\"100%\" x=\"0%\" y=\"48px\"><defs /><svg width=\"100%\" x=\"0\" y=\"0px\"><defs /><text text-anchor=\"middle\" x=\"50%\" y=\"16px\">Noun</text></svg><svg width=\"100%\" x=\"0%\" y=\"48px\"><defs /><svg width=\"100%\" x=\"0\" y=\"0px\"><defs /><text text-anchor=\"middle\" x=\"50%\" y=\"16px\">pajamas</text></svg></svg><line stroke=\"black\" x1=\"50%\" x2=\"50%\" y1=\"19.2px\" y2=\"48px\" /></svg><line stroke=\"black\" x1=\"50%\" x2=\"50%\" y1=\"19.2px\" y2=\"48px\" /></svg><line stroke=\"black\" x1=\"50%\" x2=\"78.5714%\" y1=\"19.2px\" y2=\"48px\" /></svg><line stroke=\"black\" x1=\"50%\" x2=\"69.1176%\" y1=\"19.2px\" y2=\"48px\" /></svg><line stroke=\"black\" x1=\"50%\" x2=\"72.5806%\" y1=\"19.2px\" y2=\"48px\" /></svg><line stroke=\"black\" x1=\"50%\" x2=\"58.1081%\" y1=\"19.2px\" y2=\"48px\" /></svg>"
            ],
            "text/plain": [
              "Tree('Sentence', [Tree('NounPhrase', [Tree('Pronoun', ['I'])]), Tree('VerbPhrase', [Tree('Verb', ['shot']), Tree('NounPhrase', [Tree('Determiner', ['an']), Tree('Nominal', [Tree('Noun', ['elephant'])])]), Tree('PrepositionalPhrase', [Tree('Preposition', ['in']), Tree('NounPhrase', [Tree('Determiner', ['my']), Tree('Nominal', [Tree('Noun', ['pajamas'])])])])])])"
            ]
          },
          "metadata": {},
          "output_type": "display_data"
        },
        {
          "data": {
            "image/svg+xml": [
              "<svg baseProfile=\"full\" height=\"408px\" preserveAspectRatio=\"xMidYMid meet\" style=\"font-family: times, serif; font-weight: normal; font-style: normal; font-size: 16px;\" version=\"1.1\" viewBox=\"0,0,592.0,408.0\" width=\"592px\" xmlns=\"http://www.w3.org/2000/svg\" xmlns:ev=\"http://www.w3.org/2001/xml-events\" xmlns:xlink=\"http://www.w3.org/1999/xlink\"><defs /><svg width=\"100%\" x=\"0\" y=\"0px\"><defs /><text text-anchor=\"middle\" x=\"50%\" y=\"16px\">Sentence</text></svg><svg width=\"16.2162%\" x=\"0%\" y=\"48px\"><defs /><svg width=\"100%\" x=\"0\" y=\"0px\"><defs /><text text-anchor=\"middle\" x=\"50%\" y=\"16px\">NounPhrase</text></svg><svg width=\"100%\" x=\"0%\" y=\"48px\"><defs /><svg width=\"100%\" x=\"0\" y=\"0px\"><defs /><text text-anchor=\"middle\" x=\"50%\" y=\"16px\">Pronoun</text></svg><svg width=\"100%\" x=\"0%\" y=\"48px\"><defs /><svg width=\"100%\" x=\"0\" y=\"0px\"><defs /><text text-anchor=\"middle\" x=\"50%\" y=\"16px\">I</text></svg></svg><line stroke=\"black\" x1=\"50%\" x2=\"50%\" y1=\"19.2px\" y2=\"48px\" /></svg><line stroke=\"black\" x1=\"50%\" x2=\"50%\" y1=\"19.2px\" y2=\"48px\" /></svg><line stroke=\"black\" x1=\"50%\" x2=\"8.10811%\" y1=\"19.2px\" y2=\"48px\" /><svg width=\"83.7838%\" x=\"16.2162%\" y=\"48px\"><defs /><svg width=\"100%\" x=\"0\" y=\"0px\"><defs /><text text-anchor=\"middle\" x=\"50%\" y=\"16px\">VerbPhrase</text></svg><svg width=\"9.67742%\" x=\"0%\" y=\"48px\"><defs /><svg width=\"100%\" x=\"0\" y=\"0px\"><defs /><text text-anchor=\"middle\" x=\"50%\" y=\"16px\">Verb</text></svg><svg width=\"100%\" x=\"0%\" y=\"48px\"><defs /><svg width=\"100%\" x=\"0\" y=\"0px\"><defs /><text text-anchor=\"middle\" x=\"50%\" y=\"16px\">shot</text></svg></svg><line stroke=\"black\" x1=\"50%\" x2=\"50%\" y1=\"19.2px\" y2=\"48px\" /></svg><line stroke=\"black\" x1=\"50%\" x2=\"4.83871%\" y1=\"19.2px\" y2=\"48px\" /><svg width=\"90.3226%\" x=\"9.67742%\" y=\"48px\"><defs /><svg width=\"100%\" x=\"0\" y=\"0px\"><defs /><text text-anchor=\"middle\" x=\"50%\" y=\"16px\">NounPhrase</text></svg><svg width=\"21.4286%\" x=\"0%\" y=\"48px\"><defs /><svg width=\"100%\" x=\"0\" y=\"0px\"><defs /><text text-anchor=\"middle\" x=\"50%\" y=\"16px\">Determiner</text></svg><svg width=\"100%\" x=\"0%\" y=\"48px\"><defs /><svg width=\"100%\" x=\"0\" y=\"0px\"><defs /><text text-anchor=\"middle\" x=\"50%\" y=\"16px\">an</text></svg></svg><line stroke=\"black\" x1=\"50%\" x2=\"50%\" y1=\"19.2px\" y2=\"48px\" /></svg><line stroke=\"black\" x1=\"50%\" x2=\"10.7143%\" y1=\"19.2px\" y2=\"48px\" /><svg width=\"78.5714%\" x=\"21.4286%\" y=\"48px\"><defs /><svg width=\"100%\" x=\"0\" y=\"0px\"><defs /><text text-anchor=\"middle\" x=\"50%\" y=\"16px\">Nominal</text></svg><svg width=\"22.7273%\" x=\"0%\" y=\"48px\"><defs /><svg width=\"100%\" x=\"0\" y=\"0px\"><defs /><text text-anchor=\"middle\" x=\"50%\" y=\"16px\">Nominal</text></svg><svg width=\"100%\" x=\"0%\" y=\"48px\"><defs /><svg width=\"100%\" x=\"0\" y=\"0px\"><defs /><text text-anchor=\"middle\" x=\"50%\" y=\"16px\">Noun</text></svg><svg width=\"100%\" x=\"0%\" y=\"48px\"><defs /><svg width=\"100%\" x=\"0\" y=\"0px\"><defs /><text text-anchor=\"middle\" x=\"50%\" y=\"16px\">elephant</text></svg></svg><line stroke=\"black\" x1=\"50%\" x2=\"50%\" y1=\"19.2px\" y2=\"48px\" /></svg><line stroke=\"black\" x1=\"50%\" x2=\"50%\" y1=\"19.2px\" y2=\"48px\" /></svg><line stroke=\"black\" x1=\"50%\" x2=\"11.3636%\" y1=\"19.2px\" y2=\"48px\" /><svg width=\"77.2727%\" x=\"22.7273%\" y=\"48px\"><defs /><svg width=\"100%\" x=\"0\" y=\"0px\"><defs /><text text-anchor=\"middle\" x=\"50%\" y=\"16px\">PrepositionalPhrase</text></svg><svg width=\"38.2353%\" x=\"0%\" y=\"48px\"><defs /><svg width=\"100%\" x=\"0\" y=\"0px\"><defs /><text text-anchor=\"middle\" x=\"50%\" y=\"16px\">Preposition</text></svg><svg width=\"100%\" x=\"0%\" y=\"48px\"><defs /><svg width=\"100%\" x=\"0\" y=\"0px\"><defs /><text text-anchor=\"middle\" x=\"50%\" y=\"16px\">in</text></svg></svg><line stroke=\"black\" x1=\"50%\" x2=\"50%\" y1=\"19.2px\" y2=\"48px\" /></svg><line stroke=\"black\" x1=\"50%\" x2=\"19.1176%\" y1=\"19.2px\" y2=\"48px\" /><svg width=\"61.7647%\" x=\"38.2353%\" y=\"48px\"><defs /><svg width=\"100%\" x=\"0\" y=\"0px\"><defs /><text text-anchor=\"middle\" x=\"50%\" y=\"16px\">NounPhrase</text></svg><svg width=\"57.1429%\" x=\"0%\" y=\"48px\"><defs /><svg width=\"100%\" x=\"0\" y=\"0px\"><defs /><text text-anchor=\"middle\" x=\"50%\" y=\"16px\">Determiner</text></svg><svg width=\"100%\" x=\"0%\" y=\"48px\"><defs /><svg width=\"100%\" x=\"0\" y=\"0px\"><defs /><text text-anchor=\"middle\" x=\"50%\" y=\"16px\">my</text></svg></svg><line stroke=\"black\" x1=\"50%\" x2=\"50%\" y1=\"19.2px\" y2=\"48px\" /></svg><line stroke=\"black\" x1=\"50%\" x2=\"28.5714%\" y1=\"19.2px\" y2=\"48px\" /><svg width=\"42.8571%\" x=\"57.1429%\" y=\"48px\"><defs /><svg width=\"100%\" x=\"0\" y=\"0px\"><defs /><text text-anchor=\"middle\" x=\"50%\" y=\"16px\">Nominal</text></svg><svg width=\"100%\" x=\"0%\" y=\"48px\"><defs /><svg width=\"100%\" x=\"0\" y=\"0px\"><defs /><text text-anchor=\"middle\" x=\"50%\" y=\"16px\">Noun</text></svg><svg width=\"100%\" x=\"0%\" y=\"48px\"><defs /><svg width=\"100%\" x=\"0\" y=\"0px\"><defs /><text text-anchor=\"middle\" x=\"50%\" y=\"16px\">pajamas</text></svg></svg><line stroke=\"black\" x1=\"50%\" x2=\"50%\" y1=\"19.2px\" y2=\"48px\" /></svg><line stroke=\"black\" x1=\"50%\" x2=\"50%\" y1=\"19.2px\" y2=\"48px\" /></svg><line stroke=\"black\" x1=\"50%\" x2=\"78.5714%\" y1=\"19.2px\" y2=\"48px\" /></svg><line stroke=\"black\" x1=\"50%\" x2=\"69.1176%\" y1=\"19.2px\" y2=\"48px\" /></svg><line stroke=\"black\" x1=\"50%\" x2=\"61.3636%\" y1=\"19.2px\" y2=\"48px\" /></svg><line stroke=\"black\" x1=\"50%\" x2=\"60.7143%\" y1=\"19.2px\" y2=\"48px\" /></svg><line stroke=\"black\" x1=\"50%\" x2=\"54.8387%\" y1=\"19.2px\" y2=\"48px\" /></svg><line stroke=\"black\" x1=\"50%\" x2=\"58.1081%\" y1=\"19.2px\" y2=\"48px\" /></svg>"
            ],
            "text/plain": [
              "Tree('Sentence', [Tree('NounPhrase', [Tree('Pronoun', ['I'])]), Tree('VerbPhrase', [Tree('Verb', ['shot']), Tree('NounPhrase', [Tree('Determiner', ['an']), Tree('Nominal', [Tree('Nominal', [Tree('Noun', ['elephant'])]), Tree('PrepositionalPhrase', [Tree('Preposition', ['in']), Tree('NounPhrase', [Tree('Determiner', ['my']), Tree('Nominal', [Tree('Noun', ['pajamas'])])])])])])])])"
            ]
          },
          "metadata": {},
          "output_type": "display_data"
        }
      ],
      "source": [
        "import nltk\n",
        "\n",
        "\n",
        "productions = [\n",
        "    nltk.Production(nltk.Nonterminal('Sentence'), [nltk.Nonterminal('NounPhrase'), nltk.Nonterminal('VerbPhrase')]),\n",
        "    nltk.Production(nltk.Nonterminal('NounPhrase'), [nltk.Nonterminal('Pronoun')]),\n",
        "    nltk.Production(nltk.Nonterminal('NounPhrase'), [nltk.Nonterminal('Determiner'), nltk.Nonterminal('Nominal')]),\n",
        "    nltk.Production(nltk.Nonterminal('NounPhrase'), [nltk.Nonterminal('Nominal')]),\n",
        "    nltk.Production(nltk.Nonterminal('Nominal'), [nltk.Nonterminal('Nominal'), nltk.Nonterminal('Noun')]),\n",
        "    nltk.Production(nltk.Nonterminal('Nominal'), [nltk.Nonterminal('Nominal'), nltk.Nonterminal('PrepositionalPhrase')]),\n",
        "    nltk.Production(nltk.Nonterminal('Nominal'), [nltk.Nonterminal('Noun')]),\n",
        "    nltk.Production(nltk.Nonterminal('VerbPhrase'), [nltk.Nonterminal('Verb'), nltk.Nonterminal('NounPhrase')]),\n",
        "    nltk.Production(nltk.Nonterminal('VerbPhrase'), [nltk.Nonterminal('Verb'), nltk.Nonterminal('NounPhrase'), nltk.Nonterminal('PrepositionalPhrase')]),\n",
        "    nltk.Production(nltk.Nonterminal('VerbPhrase'), [nltk.Nonterminal('Verb'), nltk.Nonterminal('PrepositionalPhrase')]),\n",
        "    nltk.Production(nltk.Nonterminal('PrepositionalPhrase'), [nltk.Nonterminal('Preposition'), nltk.Nonterminal('NounPhrase')]),\n",
        "\n",
        "    # Productions for Determiner\n",
        "    nltk.Production(nltk.Nonterminal('Determiner'), ['a']),\n",
        "    nltk.Production(nltk.Nonterminal('Determiner'), ['an']),\n",
        "    nltk.Production(nltk.Nonterminal('Determiner'), ['the']),\n",
        "    nltk.Production(nltk.Nonterminal('Determiner'), ['this']),\n",
        "    nltk.Production(nltk.Nonterminal('Determiner'), ['that']),\n",
        "    nltk.Production(nltk.Nonterminal('Determiner'), ['my']),\n",
        "    # Add more Determiner productions as needed\n",
        "\n",
        "    # Productions for Pronoun\n",
        "    nltk.Production(nltk.Nonterminal('Pronoun'), ['me']),\n",
        "    nltk.Production(nltk.Nonterminal('Pronoun'), ['I']),\n",
        "    nltk.Production(nltk.Nonterminal('Pronoun'), ['you']),\n",
        "    nltk.Production(nltk.Nonterminal('Pronoun'), ['it']),\n",
        "    # Add more Pronoun productions as needed\n",
        "\n",
        "    # Productions for Noun\n",
        "    nltk.Production(nltk.Nonterminal('Noun'), ['flights']),\n",
        "    nltk.Production(nltk.Nonterminal('Noun'), ['flight']),\n",
        "    nltk.Production(nltk.Nonterminal('Noun'), ['breeze']),\n",
        "    nltk.Production(nltk.Nonterminal('Noun'), ['trip']),\n",
        "    nltk.Production(nltk.Nonterminal('Noun'), ['morning']),\n",
        "    nltk.Production(nltk.Nonterminal('Noun'), ['elephant']),\n",
        "    nltk.Production(nltk.Nonterminal('Noun'), ['pajamas']),\n",
        "    # Add more Noun productions as needed\n",
        "\n",
        "    # Productions for Verb\n",
        "    nltk.Production(nltk.Nonterminal('Verb'), ['is']),\n",
        "    nltk.Production(nltk.Nonterminal('Verb'), ['prefer']),\n",
        "    nltk.Production(nltk.Nonterminal('Verb'), ['like']),\n",
        "    nltk.Production(nltk.Nonterminal('Verb'), ['need']),\n",
        "    nltk.Production(nltk.Nonterminal('Verb'), ['want']),\n",
        "    nltk.Production(nltk.Nonterminal('Verb'), ['fly']),\n",
        "    nltk.Production(nltk.Nonterminal('Verb'), ['do']),\n",
        "    nltk.Production(nltk.Nonterminal('Verb'), ['shot']),\n",
        "    # Add more Verb productions as needed\n",
        "\n",
        "    # Productions for Preposition\n",
        "    nltk.Production(nltk.Nonterminal('Preposition'), ['from']),\n",
        "    nltk.Production(nltk.Nonterminal('Preposition'), ['to']),\n",
        "    nltk.Production(nltk.Nonterminal('Preposition'), ['on']),\n",
        "    nltk.Production(nltk.Nonterminal('Preposition'), ['near']),\n",
        "    nltk.Production(nltk.Nonterminal('Preposition'), ['in']),\n",
        "    # Add more Preposition productions as needed\n",
        "]\n",
        "\n",
        "custom_grammar = nltk.CFG(nltk.Nonterminal('Sentence'), productions)\n",
        "\n",
        "parser = nltk.ChartParser(custom_grammar)\n",
        "sentence = \"I shot an elephant in my pajamas\".split()\n",
        "for tree in parser.parse(sentence):\n",
        "    display(tree)\n"
      ]
    },
    {
      "cell_type": "markdown",
      "metadata": {
        "id": "8ksMIOaZonK8"
      },
      "source": [
        "## Group Discussion\n",
        "\n",
        "What are some strategies you can think of for figuring out which tree is really the correct one?"
      ]
    },
    {
      "cell_type": "markdown",
      "metadata": {
        "id": "RO2hVKbbMiZT"
      },
      "source": [
        "I would personally start by looking at the tree with the least depth or less complexity"
      ]
    },
    {
      "cell_type": "markdown",
      "metadata": {
        "id": "3gbSOYnConK8"
      },
      "source": [
        "## Penn Treebank Grammar\n",
        "\n",
        "Remember our Penn Treebank dataset that was tagged with parts of speech? It also has full parse trees built for the sentences in the dataset."
      ]
    },
    {
      "cell_type": "code",
      "execution_count": 8,
      "metadata": {
        "colab": {
          "base_uri": "https://localhost:8080/"
        },
        "id": "UcfKk7ZQonK8",
        "outputId": "0c486d86-2041-4cf4-e101-d21d2c6d3a6f"
      },
      "outputs": [
        {
          "name": "stderr",
          "output_type": "stream",
          "text": [
            "[nltk_data] Downloading package treebank to\n",
            "[nltk_data]     /Users/gonzalovaldenebro/nltk_data...\n"
          ]
        },
        {
          "name": "stdout",
          "output_type": "stream",
          "text": [
            "[Tree('S', [Tree('NP-SBJ', [Tree('NP', [Tree('NNP', ['Pierre']), Tree('NNP', ['Vinken'])]), Tree(',', [',']), Tree('ADJP', [Tree('NP', [Tree('CD', ['61']), Tree('NNS', ['years'])]), Tree('JJ', ['old'])]), Tree(',', [','])]), Tree('VP', [Tree('MD', ['will']), Tree('VP', [Tree('VB', ['join']), Tree('NP', [Tree('DT', ['the']), Tree('NN', ['board'])]), Tree('PP-CLR', [Tree('IN', ['as']), Tree('NP', [Tree('DT', ['a']), Tree('JJ', ['nonexecutive']), Tree('NN', ['director'])])]), Tree('NP-TMP', [Tree('NNP', ['Nov.']), Tree('CD', ['29'])])])]), Tree('.', ['.'])]), Tree('S', [Tree('NP-SBJ', [Tree('NNP', ['Mr.']), Tree('NNP', ['Vinken'])]), Tree('VP', [Tree('VBZ', ['is']), Tree('NP-PRD', [Tree('NP', [Tree('NN', ['chairman'])]), Tree('PP', [Tree('IN', ['of']), Tree('NP', [Tree('NP', [Tree('NNP', ['Elsevier']), Tree('NNP', ['N.V.'])]), Tree(',', [',']), Tree('NP', [Tree('DT', ['the']), Tree('NNP', ['Dutch']), Tree('VBG', ['publishing']), Tree('NN', ['group'])])])])])]), Tree('.', ['.'])]), ...]\n"
          ]
        },
        {
          "name": "stderr",
          "output_type": "stream",
          "text": [
            "[nltk_data]   Unzipping corpora/treebank.zip.\n"
          ]
        }
      ],
      "source": [
        "from nltk.corpus import treebank\n",
        "nltk.download('treebank') #do this if needed\n",
        "print(treebank.parsed_sents())\n"
      ]
    },
    {
      "cell_type": "markdown",
      "metadata": {
        "id": "ysheSYRmonK8"
      },
      "source": [
        "## Inferring the Penn Treebank Grammar\n",
        "\n",
        "The following code will construct the grammar from these trees.\n",
        "\n",
        "One problem - this grammar has a limited vocabulary.\n",
        "* Note: I had to sub a word for `pajamas`\n",
        "\n",
        "Another problem - this may take a while to run\n",
        "\n",
        "Maybe you can figure out a way to deal with this and do something interesting with it."
      ]
    },
    {
      "cell_type": "code",
      "execution_count": null,
      "metadata": {
        "id": "LQxtX1FFOHyL"
      },
      "outputs": [],
      "source": [
        "import nltk\n",
        "from nltk.corpus import treebank\n",
        "import os\n",
        "\n",
        "# Set the NLTK_DATA environment variable\n",
        "nltk.data.path.append(\"/Users/gonzalovaldenebro/Library/CloudStorage/OneDrive-DrakeUniversity/CS 195/ Fortnight - 4\")\n",
        "\n",
        "# Download the Penn Treebank corpus\n",
        "nltk.download('treebank')\n",
        "\n",
        "# Extract and prepare treebank sentences\n",
        "treebank_sents = treebank.parsed_sents()\n",
        "\n",
        "# Go through each parsed sentence and put its production into a big list of productions\n",
        "productions = []\n",
        "for sent in treebank.parsed_sents():\n",
        "    for curr_production in sent.productions():\n",
        "        productions.append(curr_production)\n",
        "\n",
        "treebank_grammar = nltk.CFG(nltk.Nonterminal('S'), productions)\n",
        "\n",
        "# Parse a sentence and obtain the syntactic tree structure\n",
        "def parse_sentence(sentence_str):\n",
        "    sentence = sentence_str.split()\n",
        "    parser = nltk.ChartParser(treebank_grammar)\n",
        "    for tree in parser.parse(sentence):\n",
        "        yield tree\n",
        "\n",
        "# Example sentence to parse\n",
        "input_sentence = \"I shot an elephant in my car\"\n",
        "\n",
        "# Parse the input sentence and display the syntactic tree structure\n",
        "for tree in parse_sentence(input_sentence):\n",
        "    display(tree)"
      ]
    },
    {
      "cell_type": "markdown",
      "metadata": {
        "id": "5RyzVuYVonK8"
      },
      "source": [
        "## Applied Exploration\n",
        "\n",
        "Complete the exercises/dicussion form this workshop. Inlude your notes and written answers to questions.\n",
        "\n",
        "Also, go to https://web.stanford.edu/~jurafsky/slp3/17.pdf and find the $\\mathscr{L}_1$ grammar. There are still a few productions we are missing - add them in here and provide some test strings which use those productions. Feel free to add additional words for the different parts of speech."
      ]
    },
    {
      "cell_type": "code",
      "execution_count": 2,
      "metadata": {
        "id": "r4QJ42FfStcq"
      },
      "outputs": [],
      "source": [
        "import nltk\n",
        "\n",
        "# Original productions\n",
        "productions = [\n",
        "    nltk.Production(nltk.Nonterminal('Sentence'), [nltk.Nonterminal('NounPhrase'), nltk.Nonterminal('VerbPhrase')]),\n",
        "    nltk.Production(nltk.Nonterminal('NounPhrase'), [nltk.Nonterminal('Pronoun')]),\n",
        "    nltk.Production(nltk.Nonterminal('NounPhrase'), [nltk.Nonterminal('Determiner'), nltk.Nonterminal('Noun')]),\n",
        "    nltk.Production(nltk.Nonterminal('NounPhrase'), [nltk.Nonterminal('Noun')]),\n",
        "    nltk.Production(nltk.Nonterminal('VerbPhrase'), [nltk.Nonterminal('Verb'), nltk.Nonterminal('NounPhrase')]),\n",
        "    nltk.Production(nltk.Nonterminal('VerbPhrase'), [nltk.Nonterminal('Verb'), nltk.Nonterminal('NounPhrase'), nltk.Nonterminal('PrepositionalPhrase')]),\n",
        "    nltk.Production(nltk.Nonterminal('VerbPhrase'), [nltk.Nonterminal('Verb'), nltk.Nonterminal('PrepositionalPhrase')]),\n",
        "    nltk.Production(nltk.Nonterminal('PrepositionalPhrase'), [nltk.Nonterminal('Preposition'), nltk.Nonterminal('NounPhrase')]),\n",
        "    nltk.Production(nltk.Nonterminal('PrepositionalPhrase'), [nltk.Nonterminal('Preposition'), nltk.Nonterminal('NounPhrase')]),\n",
        "\n",
        "    # Productions for Determiner\n",
        "    nltk.Production(nltk.Nonterminal('Determiner'), ['a']),\n",
        "    nltk.Production(nltk.Nonterminal('Determiner'), ['an']),\n",
        "    nltk.Production(nltk.Nonterminal('Determiner'), ['the']),\n",
        "    nltk.Production(nltk.Nonterminal('Determiner'), ['this']),\n",
        "    nltk.Production(nltk.Nonterminal('Determiner'), ['that']),\n",
        "    nltk.Production(nltk.Nonterminal('Determiner'), ['my']),\n",
        "    # Add more Determiner productions as needed\n",
        "\n",
        "    # Productions for Pronoun\n",
        "    nltk.Production(nltk.Nonterminal('Pronoun'), ['me']),\n",
        "    nltk.Production(nltk.Nonterminal('Pronoun'), ['I']),\n",
        "    nltk.Production(nltk.Nonterminal('Pronoun'), ['you']),\n",
        "    nltk.Production(nltk.Nonterminal('Pronoun'), ['it']),\n",
        "    # Add more Pronoun productions as needed\n",
        "\n",
        "    # Productions for Noun\n",
        "    nltk.Production(nltk.Nonterminal('Noun'), ['flights']),\n",
        "    nltk.Production(nltk.Nonterminal('Noun'), ['flight']),\n",
        "    nltk.Production(nltk.Nonterminal('Noun'), ['breeze']),\n",
        "    nltk.Production(nltk.Nonterminal('Noun'), ['trip']),\n",
        "    nltk.Production(nltk.Nonterminal('Noun'), ['morning']),\n",
        "    nltk.Production(nltk.Nonterminal('Noun'), ['elephant']),\n",
        "    nltk.Production(nltk.Nonterminal('Noun'), ['pajamas']),\n",
        "    nltk.Production(nltk.Nonterminal('Noun'), ['tomorrow']),\n",
        "    nltk.Production(nltk.Nonterminal('Noun'), ['car']),\n",
        "    # Add more Noun productions as needed\n",
        "\n",
        "    # Productions for Verb\n",
        "    nltk.Production(nltk.Nonterminal('Verb'), ['is']),\n",
        "    nltk.Production(nltk.Nonterminal('Verb'), ['prefer']),\n",
        "    nltk.Production(nltk.Nonterminal('Verb'), ['like']),\n",
        "    nltk.Production(nltk.Nonterminal('Verb'), ['need']),\n",
        "    nltk.Production(nltk.Nonterminal('Verb'), ['want']),\n",
        "    nltk.Production(nltk.Nonterminal('Verb'), ['fly']),\n",
        "    nltk.Production(nltk.Nonterminal('Verb'), ['do']),\n",
        "    nltk.Production(nltk.Nonterminal('Verb'), ['shot']),\n",
        "    # Add more Verb productions as needed\n",
        "\n",
        "    # Productions for Preposition\n",
        "    nltk.Production(nltk.Nonterminal('Preposition'), ['from']),\n",
        "    nltk.Production(nltk.Nonterminal('Preposition'), ['to']),\n",
        "    nltk.Production(nltk.Nonterminal('Preposition'), ['on']),\n",
        "    nltk.Production(nltk.Nonterminal('Preposition'), ['near']),\n",
        "    nltk.Production(nltk.Nonterminal('Preposition'), ['in']),\n",
        "    nltk.Production(nltk.Nonterminal('Preposition'), ['for']),\n",
        "    # Add more Preposition productions as needed\n",
        "]\n",
        "\n",
        "# Productions for Grammar Lexicon\n",
        "lexicon_productions = [\n",
        "    nltk.Production(nltk.Nonterminal('S'), [nltk.Nonterminal('NP'), nltk.Nonterminal('VP')]),\n",
        "    nltk.Production(nltk.Nonterminal('Det'), ['that']),\n",
        "    nltk.Production(nltk.Nonterminal('Det'), ['this']),\n",
        "    nltk.Production(nltk.Nonterminal('Det'), ['the']),\n",
        "    nltk.Production(nltk.Nonterminal('Det'), ['a']),\n",
        "    nltk.Production(nltk.Nonterminal('S'), [nltk.Nonterminal('Aux'), nltk.Nonterminal('NP'), nltk.Nonterminal('VP')]),\n",
        "    nltk.Production(nltk.Nonterminal('Noun'), ['book']),\n",
        "    nltk.Production(nltk.Nonterminal('Noun'), ['flight']),\n",
        "    nltk.Production(nltk.Nonterminal('Noun'), ['meal']),\n",
        "    nltk.Production(nltk.Nonterminal('Noun'), ['money']),\n",
        "    nltk.Production(nltk.Nonterminal('S'), [nltk.Nonterminal('VP')]),\n",
        "    nltk.Production(nltk.Nonterminal('VP'), ['book']),\n",
        "    nltk.Production(nltk.Nonterminal('VP'), ['include']),\n",
        "    nltk.Production(nltk.Nonterminal('VP'), ['prefer']),\n",
        "    nltk.Production(nltk.Nonterminal('NP'), ['I']),\n",
        "    nltk.Production(nltk.Nonterminal('NP'), ['she']),\n",
        "    nltk.Production(nltk.Nonterminal('NP'), ['me']),\n",
        "    nltk.Production(nltk.Nonterminal('NP'), ['Houston']),\n",
        "    nltk.Production(nltk.Nonterminal('NP'), ['NWA']),\n",
        "    nltk.Production(nltk.Nonterminal('NP'), [nltk.Nonterminal('Det'), nltk.Nonterminal('Nominal')]),\n",
        "    nltk.Production(nltk.Nonterminal('Aux'), ['does']),\n",
        "    nltk.Production(nltk.Nonterminal('Nominal'), [nltk.Nonterminal('Noun'), nltk.Nonterminal('Preposition')]),\n",
        "    nltk.Production(nltk.Nonterminal('Nominal'), [nltk.Nonterminal('Nominal'), nltk.Nonterminal('Noun')]),\n",
        "    nltk.Production(nltk.Nonterminal('Nominal'), [nltk.Nonterminal('Nominal'), nltk.Nonterminal('PP')]),\n",
        "    nltk.Production(nltk.Nonterminal('VP'), ['Verb']),\n",
        "    nltk.Production(nltk.Nonterminal('VP'), ['Verb', nltk.Nonterminal('NP')]),\n",
        "    nltk.Production(nltk.Nonterminal('VP'), ['Verb', nltk.Nonterminal('NP'), nltk.Nonterminal('PP')]),\n",
        "    nltk.Production(nltk.Nonterminal('VP'), ['Verb', nltk.Nonterminal('PP')]),\n",
        "    nltk.Production(nltk.Nonterminal('VP'), [nltk.Nonterminal('VP'), nltk.Nonterminal('PP')]),\n",
        "    nltk.Production(nltk.Nonterminal('PP'), [nltk.Nonterminal('Preposition'), nltk.Nonterminal('NP')]),]\n",
        "\n",
        "\n",
        "# Combine the original and new productions\n",
        "all_productions = productions + lexicon_productions\n",
        "custom_grammar = nltk.CFG(nltk.Nonterminal('Sentence'), all_productions)\n",
        "parser = nltk.ChartParser(custom_grammar)\n",
        "sentence = \"I shot an elephant in my pajamas near the book\".split()\n",
        "\n",
        "for tree in parser.parse(sentence):\n",
        "    # Visualize the parse tree\n",
        "    print(\"Here's what the internal structure looks like:\")\n",
        "    print(list(tree))\n",
        "    nltk.draw.tree.draw_trees(tree) #uncomment to get an image\n",
        "    print(\"\\nHere's what the parse tree looks like graphically:\")\n",
        "    display(tree)"
      ]
    },
    {
      "cell_type": "markdown",
      "metadata": {},
      "source": [
        "Complete the exercises/dicussion form this workshop. Inlude your notes and written answers to questions.\n",
        "\n",
        "Also, go to https://web.stanford.edu/~jurafsky/slp3/17.pdf and find the $\\mathscr{L}_1$ grammar. There are still a few productions we are missing - add them in here and provide some test strings which use those productions. Feel free to add additional words for the different parts of speech."
      ]
    },
    {
      "cell_type": "markdown",
      "metadata": {},
      "source": [
        "### Applied Exploration Notes: \n",
        "\n",
        "I was able to add addtional production and some test strings, I was able to get pretty good resuls although the tree is not displayig at this time :( "
      ]
    }
  ],
  "metadata": {
    "celltoolbar": "Slideshow",
    "colab": {
      "include_colab_link": true,
      "provenance": []
    },
    "kernelspec": {
      "display_name": "Python 3 (ipykernel)",
      "language": "python",
      "name": "python3"
    },
    "language_info": {
      "codemirror_mode": {
        "name": "ipython",
        "version": 3
      },
      "file_extension": ".py",
      "mimetype": "text/x-python",
      "name": "python",
      "nbconvert_exporter": "python",
      "pygments_lexer": "ipython3",
      "version": "3.11.1"
    }
  },
  "nbformat": 4,
  "nbformat_minor": 0
}
