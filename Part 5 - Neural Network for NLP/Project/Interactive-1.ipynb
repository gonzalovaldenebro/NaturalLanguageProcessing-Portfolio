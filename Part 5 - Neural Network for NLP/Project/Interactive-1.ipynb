{
 "cells": [
  {
   "cell_type": "markdown",
   "metadata": {
    "isInteractiveWindowMessageCell": true
   },
   "source": [
    "Connected to Python 3.11.1"
   ]
  },
  {
   "cell_type": "code",
   "execution_count": 1,
   "metadata": {},
   "outputs": [],
   "source": [
    "import tkinter as tk\n",
    "from sklearn.feature_extraction.text import TfidfVectorizer\n",
    "import numpy as np\n",
    "from keras.models import load_model\n",
    "import joblib\n",
    "import pandas as pd\n",
    "\n",
    "# Load the pre-trained model (without optimizer)\n",
    "model = load_model('/Users/gonzalovaldenebro/Library/CloudStorage/OneDrive-DrakeUniversity/CS 195/Fortnight 5/NeuralNetwork.keras', compile=False)\n",
    "\n",
    "# Load the TF-IDF vectorizer (you need to save it separately when training the model)\n",
    "vectorizer = joblib.load('/Users/gonzalovaldenebro/Library/CloudStorage/OneDrive-DrakeUniversity/CS 195/Fortnight 5/vectorizer.pkl')\n",
    "\n",
    "# Function to predict text\n",
    "def predict_text():\n",
    "    input_text = input_entry.get()\n",
    "    new_text = [input_text]\n",
    "    new_text_vectors = vectorizer.transform(new_text)\n",
    "    new_text_vectors_array = new_text_vectors.toarray()\n",
    "\n",
    "    predictions = model.predict(new_text_vectors_array, verbose=0)\n",
    "\n",
    "    category_mapping = {0: 'World', 1: 'Sports', 2: 'Business', 3: 'Sci/Tech'}\n",
    "    predicted_labels = predictions.argmax(axis=1)\n",
    "    predicted_category = category_mapping.get(predicted_labels[0], 'Unknown')\n",
    "\n",
    "    prediction_percentages = [f\"{prob * 100:.3f}%\" for prob in predictions[0]]\n",
    "\n",
    "    result_label.config(text=f\"Predicted category: {predicted_category} ({prediction_percentages[0]})\")\n",
    "\n",
    "    # Create a DataFrame-like display for other categories and their prediction percentages\n",
    "    category_labels = [category_mapping[i] for i in range(len(category_mapping))]\n",
    "    category_labels.remove(predicted_category)\n",
    "    other_predictions = [(label, f\"{prob * 100:.3f}%\") for label, prob in zip(category_labels, predictions[0])]\n",
    "    other_predictions_sorted = sorted(other_predictions, key=lambda x: float(x[1][:-1]), reverse=True)\n",
    "\n",
    "    other_predictions_text = \"\\n\".join([f\"{label}: {percentage}\" for label, percentage in other_predictions_sorted])\n",
    "    other_predictions_label.config(text=f\"Other Categories :\\n{other_predictions_text}\")\n",
    "\n",
    "# Create the main application window\n",
    "app = tk.Tk()\n",
    "app.title(\"Text Classification App\")\n",
    "\n",
    "# Create input field and predict button\n",
    "input_entry = tk.Entry(app, width=70)  # Adjust the width here\n",
    "predict_button = tk.Button(app, text=\"Predict\", command=predict_text)\n",
    "result_label = tk.Label(app, text=\"Predicted category will appear here\", wraplength=400)\n",
    "other_predictions_label = tk.Label(app, text=\"Other Categories will appear here\", wraplength=400)\n",
    "\n",
    "# Pack widgets\n",
    "input_entry.pack(padx=10, pady=10)\n",
    "predict_button.pack(padx=10, pady=10)\n",
    "result_label.pack(padx=10, pady=10)\n",
    "other_predictions_label.pack(padx=10, pady=10)\n",
    "\n",
    "app.mainloop()"
   ]
  },
  {
   "cell_type": "markdown",
   "metadata": {
    "isInteractiveWindowMessageCell": true
   },
   "source": [
    "No kernel connected"
   ]
  }
 ],
 "metadata": {
  "kernelspec": {
   "display_name": "Python 3",
   "language": "python",
   "name": "python3"
  },
  "language_info": {
   "name": "python",
   "version": "3.11.1"
  }
 },
 "nbformat": 4,
 "nbformat_minor": 2
}
