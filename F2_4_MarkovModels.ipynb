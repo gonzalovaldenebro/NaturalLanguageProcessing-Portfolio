{
  "cells": [
    {
      "cell_type": "markdown",
      "metadata": {
        "id": "view-in-github",
        "colab_type": "text"
      },
      "source": [
        "<a href=\"https://colab.research.google.com/github/gonzalovaldenebro/NaturalLanguageProcessing-Portfolio/blob/main/F2_4_MarkovModels.ipynb\" target=\"_parent\"><img src=\"https://colab.research.google.com/assets/colab-badge.svg\" alt=\"Open In Colab\"/></a>"
      ]
    },
    {
      "cell_type": "markdown",
      "metadata": {
        "id": "C192SOmJS6lw"
      },
      "source": [
        "# CS 195: Natural Language Processing\n",
        "## Markov Models\n",
        "\n",
        "[![Open In Colab](https://colab.research.google.com/assets/colab-badge.svg)](https://colab.research.google.com/github/ericmanley/f23-CS195NLP/blob/main/F2_4_MarkovModels.ipynb)\n"
      ]
    },
    {
      "cell_type": "markdown",
      "metadata": {
        "id": "ex1EZDhGcH14"
      },
      "source": [
        "## References\n",
        "\n",
        "Markov chain on Wikipedia: https://en.wikipedia.org/wiki/Markov_chain\n",
        "\n",
        "NLTK Book Chapter 2: Accessing Text Corpora and Lexical Resources https://www.nltk.org/book/ch02.html\n",
        "\n",
        "What is ChatGPT Doing and Why Does it Work? By Stephen Wolfram: https://writings.stephenwolfram.com/2023/02/what-is-chatgpt-doing-and-why-does-it-work/\n",
        "* This is a fascinating article that covers a lot of NLP topics. The opening motivates text generation with Markov-like descriptions."
      ]
    },
    {
      "cell_type": "code",
      "execution_count": null,
      "metadata": {
        "id": "ordyogSYcH15"
      },
      "outputs": [],
      "source": [
        "#you shouldn't need to do this in Colab, but I had to do it on my own machine\n",
        "#in order to connect to the nltk service\n",
        "import nltk\n",
        "import ssl\n",
        "\n",
        "try:\n",
        "    _create_unverified_https_context = ssl._create_unverified_context\n",
        "except AttributeError:\n",
        "    pass\n",
        "else:\n",
        "    ssl._create_default_https_context = _create_unverified_https_context\n"
      ]
    },
    {
      "cell_type": "markdown",
      "metadata": {
        "id": "AWH9Ae4icH15"
      },
      "source": [
        "## Andrey Andreyevich Markov\n",
        "\n",
        "<div>\n",
        "<img src=\"https://github.com/ericmanley/f23-CS195NLP/blob/main/images/Andrei_Markov.jpg?raw=1\" width=\"200\"/>\n",
        "</div>\n",
        "\n",
        "image source: https://en.wikipedia.org/wiki/Andrey_Markov"
      ]
    },
    {
      "cell_type": "markdown",
      "metadata": {
        "id": "45DxPGAccH15"
      },
      "source": [
        "## Markov Chain\n",
        "\n",
        "A **Markov Chain** describes a sequence of possible events and the probabilities of transitioning from one event state to another.\n",
        "\n",
        "It can be applied to text - what is the probability that one word follows another?\n",
        "\n",
        "Here is a diagram which corresponds to this text:\n",
        "\n",
        "`\"I code when I am happy. I am happy therefore I code.\"`\n",
        "\n",
        "<div>\n",
        "<img src=\"https://github.com/ericmanley/f23-CS195NLP/blob/main/images/happy_markov_model.png?raw=1\"/>\n",
        "</div>\n"
      ]
    },
    {
      "cell_type": "markdown",
      "metadata": {
        "id": "vVko7BlAcH16"
      },
      "source": [
        "## Shakespeare Example\n",
        "\n",
        "To be, or not to be, that is the question:\n",
        "Whether 'tis nobler in the mind to suffer\n",
        "The slings and arrows of outrageous fortune,\n",
        "Or to take Arms against a Sea of troubles\n",
        "\n",
        "<div>\n",
        "<img src=\"https://github.com/ericmanley/f23-CS195NLP/blob/main/images/to_be_markov_model.png?raw=1\"/>\n",
        "</div>\n",
        "\n",
        "Transitions here are shown as frequencies instead of probabilities.\n",
        "\n"
      ]
    },
    {
      "cell_type": "markdown",
      "metadata": {
        "id": "3jBoCo9ycH16"
      },
      "source": [
        "## Demo: Let's see how we can construct the model for this text\n",
        "\n",
        "`\"I code when I am happy. I am happy therefore I code.\"`"
      ]
    },
    {
      "cell_type": "markdown",
      "metadata": {
        "id": "KViJ4srVcH16"
      },
      "source": [
        "We want to represent this model in a data structure - could use 2D-list/matrix or a nested dictionary\n",
        "\n",
        "Nested dictionary representation\n",
        "\n",
        "\n",
        "`{\n",
        " 'I': {'am': 2, 'code': 2},\n",
        " 'code': {'.': 1, 'when': 1},\n",
        " 'when': {'I': 1}\n",
        " 'am': {'happy': 2},\n",
        " 'happy': {'.': 1, 'therefore': 1},\n",
        " 'therefore': {'I': 1},\n",
        " '.': {'I': 1},\n",
        "}`\n"
      ]
    },
    {
      "cell_type": "markdown",
      "metadata": {
        "id": "Wx1AAxpzcH16"
      },
      "source": [
        "## Digression: Let's talk about those dictionaries\n",
        "\n",
        "\n",
        "We could use a regular ol dictionary for this. But if you want to use a dictionary to count how many times you see a word, there's something that is kind of annoying about them:\n"
      ]
    },
    {
      "cell_type": "code",
      "execution_count": null,
      "metadata": {
        "id": "WMV4aKkAcH16",
        "outputId": "e6780efa-426e-4242-eb36-13974cd00a59",
        "colab": {
          "base_uri": "https://localhost:8080/",
          "height": 214
        }
      },
      "outputs": [
        {
          "output_type": "error",
          "ename": "KeyError",
          "evalue": "ignored",
          "traceback": [
            "\u001b[0;31m---------------------------------------------------------------------------\u001b[0m",
            "\u001b[0;31mKeyError\u001b[0m                                  Traceback (most recent call last)",
            "\u001b[0;32m<ipython-input-2-b9d817bc64e5>\u001b[0m in \u001b[0;36m<cell line: 5>\u001b[0;34m()\u001b[0m\n\u001b[1;32m      3\u001b[0m \u001b[0;31m#...\u001b[0m\u001b[0;34m\u001b[0m\u001b[0;34m\u001b[0m\u001b[0m\n\u001b[1;32m      4\u001b[0m \u001b[0;31m# I saw \"chicken\", so let's add on to the \"chicken\" counter\u001b[0m\u001b[0;34m\u001b[0m\u001b[0;34m\u001b[0m\u001b[0m\n\u001b[0;32m----> 5\u001b[0;31m \u001b[0mregular_dict\u001b[0m\u001b[0;34m[\u001b[0m\u001b[0;34m\"chicken\"\u001b[0m\u001b[0;34m]\u001b[0m \u001b[0;34m+=\u001b[0m \u001b[0;36m1\u001b[0m\u001b[0;34m\u001b[0m\u001b[0;34m\u001b[0m\u001b[0m\n\u001b[0m",
            "\u001b[0;31mKeyError\u001b[0m: 'chicken'"
          ]
        }
      ],
      "source": [
        "regular_dict = {}\n",
        "\n",
        "#...\n",
        "# I saw \"chicken\", so let's add on to the \"chicken\" counter\n",
        "regular_dict[\"chicken\"] += 1"
      ]
    },
    {
      "cell_type": "markdown",
      "metadata": {
        "id": "sUg6lLF2cH17"
      },
      "source": [
        "but it might not already be in the dictionary, so you have to do something like this:"
      ]
    },
    {
      "cell_type": "code",
      "execution_count": null,
      "metadata": {
        "id": "AFKxquJncH17",
        "outputId": "eda19691-b624-4008-e715-6b78dccaa95e",
        "colab": {
          "base_uri": "https://localhost:8080/"
        }
      },
      "outputs": [
        {
          "output_type": "stream",
          "name": "stdout",
          "text": [
            "1\n"
          ]
        }
      ],
      "source": [
        "if \"chicken\" in regular_dict:\n",
        "    regular_dict[\"chicken\"] += 1\n",
        "else:\n",
        "    regular_dict[\"chicken\"] = 1\n",
        "\n",
        "print(regular_dict[\"chicken\"])"
      ]
    },
    {
      "cell_type": "markdown",
      "metadata": {
        "id": "W90PSuKjcH17"
      },
      "source": [
        "It would be great if it just assumed a missing value was 0 instead of throwing an error!\n",
        "\n",
        "That's what a `defaultdict` does:"
      ]
    },
    {
      "cell_type": "code",
      "execution_count": null,
      "metadata": {
        "id": "pzjm-z0UcH17",
        "outputId": "3ced89d2-20ed-4e64-8691-a730bacf2502",
        "colab": {
          "base_uri": "https://localhost:8080/"
        }
      },
      "outputs": [
        {
          "output_type": "stream",
          "name": "stdout",
          "text": [
            "1\n"
          ]
        }
      ],
      "source": [
        "from collections import defaultdict\n",
        "\n",
        "my_ddict = defaultdict(int) #we're going to put ints in there - this tells it to make 0 the default\n",
        "\n",
        "my_ddict[\"chicken\"] += 1\n",
        "\n",
        "print(my_ddict[\"chicken\"])"
      ]
    },
    {
      "cell_type": "markdown",
      "metadata": {
        "id": "sTP2kvvRcH17"
      },
      "source": [
        "*👍*"
      ]
    },
    {
      "cell_type": "markdown",
      "metadata": {
        "id": "LOIYqFfYcH17"
      },
      "source": [
        "## Training a Markov Model\n",
        "\n",
        "Before we start training our model, let's make a list the **tokens** - all of the words, punctuation, and other things we want to be the states of the model.\n",
        "\n",
        "You can use the string `split` method for this:\n"
      ]
    },
    {
      "cell_type": "code",
      "execution_count": null,
      "metadata": {
        "id": "S2G__rBccH17",
        "outputId": "acfd7540-1c61-499b-89b4-b6ab1570e13e",
        "colab": {
          "base_uri": "https://localhost:8080/"
        }
      },
      "outputs": [
        {
          "output_type": "stream",
          "name": "stdout",
          "text": [
            "['I', 'code', 'when', 'I', 'am', 'happy', '.', 'I', 'am', 'happy', 'therefore', 'I', 'code', '.']\n"
          ]
        }
      ],
      "source": [
        "text = \"I code when I am happy . I am happy therefore I code . \"\n",
        "text_tokens = text.split()\n",
        "\n",
        "print(text_tokens)"
      ]
    },
    {
      "cell_type": "markdown",
      "metadata": {
        "id": "cigJghVdcH17"
      },
      "source": [
        "Now let's build the model using this list"
      ]
    },
    {
      "cell_type": "code",
      "execution_count": null,
      "metadata": {
        "id": "krVz7LTGcH18",
        "outputId": "8a01acba-6d0b-4368-9388-dcd39ff5ffeb",
        "colab": {
          "base_uri": "https://localhost:8080/"
        }
      },
      "outputs": [
        {
          "output_type": "stream",
          "name": "stdout",
          "text": [
            "defaultdict(<function <lambda> at 0x7b36ba93e290>,\n",
            "            {'.': defaultdict(<class 'int'>, {'I': 1}),\n",
            "             'I': defaultdict(<class 'int'>, {'code': 2, 'am': 2}),\n",
            "             'am': defaultdict(<class 'int'>, {'happy': 2}),\n",
            "             'code': defaultdict(<class 'int'>, {'when': 1, '.': 1}),\n",
            "             'happy': defaultdict(<class 'int'>, {'.': 1, 'therefore': 1}),\n",
            "             'therefore': defaultdict(<class 'int'>, {'I': 1}),\n",
            "             'when': defaultdict(<class 'int'>, {'I': 1})})\n"
          ]
        }
      ],
      "source": [
        "from collections import defaultdict\n",
        "from pprint import pprint\n",
        "\n",
        "# this is our dictionary of dictionaries -\n",
        "# lambda: defaultdict(int) just means I want a bunch of defaultdicts of ints\n",
        "transition_counts = defaultdict(lambda: defaultdict(int))\n",
        "\n",
        "for idx in range(len(text_tokens)-1):\n",
        "    current_token = text_tokens[idx]\n",
        "    next_token = text_tokens[idx+1]\n",
        "    transition_counts[current_token][next_token] += 1\n",
        "\n",
        "\n",
        "pprint(transition_counts)"
      ]
    },
    {
      "cell_type": "markdown",
      "metadata": {
        "id": "AKjxB75VcH18"
      },
      "source": [
        "## Let's make this into a function\n",
        "\n",
        "I'll call the list of tokens **corpus** - which is another word for a body of text you use to train a model\n"
      ]
    },
    {
      "cell_type": "code",
      "execution_count": null,
      "metadata": {
        "id": "4KrJLjHwcH18",
        "outputId": "350fbc19-991e-4408-a4d2-18786df210b9",
        "colab": {
          "base_uri": "https://localhost:8080/"
        }
      },
      "outputs": [
        {
          "output_type": "stream",
          "name": "stdout",
          "text": [
            "defaultdict(<function train_markov_model.<locals>.<lambda> at 0x7b36ba93ea70>,\n",
            "            {\"'tis\": defaultdict(<class 'int'>, {'nobler': 1}),\n",
            "             ',': defaultdict(<class 'int'>, {'or': 2, 'that': 1}),\n",
            "             ':': defaultdict(<class 'int'>, {'whether': 1}),\n",
            "             'a': defaultdict(<class 'int'>, {'sea': 1}),\n",
            "             'against': defaultdict(<class 'int'>, {'a': 1}),\n",
            "             'and': defaultdict(<class 'int'>, {'arrows': 1}),\n",
            "             'arms': defaultdict(<class 'int'>, {'against': 1}),\n",
            "             'arrows': defaultdict(<class 'int'>, {'of': 1}),\n",
            "             'be': defaultdict(<class 'int'>, {',': 2}),\n",
            "             'fortune': defaultdict(<class 'int'>, {',': 1}),\n",
            "             'in': defaultdict(<class 'int'>, {'the': 1}),\n",
            "             'is': defaultdict(<class 'int'>, {'the': 1}),\n",
            "             'mind': defaultdict(<class 'int'>, {'to': 1}),\n",
            "             'nobler': defaultdict(<class 'int'>, {'in': 1}),\n",
            "             'not': defaultdict(<class 'int'>, {'to': 1}),\n",
            "             'of': defaultdict(<class 'int'>, {'outrageous': 1, 'troubles': 1}),\n",
            "             'or': defaultdict(<class 'int'>, {'not': 1, 'to': 1}),\n",
            "             'outrageous': defaultdict(<class 'int'>, {'fortune': 1}),\n",
            "             'question': defaultdict(<class 'int'>, {':': 1}),\n",
            "             'sea': defaultdict(<class 'int'>, {'of': 1}),\n",
            "             'slings': defaultdict(<class 'int'>, {'and': 1}),\n",
            "             'suffer': defaultdict(<class 'int'>, {'the': 1}),\n",
            "             'take': defaultdict(<class 'int'>, {'arms': 1}),\n",
            "             'that': defaultdict(<class 'int'>, {'is': 1}),\n",
            "             'the': defaultdict(<class 'int'>,\n",
            "                                {'mind': 1,\n",
            "                                 'question': 1,\n",
            "                                 'slings': 1}),\n",
            "             'to': defaultdict(<class 'int'>,\n",
            "                               {'be': 2,\n",
            "                                'suffer': 1,\n",
            "                                'take': 1}),\n",
            "             'troubles': defaultdict(<class 'int'>, {',': 1}),\n",
            "             'whether': defaultdict(<class 'int'>, {\"'tis\": 1})})\n"
          ]
        }
      ],
      "source": [
        "def train_markov_model(corpus):\n",
        "    # this is our dictionary of dictionaries -\n",
        "    # lambda: defaultdict(int) just means I want a bunch of defaultdicts of ints\n",
        "    transition_counts = defaultdict(lambda: defaultdict(int))\n",
        "\n",
        "    for idx in range(len(corpus)-1):\n",
        "        current_token = corpus[idx]\n",
        "        next_token = corpus[idx+1]\n",
        "        transition_counts[current_token][next_token] += 1\n",
        "\n",
        "    return transition_counts\n",
        "\n",
        "to_be = \"To be , or not to be , that is the question : Whether 'tis nobler in the mind to suffer The slings and arrows of outrageous fortune , Or to take Arms against a Sea of troubles ,\"\n",
        "to_be_tokens = to_be.lower().split() #convert to lowercase and break apart by spaces into a list\n",
        "to_be_model = train_markov_model(to_be_tokens)\n",
        "\n",
        "pprint(to_be_model)"
      ]
    },
    {
      "cell_type": "markdown",
      "metadata": {
        "id": "oPpj5mAhcH18"
      },
      "source": [
        "## How can we use this model?\n",
        "\n",
        "We could now make a prediction about the next word in a sequence - like predictive text keyboards\n",
        "\n",
        "<div>\n",
        "<img src=\"https://github.com/ericmanley/f23-CS195NLP/blob/main/images/predictive_text.png?raw=1\"/ width=300>\n",
        "</div>"
      ]
    },
    {
      "cell_type": "markdown",
      "metadata": {
        "id": "VaO-aReVcH18"
      },
      "source": [
        "### How can we generate a good random *next* word after \"to\"\n",
        "\n",
        "Notice this part of the model:\n",
        "\n",
        "`\n",
        "'to': defaultdict(<class 'int'>,\n",
        "    {'be': 2,\n",
        "    'suffer': 1,\n",
        "    'take': 1}),\n",
        "`\n",
        "\n",
        "So when we see \"to\", we could\n",
        "* always predict \"be\"\n",
        "* randomly predict based on these possibilities\n",
        "    * generate a random int between 1 and 4\n",
        "        - 1: predict \"be\"\n",
        "        - 2: predict \"be\"\n",
        "        - 3: predict \"suffer\"\n",
        "        - 4: predict \"take\"\n",
        "    * words that appear after \"to\" more often a picked more often\n",
        "    * generates more interesting text than always picking the highest-ranked choice"
      ]
    },
    {
      "cell_type": "markdown",
      "metadata": {
        "id": "3BxtDEeVcH18"
      },
      "source": [
        "### coding it up"
      ]
    },
    {
      "cell_type": "code",
      "execution_count": null,
      "metadata": {
        "id": "mYM2tA65cH18",
        "outputId": "de1abbf7-8292-4219-d2c1-992b779e6fbb",
        "colab": {
          "base_uri": "https://localhost:8080/"
        }
      },
      "outputs": [
        {
          "output_type": "stream",
          "name": "stdout",
          "text": [
            "be\n",
            "suffer\n",
            "suffer\n",
            "take\n",
            "be\n",
            "take\n",
            "be\n",
            "suffer\n",
            "be\n",
            "be\n"
          ]
        }
      ],
      "source": [
        "import random\n",
        "\n",
        "def generate_random_next_word(current_word, transition_counts):\n",
        "    #get the frequency of all words that come after current_word\n",
        "    possible_words_counts = transition_counts[current_word]\n",
        "    #print(possible_words_counts)\n",
        "    #count up the total of all words that come after current_word\n",
        "    total_occurrences = sum(possible_words_counts.values())\n",
        "\n",
        "    #print(total_occurrences)\n",
        "    #we are going to select one occurence randomly\n",
        "    random_num = random.randint(1,total_occurrences)\n",
        "\n",
        "    #print(\"random number generated:\", random_num)\n",
        "\n",
        "    #subtract words counts from our random number until we hit 0\n",
        "    #this will hit more frequent words proportionally more often\n",
        "    for word in possible_words_counts:\n",
        "        random_num = random_num - possible_words_counts[word]\n",
        "        if random_num <= 0:\n",
        "            return word\n",
        "\n",
        "print( generate_random_next_word(\"to\",to_be_model)  )\n",
        "print( generate_random_next_word(\"to\",to_be_model)  )\n",
        "print( generate_random_next_word(\"to\",to_be_model)  )\n",
        "print( generate_random_next_word(\"to\",to_be_model)  )\n",
        "print( generate_random_next_word(\"to\",to_be_model)  )\n",
        "print( generate_random_next_word(\"to\",to_be_model)  )\n",
        "print( generate_random_next_word(\"to\",to_be_model)  )\n",
        "print( generate_random_next_word(\"to\",to_be_model)  )\n",
        "print( generate_random_next_word(\"to\",to_be_model)  )\n",
        "print( generate_random_next_word(\"to\",to_be_model)  )"
      ]
    },
    {
      "cell_type": "markdown",
      "metadata": {
        "id": "lQuwFaZPcH18"
      },
      "source": [
        "## Generating a whole bunch of text\n",
        "\n",
        "Now we can write a function that successively calls `generate_random_next_word` to generate a whole sequence of words"
      ]
    },
    {
      "cell_type": "code",
      "execution_count": null,
      "metadata": {
        "id": "JleSniS0cH18",
        "outputId": "535eede3-66f9-422b-9252-5f59418a6de4",
        "colab": {
          "base_uri": "https://localhost:8080/"
        }
      },
      "outputs": [
        {
          "output_type": "stream",
          "name": "stdout",
          "text": [
            "to be , or to be , or to be , or not to suffer the question : whether 'tis nobler in the question : whether 'tis nobler in the question \n"
          ]
        }
      ],
      "source": [
        "def generate_text(num,start_word,model):\n",
        "    #a running string to build on with random words\n",
        "    markov_text = start_word + \" \"\n",
        "    curr_word = start_word\n",
        "\n",
        "    #add num random words onto our running string\n",
        "    for n in range(num):\n",
        "        curr_word = generate_random_next_word(curr_word,model)\n",
        "        markov_text += curr_word\n",
        "        markov_text += \" \"\n",
        "\n",
        "    return markov_text\n",
        "\n",
        "print( generate_text(30, \"to\", to_be_model) )"
      ]
    },
    {
      "cell_type": "markdown",
      "metadata": {
        "id": "sXgRJXSPcH18"
      },
      "source": [
        "This text superficially looks like the training text, but it is nonsense.\n",
        "\n",
        "Two ways you can improve it:\n",
        "1. Train it with more text\n",
        "2. Use more than one word to predict the next word - needs to see lots of examples"
      ]
    },
    {
      "cell_type": "markdown",
      "metadata": {
        "id": "DPom6NXIcH18"
      },
      "source": [
        "## Putting it all together\n"
      ]
    },
    {
      "cell_type": "code",
      "execution_count": null,
      "metadata": {
        "id": "uCfx2M5tcH18",
        "outputId": "d7bc1908-37f8-4ab7-c24b-0e0037c8bba3",
        "colab": {
          "base_uri": "https://localhost:8080/"
        }
      },
      "outputs": [
        {
          "output_type": "stream",
          "name": "stdout",
          "text": [
            "{\"'tis\": {'nobler': 1},\n",
            " ',': {'or': 2, 'that': 1},\n",
            " ':': {'whether': 1},\n",
            " 'a': {'sea': 1},\n",
            " 'against': {'a': 1},\n",
            " 'and': {'arrows': 1},\n",
            " 'arms': {'against': 1},\n",
            " 'arrows': {'of': 1},\n",
            " 'be': {',': 2},\n",
            " 'fortune': {',': 1},\n",
            " 'in': {'the': 1},\n",
            " 'is': {'the': 1},\n",
            " 'mind': {'to': 1},\n",
            " 'nobler': {'in': 1},\n",
            " 'not': {'to': 1},\n",
            " 'of': {'outrageous': 1, 'troubles': 1},\n",
            " 'or': {'not': 1, 'to': 1},\n",
            " 'outrageous': {'fortune': 1},\n",
            " 'question': {':': 1},\n",
            " 'sea': {'of': 1},\n",
            " 'slings': {'and': 1},\n",
            " 'suffer': {'the': 1},\n",
            " 'take': {'arms': 1},\n",
            " 'that': {'is': 1},\n",
            " 'the': {'mind': 1, 'question': 1, 'slings': 1},\n",
            " 'to': {'be': 2, 'suffer': 1, 'take': 1},\n",
            " 'whether': {\"'tis\": 1}}\n"
          ]
        }
      ],
      "source": [
        "from nltk.corpus import gutenberg\n",
        "from collections import defaultdict\n",
        "import networkx as nx\n",
        "import matplotlib.pyplot as plt\n",
        "import random\n",
        "from pprint import pformat\n",
        "\n",
        "class MarkovModel:\n",
        "\n",
        "    def __init__(self):\n",
        "        # empty nested dictionary mapping words to words to ints\n",
        "        self.transition_counts = defaultdict(lambda: defaultdict(int))\n",
        "\n",
        "    def train(self,corpus):\n",
        "        #loop through each word in the corpus record the next word\n",
        "        #in its frequency dictionary\n",
        "        for idx in range(len(corpus)-1):\n",
        "            current_token = corpus[idx]\n",
        "            next_token = corpus[idx+1]\n",
        "            self.transition_counts[current_token][next_token] += 1\n",
        "\n",
        "    def generate_random_next_word(self,current_word):\n",
        "        #get the frequency of all words that come after current_word\n",
        "        possible_words_counts = self.transition_counts[current_word]\n",
        "        #count up the total of all words that come after current_word\n",
        "        total_occurrences = sum(possible_words_counts.values())\n",
        "\n",
        "        #we are going to select one occurence randomly\n",
        "        random_num = random.randint(1,total_occurrences)\n",
        "\n",
        "        #subtract words counts from our random number until we hit 0\n",
        "        #this will hit more frequent words proportionally more often\n",
        "        for word in possible_words_counts:\n",
        "            random_num = random_num - possible_words_counts[word]\n",
        "            if random_num <= 0:\n",
        "                return word\n",
        "\n",
        "    def generate_text(self,num=100,start_word = \"I\"):\n",
        "        #a running string to build on with random words\n",
        "        markov_text = start_word + \" \"\n",
        "        curr_word = start_word\n",
        "\n",
        "        #add num random words onto our running string\n",
        "        for n in range(num):\n",
        "            curr_word = self.generate_random_next_word(curr_word)\n",
        "            markov_text += curr_word\n",
        "            markov_text += \" \"\n",
        "\n",
        "        return markov_text\n",
        "\n",
        "    def __str__(self):\n",
        "        # convert defaultdicts to dicts and format using the pprint formatter\n",
        "        return pformat({key:dict(self.transition_counts[key]) for key in self.transition_counts})\n",
        "\n",
        "    def visualize(self,probabilities=False,layout=nx.kamada_kawai_layout):\n",
        "        # use this method to generate visualizations of small models\n",
        "        # it will take too long on large texts - don't do it!\n",
        "        G = nx.DiGraph()\n",
        "\n",
        "        if probabilities:\n",
        "            transition_probabilities = defaultdict(dict)\n",
        "            for current_word, next_words in self.transition_counts.items():\n",
        "                total_occurrences = sum(next_words.values())\n",
        "                for next_word, count in next_words.items():\n",
        "                    transition_probabilities[current_word][next_word] = count / total_occurrences\n",
        "\n",
        "            for current_word, next_words in transition_probabilities.items():\n",
        "                for next_word, probability in next_words.items():\n",
        "                    G.add_edge(current_word, next_word, weight=probability)\n",
        "        else:\n",
        "            for current_word, next_words in self.transition_counts.items():\n",
        "                for next_word, count in next_words.items():\n",
        "                    G.add_edge(current_word, next_word, weight=count)\n",
        "\n",
        "        pos = layout(G)\n",
        "        edge_labels = {edge: f\"{G.edges[edge]['weight']}\" for edge in G.edges()}\n",
        "        nx.draw(G, pos, with_labels=True, node_size=500, node_color='lightblue', font_size=10)\n",
        "        nx.draw_networkx_edge_labels(G, pos, edge_labels=edge_labels)\n",
        "\n",
        "        plt.title(\"Markov Model Visualization\")\n",
        "        plt.show()\n",
        "\n",
        "to_be = \"To be , or not to be , that is the question : Whether 'tis nobler in the mind to suffer The slings and arrows of outrageous fortune , Or to take Arms against a Sea of troubles\"\n",
        "to_be_tokens = to_be.lower().split() #convert to lowercase and break apart by spaces into a list\n",
        "to_be_model = MarkovModel()\n",
        "to_be_model.train(to_be_tokens)\n",
        "\n",
        "print(to_be_model)"
      ]
    },
    {
      "cell_type": "markdown",
      "metadata": {
        "id": "Pux-NXsHcH19"
      },
      "source": [
        "## Downloading a corpus from the `nltk` library\n",
        "\n",
        "`nltk` is the Natural Language Toolkit - lots of great corpora, algorithms, and other resources\n",
        "\n",
        "They have a sample of free books from [Project Gutenberg](https://www.gutenberg.org/)\n",
        "\n",
        "You can find a list of the available corpora here: https://www.nltk.org/nltk_data/"
      ]
    },
    {
      "cell_type": "code",
      "execution_count": null,
      "metadata": {
        "id": "-UB-PTT6cH19",
        "outputId": "7730a39d-d4b9-4aaa-d40b-eaf489c56db9",
        "colab": {
          "base_uri": "https://localhost:8080/"
        }
      },
      "outputs": [
        {
          "output_type": "stream",
          "name": "stdout",
          "text": [
            "['austen-emma.txt', 'austen-persuasion.txt', 'austen-sense.txt', 'bible-kjv.txt', 'blake-poems.txt', 'bryant-stories.txt', 'burgess-busterbrown.txt', 'carroll-alice.txt', 'chesterton-ball.txt', 'chesterton-brown.txt', 'chesterton-thursday.txt', 'edgeworth-parents.txt', 'melville-moby_dick.txt', 'milton-paradise.txt', 'shakespeare-caesar.txt', 'shakespeare-hamlet.txt', 'shakespeare-macbeth.txt', 'whitman-leaves.txt']\n"
          ]
        },
        {
          "output_type": "stream",
          "name": "stderr",
          "text": [
            "[nltk_data] Downloading package gutenberg to /root/nltk_data...\n",
            "[nltk_data]   Unzipping corpora/gutenberg.zip.\n"
          ]
        }
      ],
      "source": [
        "import nltk\n",
        "nltk.download('gutenberg') # you probably only need to do this once\n",
        "print( nltk.corpus.gutenberg.fileids() )"
      ]
    },
    {
      "cell_type": "markdown",
      "metadata": {
        "id": "lEtdU3ExcH19"
      },
      "source": [
        "Let's try Moby Dick"
      ]
    },
    {
      "cell_type": "code",
      "execution_count": null,
      "metadata": {
        "id": "uzqWC4EPcH19",
        "outputId": "ab41ee44-8481-47d5-842a-ec11641b0bde",
        "colab": {
          "base_uri": "https://localhost:8080/"
        }
      },
      "outputs": [
        {
          "output_type": "stream",
          "name": "stdout",
          "text": [
            "['[', 'Moby', 'Dick', 'by', 'Herman', 'Melville', ...]\n"
          ]
        }
      ],
      "source": [
        "from nltk.corpus import gutenberg\n",
        "moby_dick = gutenberg.words('melville-moby_dick.txt')\n",
        "print(moby_dick)"
      ]
    },
    {
      "cell_type": "markdown",
      "metadata": {
        "id": "MRjGS3iWcH19"
      },
      "source": [
        "This will only print truncated output, but it's the whole book!\n",
        "\n",
        "This is a list of tokens - exactly what we need!"
      ]
    },
    {
      "cell_type": "code",
      "execution_count": null,
      "metadata": {
        "id": "Zi0_zC_8cH19"
      },
      "outputs": [],
      "source": [
        "model = MarkovModel()\n",
        "model.train(moby_dick)\n",
        "\n",
        "print(str(model)[:10000] )\n",
        "#print( model ) #uncomment to print the whole model"
      ]
    },
    {
      "cell_type": "code",
      "execution_count": null,
      "metadata": {
        "id": "PQgdg-fYcH19",
        "outputId": "f1423601-d15c-477b-c7e3-ac3f01551d99",
        "colab": {
          "base_uri": "https://localhost:8080/"
        }
      },
      "outputs": [
        {
          "output_type": "stream",
          "name": "stdout",
          "text": [
            "I went in peace . 22 : 24 Then said unto me burnt the King of thy God ? thus saith unto the captivity as often , he and put away thy servants , 5 A little while it out of thy lord of the prophet shall he gathereth not thou hast a devouring fire , the iniquity of them for thee , he did that part of Ammon gathered , it . 22 : follow me ? 21 : 4 : 23 And he made with wormwood , and with you , and returned into the ark of his praise \n"
          ]
        }
      ],
      "source": [
        "print( model.generate_text(100,\"I\") )"
      ]
    },
    {
      "cell_type": "markdown",
      "metadata": {
        "id": "wlSSRGjzcH19"
      },
      "source": [
        "## Group Exercise\n",
        "\n",
        "Load some additional books and train the model with more than one book\n",
        "* call `model.train` multiple times\n",
        "\n",
        "What kind of text does your model generate?"
      ]
    },
    {
      "cell_type": "code",
      "source": [
        "from nltk.corpus import gutenberg\n",
        "austen_emma = gutenberg.words('austen-emma.txt')\n",
        "austen_persuasion = gutenberg.words('austen-persuasion.txt')\n",
        "austen_sense = gutenberg.words('austen-sense.txt')\n",
        "print(austen_emma)\n",
        "print(austen_persuasion)\n",
        "print(austen_sense)"
      ],
      "metadata": {
        "id": "stmakbjoqJEd"
      },
      "execution_count": null,
      "outputs": []
    },
    {
      "cell_type": "code",
      "source": [
        "model = MarkovModel()\n",
        "model.train(austen_emma)\n",
        "model.train(austen_persuasion)\n",
        "model.train(austen_sense)\n",
        "\n",
        "print(str(model)[:10000] )\n",
        "#print( model ) #uncomment to print the whole model"
      ],
      "metadata": {
        "id": "mPegL2L8qEIn"
      },
      "execution_count": null,
      "outputs": []
    },
    {
      "cell_type": "code",
      "source": [
        "print( model.generate_text(100,\"I\") )"
      ],
      "metadata": {
        "id": "hW3Z3_N7qBw6"
      },
      "execution_count": null,
      "outputs": []
    },
    {
      "cell_type": "markdown",
      "metadata": {
        "id": "eVVJqAyScH19"
      },
      "source": [
        "## Group Exercise\n",
        "\n",
        "Check out the other examples of corpora here: https://www.nltk.org/book/ch02.html\n",
        "\n",
        "Can you train and generate other kinds of text?"
      ]
    },
    {
      "cell_type": "code",
      "source": [
        "from nltk.corpus import webtext"
      ],
      "metadata": {
        "id": "sDs5HTK2qL2r"
      },
      "execution_count": null,
      "outputs": []
    },
    {
      "cell_type": "code",
      "source": [
        "nltk.download('webtext') # you probably only need to do this once\n",
        "print( nltk.corpus.webtext.fileids() )"
      ],
      "metadata": {
        "colab": {
          "base_uri": "https://localhost:8080/"
        },
        "id": "ibrHnPLZqnvV",
        "outputId": "c0d8369b-faff-4951-be66-bf60d66be42f"
      },
      "execution_count": null,
      "outputs": [
        {
          "output_type": "stream",
          "name": "stdout",
          "text": [
            "['firefox.txt', 'grail.txt', 'overheard.txt', 'pirates.txt', 'singles.txt', 'wine.txt']\n"
          ]
        },
        {
          "output_type": "stream",
          "name": "stderr",
          "text": [
            "[nltk_data] Downloading package webtext to /root/nltk_data...\n",
            "[nltk_data]   Package webtext is already up-to-date!\n"
          ]
        }
      ]
    },
    {
      "cell_type": "code",
      "source": [
        "from nltk.corpus import webtext\n",
        "firefox = webtext.words('firefox.txt')\n",
        "grail = webtext.words('grail.txt')\n",
        "wine = webtext.words('wine.txt')\n",
        "print(firefox)\n",
        "print(grail)\n",
        "print(wine)"
      ],
      "metadata": {
        "colab": {
          "base_uri": "https://localhost:8080/"
        },
        "id": "bNQV6SHBrJL-",
        "outputId": "357ad1dd-f7c5-4c61-b03f-c75e3f08cd0f"
      },
      "execution_count": null,
      "outputs": [
        {
          "output_type": "stream",
          "name": "stdout",
          "text": [
            "['Cookie', 'Manager', ':', '\"', 'Don', \"'\", 't', ...]\n",
            "['SCENE', '1', ':', '[', 'wind', ']', '[', 'clop', ...]\n",
            "['Lovely', 'delicate', ',', 'fragrant', 'Rhone', ...]\n"
          ]
        }
      ]
    },
    {
      "cell_type": "code",
      "source": [
        "model1 = MarkovModel()\n",
        "model1.train(firefox)\n",
        "model1.train(grail)\n",
        "model1.train(wine)\n",
        "\n",
        "print(str(model1)[:10000] )\n",
        "#print( model ) #uncomment to print the whole model"
      ],
      "metadata": {
        "colab": {
          "base_uri": "https://localhost:8080/"
        },
        "id": "ngFH01aurNJM",
        "outputId": "12245c51-e761-4c63-fa8b-1ead084c703d"
      },
      "execution_count": null,
      "outputs": [
        {
          "output_type": "stream",
          "name": "stdout",
          "text": [
            "{'!': {'\"': 2,\n",
            "       '#': 1,\n",
            "       \"'\": 2,\n",
            "       '(': 1,\n",
            "       '*': 1,\n",
            "       '**': 1,\n",
            "       '***(*)': 1,\n",
            "       '...': 21,\n",
            "       'A': 26,\n",
            "       'ARMY': 2,\n",
            "       'ARTHUR': 63,\n",
            "       'Aaaaaaaaah': 1,\n",
            "       'Aaah': 2,\n",
            "       'Aaaugh': 1,\n",
            "       'Aah': 2,\n",
            "       'Agh': 1,\n",
            "       'Ahh': 2,\n",
            "       'Almighty': 1,\n",
            "       'And': 7,\n",
            "       'Arthur': 2,\n",
            "       'As': 1,\n",
            "       'At': 1,\n",
            "       'Auuuuuuuugh': 2,\n",
            "       'BEDEVERE': 15,\n",
            "       'BLACK': 4,\n",
            "       'BORS': 1,\n",
            "       'BRIDGEKEEPER': 3,\n",
            "       'BROTHER': 1,\n",
            "       'Bad': 1,\n",
            "       'Bare': 1,\n",
            "       'Behold': 1,\n",
            "       'Bones': 1,\n",
            "       'Brave': 1,\n",
            "       'Bring': 1,\n",
            "       'Brother': 1,\n",
            "       'Burn': 23,\n",
            "       'By': 1,\n",
            "       'CART': 3,\n",
            "       'CARTOON': 3,\n",
            "       'CONCORDE': 6,\n",
            "       'CRONE': 4,\n",
            "       'CROWD': 7,\n",
            "       'CUSTOMER': 5,\n",
            "       'Charge': 1,\n",
            "       'Chat': 1,\n",
            "       'Churches': 1,\n",
            "       'Clear': 2,\n",
            "       'Come': 4,\n",
            "       'Concorde': 1,\n",
            "       'Crapper': 1,\n",
            "       'Cut': 1,\n",
            "       'DENNIS': 9,\n",
            "       'DINGO': 9,\n",
            "       'Deleting': 1,\n",
            "       'Do': 1,\n",
            "       'Doctor': 1,\n",
            "       'Don': 1,\n",
            "       'Double': 1,\n",
            "       'Dragging': 1,\n",
            "       'Eee': 1,\n",
            "       'Export': 1,\n",
            "       'FATHER': 19,\n",
            "       'FRENCH': 10,\n",
            "       'Firefox': 1,\n",
            "       'Follow': 1,\n",
            "       'Forward': 1,\n",
            "       'GALAHAD': 23,\n",
            "       'GIRLS': 3,\n",
            "       'GOD': 1,\n",
            "       'GREEN': 2,\n",
            "       'GUARD': 3,\n",
            "       'GUEST': 1,\n",
            "       'GUESTS': 14,\n",
            "       'Games': 1,\n",
            "       'Get': 1,\n",
            "       'Glorious': 1,\n",
            "       'Go': 5,\n",
            "       'God': 1,\n",
            "       'Good': 1,\n",
            "       'Great': 1,\n",
            "       'HEAD': 11,\n",
            "       'HERBERT': 1,\n",
            "       'HISTORIAN': 1,\n",
            "       'Ha': 9,\n",
            "       'Hang': 2,\n",
            "       'Have': 1,\n",
            "       'Haw': 2,\n",
            "       'He': 8,\n",
            "       'Hee': 2,\n",
            "       'Heh': 3,\n",
            "       'Help': 1,\n",
            "       'Hey': 1,\n",
            "       'His': 1,\n",
            "       'Hiyah': 1,\n",
            "       'Hiyya': 2,\n",
            "       'Hm': 1,\n",
            "       'Hmm': 1,\n",
            "       'Hoa': 1,\n",
            "       'Hold': 7,\n",
            "       'Honestly': 1,\n",
            "       'How': 1,\n",
            "       'Hurry': 1,\n",
            "       'Huy': 1,\n",
            "       'Hya': 1,\n",
            "       'Hyy': 1,\n",
            "       'I': 17,\n",
            "       'If': 1,\n",
            "       'In': 1,\n",
            "       'It': 7,\n",
            "       'Joseph': 1,\n",
            "       'Just': 1,\n",
            "       'KNIGHTS': 11,\n",
            "       'Keep': 1,\n",
            "       'Knights': 1,\n",
            "       'LAUNCELOT': 21,\n",
            "       'LEFT': 2,\n",
            "       'Last': 1,\n",
            "       'Launcelot': 4,\n",
            "       'Lead': 1,\n",
            "       'Let': 3,\n",
            "       'Lie': 1,\n",
            "       'Look': 2,\n",
            "       'MAYNARD': 2,\n",
            "       'MIDDLE': 2,\n",
            "       'MIDGET': 1,\n",
            "       'MINSTREL': 7,\n",
            "       'MONKS': 2,\n",
            "       'Mail': 1,\n",
            "       'Make': 1,\n",
            "       'Messenger': 2,\n",
            "       'Most': 1,\n",
            "       'Mozilla': 1,\n",
            "       'NARRATOR': 5,\n",
            "       'Need': 1,\n",
            "       'Never': 2,\n",
            "       'News': 1,\n",
            "       'Ni': 15,\n",
            "       'Ninepence': 1,\n",
            "       'No': 10,\n",
            "       'Not': 3,\n",
            "       'OFFICER': 2,\n",
            "       'Oh': 3,\n",
            "       'Ohh': 5,\n",
            "       'One': 1,\n",
            "       'Oooo': 1,\n",
            "       'Open': 1,\n",
            "       'Over': 1,\n",
            "       'Ow': 2,\n",
            "       'PATSY': 1,\n",
            "       'PIGLET': 2,\n",
            "       'PRINCE': 1,\n",
            "       'Permanent': 1,\n",
            "       'Please': 4,\n",
            "       'Practice': 1,\n",
            "       'Quick': 1,\n",
            "       'Quiet': 3,\n",
            "       'RANDOM': 2,\n",
            "       'RIGHT': 1,\n",
            "       'ROBIN': 9,\n",
            "       'ROGER': 1,\n",
            "       'Really': 1,\n",
            "       'Remove': 1,\n",
            "       'Right': 1,\n",
            "       'Run': 11,\n",
            "       'SENTRY': 2,\n",
            "       'SIR': 1,\n",
            "       'SOLDIER': 7,\n",
            "       'She': 2,\n",
            "       'Shh': 11,\n",
            "       'Sidebar': 1,\n",
            "       'Silly': 1,\n",
            "       'So': 1,\n",
            "       'Some': 1,\n",
            "       'Sorry': 2,\n",
            "       'Speak': 1,\n",
            "       'Stay': 1,\n",
            "       'Stop': 8,\n",
            "       'Supposing': 1,\n",
            "       'TIM': 11,\n",
            "       'Tell': 1,\n",
            "       'Thank': 5,\n",
            "       'That': 3,\n",
            "       'The': 6,\n",
            "       'There': 5,\n",
            "       'They': 1,\n",
            "       'This': 6,\n",
            "       'Thpppt': 1,\n",
            "       'Thppt': 2,\n",
            "       'Throw': 1,\n",
            "       'Thsss': 1,\n",
            "       'Top': 2,\n",
            "       'Touch': 1,\n",
            "       'Um': 2,\n",
            "       'Unpleasant': 1,\n",
            "       'Uuh': 1,\n",
            "       'VILLAGER': 17,\n",
            "       'Version': 1,\n",
            "       'Vinous': 1,\n",
            "       'WITCH': 1,\n",
            "       'WOMAN': 2,\n",
            "       'Waa': 1,\n",
            "       'We': 10,\n",
            "       'What': 2,\n",
            "       'Where': 1,\n",
            "       'Whne': 1,\n",
            "       'Who': 6,\n",
            "       'Why': 1,\n",
            "       'Yay': 1,\n",
            "       'Yeaaah': 1,\n",
            "       'Yeaah': 1,\n",
            "       'Yeah': 2,\n",
            "       'You': 6,\n",
            "       'ZOOT': 2,\n",
            "       '[': 82,\n",
            "       'bookmarks': 1,\n",
            "       'building': 1,\n",
            "       'cannot': 1,\n",
            "       'compose': 1,\n",
            "       'delete': 1,\n",
            "       'file': 1,\n",
            "       'http': 1,\n",
            "       'internet': 1,\n",
            "       'ligatures': 1,\n",
            "       'manage': 1,\n",
            "       'no': 1,\n",
            "       'nsPrintSettings': 1,\n",
            "       'nsScriptableRegion': 1,\n",
            "       'rewr': 5},\n",
            " '!!': {'Credits': 1},\n",
            " '!!!': {'DOM': 1, 'Switch': 1, '[': 1},\n",
            " '!!!!!!!!!!!!!!!!!!!!!!!!!!': {'passwordmgr': 1},\n",
            " '!\"': {'ALT': 1},\n",
            " \"!'\": {'for': 1, 's': 1},\n",
            " '!)': {'Font': 1, '[': 1, 'field': 1, 'firefox': 1},\n",
            " '!),': {'creamy': 1},\n",
            " '!).': {'Good': 1},\n",
            " '!,': {'Aaaugh': 1, 'Ha': 1, 'etc': 4, 'hiyaah': 1, 'oh': 1},\n",
            " '!=': {'NULL': 1},\n",
            " '!?': {'Display': 1},\n",
            " '!]': {'...': 1, 'ARTHUR': 1, '[': 3},\n",
            " '\"': {'\"': 7,\n",
            "       '${': 1,\n",
            "       '&': 1,\n",
            "       \"'\": 1,\n",
            "       '(': 11,\n",
            "       '(\"': 1,\n",
            "       '******': 1,\n",
            "       '-': 3,\n",
            "       '--': 1,\n",
            "       '-->': 1,\n",
            "       '->': 2,\n",
            "       '.': 1,\n",
            "       '0': 1,\n",
            "       '0x00000618': 2,\n",
            "       '0x00568bbd': 1,\n",
            "       '0xffffffff': 1,\n",
            "       '1': 1,\n",
            "       '<': 1,\n",
            "       '?': 1,\n",
            "       'A': 1,\n",
            "       'ASSERTION': 1,\n",
            "       'About': 10,\n",
            "       'Accept': 2,\n",
            "       'Access': 1,\n",
            "       'Activity': 1,\n",
            "       'Add': 22,\n",
            "       'Additional': 1,\n",
            "       'Advanced': 4,\n",
            "       'After': 1,\n",
            "       'Agree': 1,\n",
            "       'Alert': 1,\n",
            "       'Allow': 2,\n",
            "       'Alt': 1,\n",
            "       'Always': 1,\n",
            "       'An': 1,\n",
            "       'Apple': 1,\n",
            "       'Apply': 1,\n",
            "       'Are': 1,\n",
            "       'Asa': 1,\n",
            "       'Ask': 1,\n",
            "       'Assertion': 1,\n",
            "       'Attaches': 1,\n",
            "       'Autocomplete': 1,\n",
            "       'Automatic': 1,\n",
            "       'Autoscroll': 2,\n",
            "       'Back': 6,\n",
            "       'Background': 1,\n",
            "       'Bad': 3,\n",
            "       'Block': 5,\n",
            "       'Bluecurved': 1,\n",
            "       'Bookmark': 1,\n",
            "       'Bookmarks': 15,\n",
            "       'Bring': 1,\n",
            "       'Browser': 2,\n",
            "       'Build': 1,\n",
            "       'Button': 3,\n",
            "       'By': 1,\n",
            "       'C': 1,\n",
            "       'CSS': 1,\n",
            "       'Cancel': 2,\n",
            "       'Cannot': 1,\n",
            "       'Center': 1,\n",
            "       'Certificates': 1,\n",
            "       'Change': 2,\n",
            "       'Clean': 1,\n",
            "       'Clear': 6,\n",
            "       'Click': 2,\n",
            "       'Clicking': 2,\n",
            "       'Clipboard': 1,\n",
            "       'Close': 11,\n",
            "       'Collapse': 1,\n",
            "       'Component': 1,\n",
            "       'Confirm': 1,\n",
            "       'Context': 1,\n",
            "       'Cookie': 1,\n",
            "       'Cookies': 2,\n",
            "       'Copy': 4,\n",
            "       'CopyStgMedium': 1,\n",
            "       'Copyright': 1,\n",
            "       'Courtney': 1,\n",
            "       'Crash': 1,\n",
            "       'Create': 5,\n",
            "       'Critical': 3,\n",
            "       'Cruise': 1,\n",
            "       'Current': 1,\n",
            "       'Customize': 3,\n",
            "       'Cut': 1,\n",
            "       'Decrease': 1,\n",
            "       'Default': 1,\n",
            "       'Delay': 1,\n",
            "       'Delete': 1,\n",
            "       'Desktop': 3,\n",
            "       'Disable': 1,\n",
            "       'Do': 8,\n",
            "       'Document': 1,\n",
            "       'Don': 4,\n",
            "       'Done': 5,\n",
            "       'Download': 5,\n",
            "       'Downloading': 2,\n",
            "       'Downloads': 4,\n",
            "       'Drop': 1,\n",
            "       'E': 1,\n",
            "       'ENTER': 1,\n",
            "       'EXC_BAD_ACCESS': 1,\n",
            "       'Edit': 1,\n",
            "       'Element': 1,\n",
            "       'Enable': 2,\n",
            "       'Englishman': 1,\n",
            "       'Enter': 1,\n",
            "       'Entery': 1,\n",
            "       'Error': 4,\n",
            "       'Evaluate': 1,\n",
            "       'Expand': 1,\n",
            "       'Extensions': 3,\n",
            "       'FB': 1,\n",
            "       'FIXED': 1,\n",
            "       'FTP': 1,\n",
            "       'Fahrpläne': 1,\n",
            "       'Failed': 3,\n",
            "       'File': 3,\n",
            "       'Find': 18,\n",
            "       'Finishing': 1,\n",
            "       'FireFox': 1,\n",
            "       'Firebird': 4,\n",
            "       'Firefox': 8,\n",
            "       'Flat': 1,\n",
            "       'Font': 1,\n",
            "       'For': 2,\n",
            "       'Full': 1,\n",
            "       'Gecko': 1,\n",
            "       'Get': 5,\n",
            "       'Go': 6,\n",
            "       'Google': 1,\n",
            "       'Group': 2,\n",
            "       'HTMLInputElement': 1,\n",
            "       'HTTP': 1,\n",
            "       'Help': 1,\n",
            "       'Hide': 3,\n",
            "       'Hitting': 1,\n",
            "       'Home': 4,\n",
            "       'How': 1,\n",
            "       'I': 4,\n",
            "       'INTERNAL': 2,\n",
            "       'Icon': 3,\n",
            "       'If': 1,\n",
            "       'Illegal': 2,\n",
            "       'Image': 1,\n",
            "       'Images': 1,\n",
            "       'Immidiately': 1,\n",
            "       'Import': 1,\n",
            "       'Imported': 2,\n",
            "       'Improving': 1,\n",
            "       'In': 1,\n",
            "       'Incorrect': 1,\n",
            "       'Infinite': 1,\n",
            "       'Inspect': 1,\n",
            "       'Install': 2,\n",
            "       'Installation': 1,\n",
            "       'Internal': 1,\n",
            "       'Internet': 2,\n",
            "       'Invalid': 1,\n",
            "       'Investigate': 1,\n",
            "       'Java': 4,\n",
            "       'Java2': 1,\n",
            "       'JavaScript': 2,\n",
            "       'Javascript': 1,\n",
            "       'Joel': 1,\n",
            "       'Keyboard': 1,\n",
            "       'Last': 1,\n",
            "       'Latest': 1,\n",
            "       'Launch': 2,\n",
            "       'Licensing': 1,\n",
            "       'Links': 1,\n",
            "       'Load': 3,\n",
            "       'Locate': 2,\n",
            "       'Location': 2,\n",
            "       'Log': 1,\n",
            "       'Login': 2,\n",
            "       'MOZILL': 1,\n",
            "       'Manage': 4,\n",
            "       'Many': 1,\n",
            "       'MapQuest': 1,\n",
            "       'Markers': 1,\n",
            "       'Match': 2,\n",
            "       'Menu': 2,\n",
            "       'Menus': 1,\n",
            "       'Modern': 1,\n",
            "       'Move': 1,\n",
            "       'Mozilla': 18,\n",
            "       'My': 3,\n",
            "       'Navigation': 1,\n",
            "       'Need': 4,\n",
            "       'Needs': 2,\n",
            "       'Netscape': 1,\n",
            "       'New': 11,\n",
            "       'Next': 1,\n",
            "       'Nightly': 2,\n",
            "       'No': 8,\n",
            "       'NodeList': 1,\n",
            "       'Not': 2,\n",
            "       'Notification': 1,\n",
            "       'OK': 7,\n",
            "       'Obsolete': 1,\n",
            "       'Ok': 1,\n",
            "       'On': 1,\n",
            "       'OnUnload': 1,\n",
            "       'Open': 36,\n",
            "       'Opening': 2,\n",
            "       'Opens': 1,\n",
            "       'Operation': 1,\n",
            "       'Option': 2,\n",
            "       'Options': 5,\n",
            "       'Other': 2,\n",
            "       'Out': 1,\n",
            "       'Page': 7,\n",
            "       'Password': 2,\n",
            "       'Paste': 1,\n",
            "       'Permissions': 1,\n",
            "       'Personal': 1,\n",
            "       'Phoenix': 10,\n",
            "       'Please': 2,\n",
            "       'Pop': 1,\n",
            "       'Preferably': 1,\n",
            "       'Preference': 1,\n",
            "       'Preferences': 2,\n",
            "       'Prefs': 1,\n",
            "       'Print': 3,\n",
            "       'Privacy': 1,\n",
            "       'Program': 1,\n",
            "       'Project': 1,\n",
            "       'Properties': 2,\n",
            "       'Proxy': 1,\n",
            "       'Rahastoyhtiöt': 1,\n",
            "       'Re': 1,\n",
            "       'Refresh': 1,\n",
            "       'Regression': 1,\n",
            "       'Reload': 2,\n",
            "       'Remember': 4,\n",
            "       'Remove': 1,\n",
            "       'Rename': 1,\n",
            "       'Replicate': 1,\n",
            "       'Replies': 1,\n",
            "       'Restart': 1,\n",
            "       'Restore': 2,\n",
            "       'Right': 1,\n",
            "       'Run': 1,\n",
            "       'SITE': 1,\n",
            "       'Save': 31,\n",
            "       'Saved': 1,\n",
            "       'Saving': 2,\n",
            "       'Search': 3,\n",
            "       'Security': 2,\n",
            "       'Select': 4,\n",
            "       'Selectable': 1,\n",
            "       'Selecting': 1,\n",
            "       'Send': 3,\n",
            "       'Server': 1,\n",
            "       'Set': 7,\n",
            "       'Show': 7,\n",
            "       'Site': 1,\n",
            "       'Sort': 3,\n",
            "       'Spanish': 1,\n",
            "       'Start': 2,\n",
            "       \n"
          ]
        }
      ]
    },
    {
      "cell_type": "code",
      "source": [
        "print( model1.generate_text(100,\"I\") )"
      ],
      "metadata": {
        "colab": {
          "base_uri": "https://localhost:8080/"
        },
        "id": "KaK7Q-PLrOHs",
        "outputId": "951a522c-996e-4734-8ede-cfa3b7158e7a"
      },
      "execution_count": null,
      "outputs": [
        {
          "output_type": "stream",
          "name": "stdout",
          "text": [
            "I download Use encryption of the union of individual bookmark separator breaks some time , I type is going to view open NC : Ni cannot be fizzy to bookmark titles ) fruit . ***(*) Rounded , quite dry palate . 9rc Incorrect permissions on about single - navigator . Pleasant , minerals and there ) menus do you must say this apple fruit , briochey . images clicking with \"? Add zoon percentage \" a program why . Very substantial . Not especially in Print \" Phoenix - quite flavoury . Needs Form too wide . Bare ** Frizzante , \n"
          ]
        }
      ]
    },
    {
      "cell_type": "markdown",
      "metadata": {
        "id": "k_HnRzghcH2B"
      },
      "source": [
        "## Group Exercise\n",
        "\n",
        "Sketch out what this data structure would look like if you wanted to use bigrams (two consecutive words) to predict the next word.\n",
        "\n",
        "This is called a **2nd-order Markov Model**\n",
        "\n",
        "`\"To be , or not to be , that is the question : Whether 'tis nobler in the mind to suffer The slings and arrows of outrageous fortune , Or to take Arms against a Sea of troubles\"`\n",
        "\n",
        "`{\"'tis\": {'nobler': 1},\n",
        " ',': {'or': 2, 'that': 1},\n",
        " ':': {'whether': 1},\n",
        " 'a': {'sea': 1},\n",
        " 'against': {'a': 1},\n",
        " 'and': {'arrows': 1},\n",
        " 'arms': {'against': 1},\n",
        " 'arrows': {'of': 1},\n",
        " 'be': {',': 2},\n",
        " 'fortune': {',': 1},\n",
        " 'in': {'the': 1},\n",
        " 'is': {'the': 1},\n",
        " 'mind': {'to': 1},\n",
        " 'nobler': {'in': 1},\n",
        " 'not': {'to': 1},\n",
        " 'of': {'outrageous': 1, 'troubles': 1},\n",
        " 'or': {'not': 1, 'to': 1},\n",
        " 'outrageous': {'fortune': 1},\n",
        " 'question': {':': 1},\n",
        " 'sea': {'of': 1},\n",
        " 'slings': {'and': 1},\n",
        " 'suffer': {'the': 1},\n",
        " 'take': {'arms': 1},\n",
        " 'that': {'is': 1},\n",
        " 'the': {'mind': 1, 'question': 1, 'slings': 1},\n",
        " 'to': {'be': 2, 'suffer': 1, 'take': 1},\n",
        " 'whether': {\"'tis\": 1}}`\n"
      ]
    },
    {
      "cell_type": "markdown",
      "metadata": {
        "id": "IKu1dgX4cH2B"
      },
      "source": [
        "## Applied Exploration\n",
        "\n",
        "Enhance the `MarkovModel` class to take in a parameter that allows it to be a 1st, 2nd, 3rd, etc. order model.\n",
        "* Train it with a large corpus (maybe more than one)\n",
        "* Give examples of the text generated at each order\n",
        "* Do you run into difficulties with some pairs not being present? How should we deal with those - write down some ideas.\n",
        "\n"
      ]
    },
    {
      "cell_type": "markdown",
      "metadata": {
        "id": "CHyMVZuDcH2B"
      },
      "source": [
        "## Example of using the visualizer"
      ]
    },
    {
      "cell_type": "code",
      "execution_count": null,
      "metadata": {
        "id": "Id6OXjPfcH2B",
        "outputId": "28da0555-b001-411d-ee45-ee9c3510e14e",
        "colab": {
          "base_uri": "https://localhost:8080/",
          "height": 577
        }
      },
      "outputs": [
        {
          "output_type": "stream",
          "name": "stdout",
          "text": [
            "['to', 'be', ',', 'or', 'not', 'to', 'be', ',', 'that', 'is', 'the', 'question', ':', 'whether', \"'tis\", 'nobler', 'in', 'the', 'mind', 'to', 'suffer', 'the', 'slings', 'and', 'arrows', 'of', 'outrageous', 'fortune', ',', 'or', 'to', 'take', 'arms', 'against', 'a', 'sea', 'of', 'troubles']\n"
          ]
        },
        {
          "output_type": "display_data",
          "data": {
            "text/plain": [
              "<Figure size 640x480 with 1 Axes>"
            ],
            "image/png": "[encoded data removed]"
          },
          "metadata": {}
        }
      ],
      "source": [
        "to_be = \"To be , or not to be , that is the question : Whether 'tis nobler in the mind to suffer The slings and arrows of outrageous fortune , Or to take Arms against a Sea of troubles\"\n",
        "to_be_tokens = to_be.lower().split() #convert to lowercase and break apart by spaces into a list\n",
        "print(to_be_tokens)\n",
        "\n",
        "to_be_model = MarkovModel()\n",
        "to_be_model.train(to_be_tokens)\n",
        "to_be_model.visualize(probabilities=False)"
      ]
    }
  ],
  "metadata": {
    "celltoolbar": "Slideshow",
    "colab": {
      "provenance": [],
      "include_colab_link": true
    },
    "kernelspec": {
      "display_name": "Python 3 (ipykernel)",
      "language": "python",
      "name": "python3"
    },
    "language_info": {
      "codemirror_mode": {
        "name": "ipython",
        "version": 3
      },
      "file_extension": ".py",
      "mimetype": "text/x-python",
      "name": "python",
      "nbconvert_exporter": "python",
      "pygments_lexer": "ipython3",
      "version": "3.10.6"
    }
  },
  "nbformat": 4,
  "nbformat_minor": 0
}